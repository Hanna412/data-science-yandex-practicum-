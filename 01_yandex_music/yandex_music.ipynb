{
 "cells": [
  {
   "cell_type": "markdown",
   "metadata": {
    "deletable": false,
    "editable": false,
    "id": "E0vqbgi9ay0H"
   },
   "source": [
    "# Яндекс Музыка"
   ]
  },
  {
   "cell_type": "markdown",
   "metadata": {
    "deletable": false,
    "editable": false,
    "id": "VUC88oWjTJw2"
   },
   "source": [
    "Сравнение Москвы и Петербурга окружено мифами. Например:\n",
    " * Москва — мегаполис, подчинённый жёсткому ритму рабочей недели;\n",
    " * Петербург — культурная столица, со своими вкусами.\n",
    "\n",
    "На данных Яндекс Музыки вы сравните поведение пользователей двух столиц.\n",
    "\n",
    "**Цель исследования** — проверьте три гипотезы:\n",
    "1. Активность пользователей зависит от дня недели. Причём в Москве и Петербурге это проявляется по-разному.\n",
    "2. В понедельник утром в Москве преобладают одни жанры, а в Петербурге — другие. Так же и вечером пятницы преобладают разные жанры — в зависимости от города.\n",
    "3. Москва и Петербург предпочитают разные жанры музыки. В Москве чаще слушают поп-музыку, в Петербурге — русский рэп.\n",
    "\n",
    "\n",
    "Исследование пройдёт в три этапа:\n",
    " 1. Обзор данных.\n",
    " 2. Предобработка данных.\n",
    " 3. Проверка гипотез.\n",
    "\n"
   ]
  },
  {
   "cell_type": "code",
   "execution_count": 1,
   "metadata": {
    "deletable": false,
    "id": "AXN7PHPN_Zcs"
   },
   "outputs": [],
   "source": [
    "import pandas as pd \n",
    "import  os"
   ]
  },
  {
   "cell_type": "markdown",
   "metadata": {
    "deletable": false,
    "editable": false,
    "id": "Ml1hmfXC_Zcs"
   },
   "source": [
    "## Обзор данных\n",
    "\n",
    "Составим первое представление о данных Яндекс Музыки.\n",
    "\n",
    "\n"
   ]
  },
  {
   "cell_type": "code",
   "execution_count": 52,
   "metadata": {
    "deletable": false,
    "id": "fFVu7vqh_Zct"
   },
   "outputs": [],
   "source": [
    "pth1 = 'yandex_music_project.csv'\n",
    "pth2 = '/datasets/yandex_music_project.csv'\n",
    "\n",
    "if os.path.exists(pth1):\n",
    "    df = pd.read_csv(pth1)\n",
    "elif os.path.exists(pth2):\n",
    "    df = pd.read_csv(pth2)\n",
    "else:\n",
    "    print('Something is wrong') \n",
    "    \n",
    "#df = pd.read_csv('/datasets/yandex_music_project.csv')# чтение файла с данными и сохранение в df"
   ]
  },
  {
   "cell_type": "markdown",
   "metadata": {
    "deletable": false,
    "editable": false,
    "id": "rDoOMd3uTqnZ",
    "tags": [
     "start_task"
    ]
   },
   "source": [
    "Выведите на экран первые десять строк таблицы:"
   ]
  },
  {
   "cell_type": "code",
   "execution_count": 53,
   "metadata": {
    "deletable": false,
    "id": "oWTVX3gW_Zct"
   },
   "outputs": [
    {
     "data": {
      "text/html": [
       "<div>\n",
       "<style scoped>\n",
       "    .dataframe tbody tr th:only-of-type {\n",
       "        vertical-align: middle;\n",
       "    }\n",
       "\n",
       "    .dataframe tbody tr th {\n",
       "        vertical-align: top;\n",
       "    }\n",
       "\n",
       "    .dataframe thead th {\n",
       "        text-align: right;\n",
       "    }\n",
       "</style>\n",
       "<table border=\"1\" class=\"dataframe\">\n",
       "  <thead>\n",
       "    <tr style=\"text-align: right;\">\n",
       "      <th></th>\n",
       "      <th>userID</th>\n",
       "      <th>Track</th>\n",
       "      <th>artist</th>\n",
       "      <th>genre</th>\n",
       "      <th>City</th>\n",
       "      <th>time</th>\n",
       "      <th>Day</th>\n",
       "    </tr>\n",
       "  </thead>\n",
       "  <tbody>\n",
       "    <tr>\n",
       "      <th>0</th>\n",
       "      <td>FFB692EC</td>\n",
       "      <td>Kamigata To Boots</td>\n",
       "      <td>The Mass Missile</td>\n",
       "      <td>rock</td>\n",
       "      <td>Saint-Petersburg</td>\n",
       "      <td>20:28:33</td>\n",
       "      <td>Wednesday</td>\n",
       "    </tr>\n",
       "    <tr>\n",
       "      <th>1</th>\n",
       "      <td>55204538</td>\n",
       "      <td>Delayed Because of Accident</td>\n",
       "      <td>Andreas Rönnberg</td>\n",
       "      <td>rock</td>\n",
       "      <td>Moscow</td>\n",
       "      <td>14:07:09</td>\n",
       "      <td>Friday</td>\n",
       "    </tr>\n",
       "    <tr>\n",
       "      <th>2</th>\n",
       "      <td>20EC38</td>\n",
       "      <td>Funiculì funiculà</td>\n",
       "      <td>Mario Lanza</td>\n",
       "      <td>pop</td>\n",
       "      <td>Saint-Petersburg</td>\n",
       "      <td>20:58:07</td>\n",
       "      <td>Wednesday</td>\n",
       "    </tr>\n",
       "    <tr>\n",
       "      <th>3</th>\n",
       "      <td>A3DD03C9</td>\n",
       "      <td>Dragons in the Sunset</td>\n",
       "      <td>Fire + Ice</td>\n",
       "      <td>folk</td>\n",
       "      <td>Saint-Petersburg</td>\n",
       "      <td>08:37:09</td>\n",
       "      <td>Monday</td>\n",
       "    </tr>\n",
       "    <tr>\n",
       "      <th>4</th>\n",
       "      <td>E2DC1FAE</td>\n",
       "      <td>Soul People</td>\n",
       "      <td>Space Echo</td>\n",
       "      <td>dance</td>\n",
       "      <td>Moscow</td>\n",
       "      <td>08:34:34</td>\n",
       "      <td>Monday</td>\n",
       "    </tr>\n",
       "    <tr>\n",
       "      <th>5</th>\n",
       "      <td>842029A1</td>\n",
       "      <td>Преданная</td>\n",
       "      <td>IMPERVTOR</td>\n",
       "      <td>rusrap</td>\n",
       "      <td>Saint-Petersburg</td>\n",
       "      <td>13:09:41</td>\n",
       "      <td>Friday</td>\n",
       "    </tr>\n",
       "    <tr>\n",
       "      <th>6</th>\n",
       "      <td>4CB90AA5</td>\n",
       "      <td>True</td>\n",
       "      <td>Roman Messer</td>\n",
       "      <td>dance</td>\n",
       "      <td>Moscow</td>\n",
       "      <td>13:00:07</td>\n",
       "      <td>Wednesday</td>\n",
       "    </tr>\n",
       "    <tr>\n",
       "      <th>7</th>\n",
       "      <td>F03E1C1F</td>\n",
       "      <td>Feeling This Way</td>\n",
       "      <td>Polina Griffith</td>\n",
       "      <td>dance</td>\n",
       "      <td>Moscow</td>\n",
       "      <td>20:47:49</td>\n",
       "      <td>Wednesday</td>\n",
       "    </tr>\n",
       "    <tr>\n",
       "      <th>8</th>\n",
       "      <td>8FA1D3BE</td>\n",
       "      <td>И вновь продолжается бой</td>\n",
       "      <td>NaN</td>\n",
       "      <td>ruspop</td>\n",
       "      <td>Moscow</td>\n",
       "      <td>09:17:40</td>\n",
       "      <td>Friday</td>\n",
       "    </tr>\n",
       "    <tr>\n",
       "      <th>9</th>\n",
       "      <td>E772D5C0</td>\n",
       "      <td>Pessimist</td>\n",
       "      <td>NaN</td>\n",
       "      <td>dance</td>\n",
       "      <td>Saint-Petersburg</td>\n",
       "      <td>21:20:49</td>\n",
       "      <td>Wednesday</td>\n",
       "    </tr>\n",
       "  </tbody>\n",
       "</table>\n",
       "</div>"
      ],
      "text/plain": [
       "     userID                        Track            artist   genre  \\\n",
       "0  FFB692EC            Kamigata To Boots  The Mass Missile    rock   \n",
       "1  55204538  Delayed Because of Accident  Andreas Rönnberg    rock   \n",
       "2    20EC38            Funiculì funiculà       Mario Lanza     pop   \n",
       "3  A3DD03C9        Dragons in the Sunset        Fire + Ice    folk   \n",
       "4  E2DC1FAE                  Soul People        Space Echo   dance   \n",
       "5  842029A1                    Преданная         IMPERVTOR  rusrap   \n",
       "6  4CB90AA5                         True      Roman Messer   dance   \n",
       "7  F03E1C1F             Feeling This Way   Polina Griffith   dance   \n",
       "8  8FA1D3BE     И вновь продолжается бой               NaN  ruspop   \n",
       "9  E772D5C0                    Pessimist               NaN   dance   \n",
       "\n",
       "             City        time        Day  \n",
       "0  Saint-Petersburg  20:28:33  Wednesday  \n",
       "1            Moscow  14:07:09     Friday  \n",
       "2  Saint-Petersburg  20:58:07  Wednesday  \n",
       "3  Saint-Petersburg  08:37:09     Monday  \n",
       "4            Moscow  08:34:34     Monday  \n",
       "5  Saint-Petersburg  13:09:41     Friday  \n",
       "6            Moscow  13:00:07  Wednesday  \n",
       "7            Moscow  20:47:49  Wednesday  \n",
       "8            Moscow  09:17:40     Friday  \n",
       "9  Saint-Petersburg  21:20:49  Wednesday  "
      ]
     },
     "execution_count": 53,
     "metadata": {},
     "output_type": "execute_result"
    }
   ],
   "source": [
    "df.head(10)# получение первых 10 строк таблицы df"
   ]
  },
  {
   "cell_type": "markdown",
   "metadata": {
    "deletable": false,
    "editable": false,
    "id": "EO73Kwic_Zct",
    "tags": [
     "start_task"
    ]
   },
   "source": [
    "Одной командой получить общую информацию о таблице c помощью метода `info()`:"
   ]
  },
  {
   "cell_type": "code",
   "execution_count": 54,
   "metadata": {
    "deletable": false,
    "id": "DSf2kIb-_Zct"
   },
   "outputs": [
    {
     "name": "stdout",
     "output_type": "stream",
     "text": [
      "<class 'pandas.core.frame.DataFrame'>\n",
      "RangeIndex: 65079 entries, 0 to 65078\n",
      "Data columns (total 7 columns):\n",
      " #   Column    Non-Null Count  Dtype \n",
      "---  ------    --------------  ----- \n",
      " 0     userID  65079 non-null  object\n",
      " 1   Track     63848 non-null  object\n",
      " 2   artist    57876 non-null  object\n",
      " 3   genre     63881 non-null  object\n",
      " 4     City    65079 non-null  object\n",
      " 5   time      65079 non-null  object\n",
      " 6   Day       65079 non-null  object\n",
      "dtypes: object(7)\n",
      "memory usage: 3.5+ MB\n"
     ]
    }
   ],
   "source": [
    "df.info()# получение общей информации о данных в таблице df"
   ]
  },
  {
   "cell_type": "markdown",
   "metadata": {
    "deletable": false,
    "editable": false,
    "id": "TaQ2Iwbr_Zct"
   },
   "source": [
    "Итак, в таблице семь столбцов. Тип данных во всех столбцах — `object`.\n",
    "\n",
    "Согласно документации к данным:\n",
    "* `userID` — идентификатор пользователя;\n",
    "* `Track` — название трека;  \n",
    "* `artist` — имя исполнителя;\n",
    "* `genre` — название жанра;\n",
    "* `City` — город пользователя;\n",
    "* `time` — время начала прослушивания;\n",
    "* `Day` — день недели.\n",
    "\n",
    "Количество значений в столбцах различается. Значит, в данных есть пропущенные значения."
   ]
  },
  {
   "cell_type": "markdown",
   "metadata": {
    "deletable": false,
    "editable": false,
    "id": "4P0UCWzswgEm",
    "tags": [
     "start_task"
    ]
   },
   "source": [
    "В названиях колонок видны три нарушения стиля:\n",
    "1. Строчные буквы сочетаются с прописными.\n",
    "2. Встречаются пробелы."
   ]
  },
  {
   "cell_type": "markdown",
   "metadata": {
    "id": "c137-ZstwgEm"
   },
   "source": [
    "В столбцах userID и City необходмо удалить пробелы, в столбцах Track, City, Day поменять буквы на прописные, столбец userID привести к змеиному регистру."
   ]
  },
  {
   "cell_type": "markdown",
   "metadata": {
    "deletable": false,
    "editable": false,
    "id": "MCB6-dXG_Zct"
   },
   "source": [
    "**Выводы**\n",
    "\n",
    "В каждой строке таблицы — данные о прослушанном треке. Часть колонок описывает саму композицию: название, исполнителя и жанр. Остальные данные рассказывают о пользователе: из какого он города, когда он слушал музыку.\n",
    "\n",
    "Предварительно можно утверждать, что данных достаточно для проверки гипотез. Но встречаются пропуски в данных, а в названиях колонок — расхождения с хорошим стилем.\n",
    "\n",
    "Чтобы двигаться дальше, нужно устранить проблемы в данных."
   ]
  },
  {
   "cell_type": "markdown",
   "metadata": {
    "deletable": false,
    "editable": false,
    "id": "SjYF6Ub9_Zct"
   },
   "source": [
    "## Предобработка данных\n",
    "Исправьте стиль в заголовках столбцов, исключите пропуски. Затем проверьте данные на дубликаты."
   ]
  },
  {
   "cell_type": "markdown",
   "metadata": {
    "deletable": false,
    "editable": false,
    "id": "dIaKXr29_Zct",
    "tags": [
     "start_task"
    ]
   },
   "source": [
    "### Стиль заголовков\n",
    "\n",
    "Выведите названия столбцов:"
   ]
  },
  {
   "cell_type": "code",
   "execution_count": 61,
   "metadata": {
    "deletable": false,
    "id": "oKOTdF_Q_Zct"
   },
   "outputs": [
    {
     "data": {
      "text/plain": [
       "Index(['user_id', 'track', 'artist', 'genre', 'city', 'time', 'day'], dtype='object')"
      ]
     },
     "execution_count": 61,
     "metadata": {},
     "output_type": "execute_result"
    }
   ],
   "source": [
    "df.columns # перечень названий столбцов таблицы df"
   ]
  },
  {
   "cell_type": "markdown",
   "metadata": {
    "deletable": false,
    "editable": false,
    "id": "zj5534cv_Zct",
    "tags": [
     "start_task"
    ]
   },
   "source": [
    "Приведите названия в соответствие с хорошим стилем:\n",
    "* несколько слов в названии запишите в «змеином_регистре»,\n",
    "* все символы сделайте строчными,\n",
    "* устраните пробелы.\n",
    "\n",
    "Для этого переименуйте колонки так:\n",
    "* `'  userID'` → `'user_id'`;\n",
    "* `'Track'` → `'track'`;\n",
    "* `'  City  '` → `'city'`;\n",
    "* `'Day'` → `'day'`."
   ]
  },
  {
   "cell_type": "code",
   "execution_count": 62,
   "metadata": {
    "deletable": false,
    "id": "ISlFqs5y_Zct"
   },
   "outputs": [],
   "source": [
    "df = df.rename(columns={'  userID': 'user_id', 'Track': 'track', '  City  ': 'city', 'Day': 'day'})\n",
    "     # переименование столбцов"
   ]
  },
  {
   "cell_type": "markdown",
   "metadata": {
    "deletable": false,
    "editable": false,
    "id": "1dqbh00J_Zct",
    "tags": [
     "start_task"
    ]
   },
   "source": [
    "Проверьте результат. Для этого ещё раз выведите на экран названия столбцов:"
   ]
  },
  {
   "cell_type": "code",
   "execution_count": 63,
   "metadata": {
    "deletable": false,
    "id": "d4NOAmTW_Zct"
   },
   "outputs": [
    {
     "data": {
      "text/plain": [
       "Index(['user_id', 'track', 'artist', 'genre', 'city', 'time', 'day'], dtype='object')"
      ]
     },
     "execution_count": 63,
     "metadata": {},
     "output_type": "execute_result"
    }
   ],
   "source": [
    "df.columns# проверка результатов - перечень названий столбцов"
   ]
  },
  {
   "cell_type": "markdown",
   "metadata": {
    "deletable": false,
    "editable": false,
    "id": "5ISfbcfY_Zct",
    "tags": [
     "start_task"
    ]
   },
   "source": [
    "### Пропуски значений\n",
    "\n",
    "Сначала посчитайте, сколько в таблице пропущенных значений. Для этого достаточно двух методов `pandas`:"
   ]
  },
  {
   "cell_type": "code",
   "execution_count": 9,
   "metadata": {
    "deletable": false,
    "id": "RskX29qr_Zct"
   },
   "outputs": [
    {
     "data": {
      "text/plain": [
       "user_id       0\n",
       "track      1231\n",
       "artist     7203\n",
       "genre      1198\n",
       "city          0\n",
       "time          0\n",
       "day           0\n",
       "dtype: int64"
      ]
     },
     "execution_count": 9,
     "metadata": {},
     "output_type": "execute_result"
    }
   ],
   "source": [
    "df.isna().sum() # подсчёт пропусков"
   ]
  },
  {
   "cell_type": "markdown",
   "metadata": {
    "deletable": false,
    "editable": false,
    "id": "qubhgnlO_Zct"
   },
   "source": [
    "Не все пропущенные значения влияют на исследование. Так, в `track` и `artist` пропуски не важны для вашей работы. Достаточно заменить их явными обозначениями.\n",
    "\n",
    "Но пропуски в `genre` могут помешать сравнить музыкальные вкусы в Москве и Санкт-Петербурге. На практике было бы правильно установить причину пропусков и восстановить данные. Такой возможности нет в учебном проекте. Поэтому придётся:\n",
    "* заполнить и эти пропуски явными обозначениями;\n",
    "* оценить, насколько они повредят расчётам."
   ]
  },
  {
   "cell_type": "markdown",
   "metadata": {
    "deletable": false,
    "editable": false,
    "id": "fSv2laPA_Zct",
    "tags": [
     "start_task"
    ]
   },
   "source": [
    "Замените пропущенные значения в столбцах `track`, `artist` и `genre` на строку `'unknown'`. Для этого создайте список `columns_to_replace`, переберите его элементы циклом `for` и для каждого столбца выполните замену пропущенных значений:"
   ]
  },
  {
   "cell_type": "code",
   "execution_count": 10,
   "metadata": {
    "deletable": false,
    "id": "KplB5qWs_Zct"
   },
   "outputs": [],
   "source": [
    "df['track'] = df['track'].fillna('unknown') \n",
    "df['artist'] = df['artist'].fillna('unknown')\n",
    "df['genre'] = df['genre'].fillna('unknown') # перебор названий столбцов в цикле и замена пропущенных значений на 'unknown'"
   ]
  },
  {
   "cell_type": "markdown",
   "metadata": {
    "deletable": false,
    "editable": false,
    "id": "Ilsm-MZo_Zct",
    "tags": [
     "start_task"
    ]
   },
   "source": [
    "Убедитесь, что в таблице не осталось пропусков. Для этого ещё раз посчитайте пропущенные значения."
   ]
  },
  {
   "cell_type": "code",
   "execution_count": 11,
   "metadata": {
    "deletable": false,
    "id": "Tq4nYRX4_Zct"
   },
   "outputs": [
    {
     "data": {
      "text/plain": [
       "user_id    0\n",
       "track      0\n",
       "artist     0\n",
       "genre      0\n",
       "city       0\n",
       "time       0\n",
       "day        0\n",
       "dtype: int64"
      ]
     },
     "execution_count": 11,
     "metadata": {},
     "output_type": "execute_result"
    }
   ],
   "source": [
    "df.isna().sum() # подсчёт пропусков"
   ]
  },
  {
   "cell_type": "markdown",
   "metadata": {
    "deletable": false,
    "editable": false,
    "id": "BWKRtBJ3_Zct",
    "tags": [
     "start_task"
    ]
   },
   "source": [
    "### Дубликаты\n",
    "\n",
    "Посчитайте явные дубликаты в таблице одной командой:"
   ]
  },
  {
   "cell_type": "code",
   "execution_count": 70,
   "metadata": {
    "deletable": false,
    "id": "36eES_S0_Zct"
   },
   "outputs": [
    {
     "data": {
      "text/plain": [
       "0"
      ]
     },
     "execution_count": 70,
     "metadata": {},
     "output_type": "execute_result"
    }
   ],
   "source": [
    "df.duplicated().sum() # подсчёт явных дубликатов"
   ]
  },
  {
   "cell_type": "markdown",
   "metadata": {
    "deletable": false,
    "editable": false,
    "id": "Ot25h6XR_Zct",
    "tags": [
     "start_task"
    ]
   },
   "source": [
    "Вызовите специальный метод `pandas`, чтобы удалить явные дубликаты:"
   ]
  },
  {
   "cell_type": "code",
   "execution_count": 71,
   "metadata": {
    "deletable": false,
    "id": "exFHq6tt_Zct"
   },
   "outputs": [],
   "source": [
    "df = df.drop_duplicates()  # удаление явных дубликатов"
   ]
  },
  {
   "cell_type": "markdown",
   "metadata": {
    "deletable": false,
    "editable": false,
    "id": "Im2YwBEG_Zct",
    "tags": [
     "start_task"
    ]
   },
   "source": [
    "Ещё раз посчитайте явные дубликаты в таблице — убедитесь, что полностью от них избавились:"
   ]
  },
  {
   "cell_type": "code",
   "execution_count": 72,
   "metadata": {
    "deletable": false,
    "id": "-8PuNWQ0_Zct"
   },
   "outputs": [
    {
     "data": {
      "text/plain": [
       "0"
      ]
     },
     "execution_count": 72,
     "metadata": {},
     "output_type": "execute_result"
    }
   ],
   "source": [
    "df.duplicated().sum() # проверка на отсутствие дубликатов"
   ]
  },
  {
   "cell_type": "markdown",
   "metadata": {
    "deletable": false,
    "editable": false,
    "id": "QlFBsxAr_Zct"
   },
   "source": [
    "Теперь избавьтесь от неявных дубликатов в колонке `genre`. Например, название одного и того же жанра может быть записано немного по-разному. Такие ошибки тоже повлияют на результат исследования."
   ]
  },
  {
   "cell_type": "markdown",
   "metadata": {
    "deletable": false,
    "editable": false,
    "id": "eSjWwsOh_Zct",
    "tags": [
     "start_task"
    ]
   },
   "source": [
    "Выведите на экран список уникальных названий жанров, отсортированный в алфавитном порядке. Для этого:\n",
    "* извлеките нужный столбец датафрейма;\n",
    "* примените к нему метод сортировки;\n",
    "* для отсортированного столбца вызовите метод, который вернёт уникальные значения из столбца."
   ]
  },
  {
   "cell_type": "code",
   "execution_count": 73,
   "metadata": {
    "deletable": false,
    "id": "JIUcqzZN_Zct"
   },
   "outputs": [
    {
     "data": {
      "text/plain": [
       "array(['acid', 'acoustic', 'action', 'adult', 'africa', 'afrikaans',\n",
       "       'alternative', 'alternativepunk', 'ambient', 'americana',\n",
       "       'animated', 'anime', 'arabesk', 'arabic', 'arena',\n",
       "       'argentinetango', 'art', 'audiobook', 'author', 'avantgarde',\n",
       "       'axé', 'baile', 'balkan', 'beats', 'bigroom', 'black', 'bluegrass',\n",
       "       'blues', 'bollywood', 'bossa', 'brazilian', 'breakbeat', 'breaks',\n",
       "       'broadway', 'cantautori', 'cantopop', 'canzone', 'caribbean',\n",
       "       'caucasian', 'celtic', 'chamber', 'chanson', 'children', 'chill',\n",
       "       'chinese', 'choral', 'christian', 'christmas', 'classical',\n",
       "       'classicmetal', 'club', 'colombian', 'comedy', 'conjazz',\n",
       "       'contemporary', 'country', 'cuban', 'dance', 'dancehall',\n",
       "       'dancepop', 'dark', 'death', 'deep', 'deutschrock', 'deutschspr',\n",
       "       'dirty', 'disco', 'dnb', 'documentary', 'downbeat', 'downtempo',\n",
       "       'drum', 'dub', 'dubstep', 'eastern', 'easy', 'electronic',\n",
       "       'electropop', 'emo', 'entehno', 'epicmetal', 'estrada', 'ethnic',\n",
       "       'eurofolk', 'european', 'experimental', 'extrememetal', 'fado',\n",
       "       'fairytail', 'film', 'fitness', 'flamenco', 'folk', 'folklore',\n",
       "       'folkmetal', 'folkrock', 'folktronica', 'forró', 'frankreich',\n",
       "       'französisch', 'french', 'funk', 'future', 'gangsta', 'garage',\n",
       "       'german', 'ghazal', 'gitarre', 'glitch', 'gospel', 'gothic',\n",
       "       'grime', 'grunge', 'gypsy', 'handsup', \"hard'n'heavy\", 'hardcore',\n",
       "       'hardstyle', 'hardtechno', 'hiphop', 'historisch', 'holiday',\n",
       "       'horror', 'house', 'hymn', 'idm', 'independent', 'indian', 'indie',\n",
       "       'indipop', 'industrial', 'inspirational', 'instrumental',\n",
       "       'international', 'irish', 'jam', 'japanese', 'jazz', 'jewish',\n",
       "       'jpop', 'jungle', 'k-pop', 'karadeniz', 'karaoke', 'kayokyoku',\n",
       "       'korean', 'laiko', 'latin', 'latino', 'leftfield', 'local',\n",
       "       'lounge', 'loungeelectronic', 'lovers', 'malaysian', 'mandopop',\n",
       "       'marschmusik', 'meditative', 'mediterranean', 'melodic', 'metal',\n",
       "       'metalcore', 'mexican', 'middle', 'minimal', 'miscellaneous',\n",
       "       'modern', 'mood', 'mpb', 'muslim', 'native', 'neoklassik', 'neue',\n",
       "       'new', 'newage', 'newwave', 'nu', 'nujazz', 'numetal', 'oceania',\n",
       "       'old', 'opera', 'orchestral', 'other', 'piano', 'podcasts', 'pop',\n",
       "       'popdance', 'popelectronic', 'popeurodance', 'poprussian', 'post',\n",
       "       'posthardcore', 'postrock', 'power', 'progmetal', 'progressive',\n",
       "       'psychedelic', 'punjabi', 'punk', 'quebecois', 'ragga', 'ram',\n",
       "       'rancheras', 'rap', 'rave', 'reggae', 'reggaeton', 'regional',\n",
       "       'relax', 'religious', 'retro', 'rhythm', 'rnb', 'rnr', 'rock',\n",
       "       'rockabilly', 'rockalternative', 'rockindie', 'rockother',\n",
       "       'romance', 'roots', 'ruspop', 'rusrap', 'rusrock', 'russian',\n",
       "       'salsa', 'samba', 'scenic', 'schlager', 'self', 'sertanejo',\n",
       "       'shanson', 'shoegazing', 'showtunes', 'singer', 'ska', 'skarock',\n",
       "       'slow', 'smooth', 'soft', 'soul', 'soulful', 'sound', 'soundtrack',\n",
       "       'southern', 'specialty', 'speech', 'spiritual', 'sport',\n",
       "       'stonerrock', 'surf', 'swing', 'synthpop', 'synthrock',\n",
       "       'sängerportrait', 'tango', 'tanzorchester', 'taraftar', 'tatar',\n",
       "       'tech', 'techno', 'teen', 'thrash', 'top', 'traditional',\n",
       "       'tradjazz', 'trance', 'tribal', 'trip', 'triphop', 'tropical',\n",
       "       'türk', 'türkçe', 'ukrrock', 'urban', 'uzbek', 'variété', 'vi',\n",
       "       'videogame', 'vocal', 'western', 'world', 'worldbeat', 'ïîï',\n",
       "       'электроника', nan], dtype=object)"
      ]
     },
     "execution_count": 73,
     "metadata": {},
     "output_type": "execute_result"
    }
   ],
   "source": [
    "df.sort_values(by='genre')['genre'].unique() \n",
    "# Просмотр уникальных названий жанров"
   ]
  },
  {
   "cell_type": "markdown",
   "metadata": {
    "deletable": false,
    "editable": false,
    "id": "qej-Qmuo_Zct",
    "tags": [
     "start_task"
    ]
   },
   "source": [
    "Просмотрите список и найдите неявные дубликаты названия `hiphop`. Это могут быть названия с ошибками или альтернативные названия того же жанра.\n",
    "\n",
    "Вы увидите следующие неявные дубликаты:\n",
    "* *hip*,\n",
    "* *hop*,\n",
    "* *hip-hop*.\n",
    "\n",
    "Чтобы очистить от них таблицу, используйте метод `replace()` с двумя аргументами: списком строк-дубликатов (включающий *hip*, *hop* и *hip-hop*) и строкой с правильным значением. Вам нужно исправить колонку `genre` в таблице `df`: заменить каждое значение из списка дубликатов на верное. Вместо `hip`, `hop` и `hip-hop` в таблице должно быть значение `hiphop`:"
   ]
  },
  {
   "cell_type": "code",
   "execution_count": 74,
   "metadata": {
    "deletable": false,
    "id": "ErNDkmns_Zct"
   },
   "outputs": [],
   "source": [
    "duplicates = ['hip', 'hop', 'hip-hop'] # список неправильных имён\n",
    "name = 'hiphop' # правильное имя\n",
    "df['genre'] = df['genre'].replace(duplicates, name)\n",
    "# Устранение неявных дубликатов"
   ]
  },
  {
   "cell_type": "markdown",
   "metadata": {
    "deletable": false,
    "editable": false,
    "id": "zQKF16_RG15m",
    "tags": [
     "start_task"
    ]
   },
   "source": [
    "Проверьте, что заменили неправильные названия:\n",
    "\n",
    "*   *hip*,\n",
    "*   *hop*,\n",
    "*   *hip-hop*.\n",
    "\n",
    "Выведите отсортированный список уникальных значений столбца `genre`:"
   ]
  },
  {
   "cell_type": "code",
   "execution_count": 75,
   "metadata": {
    "deletable": false,
    "id": "wvixALnFG15m"
   },
   "outputs": [
    {
     "data": {
      "text/plain": [
       "array(['acid', 'acoustic', 'action', 'adult', 'africa', 'afrikaans',\n",
       "       'alternative', 'alternativepunk', 'ambient', 'americana',\n",
       "       'animated', 'anime', 'arabesk', 'arabic', 'arena',\n",
       "       'argentinetango', 'art', 'audiobook', 'author', 'avantgarde',\n",
       "       'axé', 'baile', 'balkan', 'beats', 'bigroom', 'black', 'bluegrass',\n",
       "       'blues', 'bollywood', 'bossa', 'brazilian', 'breakbeat', 'breaks',\n",
       "       'broadway', 'cantautori', 'cantopop', 'canzone', 'caribbean',\n",
       "       'caucasian', 'celtic', 'chamber', 'chanson', 'children', 'chill',\n",
       "       'chinese', 'choral', 'christian', 'christmas', 'classical',\n",
       "       'classicmetal', 'club', 'colombian', 'comedy', 'conjazz',\n",
       "       'contemporary', 'country', 'cuban', 'dance', 'dancehall',\n",
       "       'dancepop', 'dark', 'death', 'deep', 'deutschrock', 'deutschspr',\n",
       "       'dirty', 'disco', 'dnb', 'documentary', 'downbeat', 'downtempo',\n",
       "       'drum', 'dub', 'dubstep', 'eastern', 'easy', 'electronic',\n",
       "       'electropop', 'emo', 'entehno', 'epicmetal', 'estrada', 'ethnic',\n",
       "       'eurofolk', 'european', 'experimental', 'extrememetal', 'fado',\n",
       "       'fairytail', 'film', 'fitness', 'flamenco', 'folk', 'folklore',\n",
       "       'folkmetal', 'folkrock', 'folktronica', 'forró', 'frankreich',\n",
       "       'französisch', 'french', 'funk', 'future', 'gangsta', 'garage',\n",
       "       'german', 'ghazal', 'gitarre', 'glitch', 'gospel', 'gothic',\n",
       "       'grime', 'grunge', 'gypsy', 'handsup', \"hard'n'heavy\", 'hardcore',\n",
       "       'hardstyle', 'hardtechno', 'hiphop', 'historisch', 'holiday',\n",
       "       'horror', 'house', 'hymn', 'idm', 'independent', 'indian', 'indie',\n",
       "       'indipop', 'industrial', 'inspirational', 'instrumental',\n",
       "       'international', 'irish', 'jam', 'japanese', 'jazz', 'jewish',\n",
       "       'jpop', 'jungle', 'k-pop', 'karadeniz', 'karaoke', 'kayokyoku',\n",
       "       'korean', 'laiko', 'latin', 'latino', 'leftfield', 'local',\n",
       "       'lounge', 'loungeelectronic', 'lovers', 'malaysian', 'mandopop',\n",
       "       'marschmusik', 'meditative', 'mediterranean', 'melodic', 'metal',\n",
       "       'metalcore', 'mexican', 'middle', 'minimal', 'miscellaneous',\n",
       "       'modern', 'mood', 'mpb', 'muslim', 'native', 'neoklassik', 'neue',\n",
       "       'new', 'newage', 'newwave', 'nu', 'nujazz', 'numetal', 'oceania',\n",
       "       'old', 'opera', 'orchestral', 'other', 'piano', 'podcasts', 'pop',\n",
       "       'popdance', 'popelectronic', 'popeurodance', 'poprussian', 'post',\n",
       "       'posthardcore', 'postrock', 'power', 'progmetal', 'progressive',\n",
       "       'psychedelic', 'punjabi', 'punk', 'quebecois', 'ragga', 'ram',\n",
       "       'rancheras', 'rap', 'rave', 'reggae', 'reggaeton', 'regional',\n",
       "       'relax', 'religious', 'retro', 'rhythm', 'rnb', 'rnr', 'rock',\n",
       "       'rockabilly', 'rockalternative', 'rockindie', 'rockother',\n",
       "       'romance', 'roots', 'ruspop', 'rusrap', 'rusrock', 'russian',\n",
       "       'salsa', 'samba', 'scenic', 'schlager', 'self', 'sertanejo',\n",
       "       'shanson', 'shoegazing', 'showtunes', 'singer', 'ska', 'skarock',\n",
       "       'slow', 'smooth', 'soft', 'soul', 'soulful', 'sound', 'soundtrack',\n",
       "       'southern', 'specialty', 'speech', 'spiritual', 'sport',\n",
       "       'stonerrock', 'surf', 'swing', 'synthpop', 'synthrock',\n",
       "       'sängerportrait', 'tango', 'tanzorchester', 'taraftar', 'tatar',\n",
       "       'tech', 'techno', 'teen', 'thrash', 'top', 'traditional',\n",
       "       'tradjazz', 'trance', 'tribal', 'trip', 'triphop', 'tropical',\n",
       "       'türk', 'türkçe', 'ukrrock', 'urban', 'uzbek', 'variété', 'vi',\n",
       "       'videogame', 'vocal', 'western', 'world', 'worldbeat', 'ïîï',\n",
       "       'электроника', nan], dtype=object)"
      ]
     },
     "execution_count": 75,
     "metadata": {},
     "output_type": "execute_result"
    }
   ],
   "source": [
    "df.sort_values(by='genre')['genre'].unique() # Проверка на неявные дубликаты"
   ]
  },
  {
   "cell_type": "markdown",
   "metadata": {
    "deletable": false,
    "editable": false,
    "id": "jz6a9-7HQUDd"
   },
   "source": [
    "**Выводы**\n",
    "\n",
    "Предобработка обнаружила три проблемы в данных:\n",
    "\n",
    "- нарушения в стиле заголовков,\n",
    "- пропущенные значения,\n",
    "- дубликаты — явные и неявные.\n",
    "\n",
    "Вы исправили заголовки, чтобы упростить работу с таблицей. Без дубликатов исследование станет более точным.\n",
    "\n",
    "Пропущенные значения вы заменили на `'unknown'`. Ещё предстоит увидеть, не повредят ли исследованию пропуски в колонке `genre`.\n",
    "\n",
    "Теперь можно перейти к проверке гипотез."
   ]
  },
  {
   "cell_type": "markdown",
   "metadata": {
    "deletable": false,
    "editable": false,
    "id": "WttZHXH0SqKk"
   },
   "source": [
    "## Проверка гипотез"
   ]
  },
  {
   "cell_type": "markdown",
   "metadata": {
    "deletable": false,
    "editable": false,
    "id": "Im936VVi_Zcu"
   },
   "source": [
    "### Сравнение поведения пользователей двух столиц"
   ]
  },
  {
   "cell_type": "markdown",
   "metadata": {
    "deletable": false,
    "editable": false,
    "id": "nwt_MuaL_Zcu"
   },
   "source": [
    "Первая гипотеза утверждает, что пользователи по-разному слушают музыку в Москве и Санкт-Петербурге. Проверьте это предположение по данным о трёх днях недели — понедельнике, среде и пятнице. Для этого:\n",
    "\n",
    "* Разделите пользователей Москвы и Санкт-Петербурга.\n",
    "* Сравните, сколько треков послушала каждая группа пользователей в понедельник, среду и пятницу.\n"
   ]
  },
  {
   "cell_type": "markdown",
   "metadata": {
    "deletable": false,
    "editable": false,
    "id": "8Dw_YMmT_Zcu",
    "tags": [
     "start_task"
    ]
   },
   "source": [
    "Для тренировки сначала выполните каждый из расчётов по отдельности.\n",
    "\n",
    "Оцените активность пользователей в каждом городе. Сгруппируйте данные по городу и посчитайте прослушивания в каждой группе.\n",
    "\n"
   ]
  },
  {
   "cell_type": "code",
   "execution_count": 18,
   "metadata": {
    "deletable": false,
    "id": "0_Qs96oh_Zcu"
   },
   "outputs": [
    {
     "data": {
      "text/plain": [
       "city\n",
       "Moscow              42741\n",
       "Saint-Petersburg    18512\n",
       "Name: user_id, dtype: int64"
      ]
     },
     "execution_count": 18,
     "metadata": {},
     "output_type": "execute_result"
    }
   ],
   "source": [
    "df.groupby('city')['user_id'].count() # Подсчёт прослушиваний в каждом городе"
   ]
  },
  {
   "cell_type": "markdown",
   "metadata": {
    "deletable": false,
    "editable": false,
    "id": "dzli3w8o_Zcu",
    "tags": [
     "start_task"
    ]
   },
   "source": [
    "В Москве прослушиваний больше, чем в Петербурге. Из этого не следует, что московские пользователи чаще слушают музыку. Просто самих пользователей в Москве больше.\n",
    "\n",
    "\n",
    "Теперь сгруппируйте данные по дню недели и посчитайте прослушивания в понедельник, среду и пятницу. Учтите, что в данных есть информация о прослушиваниях только за эти дни.\n"
   ]
  },
  {
   "cell_type": "code",
   "execution_count": 19,
   "metadata": {
    "deletable": false,
    "id": "uZMKjiJz_Zcu"
   },
   "outputs": [
    {
     "data": {
      "text/plain": [
       "day\n",
       "Friday       21840\n",
       "Monday       21354\n",
       "Wednesday    18059\n",
       "Name: user_id, dtype: int64"
      ]
     },
     "execution_count": 19,
     "metadata": {},
     "output_type": "execute_result"
    }
   ],
   "source": [
    "df.groupby('day')['user_id'].count()# Подсчёт прослушиваний в каждый из трёх дней"
   ]
  },
  {
   "cell_type": "markdown",
   "metadata": {
    "deletable": false,
    "editable": false,
    "id": "cC2tNrlL_Zcu"
   },
   "source": [
    "В среднем пользователи из двух городов менее активны по средам. Но картина может измениться, если рассмотреть каждый город в отдельности."
   ]
  },
  {
   "cell_type": "markdown",
   "metadata": {
    "deletable": false,
    "editable": false,
    "id": "POzs8bGa_Zcu",
    "tags": [
     "start_task"
    ]
   },
   "source": [
    "\n",
    "Вы видели, как работает группировка по городу и по дням недели. Теперь напишите функцию, которая объединит два эти расчёта.\n",
    "\n",
    "Создайте функцию `number_tracks()`, которая посчитает прослушивания для заданного дня и города. Ей понадобятся два параметра:\n",
    "* день недели,\n",
    "* название города.\n",
    "\n",
    "В функции сохраните в переменную строки исходной таблицы, у которых значение:\n",
    "  * в колонке `day` равно параметру `day`,\n",
    "  * в колонке `city` равно параметру `city`.\n",
    "\n",
    "Для этого примените последовательную фильтрацию с логической индексацией (или сложные логические выражения в одну строку, если вы уже знакомы с ними).\n",
    "\n",
    "Затем посчитайте значения в столбце `user_id` получившейся таблицы. Результат сохраните в новую переменную. Верните эту переменную из функции."
   ]
  },
  {
   "cell_type": "code",
   "execution_count": 20,
   "metadata": {
    "deletable": false,
    "id": "Nz3GdQB1_Zcu"
   },
   "outputs": [],
   "source": [
    "# Объявляется функция с двумя параметрами: day, city.\n",
    "def number_tracks(day, city):\n",
    "# В переменной track_list сохраняются те строки таблицы df, для которых\n",
    "# значение в столбце 'day' равно параметру day и одновременно значение\n",
    "# в столбце 'city' равно параметру city (используйте последовательную фильтрацию\n",
    "# с помощью логической индексации или сложные логические выражения в одну строку, если вы уже знакомы с ними).\n",
    "    track_list = df.loc[(df.loc[:,'day'] == day) & (df.loc[:,'city'] == city)]   \n",
    "# В переменной track_list_count сохраняется число значений столбца 'user_id',\n",
    "# рассчитанное методом count() для таблицы track_list.\n",
    "# Функция возвращает число - значение track_list_count.\n",
    "    track_list_count = track_list['user_id'].count()\n",
    "    return track_list_count\n",
    "# Функция для подсчёта прослушиваний для конкретного города и дня.\n",
    "# С помощью последовательной фильтрации с логической индексацией она\n",
    "# сначала получит из исходной таблицы строки с нужным днём,\n",
    "# затем из результата отфильтрует строки с нужным городом,\n",
    "# методом count() посчитает количество значений в колонке user_id.\n",
    "# Это количество функция вернёт в качестве результата"
   ]
  },
  {
   "cell_type": "markdown",
   "metadata": {
    "deletable": false,
    "editable": false,
    "id": "ytf7xFrFJQ2r",
    "tags": [
     "start_task"
    ]
   },
   "source": [
    "Вызовите `number_tracks()` шесть раз, меняя значение параметров — так, чтобы получить данные для каждого города в каждый из трёх дней."
   ]
  },
  {
   "cell_type": "code",
   "execution_count": 21,
   "metadata": {
    "deletable": false,
    "id": "rJcRATNQ_Zcu"
   },
   "outputs": [
    {
     "data": {
      "text/plain": [
       "15740"
      ]
     },
     "execution_count": 21,
     "metadata": {},
     "output_type": "execute_result"
    }
   ],
   "source": [
    "number_tracks('Monday','Moscow')# количество прослушиваний в Москве по понедельникам"
   ]
  },
  {
   "cell_type": "code",
   "execution_count": 22,
   "metadata": {
    "deletable": false,
    "id": "hq_ncZ5T_Zcu"
   },
   "outputs": [
    {
     "data": {
      "text/plain": [
       "5614"
      ]
     },
     "execution_count": 22,
     "metadata": {},
     "output_type": "execute_result"
    }
   ],
   "source": [
    "number_tracks('Monday','Saint-Petersburg')# количество прослушиваний в Санкт-Петербурге по понедельникам"
   ]
  },
  {
   "cell_type": "code",
   "execution_count": 23,
   "metadata": {
    "deletable": false,
    "id": "_NTy2VPU_Zcu"
   },
   "outputs": [
    {
     "data": {
      "text/plain": [
       "11056"
      ]
     },
     "execution_count": 23,
     "metadata": {},
     "output_type": "execute_result"
    }
   ],
   "source": [
    "number_tracks('Wednesday','Moscow')# количество прослушиваний в Москве по средам"
   ]
  },
  {
   "cell_type": "code",
   "execution_count": 24,
   "metadata": {
    "deletable": false,
    "id": "j2y3TAwo_Zcu"
   },
   "outputs": [
    {
     "data": {
      "text/plain": [
       "7003"
      ]
     },
     "execution_count": 24,
     "metadata": {},
     "output_type": "execute_result"
    }
   ],
   "source": [
    "number_tracks('Wednesday','Saint-Petersburg') # количество прослушиваний в Санкт-Петербурге по средам"
   ]
  },
  {
   "cell_type": "code",
   "execution_count": 25,
   "metadata": {
    "deletable": false,
    "id": "vYDw5u_K_Zcu"
   },
   "outputs": [
    {
     "data": {
      "text/plain": [
       "15945"
      ]
     },
     "execution_count": 25,
     "metadata": {},
     "output_type": "execute_result"
    }
   ],
   "source": [
    "number_tracks('Friday','Moscow')# количество прослушиваний в Москве по пятницам"
   ]
  },
  {
   "cell_type": "code",
   "execution_count": 26,
   "metadata": {
    "deletable": false,
    "id": "8_yzFtW3_Zcu"
   },
   "outputs": [
    {
     "data": {
      "text/plain": [
       "5895"
      ]
     },
     "execution_count": 26,
     "metadata": {},
     "output_type": "execute_result"
    }
   ],
   "source": [
    "number_tracks('Friday','Saint-Petersburg') # количество прослушиваний в Санкт-Петербурге по пятницам"
   ]
  },
  {
   "cell_type": "markdown",
   "metadata": {
    "deletable": false,
    "editable": false,
    "id": "7QXffbO-_Zcu",
    "tags": [
     "start_task"
    ]
   },
   "source": [
    "С помощью конструктора `pd.DataFrame` создайте таблицу, где\n",
    "* названия колонок — `['city', 'monday', 'wednesday', 'friday']`;\n",
    "* данные — результаты, которые вы получили с помощью `number_tracks`."
   ]
  },
  {
   "cell_type": "code",
   "execution_count": 27,
   "metadata": {
    "deletable": false,
    "id": "APAcLpOr_Zcu"
   },
   "outputs": [
    {
     "data": {
      "text/html": [
       "<div>\n",
       "<style scoped>\n",
       "    .dataframe tbody tr th:only-of-type {\n",
       "        vertical-align: middle;\n",
       "    }\n",
       "\n",
       "    .dataframe tbody tr th {\n",
       "        vertical-align: top;\n",
       "    }\n",
       "\n",
       "    .dataframe thead th {\n",
       "        text-align: right;\n",
       "    }\n",
       "</style>\n",
       "<table border=\"1\" class=\"dataframe\">\n",
       "  <thead>\n",
       "    <tr style=\"text-align: right;\">\n",
       "      <th></th>\n",
       "      <th>city</th>\n",
       "      <th>monday</th>\n",
       "      <th>wednesday</th>\n",
       "      <th>friday</th>\n",
       "    </tr>\n",
       "  </thead>\n",
       "  <tbody>\n",
       "    <tr>\n",
       "      <th>0</th>\n",
       "      <td>Moscow</td>\n",
       "      <td>15740</td>\n",
       "      <td>11056</td>\n",
       "      <td>15945</td>\n",
       "    </tr>\n",
       "    <tr>\n",
       "      <th>1</th>\n",
       "      <td>Saint-Petersburg</td>\n",
       "      <td>5614</td>\n",
       "      <td>7003</td>\n",
       "      <td>5895</td>\n",
       "    </tr>\n",
       "  </tbody>\n",
       "</table>\n",
       "</div>"
      ],
      "text/plain": [
       "               city  monday  wednesday  friday\n",
       "0            Moscow   15740      11056   15945\n",
       "1  Saint-Petersburg    5614       7003    5895"
      ]
     },
     "execution_count": 27,
     "metadata": {},
     "output_type": "execute_result"
    }
   ],
   "source": [
    "columns = ['city', 'monday', 'wednesday', 'friday']\n",
    "data = [\n",
    "    ['Moscow', 15740, 11056, 15945],\n",
    "    ['Saint-Petersburg', 5614, 7003, 5895]\n",
    "]\n",
    "pd.DataFrame(data=data , columns=columns)\n",
    "\n",
    "# Таблица с pd.DataFrameрезультатами"
   ]
  },
  {
   "cell_type": "markdown",
   "metadata": {
    "deletable": false,
    "editable": false,
    "id": "-EgPIHYu_Zcu"
   },
   "source": [
    "**Выводы**\n",
    "\n",
    "Данные показывают разницу поведения пользователей:\n",
    "\n",
    "- В Москве пик прослушиваний приходится на понедельник и пятницу, а в среду заметен спад.\n",
    "- В Петербурге, наоборот, больше слушают музыку по средам. Активность в понедельник и пятницу здесь почти в равной мере уступает среде.\n",
    "\n",
    "Значит, данные говорят в пользу первой гипотезы."
   ]
  },
  {
   "cell_type": "markdown",
   "metadata": {
    "deletable": false,
    "editable": false,
    "id": "atZAxtq4_Zcu"
   },
   "source": [
    "### Музыка в начале и в конце недели"
   ]
  },
  {
   "cell_type": "markdown",
   "metadata": {
    "deletable": false,
    "editable": false,
    "id": "eXrQqXFH_Zcu"
   },
   "source": [
    "Согласно второй гипотезе, утром в понедельник в Москве преобладают одни жанры, а в Петербурге — другие. Так же и вечером пятницы преобладают разные жанры — в зависимости от города."
   ]
  },
  {
   "cell_type": "markdown",
   "metadata": {
    "deletable": false,
    "editable": false,
    "id": "S8UcW6Hw_Zcu",
    "tags": [
     "start_task"
    ]
   },
   "source": [
    "Сохраните таблицы с данными в две переменные:\n",
    "* по Москве — в `moscow_general`;\n",
    "* по Санкт-Петербургу — в `spb_general`."
   ]
  },
  {
   "cell_type": "code",
   "execution_count": 28,
   "metadata": {
    "deletable": false,
    "id": "qeaFfM_P_Zcu"
   },
   "outputs": [],
   "source": [
    "# получение таблицы moscow_general из тех строк таблицы df,\n",
    "# для которых значение в столбце 'city' равно 'Moscow'\n",
    "moscow_general = df[df['city']=='Moscow']"
   ]
  },
  {
   "cell_type": "code",
   "execution_count": 29,
   "metadata": {
    "deletable": false,
    "id": "ORaVRKto_Zcu"
   },
   "outputs": [],
   "source": [
    "# получение таблицы spb_general из тех строк таблицы df,\n",
    "# для которых значение в столбце 'city' равно 'Saint-Petersburg'\n",
    "spb_general = df[df['city']=='Saint-Petersburg']"
   ]
  },
  {
   "cell_type": "markdown",
   "metadata": {
    "deletable": false,
    "id": "MEJV-CX2_Zcu",
    "tags": [
     "start_task"
    ]
   },
   "source": [
    "Создайте функцию `genre_weekday()` с четырьмя параметрами:\n",
    "* таблица (датафрейм) с данными,\n",
    "* день недели,\n",
    "* начальная временная метка в формате 'hh:mm',\n",
    "* последняя временная метка в формате 'hh:mm'.\n",
    "\n",
    "Функция должна вернуть информацию о топ-10 жанров тех треков, которые прослушивали в указанный день, в промежутке между двумя отметками времени."
   ]
  },
  {
   "cell_type": "code",
   "execution_count": 30,
   "metadata": {
    "deletable": false,
    "id": "laJT9BYl_Zcu"
   },
   "outputs": [],
   "source": [
    "# Объявление функции genre_weekday() с параметрами df, day, time1, time2,\n",
    "# которая возвращает информацию о самых популярных жанрах в указанный день в\n",
    "# заданное время:\n",
    "# 1) в переменную genre_df сохраняются те строки переданного датафрейма df, для\n",
    "#    которых одновременно:\n",
    "#    - значение в столбце day равно значению аргумента day\n",
    "#    - значение в столбце time больше значения аргумента time1\n",
    "#    - значение в столбце time меньше значения аргумента time2\n",
    "#    Используйте последовательную фильтрацию с помощью логической индексации.\n",
    "# 2) сгруппировать датафрейм genre_df по столбцу genre, взять один из его\n",
    "#    столбцов и посчитать методом count() количество записей для каждого из\n",
    "#    присутствующих жанров, получившийся Series записать в переменную\n",
    "#    genre_df_grouped\n",
    "# 3) отсортировать genre_df_grouped по убыванию встречаемости и сохранить\n",
    "#    в переменную genre_df_sorted\n",
    "# 4) вернуть Series из 10 первых значений genre_df_sorted, это будут топ-10\n",
    "#    популярных жанров (в указанный день, в заданное время)\n",
    "\n",
    "def genre_weekday(df, day, time1, time2):\n",
    "    # последовательная фильтрация\n",
    "    # оставляем в genre_df только те строки df, у которых день равен day\n",
    "    # оставляем в genre_df только те строки genre_df, у которых время меньше time2\n",
    "    # оставляем в genre_df только те строки genre_df, у которых время больше time1\n",
    "    genre_df = df[df['day'] == day]\n",
    "    genre_df = genre_df[genre_df['time'] < time2]\n",
    "    genre_df = genre_df[genre_df['time'] > time1]\n",
    "    \n",
    "    # сгруппируем отфильтрованный датафрейм по столбцу с названиями жанров, возьмём столбец genre и посчитаем кол-во строк для каждого жанра методом count()\n",
    "    genre_df_grouped = genre_df.groupby('genre')['genre'].count()\n",
    "    # отсортируем результат по убыванию (чтобы в начале Series оказались самые популярные жанры)\n",
    "    genre_df_sorted = genre_df_grouped.sort_values(ascending=False) \n",
    "    # вернём Series с 10 самыми популярными жанрами в указанный отрезок времени заданного дня\n",
    "    return genre_df_sorted[:10]"
   ]
  },
  {
   "cell_type": "markdown",
   "metadata": {
    "deletable": false,
    "editable": false,
    "id": "la2s2_PF_Zcu",
    "tags": [
     "start_task"
    ]
   },
   "source": [
    "Cравните результаты функции `genre_weekday()` для Москвы и Санкт-Петербурга в понедельник утром (с 7:00 до 11:00) и в пятницу вечером (с 17:00 до 23:00):"
   ]
  },
  {
   "cell_type": "code",
   "execution_count": 31,
   "metadata": {
    "deletable": false,
    "id": "yz7itPUQ_Zcu"
   },
   "outputs": [
    {
     "data": {
      "text/plain": [
       "genre\n",
       "pop            781\n",
       "dance          549\n",
       "electronic     480\n",
       "rock           474\n",
       "hiphop         286\n",
       "ruspop         186\n",
       "world          181\n",
       "rusrap         175\n",
       "alternative    164\n",
       "unknown        161\n",
       "Name: genre, dtype: int64"
      ]
     },
     "execution_count": 31,
     "metadata": {},
     "output_type": "execute_result"
    }
   ],
   "source": [
    "# вызов функции для утра понедельника в Москве (вместо df — таблица moscow_general)\n",
    "# объекты, хранящие время, являются строками и сравниваются как строки\n",
    "genre_weekday(moscow_general, 'Monday', '07:00', '11:00')"
   ]
  },
  {
   "cell_type": "code",
   "execution_count": 32,
   "metadata": {
    "deletable": false,
    "id": "kwUcHPdy_Zcu"
   },
   "outputs": [
    {
     "data": {
      "text/plain": [
       "genre\n",
       "pop            218\n",
       "dance          182\n",
       "rock           162\n",
       "electronic     147\n",
       "hiphop          80\n",
       "ruspop          64\n",
       "alternative     58\n",
       "rusrap          55\n",
       "jazz            44\n",
       "classical       40\n",
       "Name: genre, dtype: int64"
      ]
     },
     "execution_count": 32,
     "metadata": {},
     "output_type": "execute_result"
    }
   ],
   "source": [
    "# вызов функции для утра понедельника в Петербурге (вместо df — таблица spb_general)\n",
    "genre_weekday(spb_general, 'Monday', '07:00', '11:00')"
   ]
  },
  {
   "cell_type": "code",
   "execution_count": 33,
   "metadata": {
    "deletable": false,
    "id": "EzXVRE1o_Zcu"
   },
   "outputs": [
    {
     "data": {
      "text/plain": [
       "genre\n",
       "pop            713\n",
       "rock           517\n",
       "dance          495\n",
       "electronic     482\n",
       "hiphop         273\n",
       "world          208\n",
       "ruspop         170\n",
       "alternative    163\n",
       "classical      163\n",
       "rusrap         142\n",
       "Name: genre, dtype: int64"
      ]
     },
     "execution_count": 33,
     "metadata": {},
     "output_type": "execute_result"
    }
   ],
   "source": [
    "# вызов функции для вечера пятницы в Москве\n",
    "genre_weekday(moscow_general, 'Friday', '17:00', '23:00')"
   ]
  },
  {
   "cell_type": "code",
   "execution_count": 34,
   "metadata": {
    "deletable": false,
    "id": "JZaEKu5v_Zcu"
   },
   "outputs": [
    {
     "data": {
      "text/plain": [
       "genre\n",
       "pop            256\n",
       "electronic     216\n",
       "rock           216\n",
       "dance          210\n",
       "hiphop          97\n",
       "alternative     63\n",
       "jazz            61\n",
       "classical       60\n",
       "rusrap          59\n",
       "world           54\n",
       "Name: genre, dtype: int64"
      ]
     },
     "execution_count": 34,
     "metadata": {},
     "output_type": "execute_result"
    }
   ],
   "source": [
    "# вызов функции для вечера пятницы в Петербурге\n",
    "genre_weekday(spb_general, 'Friday', '17:00', '23:00')"
   ]
  },
  {
   "cell_type": "markdown",
   "metadata": {
    "deletable": false,
    "editable": false,
    "id": "wrCe4MNX_Zcu"
   },
   "source": [
    "**Выводы**\n",
    "\n",
    "Если сравнить топ-10 жанров в понедельник утром, можно сделать такие выводы:\n",
    "\n",
    "1. В Москве и Петербурге слушают похожую музыку. Единственное различие — в московский рейтинг вошёл жанр “world”, а в петербургский — джаз и классика.\n",
    "\n",
    "2. В Москве пропущенных значений оказалось так много, что значение `'unknown'` заняло десятое место среди самых популярных жанров. Значит, пропущенные значения занимают существенную долю в данных и угрожают достоверности исследования.\n",
    "\n",
    "Вечер пятницы не меняет эту картину. Некоторые жанры поднимаются немного выше, другие спускаются, но в целом топ-10 остаётся тем же самым.\n",
    "\n",
    "Таким образом, вторая гипотеза подтвердилась лишь частично:\n",
    "* Пользователи слушают похожую музыку в начале недели и в конце.\n",
    "* Разница между Москвой и Петербургом не слишком выражена. В Москве чаще слушают русскую популярную музыку, в Петербурге — джаз.\n",
    "\n",
    "Однако пропуски в данных ставят под сомнение этот результат. В Москве их так много, что рейтинг топ-10 мог бы выглядеть иначе, если бы не утерянные  данные о жанрах."
   ]
  },
  {
   "cell_type": "markdown",
   "metadata": {
    "deletable": false,
    "editable": false,
    "id": "JolODAqr_Zcu"
   },
   "source": [
    "### Жанровые предпочтения в Москве и Петербурге\n",
    "\n",
    "Гипотеза: Петербург — столица рэпа, музыку этого жанра там слушают чаще, чем в Москве.  А Москва — город контрастов, в котором, тем не менее, преобладает поп-музыка."
   ]
  },
  {
   "cell_type": "markdown",
   "metadata": {
    "deletable": false,
    "editable": false,
    "id": "DlegSvaT_Zcu",
    "tags": [
     "start_task"
    ]
   },
   "source": [
    "Сгруппируйте таблицу `moscow_general` по жанру и посчитайте прослушивания треков каждого жанра методом `count()`. Затем отсортируйте результат в порядке убывания и сохраните его в таблице `moscow_genres`."
   ]
  },
  {
   "cell_type": "code",
   "execution_count": 35,
   "metadata": {
    "deletable": false,
    "id": "r19lIPke_Zcu"
   },
   "outputs": [],
   "source": [
    "# одной строкой: группировка таблицы moscow_general по столбцу 'genre',\n",
    "# подсчёт числа значений 'genre' в этой группировке методом count(),\n",
    "# сортировка получившегося Series в порядке убывания и сохранение в \n",
    "moscow_genres_grouped = moscow_general.groupby('genre')['genre'].count()\n",
    "moscow_genres = moscow_genres_grouped.sort_values(ascending=False) "
   ]
  },
  {
   "cell_type": "markdown",
   "metadata": {
    "deletable": false,
    "editable": false,
    "id": "6kMuomxTiIr8",
    "tags": [
     "start_task"
    ]
   },
   "source": [
    "Выведите на экран первые десять строк `moscow_genres`:"
   ]
  },
  {
   "cell_type": "code",
   "execution_count": 36,
   "metadata": {
    "deletable": false,
    "id": "WhCSooF8_Zcv"
   },
   "outputs": [
    {
     "data": {
      "text/plain": [
       "genre\n",
       "pop            5892\n",
       "dance          4435\n",
       "rock           3965\n",
       "electronic     3786\n",
       "hiphop         2096\n",
       "classical      1616\n",
       "world          1432\n",
       "alternative    1379\n",
       "ruspop         1372\n",
       "rusrap         1161\n",
       "Name: genre, dtype: int64"
      ]
     },
     "execution_count": 36,
     "metadata": {},
     "output_type": "execute_result"
    }
   ],
   "source": [
    "# просмотр первых 10 строк \n",
    "moscow_genres[:10]"
   ]
  },
  {
   "cell_type": "markdown",
   "metadata": {
    "deletable": false,
    "editable": false,
    "id": "cnPG2vnN_Zcv",
    "tags": [
     "start_task"
    ]
   },
   "source": [
    "Теперь повторите то же и для Петербурга.\n",
    "\n",
    "Сгруппируйте таблицу `spb_general` по жанру. Посчитайте прослушивания треков каждого жанра. Результат отсортируйте в порядке убывания и сохраните в таблице `spb_genres`:\n"
   ]
  },
  {
   "cell_type": "code",
   "execution_count": 37,
   "metadata": {
    "deletable": false,
    "id": "gluLIpE7_Zcv"
   },
   "outputs": [],
   "source": [
    "# одной строкой: группировка таблицы spb_general по столбцу 'genre',\n",
    "# подсчёт числа значений 'genre' в этой группировке методом count(),\n",
    "# сортировка получившегося Series в порядке убывания и сохранение в spb_genres\n",
    "spb_genres_grouped = spb_general.groupby('genre')['genre'].count()\n",
    "spb_genres = spb_genres_grouped.sort_values(ascending=False) "
   ]
  },
  {
   "cell_type": "markdown",
   "metadata": {
    "deletable": false,
    "editable": false,
    "id": "5Doha_ODgyQ8",
    "tags": [
     "start_task"
    ]
   },
   "source": [
    "Выведите на экран первые десять строк `spb_genres`:"
   ]
  },
  {
   "cell_type": "code",
   "execution_count": 38,
   "metadata": {
    "deletable": false,
    "id": "uaGJHjVU_Zcv"
   },
   "outputs": [
    {
     "data": {
      "text/plain": [
       "genre\n",
       "pop            2431\n",
       "dance          1932\n",
       "rock           1879\n",
       "electronic     1736\n",
       "hiphop          960\n",
       "alternative     649\n",
       "classical       646\n",
       "rusrap          564\n",
       "ruspop          538\n",
       "world           515\n",
       "Name: genre, dtype: int64"
      ]
     },
     "execution_count": 38,
     "metadata": {},
     "output_type": "execute_result"
    }
   ],
   "source": [
    "spb_genres[:10]\n",
    "# просмотр первых 10 строк spb_genres"
   ]
  },
  {
   "cell_type": "markdown",
   "metadata": {
    "deletable": false,
    "editable": false,
    "id": "RY51YJYu_Zcv"
   },
   "source": [
    "**Выводы**"
   ]
  },
  {
   "cell_type": "markdown",
   "metadata": {
    "deletable": false,
    "editable": false,
    "id": "nVhnJEm__Zcv"
   },
   "source": [
    "Гипотеза частично подтвердилась:\n",
    "* Поп-музыка — самый популярный жанр в Москве, как и предполагала гипотеза. Более того, в топ-10 жанров встречается близкий жанр — русская популярная музыка.\n",
    "* Вопреки ожиданиям, рэп одинаково популярен в Москве и Петербурге.\n"
   ]
  },
  {
   "cell_type": "markdown",
   "metadata": {
    "deletable": false,
    "editable": false,
    "id": "ykKQ0N65_Zcv"
   },
   "source": [
    "## Итоги исследования"
   ]
  },
  {
   "cell_type": "markdown",
   "metadata": {
    "deletable": false,
    "editable": false,
    "id": "tjUwbHb3_Zcv"
   },
   "source": [
    "Вы проверили три гипотезы и установили:\n",
    "\n",
    "1. День недели по-разному влияет на активность пользователей в Москве и Петербурге.\n",
    "\n",
    "Первая гипотеза полностью подтвердилась.\n",
    "\n",
    "2. Музыкальные предпочтения не сильно меняются в течение недели — будь то Москва или Петербург. Небольшие различия заметны в начале недели, по понедельникам:\n",
    "* в Москве слушают музыку жанра “world”,\n",
    "* в Петербурге — джаз и классику.\n",
    "\n",
    "Таким образом, вторая гипотеза подтвердилась лишь отчасти. Этот результат мог оказаться иным, если бы не пропуски в данных.\n",
    "\n",
    "3. Во вкусах пользователей Москвы и Петербурга больше общего, чем различий. Вопреки ожиданиям, предпочтения жанров в Петербурге напоминают московские.\n",
    "\n",
    "Третья гипотеза не подтвердилась. Если различия в предпочтениях и существуют, на основной массе пользователей они незаметны.\n",
    "\n",
    "**На практике исследования содержат проверки статистических гипотез.**\n",
    "Из данных одного сервиса не всегда можно сделать вывод о всех жителях города.\n",
    "Проверки статистических гипотез покажут, насколько они достоверны, исходя из имеющихся данных.\n",
    "С методами проверок гипотез вы ещё познакомитесь в следующих темах."
   ]
  }
 ],
 "metadata": {
  "ExecuteTimeLog": [
   {
    "duration": 399,
    "start_time": "2023-07-25T13:50:14.259Z"
   },
   {
    "duration": 154,
    "start_time": "2023-07-25T13:50:16.901Z"
   },
   {
    "duration": 110,
    "start_time": "2023-07-25T13:50:33.824Z"
   },
   {
    "duration": 100,
    "start_time": "2023-07-25T13:50:46.141Z"
   },
   {
    "duration": 157,
    "start_time": "2023-07-25T13:54:37.646Z"
   },
   {
    "duration": 176,
    "start_time": "2023-07-25T13:54:42.898Z"
   },
   {
    "duration": 11,
    "start_time": "2023-07-25T13:55:07.025Z"
   },
   {
    "duration": 19,
    "start_time": "2023-07-25T13:55:18.190Z"
   },
   {
    "duration": 28,
    "start_time": "2023-07-25T13:55:33.727Z"
   },
   {
    "duration": 2,
    "start_time": "2023-07-25T13:58:45.063Z"
   },
   {
    "duration": 11,
    "start_time": "2023-07-25T14:01:42.323Z"
   },
   {
    "duration": 4,
    "start_time": "2023-07-25T14:02:02.207Z"
   },
   {
    "duration": 10,
    "start_time": "2023-07-25T14:06:32.626Z"
   },
   {
    "duration": 4,
    "start_time": "2023-07-25T14:06:45.043Z"
   },
   {
    "duration": 30,
    "start_time": "2023-07-25T14:09:15.614Z"
   },
   {
    "duration": 52,
    "start_time": "2023-07-25T19:57:35.617Z"
   },
   {
    "duration": 464,
    "start_time": "2023-07-25T20:04:41.496Z"
   },
   {
    "duration": 258,
    "start_time": "2023-07-25T20:04:41.962Z"
   },
   {
    "duration": 20,
    "start_time": "2023-07-25T20:04:42.221Z"
   },
   {
    "duration": 35,
    "start_time": "2023-07-25T20:04:42.243Z"
   },
   {
    "duration": 4,
    "start_time": "2023-07-25T20:04:42.280Z"
   },
   {
    "duration": 17,
    "start_time": "2023-07-25T20:04:42.286Z"
   },
   {
    "duration": 22,
    "start_time": "2023-07-25T20:04:42.308Z"
   },
   {
    "duration": 9,
    "start_time": "2023-07-25T20:04:42.332Z"
   },
   {
    "duration": 32,
    "start_time": "2023-07-25T20:04:42.342Z"
   },
   {
    "duration": 33,
    "start_time": "2023-07-25T20:04:42.376Z"
   },
   {
    "duration": 10,
    "start_time": "2023-07-25T20:04:42.411Z"
   },
   {
    "duration": 12,
    "start_time": "2023-07-25T20:04:42.422Z"
   },
   {
    "duration": 9,
    "start_time": "2023-07-25T20:04:42.436Z"
   },
   {
    "duration": 6,
    "start_time": "2023-07-25T20:04:42.449Z"
   },
   {
    "duration": 6,
    "start_time": "2023-07-25T20:04:42.457Z"
   },
   {
    "duration": 5,
    "start_time": "2023-07-25T20:04:42.465Z"
   },
   {
    "duration": 20,
    "start_time": "2023-07-25T20:04:42.471Z"
   },
   {
    "duration": 18,
    "start_time": "2023-07-25T20:04:42.493Z"
   },
   {
    "duration": 9,
    "start_time": "2023-07-25T20:04:42.516Z"
   },
   {
    "duration": 12,
    "start_time": "2023-07-25T20:04:42.527Z"
   },
   {
    "duration": 21,
    "start_time": "2023-07-25T20:04:42.540Z"
   },
   {
    "duration": 24,
    "start_time": "2023-07-25T20:04:42.563Z"
   },
   {
    "duration": 26,
    "start_time": "2023-07-25T20:04:42.589Z"
   },
   {
    "duration": 13,
    "start_time": "2023-07-25T20:04:42.617Z"
   },
   {
    "duration": 21,
    "start_time": "2023-07-25T20:04:42.632Z"
   },
   {
    "duration": 16,
    "start_time": "2023-07-25T20:04:42.655Z"
   },
   {
    "duration": 14,
    "start_time": "2023-07-25T20:04:42.673Z"
   },
   {
    "duration": 33,
    "start_time": "2023-07-25T20:04:42.688Z"
   },
   {
    "duration": 17,
    "start_time": "2023-07-25T20:04:42.723Z"
   },
   {
    "duration": 142,
    "start_time": "2023-07-25T20:04:42.742Z"
   },
   {
    "duration": 0,
    "start_time": "2023-07-25T20:04:42.886Z"
   },
   {
    "duration": 0,
    "start_time": "2023-07-25T20:04:42.887Z"
   },
   {
    "duration": 0,
    "start_time": "2023-07-25T20:04:42.888Z"
   },
   {
    "duration": 0,
    "start_time": "2023-07-25T20:04:42.889Z"
   },
   {
    "duration": 0,
    "start_time": "2023-07-25T20:04:42.890Z"
   },
   {
    "duration": 0,
    "start_time": "2023-07-25T20:04:42.892Z"
   },
   {
    "duration": 0,
    "start_time": "2023-07-25T20:04:42.893Z"
   },
   {
    "duration": 0,
    "start_time": "2023-07-25T20:04:42.896Z"
   },
   {
    "duration": 21,
    "start_time": "2023-07-25T20:05:01.211Z"
   },
   {
    "duration": 74,
    "start_time": "2023-07-25T20:05:22.747Z"
   },
   {
    "duration": 31,
    "start_time": "2023-07-25T20:05:36.858Z"
   },
   {
    "duration": 84,
    "start_time": "2023-07-25T20:07:35.954Z"
   },
   {
    "duration": 87,
    "start_time": "2023-07-25T20:07:56.606Z"
   },
   {
    "duration": 73,
    "start_time": "2023-07-25T20:08:27.248Z"
   },
   {
    "duration": 69,
    "start_time": "2023-07-25T20:08:41.054Z"
   },
   {
    "duration": 48,
    "start_time": "2023-07-26T10:47:04.202Z"
   },
   {
    "duration": 426,
    "start_time": "2023-07-26T10:47:20.649Z"
   },
   {
    "duration": 230,
    "start_time": "2023-07-26T10:47:21.077Z"
   },
   {
    "duration": 17,
    "start_time": "2023-07-26T10:47:21.309Z"
   },
   {
    "duration": 61,
    "start_time": "2023-07-26T10:47:21.328Z"
   },
   {
    "duration": 31,
    "start_time": "2023-07-26T10:47:21.391Z"
   },
   {
    "duration": 20,
    "start_time": "2023-07-26T10:47:21.424Z"
   },
   {
    "duration": 22,
    "start_time": "2023-07-26T10:47:21.446Z"
   },
   {
    "duration": 36,
    "start_time": "2023-07-26T10:47:21.470Z"
   },
   {
    "duration": 35,
    "start_time": "2023-07-26T10:47:21.508Z"
   },
   {
    "duration": 32,
    "start_time": "2023-07-26T10:47:21.546Z"
   },
   {
    "duration": 38,
    "start_time": "2023-07-26T10:47:21.580Z"
   },
   {
    "duration": 112,
    "start_time": "2023-07-26T10:47:21.619Z"
   },
   {
    "duration": 78,
    "start_time": "2023-07-26T10:47:21.733Z"
   },
   {
    "duration": 70,
    "start_time": "2023-07-26T10:47:21.813Z"
   },
   {
    "duration": 7,
    "start_time": "2023-07-26T10:47:21.885Z"
   },
   {
    "duration": 22,
    "start_time": "2023-07-26T10:47:21.894Z"
   },
   {
    "duration": 16,
    "start_time": "2023-07-26T10:47:21.917Z"
   },
   {
    "duration": 10,
    "start_time": "2023-07-26T10:47:21.934Z"
   },
   {
    "duration": 39,
    "start_time": "2023-07-26T10:47:21.945Z"
   },
   {
    "duration": 20,
    "start_time": "2023-07-26T10:47:21.985Z"
   },
   {
    "duration": 29,
    "start_time": "2023-07-26T10:47:22.006Z"
   },
   {
    "duration": 14,
    "start_time": "2023-07-26T10:47:22.036Z"
   },
   {
    "duration": 25,
    "start_time": "2023-07-26T10:47:22.052Z"
   },
   {
    "duration": 17,
    "start_time": "2023-07-26T10:47:22.078Z"
   },
   {
    "duration": 27,
    "start_time": "2023-07-26T10:47:22.097Z"
   },
   {
    "duration": 23,
    "start_time": "2023-07-26T10:47:22.126Z"
   },
   {
    "duration": 54,
    "start_time": "2023-07-26T10:47:22.151Z"
   },
   {
    "duration": 34,
    "start_time": "2023-07-26T10:47:22.209Z"
   },
   {
    "duration": 36,
    "start_time": "2023-07-26T10:47:22.245Z"
   },
   {
    "duration": 117,
    "start_time": "2023-07-26T10:47:22.283Z"
   },
   {
    "duration": 0,
    "start_time": "2023-07-26T10:47:22.402Z"
   },
   {
    "duration": 0,
    "start_time": "2023-07-26T10:47:22.403Z"
   },
   {
    "duration": 0,
    "start_time": "2023-07-26T10:47:22.405Z"
   },
   {
    "duration": 0,
    "start_time": "2023-07-26T10:47:22.406Z"
   },
   {
    "duration": 0,
    "start_time": "2023-07-26T10:47:22.407Z"
   },
   {
    "duration": 0,
    "start_time": "2023-07-26T10:47:22.409Z"
   },
   {
    "duration": 0,
    "start_time": "2023-07-26T10:47:22.410Z"
   },
   {
    "duration": 0,
    "start_time": "2023-07-26T10:47:22.411Z"
   },
   {
    "duration": 90,
    "start_time": "2023-07-26T10:48:36.379Z"
   },
   {
    "duration": 10,
    "start_time": "2023-07-26T10:48:51.091Z"
   },
   {
    "duration": 6,
    "start_time": "2023-07-26T10:49:30.183Z"
   },
   {
    "duration": 6,
    "start_time": "2023-07-26T10:49:36.033Z"
   },
   {
    "duration": 8,
    "start_time": "2023-07-26T10:58:37.511Z"
   },
   {
    "duration": 6,
    "start_time": "2023-07-26T10:59:32.575Z"
   },
   {
    "duration": 6,
    "start_time": "2023-07-26T10:59:35.224Z"
   },
   {
    "duration": 11,
    "start_time": "2023-07-26T10:59:42.187Z"
   },
   {
    "duration": 11,
    "start_time": "2023-07-26T11:01:19.548Z"
   },
   {
    "duration": 412,
    "start_time": "2023-07-27T10:30:42.189Z"
   },
   {
    "duration": 826,
    "start_time": "2023-07-27T10:30:42.603Z"
   },
   {
    "duration": 16,
    "start_time": "2023-07-27T10:30:43.431Z"
   },
   {
    "duration": 66,
    "start_time": "2023-07-27T10:30:43.449Z"
   },
   {
    "duration": 14,
    "start_time": "2023-07-27T10:30:43.518Z"
   },
   {
    "duration": 26,
    "start_time": "2023-07-27T10:30:43.534Z"
   },
   {
    "duration": 32,
    "start_time": "2023-07-27T10:30:43.562Z"
   },
   {
    "duration": 22,
    "start_time": "2023-07-27T10:30:43.596Z"
   },
   {
    "duration": 40,
    "start_time": "2023-07-27T10:30:43.620Z"
   },
   {
    "duration": 25,
    "start_time": "2023-07-27T10:30:43.662Z"
   },
   {
    "duration": 25,
    "start_time": "2023-07-27T10:30:43.688Z"
   },
   {
    "duration": 83,
    "start_time": "2023-07-27T10:30:43.715Z"
   },
   {
    "duration": 87,
    "start_time": "2023-07-27T10:30:43.800Z"
   },
   {
    "duration": 61,
    "start_time": "2023-07-27T10:30:43.891Z"
   },
   {
    "duration": 78,
    "start_time": "2023-07-27T10:30:43.954Z"
   },
   {
    "duration": 0,
    "start_time": "2023-07-27T10:30:44.034Z"
   },
   {
    "duration": 0,
    "start_time": "2023-07-27T10:30:44.035Z"
   },
   {
    "duration": 0,
    "start_time": "2023-07-27T10:30:44.036Z"
   },
   {
    "duration": 0,
    "start_time": "2023-07-27T10:30:44.037Z"
   },
   {
    "duration": 0,
    "start_time": "2023-07-27T10:30:44.038Z"
   },
   {
    "duration": 0,
    "start_time": "2023-07-27T10:30:44.039Z"
   },
   {
    "duration": 0,
    "start_time": "2023-07-27T10:30:44.040Z"
   },
   {
    "duration": 0,
    "start_time": "2023-07-27T10:30:44.041Z"
   },
   {
    "duration": 0,
    "start_time": "2023-07-27T10:30:44.042Z"
   },
   {
    "duration": 0,
    "start_time": "2023-07-27T10:30:44.043Z"
   },
   {
    "duration": 0,
    "start_time": "2023-07-27T10:30:44.044Z"
   },
   {
    "duration": 0,
    "start_time": "2023-07-27T10:30:44.046Z"
   },
   {
    "duration": 0,
    "start_time": "2023-07-27T10:30:44.075Z"
   },
   {
    "duration": 0,
    "start_time": "2023-07-27T10:30:44.076Z"
   },
   {
    "duration": 0,
    "start_time": "2023-07-27T10:30:44.078Z"
   },
   {
    "duration": 0,
    "start_time": "2023-07-27T10:30:44.079Z"
   },
   {
    "duration": 0,
    "start_time": "2023-07-27T10:30:44.080Z"
   },
   {
    "duration": 0,
    "start_time": "2023-07-27T10:30:44.081Z"
   },
   {
    "duration": 0,
    "start_time": "2023-07-27T10:30:44.083Z"
   },
   {
    "duration": 0,
    "start_time": "2023-07-27T10:30:44.084Z"
   },
   {
    "duration": 0,
    "start_time": "2023-07-27T10:30:44.085Z"
   },
   {
    "duration": 0,
    "start_time": "2023-07-27T10:30:44.086Z"
   },
   {
    "duration": 0,
    "start_time": "2023-07-27T10:30:44.088Z"
   },
   {
    "duration": 8,
    "start_time": "2023-07-27T10:31:02.468Z"
   },
   {
    "duration": 8,
    "start_time": "2023-07-27T10:31:51.698Z"
   },
   {
    "duration": 6,
    "start_time": "2023-07-27T10:32:02.960Z"
   },
   {
    "duration": 6,
    "start_time": "2023-07-27T10:32:05.142Z"
   },
   {
    "duration": 9,
    "start_time": "2023-07-27T10:32:11.096Z"
   },
   {
    "duration": 8,
    "start_time": "2023-07-27T10:34:00.286Z"
   },
   {
    "duration": 7,
    "start_time": "2023-07-27T10:34:02.292Z"
   },
   {
    "duration": 9,
    "start_time": "2023-07-27T10:34:30.207Z"
   },
   {
    "duration": 10,
    "start_time": "2023-07-27T10:34:32.142Z"
   },
   {
    "duration": 10,
    "start_time": "2023-07-27T10:36:20.569Z"
   },
   {
    "duration": 9,
    "start_time": "2023-07-27T10:36:33.086Z"
   },
   {
    "duration": 7,
    "start_time": "2023-07-27T10:36:43.760Z"
   },
   {
    "duration": 6,
    "start_time": "2023-07-27T10:36:46.312Z"
   },
   {
    "duration": 7,
    "start_time": "2023-07-27T10:36:48.650Z"
   },
   {
    "duration": 8,
    "start_time": "2023-07-27T10:36:57.186Z"
   },
   {
    "duration": 11,
    "start_time": "2023-07-27T10:37:33.288Z"
   },
   {
    "duration": 80,
    "start_time": "2023-07-27T10:39:35.743Z"
   },
   {
    "duration": 59,
    "start_time": "2023-07-27T10:40:19.480Z"
   },
   {
    "duration": 50,
    "start_time": "2023-07-27T10:41:42.891Z"
   },
   {
    "duration": 10,
    "start_time": "2023-07-27T10:47:37.055Z"
   },
   {
    "duration": 49,
    "start_time": "2023-07-27T10:48:28.501Z"
   },
   {
    "duration": 47,
    "start_time": "2023-07-27T10:48:32.592Z"
   },
   {
    "duration": 47,
    "start_time": "2023-07-27T10:48:48.211Z"
   },
   {
    "duration": 39,
    "start_time": "2023-07-27T16:51:48.957Z"
   },
   {
    "duration": 41,
    "start_time": "2023-07-27T16:52:47.673Z"
   },
   {
    "duration": 144,
    "start_time": "2023-07-27T17:10:18.720Z"
   },
   {
    "duration": 3,
    "start_time": "2023-07-27T17:10:32.169Z"
   },
   {
    "duration": 3,
    "start_time": "2023-07-27T17:10:37.348Z"
   },
   {
    "duration": 21,
    "start_time": "2023-07-27T17:11:44.113Z"
   },
   {
    "duration": 4,
    "start_time": "2023-07-27T17:12:16.267Z"
   },
   {
    "duration": 25,
    "start_time": "2023-07-27T17:12:18.972Z"
   },
   {
    "duration": 14,
    "start_time": "2023-07-27T17:13:53.204Z"
   },
   {
    "duration": 24,
    "start_time": "2023-07-27T17:13:54.670Z"
   },
   {
    "duration": 14,
    "start_time": "2023-07-27T17:13:55.706Z"
   },
   {
    "duration": 21,
    "start_time": "2023-07-27T17:13:56.766Z"
   },
   {
    "duration": 15,
    "start_time": "2023-07-27T17:13:57.647Z"
   },
   {
    "duration": 16,
    "start_time": "2023-07-27T17:13:58.493Z"
   },
   {
    "duration": 57,
    "start_time": "2023-07-27T19:22:53.390Z"
   },
   {
    "duration": 479,
    "start_time": "2023-07-27T19:23:21.590Z"
   },
   {
    "duration": 1810,
    "start_time": "2023-07-27T19:23:22.072Z"
   },
   {
    "duration": 27,
    "start_time": "2023-07-27T19:23:23.884Z"
   },
   {
    "duration": 32,
    "start_time": "2023-07-27T19:23:23.913Z"
   },
   {
    "duration": 2,
    "start_time": "2023-07-27T19:23:23.947Z"
   },
   {
    "duration": 44,
    "start_time": "2023-07-27T19:23:23.950Z"
   },
   {
    "duration": 17,
    "start_time": "2023-07-27T19:23:23.996Z"
   },
   {
    "duration": 12,
    "start_time": "2023-07-27T19:23:24.015Z"
   },
   {
    "duration": 26,
    "start_time": "2023-07-27T19:23:24.028Z"
   },
   {
    "duration": 50,
    "start_time": "2023-07-27T19:23:24.061Z"
   },
   {
    "duration": 25,
    "start_time": "2023-07-27T19:23:24.113Z"
   },
   {
    "duration": 111,
    "start_time": "2023-07-27T19:23:24.140Z"
   },
   {
    "duration": 115,
    "start_time": "2023-07-27T19:23:24.253Z"
   },
   {
    "duration": 91,
    "start_time": "2023-07-27T19:23:24.371Z"
   },
   {
    "duration": 71,
    "start_time": "2023-07-27T19:23:24.464Z"
   },
   {
    "duration": 31,
    "start_time": "2023-07-27T19:23:24.537Z"
   },
   {
    "duration": 67,
    "start_time": "2023-07-27T19:23:24.570Z"
   },
   {
    "duration": 56,
    "start_time": "2023-07-27T19:23:24.638Z"
   },
   {
    "duration": 38,
    "start_time": "2023-07-27T19:23:24.697Z"
   },
   {
    "duration": 4,
    "start_time": "2023-07-27T19:23:24.737Z"
   },
   {
    "duration": 27,
    "start_time": "2023-07-27T19:23:24.742Z"
   },
   {
    "duration": 34,
    "start_time": "2023-07-27T19:23:24.771Z"
   },
   {
    "duration": 15,
    "start_time": "2023-07-27T19:23:24.812Z"
   },
   {
    "duration": 14,
    "start_time": "2023-07-27T19:23:24.829Z"
   },
   {
    "duration": 48,
    "start_time": "2023-07-27T19:23:24.844Z"
   },
   {
    "duration": 29,
    "start_time": "2023-07-27T19:23:24.898Z"
   },
   {
    "duration": 8,
    "start_time": "2023-07-27T19:23:24.929Z"
   },
   {
    "duration": 2,
    "start_time": "2023-07-27T19:23:24.940Z"
   },
   {
    "duration": 4,
    "start_time": "2023-07-27T19:23:24.944Z"
   },
   {
    "duration": 157,
    "start_time": "2023-07-27T19:23:24.949Z"
   },
   {
    "duration": 0,
    "start_time": "2023-07-27T19:23:25.108Z"
   },
   {
    "duration": 0,
    "start_time": "2023-07-27T19:23:25.110Z"
   },
   {
    "duration": 0,
    "start_time": "2023-07-27T19:23:25.111Z"
   },
   {
    "duration": 0,
    "start_time": "2023-07-27T19:23:25.113Z"
   },
   {
    "duration": 0,
    "start_time": "2023-07-27T19:23:25.114Z"
   },
   {
    "duration": 0,
    "start_time": "2023-07-27T19:23:25.115Z"
   },
   {
    "duration": 0,
    "start_time": "2023-07-27T19:23:25.116Z"
   },
   {
    "duration": 0,
    "start_time": "2023-07-27T19:23:25.117Z"
   },
   {
    "duration": 3,
    "start_time": "2023-07-27T19:25:16.910Z"
   },
   {
    "duration": 24,
    "start_time": "2023-07-27T19:25:20.396Z"
   },
   {
    "duration": 21,
    "start_time": "2023-07-27T19:25:21.342Z"
   },
   {
    "duration": 19,
    "start_time": "2023-07-27T19:25:22.146Z"
   },
   {
    "duration": 17,
    "start_time": "2023-07-27T19:25:22.898Z"
   },
   {
    "duration": 21,
    "start_time": "2023-07-27T19:25:23.606Z"
   },
   {
    "duration": 16,
    "start_time": "2023-07-27T19:25:59.298Z"
   },
   {
    "duration": 3810,
    "start_time": "2023-07-27T19:31:14.677Z"
   },
   {
    "duration": 21,
    "start_time": "2023-07-27T19:33:05.306Z"
   },
   {
    "duration": 27,
    "start_time": "2023-07-27T19:34:04.401Z"
   },
   {
    "duration": 7,
    "start_time": "2023-07-27T19:41:56.968Z"
   },
   {
    "duration": 72,
    "start_time": "2023-07-27T19:42:56.579Z"
   },
   {
    "duration": 71,
    "start_time": "2023-07-27T19:43:40.218Z"
   },
   {
    "duration": 8,
    "start_time": "2023-07-27T19:43:48.643Z"
   },
   {
    "duration": 102,
    "start_time": "2023-07-27T19:43:52.343Z"
   },
   {
    "duration": 68,
    "start_time": "2023-07-27T19:44:58.675Z"
   },
   {
    "duration": 123,
    "start_time": "2023-07-27T19:45:00.304Z"
   },
   {
    "duration": 65,
    "start_time": "2023-07-27T19:45:02.773Z"
   },
   {
    "duration": 5,
    "start_time": "2023-07-27T19:46:40.204Z"
   },
   {
    "duration": 68,
    "start_time": "2023-07-27T19:46:42.278Z"
   },
   {
    "duration": 55,
    "start_time": "2023-07-27T19:46:49.467Z"
   },
   {
    "duration": 99,
    "start_time": "2023-07-27T19:46:56.178Z"
   },
   {
    "duration": 67,
    "start_time": "2023-07-27T19:46:57.744Z"
   },
   {
    "duration": 11,
    "start_time": "2023-07-27T19:53:39.964Z"
   },
   {
    "duration": 76,
    "start_time": "2023-07-27T19:53:41.970Z"
   },
   {
    "duration": 7,
    "start_time": "2023-07-27T19:55:24.101Z"
   },
   {
    "duration": 76,
    "start_time": "2023-07-27T19:55:28.276Z"
   },
   {
    "duration": 36,
    "start_time": "2023-07-27T19:55:38.950Z"
   },
   {
    "duration": 62,
    "start_time": "2023-07-27T19:55:46.875Z"
   },
   {
    "duration": 49,
    "start_time": "2023-07-27T19:55:48.768Z"
   },
   {
    "duration": 17,
    "start_time": "2023-07-27T19:57:41.085Z"
   },
   {
    "duration": 12,
    "start_time": "2023-07-27T19:58:51.345Z"
   },
   {
    "duration": 9,
    "start_time": "2023-07-27T19:59:13.182Z"
   },
   {
    "duration": 12,
    "start_time": "2023-07-27T20:01:01.611Z"
   },
   {
    "duration": 9,
    "start_time": "2023-07-27T20:01:03.511Z"
   },
   {
    "duration": 14,
    "start_time": "2023-07-27T20:02:02.301Z"
   },
   {
    "duration": 18,
    "start_time": "2023-07-27T20:02:25.201Z"
   },
   {
    "duration": 10,
    "start_time": "2023-07-27T20:09:36.529Z"
   },
   {
    "duration": 23,
    "start_time": "2023-07-27T20:09:45.646Z"
   },
   {
    "duration": 32,
    "start_time": "2023-07-27T20:10:52.939Z"
   },
   {
    "duration": 21,
    "start_time": "2023-07-27T20:17:55.928Z"
   },
   {
    "duration": 42,
    "start_time": "2023-07-27T20:17:58.673Z"
   },
   {
    "duration": 61,
    "start_time": "2023-07-27T20:19:34.749Z"
   },
   {
    "duration": 37,
    "start_time": "2023-07-27T20:19:50.150Z"
   },
   {
    "duration": 23,
    "start_time": "2023-07-27T20:19:50.780Z"
   },
   {
    "duration": 23,
    "start_time": "2023-07-27T20:20:18.903Z"
   },
   {
    "duration": 25,
    "start_time": "2023-07-27T20:20:21.046Z"
   },
   {
    "duration": 14,
    "start_time": "2023-07-27T20:20:54.600Z"
   },
   {
    "duration": 472,
    "start_time": "2023-07-27T20:21:42.709Z"
   },
   {
    "duration": 265,
    "start_time": "2023-07-27T20:21:43.184Z"
   },
   {
    "duration": 45,
    "start_time": "2023-07-27T20:21:43.451Z"
   },
   {
    "duration": 45,
    "start_time": "2023-07-27T20:21:43.502Z"
   },
   {
    "duration": 16,
    "start_time": "2023-07-27T20:21:43.551Z"
   },
   {
    "duration": 10,
    "start_time": "2023-07-27T20:21:43.584Z"
   },
   {
    "duration": 25,
    "start_time": "2023-07-27T20:21:43.596Z"
   },
   {
    "duration": 12,
    "start_time": "2023-07-27T20:21:43.625Z"
   },
   {
    "duration": 61,
    "start_time": "2023-07-27T20:21:43.639Z"
   },
   {
    "duration": 37,
    "start_time": "2023-07-27T20:21:43.707Z"
   },
   {
    "duration": 61,
    "start_time": "2023-07-27T20:21:43.748Z"
   },
   {
    "duration": 140,
    "start_time": "2023-07-27T20:21:43.818Z"
   },
   {
    "duration": 139,
    "start_time": "2023-07-27T20:21:43.961Z"
   },
   {
    "duration": 110,
    "start_time": "2023-07-27T20:21:44.105Z"
   },
   {
    "duration": 71,
    "start_time": "2023-07-27T20:21:44.217Z"
   },
   {
    "duration": 20,
    "start_time": "2023-07-27T20:21:44.290Z"
   },
   {
    "duration": 84,
    "start_time": "2023-07-27T20:21:44.317Z"
   },
   {
    "duration": 23,
    "start_time": "2023-07-27T20:21:44.406Z"
   },
   {
    "duration": 28,
    "start_time": "2023-07-27T20:21:44.435Z"
   },
   {
    "duration": 18,
    "start_time": "2023-07-27T20:21:44.482Z"
   },
   {
    "duration": 34,
    "start_time": "2023-07-27T20:21:44.503Z"
   },
   {
    "duration": 40,
    "start_time": "2023-07-27T20:21:44.539Z"
   },
   {
    "duration": 39,
    "start_time": "2023-07-27T20:21:44.590Z"
   },
   {
    "duration": 14,
    "start_time": "2023-07-27T20:21:44.631Z"
   },
   {
    "duration": 30,
    "start_time": "2023-07-27T20:21:44.647Z"
   },
   {
    "duration": 20,
    "start_time": "2023-07-27T20:21:44.680Z"
   },
   {
    "duration": 12,
    "start_time": "2023-07-27T20:21:44.702Z"
   },
   {
    "duration": 64,
    "start_time": "2023-07-27T20:21:44.717Z"
   },
   {
    "duration": 16,
    "start_time": "2023-07-27T20:21:44.784Z"
   },
   {
    "duration": 7,
    "start_time": "2023-07-27T20:21:44.804Z"
   },
   {
    "duration": 82,
    "start_time": "2023-07-27T20:21:44.813Z"
   },
   {
    "duration": 30,
    "start_time": "2023-07-27T20:21:44.900Z"
   },
   {
    "duration": 54,
    "start_time": "2023-07-27T20:21:44.931Z"
   },
   {
    "duration": 52,
    "start_time": "2023-07-27T20:21:44.993Z"
   },
   {
    "duration": 32,
    "start_time": "2023-07-27T20:21:45.047Z"
   },
   {
    "duration": 9,
    "start_time": "2023-07-27T20:21:45.093Z"
   },
   {
    "duration": 38,
    "start_time": "2023-07-27T20:21:45.104Z"
   },
   {
    "duration": 7,
    "start_time": "2023-07-27T20:21:45.146Z"
   },
   {
    "duration": 19,
    "start_time": "2023-07-27T20:22:41.852Z"
   },
   {
    "duration": 4,
    "start_time": "2023-07-27T20:30:39.293Z"
   },
   {
    "duration": 626,
    "start_time": "2023-07-27T20:32:07.161Z"
   },
   {
    "duration": 332,
    "start_time": "2023-07-27T20:32:07.791Z"
   },
   {
    "duration": 45,
    "start_time": "2023-07-27T20:32:08.127Z"
   },
   {
    "duration": 50,
    "start_time": "2023-07-27T20:32:08.174Z"
   },
   {
    "duration": 5,
    "start_time": "2023-07-27T20:32:08.228Z"
   },
   {
    "duration": 8,
    "start_time": "2023-07-27T20:32:08.236Z"
   },
   {
    "duration": 36,
    "start_time": "2023-07-27T20:32:08.247Z"
   },
   {
    "duration": 24,
    "start_time": "2023-07-27T20:32:08.286Z"
   },
   {
    "duration": 51,
    "start_time": "2023-07-27T20:32:08.316Z"
   },
   {
    "duration": 62,
    "start_time": "2023-07-27T20:32:08.380Z"
   },
   {
    "duration": 75,
    "start_time": "2023-07-27T20:32:08.446Z"
   },
   {
    "duration": 154,
    "start_time": "2023-07-27T20:32:08.525Z"
   },
   {
    "duration": 137,
    "start_time": "2023-07-27T20:32:08.684Z"
   },
   {
    "duration": 130,
    "start_time": "2023-07-27T20:32:08.832Z"
   },
   {
    "duration": 109,
    "start_time": "2023-07-27T20:32:08.972Z"
   },
   {
    "duration": 24,
    "start_time": "2023-07-27T20:32:09.091Z"
   },
   {
    "duration": 127,
    "start_time": "2023-07-27T20:32:09.126Z"
   },
   {
    "duration": 34,
    "start_time": "2023-07-27T20:32:09.255Z"
   },
   {
    "duration": 29,
    "start_time": "2023-07-27T20:32:09.292Z"
   },
   {
    "duration": 14,
    "start_time": "2023-07-27T20:32:09.328Z"
   },
   {
    "duration": 52,
    "start_time": "2023-07-27T20:32:09.344Z"
   },
   {
    "duration": 32,
    "start_time": "2023-07-27T20:32:09.402Z"
   },
   {
    "duration": 42,
    "start_time": "2023-07-27T20:32:09.439Z"
   },
   {
    "duration": 29,
    "start_time": "2023-07-27T20:32:09.482Z"
   },
   {
    "duration": 31,
    "start_time": "2023-07-27T20:32:09.517Z"
   },
   {
    "duration": 30,
    "start_time": "2023-07-27T20:32:09.551Z"
   },
   {
    "duration": 13,
    "start_time": "2023-07-27T20:32:09.586Z"
   },
   {
    "duration": 30,
    "start_time": "2023-07-27T20:32:09.601Z"
   },
   {
    "duration": 21,
    "start_time": "2023-07-27T20:32:09.641Z"
   },
   {
    "duration": 15,
    "start_time": "2023-07-27T20:32:09.664Z"
   },
   {
    "duration": 62,
    "start_time": "2023-07-27T20:32:09.683Z"
   },
   {
    "duration": 33,
    "start_time": "2023-07-27T20:32:09.748Z"
   },
   {
    "duration": 62,
    "start_time": "2023-07-27T20:32:09.783Z"
   },
   {
    "duration": 32,
    "start_time": "2023-07-27T20:32:09.847Z"
   },
   {
    "duration": 13,
    "start_time": "2023-07-27T20:32:09.881Z"
   },
   {
    "duration": 6,
    "start_time": "2023-07-27T20:32:09.901Z"
   },
   {
    "duration": 25,
    "start_time": "2023-07-27T20:32:09.909Z"
   },
   {
    "duration": 12,
    "start_time": "2023-07-27T20:32:09.937Z"
   },
   {
    "duration": 5,
    "start_time": "2023-07-27T20:48:13.639Z"
   },
   {
    "duration": 43,
    "start_time": "2023-07-27T20:49:00.652Z"
   },
   {
    "duration": 24,
    "start_time": "2023-07-27T20:49:02.144Z"
   },
   {
    "duration": 33,
    "start_time": "2023-07-27T20:49:02.907Z"
   },
   {
    "duration": 27,
    "start_time": "2023-07-27T20:49:03.391Z"
   },
   {
    "duration": 24,
    "start_time": "2023-07-27T20:49:06.095Z"
   },
   {
    "duration": 10,
    "start_time": "2023-07-27T20:49:07.306Z"
   },
   {
    "duration": 12,
    "start_time": "2023-07-27T20:49:08.099Z"
   },
   {
    "duration": 13,
    "start_time": "2023-07-27T20:49:09.265Z"
   },
   {
    "duration": 453,
    "start_time": "2023-07-27T20:49:50.644Z"
   },
   {
    "duration": 250,
    "start_time": "2023-07-27T20:49:51.101Z"
   },
   {
    "duration": 24,
    "start_time": "2023-07-27T20:49:51.353Z"
   },
   {
    "duration": 46,
    "start_time": "2023-07-27T20:49:51.378Z"
   },
   {
    "duration": 5,
    "start_time": "2023-07-27T20:49:51.427Z"
   },
   {
    "duration": 31,
    "start_time": "2023-07-27T20:49:51.434Z"
   },
   {
    "duration": 27,
    "start_time": "2023-07-27T20:49:51.467Z"
   },
   {
    "duration": 5,
    "start_time": "2023-07-27T20:49:51.501Z"
   },
   {
    "duration": 64,
    "start_time": "2023-07-27T20:49:51.508Z"
   },
   {
    "duration": 40,
    "start_time": "2023-07-27T20:49:51.575Z"
   },
   {
    "duration": 27,
    "start_time": "2023-07-27T20:49:51.616Z"
   },
   {
    "duration": 129,
    "start_time": "2023-07-27T20:49:51.645Z"
   },
   {
    "duration": 105,
    "start_time": "2023-07-27T20:49:51.783Z"
   },
   {
    "duration": 98,
    "start_time": "2023-07-27T20:49:51.894Z"
   },
   {
    "duration": 75,
    "start_time": "2023-07-27T20:49:51.994Z"
   },
   {
    "duration": 20,
    "start_time": "2023-07-27T20:49:52.074Z"
   },
   {
    "duration": 82,
    "start_time": "2023-07-27T20:49:52.099Z"
   },
   {
    "duration": 17,
    "start_time": "2023-07-27T20:49:52.183Z"
   },
   {
    "duration": 35,
    "start_time": "2023-07-27T20:49:52.203Z"
   },
   {
    "duration": 6,
    "start_time": "2023-07-27T20:49:52.240Z"
   },
   {
    "duration": 42,
    "start_time": "2023-07-27T20:49:52.248Z"
   },
   {
    "duration": 30,
    "start_time": "2023-07-27T20:49:52.293Z"
   },
   {
    "duration": 25,
    "start_time": "2023-07-27T20:49:52.329Z"
   },
   {
    "duration": 33,
    "start_time": "2023-07-27T20:49:52.356Z"
   },
   {
    "duration": 24,
    "start_time": "2023-07-27T20:49:52.393Z"
   },
   {
    "duration": 19,
    "start_time": "2023-07-27T20:49:52.423Z"
   },
   {
    "duration": 54,
    "start_time": "2023-07-27T20:49:52.443Z"
   },
   {
    "duration": 28,
    "start_time": "2023-07-27T20:49:52.501Z"
   },
   {
    "duration": 20,
    "start_time": "2023-07-27T20:49:52.531Z"
   },
   {
    "duration": 47,
    "start_time": "2023-07-27T20:49:52.552Z"
   },
   {
    "duration": 58,
    "start_time": "2023-07-27T20:49:52.601Z"
   },
   {
    "duration": 20,
    "start_time": "2023-07-27T20:49:52.661Z"
   },
   {
    "duration": 35,
    "start_time": "2023-07-27T20:49:52.683Z"
   },
   {
    "duration": 23,
    "start_time": "2023-07-27T20:49:52.720Z"
   },
   {
    "duration": 20,
    "start_time": "2023-07-27T20:49:52.746Z"
   },
   {
    "duration": 11,
    "start_time": "2023-07-27T20:49:52.771Z"
   },
   {
    "duration": 14,
    "start_time": "2023-07-27T20:49:52.789Z"
   },
   {
    "duration": 13,
    "start_time": "2023-07-27T20:49:52.811Z"
   },
   {
    "duration": 6,
    "start_time": "2023-07-27T20:52:57.739Z"
   },
   {
    "duration": 6,
    "start_time": "2023-07-27T20:52:59.852Z"
   },
   {
    "duration": 5,
    "start_time": "2023-07-27T20:57:38.030Z"
   },
   {
    "duration": 23,
    "start_time": "2023-07-27T20:58:15.010Z"
   },
   {
    "duration": 10,
    "start_time": "2023-07-27T20:59:43.392Z"
   },
   {
    "duration": 477,
    "start_time": "2023-07-27T20:59:50.198Z"
   },
   {
    "duration": 250,
    "start_time": "2023-07-27T20:59:50.681Z"
   },
   {
    "duration": 19,
    "start_time": "2023-07-27T20:59:50.936Z"
   },
   {
    "duration": 67,
    "start_time": "2023-07-27T20:59:50.967Z"
   },
   {
    "duration": 65,
    "start_time": "2023-07-27T20:59:51.037Z"
   },
   {
    "duration": 78,
    "start_time": "2023-07-27T20:59:51.105Z"
   },
   {
    "duration": 38,
    "start_time": "2023-07-27T20:59:51.184Z"
   },
   {
    "duration": 5,
    "start_time": "2023-07-27T20:59:51.237Z"
   },
   {
    "duration": 45,
    "start_time": "2023-07-27T20:59:51.245Z"
   },
   {
    "duration": 48,
    "start_time": "2023-07-27T20:59:51.296Z"
   },
   {
    "duration": 66,
    "start_time": "2023-07-27T20:59:51.346Z"
   },
   {
    "duration": 89,
    "start_time": "2023-07-27T20:59:51.414Z"
   },
   {
    "duration": 116,
    "start_time": "2023-07-27T20:59:51.507Z"
   },
   {
    "duration": 102,
    "start_time": "2023-07-27T20:59:51.634Z"
   },
   {
    "duration": 94,
    "start_time": "2023-07-27T20:59:51.738Z"
   },
   {
    "duration": 12,
    "start_time": "2023-07-27T20:59:51.834Z"
   },
   {
    "duration": 82,
    "start_time": "2023-07-27T20:59:51.848Z"
   },
   {
    "duration": 13,
    "start_time": "2023-07-27T20:59:51.932Z"
   },
   {
    "duration": 27,
    "start_time": "2023-07-27T20:59:51.946Z"
   },
   {
    "duration": 4,
    "start_time": "2023-07-27T20:59:51.975Z"
   },
   {
    "duration": 46,
    "start_time": "2023-07-27T20:59:51.981Z"
   },
   {
    "duration": 18,
    "start_time": "2023-07-27T20:59:52.029Z"
   },
   {
    "duration": 77,
    "start_time": "2023-07-27T20:59:52.049Z"
   },
   {
    "duration": 19,
    "start_time": "2023-07-27T20:59:52.130Z"
   },
   {
    "duration": 46,
    "start_time": "2023-07-27T20:59:52.151Z"
   },
   {
    "duration": 40,
    "start_time": "2023-07-27T20:59:52.200Z"
   },
   {
    "duration": 10,
    "start_time": "2023-07-27T20:59:52.243Z"
   },
   {
    "duration": 55,
    "start_time": "2023-07-27T20:59:52.255Z"
   },
   {
    "duration": 14,
    "start_time": "2023-07-27T20:59:52.318Z"
   },
   {
    "duration": 32,
    "start_time": "2023-07-27T20:59:52.335Z"
   },
   {
    "duration": 62,
    "start_time": "2023-07-27T20:59:52.369Z"
   },
   {
    "duration": 16,
    "start_time": "2023-07-27T20:59:52.433Z"
   },
   {
    "duration": 50,
    "start_time": "2023-07-27T20:59:52.450Z"
   },
   {
    "duration": 17,
    "start_time": "2023-07-27T20:59:52.501Z"
   },
   {
    "duration": 47,
    "start_time": "2023-07-27T20:59:52.520Z"
   },
   {
    "duration": 54,
    "start_time": "2023-07-27T20:59:52.569Z"
   },
   {
    "duration": 11,
    "start_time": "2023-07-27T20:59:52.628Z"
   },
   {
    "duration": 13,
    "start_time": "2023-07-27T20:59:52.641Z"
   },
   {
    "duration": 6,
    "start_time": "2023-07-27T21:00:15.438Z"
   },
   {
    "duration": 42,
    "start_time": "2023-07-27T21:01:34.380Z"
   },
   {
    "duration": 384,
    "start_time": "2023-07-28T07:30:01.919Z"
   },
   {
    "duration": 500,
    "start_time": "2023-07-28T07:30:02.305Z"
   },
   {
    "duration": 16,
    "start_time": "2023-07-28T07:30:02.806Z"
   },
   {
    "duration": 40,
    "start_time": "2023-07-28T07:30:02.824Z"
   },
   {
    "duration": 20,
    "start_time": "2023-07-28T07:30:02.867Z"
   },
   {
    "duration": 63,
    "start_time": "2023-07-28T07:30:02.889Z"
   },
   {
    "duration": 35,
    "start_time": "2023-07-28T07:30:02.954Z"
   },
   {
    "duration": 66,
    "start_time": "2023-07-28T07:30:02.991Z"
   },
   {
    "duration": 60,
    "start_time": "2023-07-28T07:30:03.058Z"
   },
   {
    "duration": 44,
    "start_time": "2023-07-28T07:30:03.119Z"
   },
   {
    "duration": 63,
    "start_time": "2023-07-28T07:30:03.165Z"
   },
   {
    "duration": 120,
    "start_time": "2023-07-28T07:30:03.230Z"
   },
   {
    "duration": 71,
    "start_time": "2023-07-28T07:30:03.352Z"
   },
   {
    "duration": 64,
    "start_time": "2023-07-28T07:30:03.426Z"
   },
   {
    "duration": 49,
    "start_time": "2023-07-28T07:30:03.492Z"
   },
   {
    "duration": 11,
    "start_time": "2023-07-28T07:30:03.542Z"
   },
   {
    "duration": 78,
    "start_time": "2023-07-28T07:30:03.554Z"
   },
   {
    "duration": 11,
    "start_time": "2023-07-28T07:30:03.633Z"
   },
   {
    "duration": 13,
    "start_time": "2023-07-28T07:30:03.646Z"
   },
   {
    "duration": 26,
    "start_time": "2023-07-28T07:30:03.660Z"
   },
   {
    "duration": 61,
    "start_time": "2023-07-28T07:30:03.688Z"
   },
   {
    "duration": 17,
    "start_time": "2023-07-28T07:30:03.751Z"
   },
   {
    "duration": 22,
    "start_time": "2023-07-28T07:30:03.770Z"
   },
   {
    "duration": 14,
    "start_time": "2023-07-28T07:30:03.794Z"
   },
   {
    "duration": 18,
    "start_time": "2023-07-28T07:30:03.809Z"
   },
   {
    "duration": 40,
    "start_time": "2023-07-28T07:30:03.829Z"
   },
   {
    "duration": 33,
    "start_time": "2023-07-28T07:30:03.872Z"
   },
   {
    "duration": 15,
    "start_time": "2023-07-28T07:30:03.907Z"
   },
   {
    "duration": 9,
    "start_time": "2023-07-28T07:30:03.924Z"
   },
   {
    "duration": 5,
    "start_time": "2023-07-28T07:30:03.934Z"
   },
   {
    "duration": 29,
    "start_time": "2023-07-28T07:30:03.940Z"
   },
   {
    "duration": 19,
    "start_time": "2023-07-28T07:30:03.970Z"
   },
   {
    "duration": 31,
    "start_time": "2023-07-28T07:30:03.990Z"
   },
   {
    "duration": 13,
    "start_time": "2023-07-28T07:30:04.029Z"
   },
   {
    "duration": 36,
    "start_time": "2023-07-28T07:30:04.043Z"
   },
   {
    "duration": 27,
    "start_time": "2023-07-28T07:30:04.081Z"
   },
   {
    "duration": 32,
    "start_time": "2023-07-28T07:30:04.110Z"
   },
   {
    "duration": 17,
    "start_time": "2023-07-28T07:30:04.143Z"
   },
   {
    "duration": 5,
    "start_time": "2023-07-28T07:54:42.940Z"
   },
   {
    "duration": 16,
    "start_time": "2023-07-28T07:54:51.952Z"
   },
   {
    "duration": 23,
    "start_time": "2023-07-28T07:59:21.464Z"
   },
   {
    "duration": 20,
    "start_time": "2023-07-28T08:10:22.290Z"
   },
   {
    "duration": 16,
    "start_time": "2023-07-28T08:11:53.353Z"
   },
   {
    "duration": 16,
    "start_time": "2023-07-28T08:11:54.085Z"
   },
   {
    "duration": 18,
    "start_time": "2023-07-28T08:11:54.804Z"
   },
   {
    "duration": 14,
    "start_time": "2023-07-28T08:11:55.695Z"
   }
  ],
  "colab": {
   "collapsed_sections": [
    "E0vqbgi9ay0H",
    "VUC88oWjTJw2"
   ],
   "provenance": []
  },
  "kernelspec": {
   "display_name": "Python 3",
   "language": "python",
   "name": "python3"
  },
  "language_info": {
   "codemirror_mode": {
    "name": "ipython",
    "version": 3
   },
   "file_extension": ".py",
   "mimetype": "text/x-python",
   "name": "python",
   "nbconvert_exporter": "python",
   "pygments_lexer": "ipython3",
   "version": "3.9.5"
  },
  "toc": {
   "base_numbering": 1,
   "nav_menu": {
    "height": "215px",
    "width": "403px"
   },
   "number_sections": true,
   "sideBar": true,
   "skip_h1_title": true,
   "title_cell": "Table of Contents",
   "title_sidebar": "Contents",
   "toc_cell": false,
   "toc_position": {
    "height": "calc(100% - 180px)",
    "left": "10px",
    "top": "150px",
    "width": "285.825px"
   },
   "toc_section_display": true,
   "toc_window_display": false
  }
 },
 "nbformat": 4,
 "nbformat_minor": 1
}
