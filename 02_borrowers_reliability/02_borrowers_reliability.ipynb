{
 "cells": [
  {
   "cell_type": "markdown",
   "id": "42b8ab34",
   "metadata": {
    "deletable": false,
    "editable": false,
    "id": "c81daeeb"
   },
   "source": [
    "# Исследование надежности заемщиков\n"
   ]
  },
  {
   "cell_type": "markdown",
   "id": "358db2e3",
   "metadata": {
    "deletable": false,
    "editable": false,
    "id": "827c20bf"
   },
   "source": [
    "Во второй части проекта вы выполните шаги 3 и 4. Их вручную проверит ревьюер.\n",
    "Чтобы вам не пришлось писать код заново для шагов 1 и 2, мы добавили авторские решения в ячейки с кодом. \n",
    "\n"
   ]
  },
  {
   "cell_type": "markdown",
   "id": "385e0575",
   "metadata": {
    "deletable": false,
    "editable": false,
    "id": "744d7639"
   },
   "source": [
    "## Откройте таблицу и изучите общую информацию о данных"
   ]
  },
  {
   "cell_type": "markdown",
   "id": "14891c37",
   "metadata": {
    "deletable": false,
    "editable": false,
    "id": "e7a14c31"
   },
   "source": [
    "**Задание 1. Импортируйте библиотеку pandas. Считайте данные из csv-файла в датафрейм и сохраните в переменную `data`. "
   ]
  },
  {
   "cell_type": "code",
   "execution_count": 1,
   "id": "3f36aa1e",
   "metadata": {
    "deletable": false,
    "id": "7bcf75c9"
   },
   "outputs": [],
   "source": [
    "import pandas as pd\n",
    "import matplotlib.pyplot as plt"
   ]
  },
  {
   "cell_type": "code",
   "execution_count": 2,
   "id": "0ce5cce6",
   "metadata": {},
   "outputs": [],
   "source": [
    "data = pd.read_csv('data.csv')"
   ]
  },
  {
   "cell_type": "markdown",
   "id": "796b7ac8",
   "metadata": {
    "deletable": false,
    "editable": false,
    "id": "b8038fe3"
   },
   "source": [
    "**Задание 2. Выведите первые 20 строчек датафрейма на экран.**"
   ]
  },
  {
   "cell_type": "code",
   "execution_count": 3,
   "id": "27f6d226",
   "metadata": {
    "deletable": false,
    "id": "2a7cab99",
    "outputId": "1a8f3ef2-d323-4ec2-ddf7-89670b5944c4"
   },
   "outputs": [
    {
     "data": {
      "text/html": [
       "<div>\n",
       "<style scoped>\n",
       "    .dataframe tbody tr th:only-of-type {\n",
       "        vertical-align: middle;\n",
       "    }\n",
       "\n",
       "    .dataframe tbody tr th {\n",
       "        vertical-align: top;\n",
       "    }\n",
       "\n",
       "    .dataframe thead th {\n",
       "        text-align: right;\n",
       "    }\n",
       "</style>\n",
       "<table border=\"1\" class=\"dataframe\">\n",
       "  <thead>\n",
       "    <tr style=\"text-align: right;\">\n",
       "      <th></th>\n",
       "      <th>children</th>\n",
       "      <th>days_employed</th>\n",
       "      <th>dob_years</th>\n",
       "      <th>education</th>\n",
       "      <th>education_id</th>\n",
       "      <th>family_status</th>\n",
       "      <th>family_status_id</th>\n",
       "      <th>gender</th>\n",
       "      <th>income_type</th>\n",
       "      <th>debt</th>\n",
       "      <th>total_income</th>\n",
       "      <th>purpose</th>\n",
       "    </tr>\n",
       "  </thead>\n",
       "  <tbody>\n",
       "    <tr>\n",
       "      <th>0</th>\n",
       "      <td>1</td>\n",
       "      <td>-8437.673028</td>\n",
       "      <td>42</td>\n",
       "      <td>высшее</td>\n",
       "      <td>0</td>\n",
       "      <td>женат / замужем</td>\n",
       "      <td>0</td>\n",
       "      <td>F</td>\n",
       "      <td>сотрудник</td>\n",
       "      <td>0</td>\n",
       "      <td>253875.639453</td>\n",
       "      <td>покупка жилья</td>\n",
       "    </tr>\n",
       "    <tr>\n",
       "      <th>1</th>\n",
       "      <td>1</td>\n",
       "      <td>-4024.803754</td>\n",
       "      <td>36</td>\n",
       "      <td>среднее</td>\n",
       "      <td>1</td>\n",
       "      <td>женат / замужем</td>\n",
       "      <td>0</td>\n",
       "      <td>F</td>\n",
       "      <td>сотрудник</td>\n",
       "      <td>0</td>\n",
       "      <td>112080.014102</td>\n",
       "      <td>приобретение автомобиля</td>\n",
       "    </tr>\n",
       "    <tr>\n",
       "      <th>2</th>\n",
       "      <td>0</td>\n",
       "      <td>-5623.422610</td>\n",
       "      <td>33</td>\n",
       "      <td>Среднее</td>\n",
       "      <td>1</td>\n",
       "      <td>женат / замужем</td>\n",
       "      <td>0</td>\n",
       "      <td>M</td>\n",
       "      <td>сотрудник</td>\n",
       "      <td>0</td>\n",
       "      <td>145885.952297</td>\n",
       "      <td>покупка жилья</td>\n",
       "    </tr>\n",
       "    <tr>\n",
       "      <th>3</th>\n",
       "      <td>3</td>\n",
       "      <td>-4124.747207</td>\n",
       "      <td>32</td>\n",
       "      <td>среднее</td>\n",
       "      <td>1</td>\n",
       "      <td>женат / замужем</td>\n",
       "      <td>0</td>\n",
       "      <td>M</td>\n",
       "      <td>сотрудник</td>\n",
       "      <td>0</td>\n",
       "      <td>267628.550329</td>\n",
       "      <td>дополнительное образование</td>\n",
       "    </tr>\n",
       "    <tr>\n",
       "      <th>4</th>\n",
       "      <td>0</td>\n",
       "      <td>340266.072047</td>\n",
       "      <td>53</td>\n",
       "      <td>среднее</td>\n",
       "      <td>1</td>\n",
       "      <td>гражданский брак</td>\n",
       "      <td>1</td>\n",
       "      <td>F</td>\n",
       "      <td>пенсионер</td>\n",
       "      <td>0</td>\n",
       "      <td>158616.077870</td>\n",
       "      <td>сыграть свадьбу</td>\n",
       "    </tr>\n",
       "    <tr>\n",
       "      <th>5</th>\n",
       "      <td>0</td>\n",
       "      <td>-926.185831</td>\n",
       "      <td>27</td>\n",
       "      <td>высшее</td>\n",
       "      <td>0</td>\n",
       "      <td>гражданский брак</td>\n",
       "      <td>1</td>\n",
       "      <td>M</td>\n",
       "      <td>компаньон</td>\n",
       "      <td>0</td>\n",
       "      <td>255763.565419</td>\n",
       "      <td>покупка жилья</td>\n",
       "    </tr>\n",
       "    <tr>\n",
       "      <th>6</th>\n",
       "      <td>0</td>\n",
       "      <td>-2879.202052</td>\n",
       "      <td>43</td>\n",
       "      <td>высшее</td>\n",
       "      <td>0</td>\n",
       "      <td>женат / замужем</td>\n",
       "      <td>0</td>\n",
       "      <td>F</td>\n",
       "      <td>компаньон</td>\n",
       "      <td>0</td>\n",
       "      <td>240525.971920</td>\n",
       "      <td>операции с жильем</td>\n",
       "    </tr>\n",
       "    <tr>\n",
       "      <th>7</th>\n",
       "      <td>0</td>\n",
       "      <td>-152.779569</td>\n",
       "      <td>50</td>\n",
       "      <td>СРЕДНЕЕ</td>\n",
       "      <td>1</td>\n",
       "      <td>женат / замужем</td>\n",
       "      <td>0</td>\n",
       "      <td>M</td>\n",
       "      <td>сотрудник</td>\n",
       "      <td>0</td>\n",
       "      <td>135823.934197</td>\n",
       "      <td>образование</td>\n",
       "    </tr>\n",
       "    <tr>\n",
       "      <th>8</th>\n",
       "      <td>2</td>\n",
       "      <td>-6929.865299</td>\n",
       "      <td>35</td>\n",
       "      <td>ВЫСШЕЕ</td>\n",
       "      <td>0</td>\n",
       "      <td>гражданский брак</td>\n",
       "      <td>1</td>\n",
       "      <td>F</td>\n",
       "      <td>сотрудник</td>\n",
       "      <td>0</td>\n",
       "      <td>95856.832424</td>\n",
       "      <td>на проведение свадьбы</td>\n",
       "    </tr>\n",
       "    <tr>\n",
       "      <th>9</th>\n",
       "      <td>0</td>\n",
       "      <td>-2188.756445</td>\n",
       "      <td>41</td>\n",
       "      <td>среднее</td>\n",
       "      <td>1</td>\n",
       "      <td>женат / замужем</td>\n",
       "      <td>0</td>\n",
       "      <td>M</td>\n",
       "      <td>сотрудник</td>\n",
       "      <td>0</td>\n",
       "      <td>144425.938277</td>\n",
       "      <td>покупка жилья для семьи</td>\n",
       "    </tr>\n",
       "    <tr>\n",
       "      <th>10</th>\n",
       "      <td>2</td>\n",
       "      <td>-4171.483647</td>\n",
       "      <td>36</td>\n",
       "      <td>высшее</td>\n",
       "      <td>0</td>\n",
       "      <td>женат / замужем</td>\n",
       "      <td>0</td>\n",
       "      <td>M</td>\n",
       "      <td>компаньон</td>\n",
       "      <td>0</td>\n",
       "      <td>113943.491460</td>\n",
       "      <td>покупка недвижимости</td>\n",
       "    </tr>\n",
       "    <tr>\n",
       "      <th>11</th>\n",
       "      <td>0</td>\n",
       "      <td>-792.701887</td>\n",
       "      <td>40</td>\n",
       "      <td>среднее</td>\n",
       "      <td>1</td>\n",
       "      <td>женат / замужем</td>\n",
       "      <td>0</td>\n",
       "      <td>F</td>\n",
       "      <td>сотрудник</td>\n",
       "      <td>0</td>\n",
       "      <td>77069.234271</td>\n",
       "      <td>покупка коммерческой недвижимости</td>\n",
       "    </tr>\n",
       "    <tr>\n",
       "      <th>12</th>\n",
       "      <td>0</td>\n",
       "      <td>NaN</td>\n",
       "      <td>65</td>\n",
       "      <td>среднее</td>\n",
       "      <td>1</td>\n",
       "      <td>гражданский брак</td>\n",
       "      <td>1</td>\n",
       "      <td>M</td>\n",
       "      <td>пенсионер</td>\n",
       "      <td>0</td>\n",
       "      <td>NaN</td>\n",
       "      <td>сыграть свадьбу</td>\n",
       "    </tr>\n",
       "    <tr>\n",
       "      <th>13</th>\n",
       "      <td>0</td>\n",
       "      <td>-1846.641941</td>\n",
       "      <td>54</td>\n",
       "      <td>неоконченное высшее</td>\n",
       "      <td>2</td>\n",
       "      <td>женат / замужем</td>\n",
       "      <td>0</td>\n",
       "      <td>F</td>\n",
       "      <td>сотрудник</td>\n",
       "      <td>0</td>\n",
       "      <td>130458.228857</td>\n",
       "      <td>приобретение автомобиля</td>\n",
       "    </tr>\n",
       "    <tr>\n",
       "      <th>14</th>\n",
       "      <td>0</td>\n",
       "      <td>-1844.956182</td>\n",
       "      <td>56</td>\n",
       "      <td>высшее</td>\n",
       "      <td>0</td>\n",
       "      <td>гражданский брак</td>\n",
       "      <td>1</td>\n",
       "      <td>F</td>\n",
       "      <td>компаньон</td>\n",
       "      <td>1</td>\n",
       "      <td>165127.911772</td>\n",
       "      <td>покупка жилой недвижимости</td>\n",
       "    </tr>\n",
       "    <tr>\n",
       "      <th>15</th>\n",
       "      <td>1</td>\n",
       "      <td>-972.364419</td>\n",
       "      <td>26</td>\n",
       "      <td>среднее</td>\n",
       "      <td>1</td>\n",
       "      <td>женат / замужем</td>\n",
       "      <td>0</td>\n",
       "      <td>F</td>\n",
       "      <td>сотрудник</td>\n",
       "      <td>0</td>\n",
       "      <td>116820.904450</td>\n",
       "      <td>строительство собственной недвижимости</td>\n",
       "    </tr>\n",
       "    <tr>\n",
       "      <th>16</th>\n",
       "      <td>0</td>\n",
       "      <td>-1719.934226</td>\n",
       "      <td>35</td>\n",
       "      <td>среднее</td>\n",
       "      <td>1</td>\n",
       "      <td>женат / замужем</td>\n",
       "      <td>0</td>\n",
       "      <td>F</td>\n",
       "      <td>сотрудник</td>\n",
       "      <td>0</td>\n",
       "      <td>289202.704229</td>\n",
       "      <td>недвижимость</td>\n",
       "    </tr>\n",
       "    <tr>\n",
       "      <th>17</th>\n",
       "      <td>0</td>\n",
       "      <td>-2369.999720</td>\n",
       "      <td>33</td>\n",
       "      <td>высшее</td>\n",
       "      <td>0</td>\n",
       "      <td>гражданский брак</td>\n",
       "      <td>1</td>\n",
       "      <td>M</td>\n",
       "      <td>сотрудник</td>\n",
       "      <td>0</td>\n",
       "      <td>90410.586745</td>\n",
       "      <td>строительство недвижимости</td>\n",
       "    </tr>\n",
       "    <tr>\n",
       "      <th>18</th>\n",
       "      <td>0</td>\n",
       "      <td>400281.136913</td>\n",
       "      <td>53</td>\n",
       "      <td>среднее</td>\n",
       "      <td>1</td>\n",
       "      <td>вдовец / вдова</td>\n",
       "      <td>2</td>\n",
       "      <td>F</td>\n",
       "      <td>пенсионер</td>\n",
       "      <td>0</td>\n",
       "      <td>56823.777243</td>\n",
       "      <td>на покупку подержанного автомобиля</td>\n",
       "    </tr>\n",
       "    <tr>\n",
       "      <th>19</th>\n",
       "      <td>0</td>\n",
       "      <td>-10038.818549</td>\n",
       "      <td>48</td>\n",
       "      <td>СРЕДНЕЕ</td>\n",
       "      <td>1</td>\n",
       "      <td>в разводе</td>\n",
       "      <td>3</td>\n",
       "      <td>F</td>\n",
       "      <td>сотрудник</td>\n",
       "      <td>0</td>\n",
       "      <td>242831.107982</td>\n",
       "      <td>на покупку своего автомобиля</td>\n",
       "    </tr>\n",
       "  </tbody>\n",
       "</table>\n",
       "</div>"
      ],
      "text/plain": [
       "    children  days_employed  dob_years            education  education_id  \\\n",
       "0          1   -8437.673028         42               высшее             0   \n",
       "1          1   -4024.803754         36              среднее             1   \n",
       "2          0   -5623.422610         33              Среднее             1   \n",
       "3          3   -4124.747207         32              среднее             1   \n",
       "4          0  340266.072047         53              среднее             1   \n",
       "5          0    -926.185831         27               высшее             0   \n",
       "6          0   -2879.202052         43               высшее             0   \n",
       "7          0    -152.779569         50              СРЕДНЕЕ             1   \n",
       "8          2   -6929.865299         35               ВЫСШЕЕ             0   \n",
       "9          0   -2188.756445         41              среднее             1   \n",
       "10         2   -4171.483647         36               высшее             0   \n",
       "11         0    -792.701887         40              среднее             1   \n",
       "12         0            NaN         65              среднее             1   \n",
       "13         0   -1846.641941         54  неоконченное высшее             2   \n",
       "14         0   -1844.956182         56               высшее             0   \n",
       "15         1    -972.364419         26              среднее             1   \n",
       "16         0   -1719.934226         35              среднее             1   \n",
       "17         0   -2369.999720         33               высшее             0   \n",
       "18         0  400281.136913         53              среднее             1   \n",
       "19         0  -10038.818549         48              СРЕДНЕЕ             1   \n",
       "\n",
       "       family_status  family_status_id gender income_type  debt  \\\n",
       "0    женат / замужем                 0      F   сотрудник     0   \n",
       "1    женат / замужем                 0      F   сотрудник     0   \n",
       "2    женат / замужем                 0      M   сотрудник     0   \n",
       "3    женат / замужем                 0      M   сотрудник     0   \n",
       "4   гражданский брак                 1      F   пенсионер     0   \n",
       "5   гражданский брак                 1      M   компаньон     0   \n",
       "6    женат / замужем                 0      F   компаньон     0   \n",
       "7    женат / замужем                 0      M   сотрудник     0   \n",
       "8   гражданский брак                 1      F   сотрудник     0   \n",
       "9    женат / замужем                 0      M   сотрудник     0   \n",
       "10   женат / замужем                 0      M   компаньон     0   \n",
       "11   женат / замужем                 0      F   сотрудник     0   \n",
       "12  гражданский брак                 1      M   пенсионер     0   \n",
       "13   женат / замужем                 0      F   сотрудник     0   \n",
       "14  гражданский брак                 1      F   компаньон     1   \n",
       "15   женат / замужем                 0      F   сотрудник     0   \n",
       "16   женат / замужем                 0      F   сотрудник     0   \n",
       "17  гражданский брак                 1      M   сотрудник     0   \n",
       "18    вдовец / вдова                 2      F   пенсионер     0   \n",
       "19         в разводе                 3      F   сотрудник     0   \n",
       "\n",
       "     total_income                                 purpose  \n",
       "0   253875.639453                           покупка жилья  \n",
       "1   112080.014102                 приобретение автомобиля  \n",
       "2   145885.952297                           покупка жилья  \n",
       "3   267628.550329              дополнительное образование  \n",
       "4   158616.077870                         сыграть свадьбу  \n",
       "5   255763.565419                           покупка жилья  \n",
       "6   240525.971920                       операции с жильем  \n",
       "7   135823.934197                             образование  \n",
       "8    95856.832424                   на проведение свадьбы  \n",
       "9   144425.938277                 покупка жилья для семьи  \n",
       "10  113943.491460                    покупка недвижимости  \n",
       "11   77069.234271       покупка коммерческой недвижимости  \n",
       "12            NaN                         сыграть свадьбу  \n",
       "13  130458.228857                 приобретение автомобиля  \n",
       "14  165127.911772              покупка жилой недвижимости  \n",
       "15  116820.904450  строительство собственной недвижимости  \n",
       "16  289202.704229                            недвижимость  \n",
       "17   90410.586745              строительство недвижимости  \n",
       "18   56823.777243      на покупку подержанного автомобиля  \n",
       "19  242831.107982            на покупку своего автомобиля  "
      ]
     },
     "execution_count": 3,
     "metadata": {},
     "output_type": "execute_result"
    }
   ],
   "source": [
    "data.head(20)"
   ]
  },
  {
   "cell_type": "markdown",
   "id": "62956325",
   "metadata": {
    "deletable": false,
    "editable": false,
    "id": "1c12e233"
   },
   "source": [
    "**Задание 3. Выведите основную информацию о датафрейме с помощью метода `info()`.**"
   ]
  },
  {
   "cell_type": "code",
   "execution_count": 4,
   "id": "5876f2fd",
   "metadata": {
    "deletable": false,
    "id": "2b757bca",
    "outputId": "15376089-8dad-46c9-b520-c05248d43158"
   },
   "outputs": [
    {
     "name": "stdout",
     "output_type": "stream",
     "text": [
      "<class 'pandas.core.frame.DataFrame'>\n",
      "RangeIndex: 21525 entries, 0 to 21524\n",
      "Data columns (total 12 columns):\n",
      " #   Column            Non-Null Count  Dtype  \n",
      "---  ------            --------------  -----  \n",
      " 0   children          21525 non-null  int64  \n",
      " 1   days_employed     19351 non-null  float64\n",
      " 2   dob_years         21525 non-null  int64  \n",
      " 3   education         21525 non-null  object \n",
      " 4   education_id      21525 non-null  int64  \n",
      " 5   family_status     21525 non-null  object \n",
      " 6   family_status_id  21525 non-null  int64  \n",
      " 7   gender            21525 non-null  object \n",
      " 8   income_type       21525 non-null  object \n",
      " 9   debt              21525 non-null  int64  \n",
      " 10  total_income      19351 non-null  float64\n",
      " 11  purpose           21525 non-null  object \n",
      "dtypes: float64(2), int64(5), object(5)\n",
      "memory usage: 2.0+ MB\n"
     ]
    }
   ],
   "source": [
    "data.info()"
   ]
  },
  {
   "cell_type": "markdown",
   "id": "24a0ea3a",
   "metadata": {
    "deletable": false,
    "editable": false,
    "id": "333ec665"
   },
   "source": [
    "## Предобработка данных"
   ]
  },
  {
   "cell_type": "markdown",
   "id": "c549554c",
   "metadata": {
    "deletable": false,
    "editable": false,
    "id": "02d92d53"
   },
   "source": [
    "### Удаление пропусков"
   ]
  },
  {
   "cell_type": "markdown",
   "id": "62eda112",
   "metadata": {
    "deletable": false,
    "editable": false,
    "id": "cd84967c"
   },
   "source": [
    "**Задание 4. Выведите количество пропущенных значений для каждого столбца. Используйте комбинацию двух методов.**"
   ]
  },
  {
   "cell_type": "code",
   "execution_count": 5,
   "id": "2b0c76ad",
   "metadata": {
    "deletable": false,
    "id": "7f9b2309",
    "outputId": "81f4d817-781c-465c-ed15-91ce4446810d"
   },
   "outputs": [
    {
     "data": {
      "text/plain": [
       "children               0\n",
       "days_employed       2174\n",
       "dob_years              0\n",
       "education              0\n",
       "education_id           0\n",
       "family_status          0\n",
       "family_status_id       0\n",
       "gender                 0\n",
       "income_type            0\n",
       "debt                   0\n",
       "total_income        2174\n",
       "purpose                0\n",
       "dtype: int64"
      ]
     },
     "execution_count": 5,
     "metadata": {},
     "output_type": "execute_result"
    }
   ],
   "source": [
    "data.isna().sum()"
   ]
  },
  {
   "cell_type": "markdown",
   "id": "e1c214a2",
   "metadata": {
    "deletable": false,
    "editable": false,
    "id": "db86e27b"
   },
   "source": [
    "**Задание 5. В двух столбцах есть пропущенные значения: `days_employed`,  `total_income`. `total_income`  — хранит данные о доходах, на сумму дохода сильнее всего влияет тип занятости, поэтому заполнить пропуски в этом столбце нужно медианным значением по каждому типу из столбца `income_type`. Например, у человека с типом занятости `сотрудник` пропуск в столбце `total_income` должен быть заполнен медианным доходом среди всех записей с тем же типом.**"
   ]
  },
  {
   "cell_type": "code",
   "execution_count": 6,
   "id": "2e5eec0c",
   "metadata": {
    "deletable": false,
    "id": "42006a93"
   },
   "outputs": [],
   "source": [
    "for t in data['income_type'].unique():\n",
    "    data.loc[(data['income_type'] == t) & (data['total_income'].isna()), 'total_income'] = \\\n",
    "    data.loc[(data['income_type'] == t), 'total_income'].median()"
   ]
  },
  {
   "cell_type": "markdown",
   "id": "2f37e900",
   "metadata": {
    "deletable": false,
    "editable": false,
    "id": "89da5ece"
   },
   "source": [
    "### Обработка аномальных значений"
   ]
  },
  {
   "cell_type": "markdown",
   "id": "5c52a48e",
   "metadata": {
    "deletable": false,
    "editable": false,
    "id": "57964554"
   },
   "source": [
    "**Задание 6. В данных могут встречаться артефакты (аномалии) — значения, которые не отражают действительность и появились по какой-то ошибке. таким артефактом будет отрицательное количество дней трудового стажа в столбце `days_employed`. Обработайте значения в этом столбце: замените все отрицательные значения положительными с помощью метода `abs()`.**"
   ]
  },
  {
   "cell_type": "code",
   "execution_count": 7,
   "id": "681b1b88",
   "metadata": {
    "deletable": false,
    "id": "f6f055bf"
   },
   "outputs": [],
   "source": [
    "data['days_employed'] = data['days_employed'].abs()"
   ]
  },
  {
   "cell_type": "markdown",
   "id": "90731f7b",
   "metadata": {
    "deletable": false,
    "editable": false,
    "id": "6107dd2f"
   },
   "source": [
    "**Задание 7. Для каждого типа занятости выведите медианное значение трудового стажа `days_employed` в днях.**"
   ]
  },
  {
   "cell_type": "code",
   "execution_count": 8,
   "id": "1934599f",
   "metadata": {
    "deletable": false,
    "id": "85a5faf6",
    "outputId": "801ef80e-522b-4668-f34e-565af7432bcf"
   },
   "outputs": [
    {
     "data": {
      "text/plain": [
       "income_type\n",
       "безработный        366413.652744\n",
       "в декрете            3296.759962\n",
       "госслужащий          2689.368353\n",
       "компаньон            1547.382223\n",
       "пенсионер          365213.306266\n",
       "предприниматель       520.848083\n",
       "сотрудник            1574.202821\n",
       "студент               578.751554\n",
       "Name: days_employed, dtype: float64"
      ]
     },
     "execution_count": 8,
     "metadata": {},
     "output_type": "execute_result"
    }
   ],
   "source": [
    "data.groupby('income_type')['days_employed'].agg('median')"
   ]
  },
  {
   "cell_type": "markdown",
   "id": "d064f417",
   "metadata": {
    "deletable": false,
    "editable": false,
    "id": "38d1a030"
   },
   "source": [
    "У двух типов (безработные и пенсионеры) получатся аномально большие значения. Исправить такие значения сложно, поэтому оставьте их как есть. Тем более этот столбец не понадобится вам для исследования."
   ]
  },
  {
   "cell_type": "markdown",
   "id": "f4a15cad",
   "metadata": {
    "deletable": false,
    "editable": false,
    "id": "d8a9f147"
   },
   "source": [
    "**Задание 8. Выведите перечень уникальных значений столбца `children`.**"
   ]
  },
  {
   "cell_type": "code",
   "execution_count": 9,
   "id": "1b8294d8",
   "metadata": {
    "deletable": false,
    "id": "ef5056eb",
    "outputId": "6975b15c-7f95-4697-d16d-a0c79b657b03"
   },
   "outputs": [
    {
     "data": {
      "text/plain": [
       "array([ 1,  0,  3,  2, -1,  4, 20,  5])"
      ]
     },
     "execution_count": 9,
     "metadata": {},
     "output_type": "execute_result"
    }
   ],
   "source": [
    "data['children'].unique()"
   ]
  },
  {
   "cell_type": "markdown",
   "id": "a5f01276",
   "metadata": {
    "deletable": false,
    "editable": false,
    "id": "40b9ebf2"
   },
   "source": [
    "**Задание 9. В столбце `children` есть два аномальных значения. Удалите строки, в которых встречаются такие аномальные значения из датафрейма `data`.**"
   ]
  },
  {
   "cell_type": "code",
   "execution_count": 10,
   "id": "d186b4e5",
   "metadata": {
    "deletable": false,
    "id": "3ff9801d"
   },
   "outputs": [],
   "source": [
    "data = data[(data['children'] != -1) & (data['children'] != 20)]"
   ]
  },
  {
   "cell_type": "markdown",
   "id": "cb72b4b2",
   "metadata": {
    "deletable": false,
    "editable": false,
    "id": "bbc4d0ce"
   },
   "source": [
    "**Задание 10. Ещё раз выведите перечень уникальных значений столбца `children`, чтобы убедиться, что артефакты удалены.**"
   ]
  },
  {
   "cell_type": "code",
   "execution_count": 11,
   "id": "4a3bc5e7",
   "metadata": {
    "deletable": false,
    "id": "ad4fa8b7",
    "outputId": "b2097101-d49d-44d9-901b-32a65c9463d1"
   },
   "outputs": [
    {
     "data": {
      "text/plain": [
       "array([1, 0, 3, 2, 4, 5])"
      ]
     },
     "execution_count": 11,
     "metadata": {},
     "output_type": "execute_result"
    }
   ],
   "source": [
    "data['children'].unique()"
   ]
  },
  {
   "cell_type": "markdown",
   "id": "3713847a",
   "metadata": {
    "deletable": false,
    "editable": false,
    "id": "75440b63"
   },
   "source": [
    "### Удаление пропусков (продолжение)"
   ]
  },
  {
   "cell_type": "markdown",
   "id": "d9561823",
   "metadata": {
    "deletable": false,
    "editable": false,
    "id": "f4ea573f"
   },
   "source": [
    "**Задание 11. Заполните пропуски в столбце `days_employed` медианными значениями по каждого типа занятости `income_type`.**"
   ]
  },
  {
   "cell_type": "code",
   "execution_count": 12,
   "id": "c462de42",
   "metadata": {
    "deletable": false,
    "id": "af6b1a7e"
   },
   "outputs": [],
   "source": [
    "for t in data['income_type'].unique():\n",
    "    data.loc[(data['income_type'] == t) & (data['days_employed'].isna()), 'days_employed'] = \\\n",
    "    data.loc[(data['income_type'] == t), 'days_employed'].median()"
   ]
  },
  {
   "cell_type": "markdown",
   "id": "c6cb0f02",
   "metadata": {
    "deletable": false,
    "editable": false,
    "id": "2753f40d"
   },
   "source": [
    "**Задание 12. Убедитесь, что все пропуски заполнены. Проверьте себя и ещё раз выведите количество пропущенных значений для каждого столбца с помощью двух методов.**"
   ]
  },
  {
   "cell_type": "code",
   "execution_count": 13,
   "id": "bfc67025",
   "metadata": {
    "deletable": false,
    "id": "55f78bc2",
    "outputId": "8da1e4e1-358e-4e87-98c9-f261bce0a7b2"
   },
   "outputs": [
    {
     "data": {
      "text/plain": [
       "children            0\n",
       "days_employed       0\n",
       "dob_years           0\n",
       "education           0\n",
       "education_id        0\n",
       "family_status       0\n",
       "family_status_id    0\n",
       "gender              0\n",
       "income_type         0\n",
       "debt                0\n",
       "total_income        0\n",
       "purpose             0\n",
       "dtype: int64"
      ]
     },
     "execution_count": 13,
     "metadata": {},
     "output_type": "execute_result"
    }
   ],
   "source": [
    "data.isna().sum()"
   ]
  },
  {
   "cell_type": "markdown",
   "id": "8f1494dd",
   "metadata": {
    "deletable": false,
    "editable": false,
    "id": "ddc81e43"
   },
   "source": [
    "### Изменение типов данных"
   ]
  },
  {
   "cell_type": "markdown",
   "id": "9fd70098",
   "metadata": {
    "deletable": false,
    "editable": false,
    "id": "42d19d24"
   },
   "source": [
    "**Задание 13. Замените вещественный тип данных в столбце `total_income` на целочисленный с помощью метода `astype()`.**"
   ]
  },
  {
   "cell_type": "code",
   "execution_count": 14,
   "id": "b2837394",
   "metadata": {
    "deletable": false,
    "id": "920b65ad"
   },
   "outputs": [],
   "source": [
    "data['total_income'] = data['total_income'].astype(int)"
   ]
  },
  {
   "cell_type": "markdown",
   "id": "e94643d6",
   "metadata": {
    "deletable": false,
    "editable": false,
    "id": "80c420ba"
   },
   "source": [
    "### Обработка дубликатов"
   ]
  },
  {
   "cell_type": "markdown",
   "id": "7caeac8d",
   "metadata": {
    "deletable": false,
    "editable": false
   },
   "source": [
    "**Задание 14. Обработайте неявные дубликаты в столбце `education`. В этом столбце есть одни и те же значения, но записанные по-разному: с использованием заглавных и строчных букв. Приведите их к нижнему регистру. Проверьте остальные столбцы.**"
   ]
  },
  {
   "cell_type": "code",
   "execution_count": 15,
   "id": "2b21f641",
   "metadata": {
    "deletable": false
   },
   "outputs": [],
   "source": [
    "data['education'] = data['education'].str.lower()"
   ]
  },
  {
   "cell_type": "markdown",
   "id": "f2559997",
   "metadata": {
    "deletable": false,
    "editable": false,
    "id": "dc587695"
   },
   "source": [
    "**Задание 15. Выведите на экран количество строк-дубликатов в данных. Если такие строки присутствуют, удалите их.**"
   ]
  },
  {
   "cell_type": "code",
   "execution_count": 16,
   "id": "aad29e68",
   "metadata": {
    "deletable": false,
    "id": "3ee445e4",
    "outputId": "9684deba-1934-42d1-99e1-cda61740f822"
   },
   "outputs": [
    {
     "data": {
      "text/plain": [
       "71"
      ]
     },
     "execution_count": 16,
     "metadata": {},
     "output_type": "execute_result"
    }
   ],
   "source": [
    "data.duplicated().sum()"
   ]
  },
  {
   "cell_type": "code",
   "execution_count": 17,
   "id": "fec004f1",
   "metadata": {
    "deletable": false,
    "id": "8575fe05"
   },
   "outputs": [],
   "source": [
    "data = data.drop_duplicates()"
   ]
  },
  {
   "cell_type": "markdown",
   "id": "c5b7fb92",
   "metadata": {
    "deletable": false,
    "editable": false,
    "id": "9904cf55"
   },
   "source": [
    "### Категоризация данных"
   ]
  },
  {
   "cell_type": "markdown",
   "id": "f4bc522d",
   "metadata": {
    "deletable": false,
    "editable": false,
    "id": "72fcc8a2"
   },
   "source": [
    "**Задание 16. На основании диапазонов, указанных ниже, создайте в датафрейме `data` столбец `total_income_category` с категориями:**\n",
    "\n",
    "- 0–30000 — `'E'`;\n",
    "- 30001–50000 — `'D'`;\n",
    "- 50001–200000 — `'C'`;\n",
    "- 200001–1000000 — `'B'`;\n",
    "- 1000001 и выше — `'A'`.\n",
    "\n",
    "\n",
    "**Например, кредитополучателю с доходом 25000 нужно назначить категорию `'E'`, а клиенту, получающему 235000, — `'B'`. Используйте собственную функцию с именем `categorize_income()` и метод `apply()`.**"
   ]
  },
  {
   "cell_type": "code",
   "execution_count": 18,
   "id": "d80d7782",
   "metadata": {
    "deletable": false,
    "id": "e1771346"
   },
   "outputs": [],
   "source": [
    "def categorize_income(income):\n",
    "    try:\n",
    "        if 0 <= income <= 30000:\n",
    "            return 'E'\n",
    "        elif 30001 <= income <= 50000:\n",
    "            return 'D'\n",
    "        elif 50001 <= income <= 200000:\n",
    "            return 'C'\n",
    "        elif 200001 <= income <= 1000000:\n",
    "            return 'B'\n",
    "        elif income >= 1000001:\n",
    "            return 'A'\n",
    "    except:\n",
    "        pass"
   ]
  },
  {
   "cell_type": "code",
   "execution_count": 19,
   "id": "17a22c6c",
   "metadata": {
    "deletable": false,
    "id": "d5f3586d"
   },
   "outputs": [],
   "source": [
    "data['total_income_category'] = data['total_income'].apply(categorize_income)"
   ]
  },
  {
   "cell_type": "markdown",
   "id": "d5595ba1",
   "metadata": {
    "deletable": false,
    "editable": false,
    "id": "dde49b5c"
   },
   "source": [
    "**Задание 17. Выведите на экран перечень уникальных целей взятия кредита из столбца `purpose`.**"
   ]
  },
  {
   "cell_type": "code",
   "execution_count": 20,
   "id": "0d1b08b8",
   "metadata": {
    "deletable": false,
    "id": "f67ce9b3",
    "outputId": "673c12d9-7d7e-4ae0-9812-c622c89dd244"
   },
   "outputs": [
    {
     "data": {
      "text/plain": [
       "array(['покупка жилья', 'приобретение автомобиля',\n",
       "       'дополнительное образование', 'сыграть свадьбу',\n",
       "       'операции с жильем', 'образование', 'на проведение свадьбы',\n",
       "       'покупка жилья для семьи', 'покупка недвижимости',\n",
       "       'покупка коммерческой недвижимости', 'покупка жилой недвижимости',\n",
       "       'строительство собственной недвижимости', 'недвижимость',\n",
       "       'строительство недвижимости', 'на покупку подержанного автомобиля',\n",
       "       'на покупку своего автомобиля',\n",
       "       'операции с коммерческой недвижимостью',\n",
       "       'строительство жилой недвижимости', 'жилье',\n",
       "       'операции со своей недвижимостью', 'автомобили',\n",
       "       'заняться образованием', 'сделка с подержанным автомобилем',\n",
       "       'получение образования', 'автомобиль', 'свадьба',\n",
       "       'получение дополнительного образования', 'покупка своего жилья',\n",
       "       'операции с недвижимостью', 'получение высшего образования',\n",
       "       'свой автомобиль', 'сделка с автомобилем',\n",
       "       'профильное образование', 'высшее образование',\n",
       "       'покупка жилья для сдачи', 'на покупку автомобиля', 'ремонт жилью',\n",
       "       'заняться высшим образованием'], dtype=object)"
      ]
     },
     "execution_count": 20,
     "metadata": {},
     "output_type": "execute_result"
    }
   ],
   "source": [
    "data['purpose'].unique()"
   ]
  },
  {
   "cell_type": "markdown",
   "id": "1b1b0c16",
   "metadata": {
    "deletable": false,
    "editable": false,
    "id": "85d0aef0"
   },
   "source": [
    "**Задание 18. Создайте функцию, которая на основании данных из столбца `purpose` сформирует новый столбец `purpose_category`, в который войдут следующие категории:**\n",
    "\n",
    "- `'операции с автомобилем'`,\n",
    "- `'операции с недвижимостью'`,\n",
    "- `'проведение свадьбы'`,\n",
    "- `'получение образования'`.\n",
    "\n",
    "**Например, если в столбце `purpose` находится подстрока `'на покупку автомобиля'`, то в столбце `purpose_category` должна появиться строка `'операции с автомобилем'`.**\n",
    "\n",
    "**Используйте собственную функцию с именем `categorize_purpose()` и метод `apply()`. Изучите данные в столбце `purpose` и определите, какие подстроки помогут вам правильно определить категорию.**"
   ]
  },
  {
   "cell_type": "code",
   "execution_count": 21,
   "id": "32d8686d",
   "metadata": {
    "deletable": false,
    "id": "e149fab4"
   },
   "outputs": [],
   "source": [
    "def categorize_purpose(row):\n",
    "    try:\n",
    "        if 'автом' in row:\n",
    "            return 'операции с автомобилем'\n",
    "        elif 'жил' in row or 'недвиж' in row:\n",
    "            return 'операции с недвижимостью'\n",
    "        elif 'свад' in row:\n",
    "            return 'проведение свадьбы'\n",
    "        elif 'образов' in row:\n",
    "            return 'получение образования'\n",
    "    except:\n",
    "        return 'нет категории'"
   ]
  },
  {
   "cell_type": "code",
   "execution_count": 22,
   "id": "03fe31eb",
   "metadata": {
    "deletable": false,
    "id": "bf36e69b"
   },
   "outputs": [],
   "source": [
    "data['purpose_category'] = data['purpose'].apply(categorize_purpose)"
   ]
  },
  {
   "cell_type": "markdown",
   "id": "ac54cd9f",
   "metadata": {
    "deletable": false,
    "editable": false,
    "id": "09b242bf"
   },
   "source": [
    "### Шаг 3. Исследуйте данные и ответьте на вопросы"
   ]
  },
  {
   "cell_type": "markdown",
   "id": "76ad2f09",
   "metadata": {
    "deletable": false,
    "editable": false,
    "id": "c5d66278"
   },
   "source": [
    "#### 3.1 Есть ли зависимость между количеством детей и возвратом кредита в срок?"
   ]
  },
  {
   "cell_type": "code",
   "execution_count": 23,
   "id": "926b6b93",
   "metadata": {
    "deletable": false,
    "id": "2cacfc4a"
   },
   "outputs": [
    {
     "data": {
      "text/plain": [
       "8.12"
      ]
     },
     "execution_count": 23,
     "metadata": {},
     "output_type": "execute_result"
    }
   ],
   "source": [
    "debts = data.debt.sum()/data['debt'].count()\n",
    "float('{:,.2f}'.format(debts*100))\n",
    "#процент невозвратов от общего количества кредитов"
   ]
  },
  {
   "cell_type": "code",
   "execution_count": 24,
   "id": "1349a397",
   "metadata": {},
   "outputs": [],
   "source": [
    "def my_mean(x): return x.mean()*100"
   ]
  },
  {
   "cell_type": "code",
   "execution_count": 25,
   "id": "8f7e7130",
   "metadata": {},
   "outputs": [
    {
     "data": {
      "text/html": [
       "<div>\n",
       "<style scoped>\n",
       "    .dataframe tbody tr th:only-of-type {\n",
       "        vertical-align: middle;\n",
       "    }\n",
       "\n",
       "    .dataframe tbody tr th {\n",
       "        vertical-align: top;\n",
       "    }\n",
       "\n",
       "    .dataframe thead th {\n",
       "        text-align: right;\n",
       "    }\n",
       "</style>\n",
       "<table border=\"1\" class=\"dataframe\">\n",
       "  <thead>\n",
       "    <tr style=\"text-align: right;\">\n",
       "      <th></th>\n",
       "      <th>count</th>\n",
       "      <th>sum</th>\n",
       "      <th>my_mean</th>\n",
       "    </tr>\n",
       "    <tr>\n",
       "      <th>children</th>\n",
       "      <th></th>\n",
       "      <th></th>\n",
       "      <th></th>\n",
       "    </tr>\n",
       "  </thead>\n",
       "  <tbody>\n",
       "    <tr>\n",
       "      <th>0</th>\n",
       "      <td>14091</td>\n",
       "      <td>1063</td>\n",
       "      <td>7.54</td>\n",
       "    </tr>\n",
       "    <tr>\n",
       "      <th>1</th>\n",
       "      <td>4808</td>\n",
       "      <td>444</td>\n",
       "      <td>9.23</td>\n",
       "    </tr>\n",
       "    <tr>\n",
       "      <th>2</th>\n",
       "      <td>2052</td>\n",
       "      <td>194</td>\n",
       "      <td>9.45</td>\n",
       "    </tr>\n",
       "    <tr>\n",
       "      <th>3</th>\n",
       "      <td>330</td>\n",
       "      <td>27</td>\n",
       "      <td>8.18</td>\n",
       "    </tr>\n",
       "    <tr>\n",
       "      <th>4</th>\n",
       "      <td>41</td>\n",
       "      <td>4</td>\n",
       "      <td>9.76</td>\n",
       "    </tr>\n",
       "    <tr>\n",
       "      <th>5</th>\n",
       "      <td>9</td>\n",
       "      <td>0</td>\n",
       "      <td>0.00</td>\n",
       "    </tr>\n",
       "  </tbody>\n",
       "</table>\n",
       "</div>"
      ],
      "text/plain": [
       "          count   sum  my_mean\n",
       "children                      \n",
       "0         14091  1063     7.54\n",
       "1          4808   444     9.23\n",
       "2          2052   194     9.45\n",
       "3           330    27     8.18\n",
       "4            41     4     9.76\n",
       "5             9     0     0.00"
      ]
     },
     "execution_count": 25,
     "metadata": {},
     "output_type": "execute_result"
    }
   ],
   "source": [
    "s = data.groupby('children')['debt'].agg(['count', 'sum', my_mean])\n",
    "s.round(2)"
   ]
  },
  {
   "cell_type": "code",
   "execution_count": 49,
   "id": "8888273a",
   "metadata": {},
   "outputs": [
    {
     "data": {
      "image/png": "[encoded data removed]",
      "text/plain": [
       "<Figure size 800x600 with 1 Axes>"
      ]
     },
     "metadata": {},
     "output_type": "display_data"
    }
   ],
   "source": [
    "s['my_mean'].plot.bar(xlabel='Количество детей', ylabel='%', rot=0,\n",
    "            width=0.75,      # Set bar width as 75% of space available\n",
    "            figsize=(8,6),  # Set size of plot in inches\n",
    "            colormap='Paired')\n",
    "plt.title('Зависимость между количеством детей и возвратом кредита, %')\n",
    "plt.show()"
   ]
  },
  {
   "cell_type": "markdown",
   "id": "c9385b45",
   "metadata": {
    "deletable": false,
    "id": "3a6b99ec"
   },
   "source": [
    "**Вывод: Покзатель по семьям с 5 детьми считаю нерепрезентативным, поскольку таких семей в выборке всего 9. Минимальный процент невозвратов у заемщиков без детей и составляет 7,5%. В семьях с детьми  процент невозвратов выше и колеблется в перелах 8,2% - 9,76%** "
   ]
  },
  {
   "cell_type": "markdown",
   "id": "2a4d074d",
   "metadata": {
    "deletable": false,
    "editable": false,
    "id": "97be82ca"
   },
   "source": [
    "#### 3.2 Есть ли зависимость между семейным положением и возвратом кредита в срок?"
   ]
  },
  {
   "cell_type": "code",
   "execution_count": 27,
   "id": "ff810576",
   "metadata": {},
   "outputs": [
    {
     "data": {
      "text/html": [
       "<div>\n",
       "<style scoped>\n",
       "    .dataframe tbody tr th:only-of-type {\n",
       "        vertical-align: middle;\n",
       "    }\n",
       "\n",
       "    .dataframe tbody tr th {\n",
       "        vertical-align: top;\n",
       "    }\n",
       "\n",
       "    .dataframe thead th {\n",
       "        text-align: right;\n",
       "    }\n",
       "</style>\n",
       "<table border=\"1\" class=\"dataframe\">\n",
       "  <thead>\n",
       "    <tr style=\"text-align: right;\">\n",
       "      <th></th>\n",
       "      <th>count</th>\n",
       "      <th>sum</th>\n",
       "      <th>my_mean</th>\n",
       "    </tr>\n",
       "    <tr>\n",
       "      <th>family_status</th>\n",
       "      <th></th>\n",
       "      <th></th>\n",
       "      <th></th>\n",
       "    </tr>\n",
       "  </thead>\n",
       "  <tbody>\n",
       "    <tr>\n",
       "      <th>Не женат / не замужем</th>\n",
       "      <td>2796</td>\n",
       "      <td>273</td>\n",
       "      <td>9.76</td>\n",
       "    </tr>\n",
       "    <tr>\n",
       "      <th>в разводе</th>\n",
       "      <td>1189</td>\n",
       "      <td>84</td>\n",
       "      <td>7.06</td>\n",
       "    </tr>\n",
       "    <tr>\n",
       "      <th>вдовец / вдова</th>\n",
       "      <td>951</td>\n",
       "      <td>63</td>\n",
       "      <td>6.62</td>\n",
       "    </tr>\n",
       "    <tr>\n",
       "      <th>гражданский брак</th>\n",
       "      <td>4134</td>\n",
       "      <td>385</td>\n",
       "      <td>9.31</td>\n",
       "    </tr>\n",
       "    <tr>\n",
       "      <th>женат / замужем</th>\n",
       "      <td>12261</td>\n",
       "      <td>927</td>\n",
       "      <td>7.56</td>\n",
       "    </tr>\n",
       "  </tbody>\n",
       "</table>\n",
       "</div>"
      ],
      "text/plain": [
       "                       count  sum  my_mean\n",
       "family_status                             \n",
       "Не женат / не замужем   2796  273     9.76\n",
       "в разводе               1189   84     7.06\n",
       "вдовец / вдова           951   63     6.62\n",
       "гражданский брак        4134  385     9.31\n",
       "женат / замужем        12261  927     7.56"
      ]
     },
     "execution_count": 27,
     "metadata": {},
     "output_type": "execute_result"
    }
   ],
   "source": [
    "f= data.groupby('family_status')['debt'].agg(['count', 'sum', my_mean])\n",
    "f.round(2)"
   ]
  },
  {
   "cell_type": "code",
   "execution_count": 50,
   "id": "e1ed0b98",
   "metadata": {},
   "outputs": [
    {
     "data": {
      "image/png": "[encoded data removed]",
      "text/plain": [
       "<Figure size 800x600 with 1 Axes>"
      ]
     },
     "metadata": {},
     "output_type": "display_data"
    }
   ],
   "source": [
    "f['my_mean'].plot.bar(xlabel='Семейное положение', ylabel='%', \n",
    "                      width=0.75, \n",
    "                      figsize=(8,6), \n",
    "                      colormap='Paired')\n",
    "plt.title('Зависимость между семейным положением и возвратом кредита, %')\n",
    "plt.show()"
   ]
  },
  {
   "cell_type": "markdown",
   "id": "df11af10",
   "metadata": {
    "deletable": false,
    "id": "1cef7837"
   },
   "source": [
    "**Вывод: Доля должников наиболее высокая у не женаты/не замужних и у состоящих в гражданском браке - 22,2%.  Минимальный процент должников у одиноких (статус - в разводе и вдовец/вдова) и составляет 7,06% и 6,62% и - 4,8%, видимо одинокому человеку вне отношений проще планировать бюджет. Овдовевшие это, как правило,  возрастные люди, а они более ответственные. Да и скорее всего у них уже есть взрослые дети, которые могут помогать с выплатами. В целом, можно сказать так: самые безответственные те, кто никогда не был в браке.** "
   ]
  },
  {
   "cell_type": "markdown",
   "id": "0a8bb8de",
   "metadata": {
    "deletable": false,
    "editable": false,
    "id": "1e8b2fca"
   },
   "source": [
    "#### 3.3 Есть ли зависимость между уровнем дохода и возвратом кредита в срок?"
   ]
  },
  {
   "cell_type": "code",
   "execution_count": 51,
   "id": "e8a89a84",
   "metadata": {},
   "outputs": [
    {
     "data": {
      "text/html": [
       "<div>\n",
       "<style scoped>\n",
       "    .dataframe tbody tr th:only-of-type {\n",
       "        vertical-align: middle;\n",
       "    }\n",
       "\n",
       "    .dataframe tbody tr th {\n",
       "        vertical-align: top;\n",
       "    }\n",
       "\n",
       "    .dataframe thead th {\n",
       "        text-align: right;\n",
       "    }\n",
       "</style>\n",
       "<table border=\"1\" class=\"dataframe\">\n",
       "  <thead>\n",
       "    <tr style=\"text-align: right;\">\n",
       "      <th></th>\n",
       "      <th>count</th>\n",
       "      <th>sum</th>\n",
       "      <th>my_mean</th>\n",
       "    </tr>\n",
       "    <tr>\n",
       "      <th>total_income_category</th>\n",
       "      <th></th>\n",
       "      <th></th>\n",
       "      <th></th>\n",
       "    </tr>\n",
       "  </thead>\n",
       "  <tbody>\n",
       "    <tr>\n",
       "      <th>A</th>\n",
       "      <td>25</td>\n",
       "      <td>2</td>\n",
       "      <td>8.00</td>\n",
       "    </tr>\n",
       "    <tr>\n",
       "      <th>B</th>\n",
       "      <td>5014</td>\n",
       "      <td>354</td>\n",
       "      <td>7.06</td>\n",
       "    </tr>\n",
       "    <tr>\n",
       "      <th>C</th>\n",
       "      <td>15921</td>\n",
       "      <td>1353</td>\n",
       "      <td>8.50</td>\n",
       "    </tr>\n",
       "    <tr>\n",
       "      <th>D</th>\n",
       "      <td>349</td>\n",
       "      <td>21</td>\n",
       "      <td>6.02</td>\n",
       "    </tr>\n",
       "    <tr>\n",
       "      <th>E</th>\n",
       "      <td>22</td>\n",
       "      <td>2</td>\n",
       "      <td>9.09</td>\n",
       "    </tr>\n",
       "  </tbody>\n",
       "</table>\n",
       "</div>"
      ],
      "text/plain": [
       "                       count   sum  my_mean\n",
       "total_income_category                      \n",
       "A                         25     2     8.00\n",
       "B                       5014   354     7.06\n",
       "C                      15921  1353     8.50\n",
       "D                        349    21     6.02\n",
       "E                         22     2     9.09"
      ]
     },
     "execution_count": 51,
     "metadata": {},
     "output_type": "execute_result"
    }
   ],
   "source": [
    "i = data.groupby('total_income_category')['debt'].agg(['count', 'sum', my_mean])\n",
    "i.round(2)"
   ]
  },
  {
   "cell_type": "markdown",
   "id": "1f9cce76",
   "metadata": {
    "deletable": false,
    "id": "e8593def"
   },
   "source": [
    "**Вывод: Категории А и Е нерепрезентативны, поскольку таких заемщиков менее 30 человек (столбец COUNT). Процент должников в стальных группах распределяется в переделах 7-8%, что близко к среднему значению по всей выборке, коротый составил 8%. Чуть ниже уровень должников у заемщиков с доходом от 30 до 50 тыс и составляет 6%. В целом, думаю, можно сказать что уровень дохода не влияет на возврат кредита в срок**\n"
   ]
  },
  {
   "cell_type": "markdown",
   "id": "913faa38",
   "metadata": {
    "deletable": false,
    "editable": false,
    "id": "99ecbd1f"
   },
   "source": [
    "#### 3.4 Как разные цели кредита влияют на его возврат в срок?"
   ]
  },
  {
   "cell_type": "code",
   "execution_count": 37,
   "id": "f40e65b7",
   "metadata": {},
   "outputs": [
    {
     "data": {
      "text/html": [
       "<div>\n",
       "<style scoped>\n",
       "    .dataframe tbody tr th:only-of-type {\n",
       "        vertical-align: middle;\n",
       "    }\n",
       "\n",
       "    .dataframe tbody tr th {\n",
       "        vertical-align: top;\n",
       "    }\n",
       "\n",
       "    .dataframe thead th {\n",
       "        text-align: right;\n",
       "    }\n",
       "</style>\n",
       "<table border=\"1\" class=\"dataframe\">\n",
       "  <thead>\n",
       "    <tr style=\"text-align: right;\">\n",
       "      <th></th>\n",
       "      <th>count</th>\n",
       "      <th>sum</th>\n",
       "      <th>my_mean</th>\n",
       "    </tr>\n",
       "    <tr>\n",
       "      <th>purpose_category</th>\n",
       "      <th></th>\n",
       "      <th></th>\n",
       "      <th></th>\n",
       "    </tr>\n",
       "  </thead>\n",
       "  <tbody>\n",
       "    <tr>\n",
       "      <th>операции с автомобилем</th>\n",
       "      <td>4279</td>\n",
       "      <td>400</td>\n",
       "      <td>9.35</td>\n",
       "    </tr>\n",
       "    <tr>\n",
       "      <th>операции с недвижимостью</th>\n",
       "      <td>10751</td>\n",
       "      <td>780</td>\n",
       "      <td>7.26</td>\n",
       "    </tr>\n",
       "    <tr>\n",
       "      <th>получение образования</th>\n",
       "      <td>3988</td>\n",
       "      <td>369</td>\n",
       "      <td>9.25</td>\n",
       "    </tr>\n",
       "    <tr>\n",
       "      <th>проведение свадьбы</th>\n",
       "      <td>2313</td>\n",
       "      <td>183</td>\n",
       "      <td>7.91</td>\n",
       "    </tr>\n",
       "  </tbody>\n",
       "</table>\n",
       "</div>"
      ],
      "text/plain": [
       "                          count  sum  my_mean\n",
       "purpose_category                             \n",
       "операции с автомобилем     4279  400     9.35\n",
       "операции с недвижимостью  10751  780     7.26\n",
       "получение образования      3988  369     9.25\n",
       "проведение свадьбы         2313  183     7.91"
      ]
     },
     "execution_count": 37,
     "metadata": {},
     "output_type": "execute_result"
    }
   ],
   "source": [
    "p=data.groupby('purpose_category')['debt'].agg(['count', 'sum', my_mean])\n",
    "p.round(2)"
   ]
  },
  {
   "cell_type": "markdown",
   "id": "84b93f3f",
   "metadata": {
    "deletable": false,
    "id": "b4bb2ce6"
   },
   "source": [
    "**Вывод: Процент невозвратов по кредитам на авто и образование в среднем выше почти на 2% (9,35% и 9,25% соответственно) по сревнению с опрерацями с недвиживотсть - 7,26% и на проведение свадеб - около 7,91%** "
   ]
  },
  {
   "cell_type": "code",
   "execution_count": 59,
   "id": "fb0df28c",
   "metadata": {},
   "outputs": [
    {
     "data": {
      "image/png": "[encoded data removed]",
      "text/plain": [
       "<Figure size 800x600 with 1 Axes>"
      ]
     },
     "metadata": {},
     "output_type": "display_data"
    }
   ],
   "source": [
    "p['my_mean'].plot.bar(xlabel='Цель кредитования', ylabel='%', rot=30,\n",
    "                      width=0.75, \n",
    "                      figsize=(8,6), \n",
    "                      colormap='Paired')\n",
    "plt.title('Влияние цели кредита на возврат кредита в срок')\n",
    "plt.show()"
   ]
  },
  {
   "cell_type": "markdown",
   "id": "a129613e",
   "metadata": {
    "deletable": false,
    "editable": false,
    "id": "09c3ac4c"
   },
   "source": [
    "#### 3.5 Приведите возможные причины появления пропусков в исходных данных."
   ]
  },
  {
   "cell_type": "markdown",
   "id": "741ce9d4",
   "metadata": {
    "deletable": false,
    "id": "9da2ceda"
   },
   "source": [
    "**Ответ: Пропуски допущены в 2х столбцах из 12, а именно days_employed и total_income причем одновременно. Следовательно, видимо кредитозаемщик не работает и не имеет дохода, что невозможно для получения кредита. Скорее всего, пропуски возникли случайно. Возможно какой-то сбой в программе, на человеческий фактор тоже не похоже.** "
   ]
  },
  {
   "cell_type": "markdown",
   "id": "0b083f31",
   "metadata": {
    "deletable": false,
    "editable": false,
    "id": "7b0487d6"
   },
   "source": [
    "#### 3.6 Объясните, почему заполнить пропуски медианным значением — лучшее решение для количественных переменных."
   ]
  },
  {
   "cell_type": "code",
   "execution_count": 39,
   "id": "42719cfd",
   "metadata": {},
   "outputs": [
    {
     "data": {
      "text/plain": [
       "401755.40047533"
      ]
     },
     "execution_count": 39,
     "metadata": {},
     "output_type": "execute_result"
    }
   ],
   "source": [
    "data['days_employed'].max()"
   ]
  },
  {
   "cell_type": "code",
   "execution_count": 40,
   "id": "39dc9914",
   "metadata": {},
   "outputs": [
    {
     "data": {
      "text/plain": [
       "24.14163324048118"
      ]
     },
     "execution_count": 40,
     "metadata": {},
     "output_type": "execute_result"
    }
   ],
   "source": [
    "data['days_employed'].min()"
   ]
  },
  {
   "cell_type": "code",
   "execution_count": 41,
   "id": "5133aa7c",
   "metadata": {},
   "outputs": [
    {
     "data": {
      "text/plain": [
       "67148.97213258488"
      ]
     },
     "execution_count": 41,
     "metadata": {},
     "output_type": "execute_result"
    }
   ],
   "source": [
    "data['days_employed'].mean()"
   ]
  },
  {
   "cell_type": "code",
   "execution_count": 42,
   "id": "e99d002f",
   "metadata": {},
   "outputs": [
    {
     "data": {
      "text/plain": [
       "1996.732855437927"
      ]
     },
     "execution_count": 42,
     "metadata": {},
     "output_type": "execute_result"
    }
   ],
   "source": [
    "data['days_employed'].median()"
   ]
  },
  {
   "cell_type": "code",
   "execution_count": 43,
   "id": "b3617e93",
   "metadata": {},
   "outputs": [
    {
     "data": {
      "text/plain": [
       "2265604"
      ]
     },
     "execution_count": 43,
     "metadata": {},
     "output_type": "execute_result"
    }
   ],
   "source": [
    "data['total_income'].max()"
   ]
  },
  {
   "cell_type": "code",
   "execution_count": 44,
   "id": "4868d297",
   "metadata": {},
   "outputs": [
    {
     "data": {
      "text/plain": [
       "20667"
      ]
     },
     "execution_count": 44,
     "metadata": {},
     "output_type": "execute_result"
    }
   ],
   "source": [
    "data['total_income'].min()"
   ]
  },
  {
   "cell_type": "code",
   "execution_count": 45,
   "id": "17a68921",
   "metadata": {},
   "outputs": [
    {
     "data": {
      "text/plain": [
       "165342.74576906848"
      ]
     },
     "execution_count": 45,
     "metadata": {},
     "output_type": "execute_result"
    }
   ],
   "source": [
    "data['total_income'].mean()"
   ]
  },
  {
   "cell_type": "code",
   "execution_count": 46,
   "id": "b8d0ea55",
   "metadata": {},
   "outputs": [
    {
     "data": {
      "text/plain": [
       "142594.0"
      ]
     },
     "execution_count": 46,
     "metadata": {},
     "output_type": "execute_result"
    }
   ],
   "source": [
    "data['total_income'].median()"
   ]
  },
  {
   "cell_type": "markdown",
   "id": "350d7ef8",
   "metadata": {
    "deletable": false,
    "id": "7ecf2b8e"
   },
   "source": [
    "**Ответ: Заполнять пропуски при широком диапазоне выборки лучше медианой, поскольку есть оторванные от основной массы лидеры, их результаты сильно смещают значение среднего. Особенно сильно это видно по days_employed** "
   ]
  },
  {
   "cell_type": "markdown",
   "id": "c03cbd4b",
   "metadata": {},
   "source": [
    "<div class=\"alert alert-success\" style=\"border-radius: 15px; box-shadow: 4px 4px 4px; border: 1px solid \">\n",
    "<h2> Комментарий ревьюера  ✔️</h2>\n",
    "\n",
    "Совершенно верно, медиана не так чувствительна к выборосам по сравнению со средним, например. Получается, мы всегда можем брать медиану (кроме тех случаев, когда нужно именно среднее). Если выборка смещена, то мы не ошибемся, а если распределение нормальное, где среднее очень близко к медиане, то тоже не ошибемся. Только тут важно понимать, что не стоит проводить заполнение пропусков, взятой медианой по всему столбцу, потому что это тоже искажение данных. \n",
    "</div>\n"
   ]
  },
  {
   "cell_type": "markdown",
   "id": "400e9eea",
   "metadata": {
    "deletable": false,
    "editable": false,
    "id": "6db5255a"
   },
   "source": [
    "### Шаг 4: общий вывод."
   ]
  },
  {
   "cell_type": "markdown",
   "id": "240c1fa1",
   "metadata": {},
   "source": [
    "<div style=\"border-radius: 15px; border: 3px solid indigo; padding: 15px;\">\n",
    "    <b> ВЫВОД</b>\n",
    "    \n",
    "\n",
    "    В результате исследования была выявленна зависимость семейного положения и количества детей заемщика на факт погашения кредита в срок.  Также степень возврата кредита в срок определяет цель кредитования  .\n",
    "  \n",
    "    Риск невозврата кредитов у лиц со статусом \"Не женат / не замужем\" и  \"В гражданском браке\" выше на 2% чем у остальных категорий. Наличие детей сопряжено с непредвиденными расходами, что также увеличивает риск невозвратов на 1-2%.\n",
    "\n",
    "    А кредиты на автомобили и на образование обладают более высоким риском невозврата по сравнению с кредитами на авто и недвижимостью примерно на 2%.\n",
    "    \n",
    "    Низкий уровень дохода (до 30 тыс.) является неблагоприятным фатором, но данных для однозначного заключеия мало. В целом зависимости между доходом и просрочкой не выявлено. \n",
    "    \n",
    "   <b> \n",
    "       \n",
    "    Менее благонадежным будет заемщик, находящийся в постоянных отношениях, с детьми и обратившийся за кредитов на авто или образование.\n",
    "       \n",
    "    Портрет наиболее надежного кредитозаемщика такой: вдовец или вдова без детей обратившийся за кредитом на операцию с недвижимостью. Заем на свадьбу не подходит, в таком случае семейный статус будет ближе к гражданскому браку, и риск возрастет как минимум на 3%.  \n",
    "    \n",
    "</div>"
   ]
  },
  {
   "cell_type": "markdown",
   "id": "575e9f82",
   "metadata": {},
   "source": [
    "<div class=\"alert alert-success\" style=\"border-radius: 15px; box-shadow: 4px 4px 4px; border: 1px solid \">\n",
    "<h2> Комментарий ревьюера  ✔️</h2>\n",
    "\n",
    "Хорошо написан вывод.\n",
    "</div>"
   ]
  }
 ],
 "metadata": {
  "ExecuteTimeLog": [
   {
    "duration": 548,
    "start_time": "2023-08-08T12:49:54.157Z"
   },
   {
    "duration": 25,
    "start_time": "2023-08-08T12:49:54.707Z"
   },
   {
    "duration": 85,
    "start_time": "2023-08-08T12:49:54.733Z"
   },
   {
    "duration": 73,
    "start_time": "2023-08-08T12:49:54.821Z"
   },
   {
    "duration": 194,
    "start_time": "2023-08-08T12:49:54.896Z"
   },
   {
    "duration": 43,
    "start_time": "2023-08-08T12:49:55.093Z"
   },
   {
    "duration": 45,
    "start_time": "2023-08-08T12:49:55.138Z"
   },
   {
    "duration": 12,
    "start_time": "2023-08-08T12:49:55.186Z"
   },
   {
    "duration": 40,
    "start_time": "2023-08-08T12:49:55.199Z"
   },
   {
    "duration": 24,
    "start_time": "2023-08-08T12:49:55.242Z"
   },
   {
    "duration": 54,
    "start_time": "2023-08-08T12:49:55.268Z"
   },
   {
    "duration": 9,
    "start_time": "2023-08-08T12:49:55.325Z"
   },
   {
    "duration": 8,
    "start_time": "2023-08-08T12:49:55.336Z"
   },
   {
    "duration": 17,
    "start_time": "2023-08-08T12:49:55.346Z"
   },
   {
    "duration": 40,
    "start_time": "2023-08-08T12:49:55.365Z"
   },
   {
    "duration": 28,
    "start_time": "2023-08-08T12:49:55.407Z"
   },
   {
    "duration": 5,
    "start_time": "2023-08-08T12:49:55.438Z"
   },
   {
    "duration": 44,
    "start_time": "2023-08-08T12:49:55.445Z"
   },
   {
    "duration": 15,
    "start_time": "2023-08-08T12:49:55.491Z"
   },
   {
    "duration": 27,
    "start_time": "2023-08-08T12:49:55.508Z"
   },
   {
    "duration": 18,
    "start_time": "2023-08-08T12:49:55.536Z"
   },
   {
    "duration": 15,
    "start_time": "2023-08-08T12:49:55.556Z"
   },
   {
    "duration": 14,
    "start_time": "2023-08-08T12:49:55.574Z"
   },
   {
    "duration": 35,
    "start_time": "2023-08-08T12:49:55.590Z"
   },
   {
    "duration": 9,
    "start_time": "2023-08-08T12:49:55.627Z"
   },
   {
    "duration": 53,
    "start_time": "2023-08-08T20:18:05.570Z"
   },
   {
    "duration": 1126,
    "start_time": "2023-08-08T20:18:15.687Z"
   },
   {
    "duration": 22,
    "start_time": "2023-08-08T20:18:16.815Z"
   },
   {
    "duration": 16,
    "start_time": "2023-08-08T20:18:16.839Z"
   },
   {
    "duration": 11,
    "start_time": "2023-08-08T20:18:16.856Z"
   },
   {
    "duration": 51,
    "start_time": "2023-08-08T20:18:16.869Z"
   },
   {
    "duration": 5,
    "start_time": "2023-08-08T20:18:16.922Z"
   },
   {
    "duration": 14,
    "start_time": "2023-08-08T20:18:16.929Z"
   },
   {
    "duration": 6,
    "start_time": "2023-08-08T20:18:16.945Z"
   },
   {
    "duration": 18,
    "start_time": "2023-08-08T20:18:16.953Z"
   },
   {
    "duration": 31,
    "start_time": "2023-08-08T20:18:16.972Z"
   },
   {
    "duration": 62,
    "start_time": "2023-08-08T20:18:17.005Z"
   },
   {
    "duration": 10,
    "start_time": "2023-08-08T20:18:17.068Z"
   },
   {
    "duration": 22,
    "start_time": "2023-08-08T20:18:17.079Z"
   },
   {
    "duration": 18,
    "start_time": "2023-08-08T20:18:17.104Z"
   },
   {
    "duration": 39,
    "start_time": "2023-08-08T20:18:17.124Z"
   },
   {
    "duration": 16,
    "start_time": "2023-08-08T20:18:17.165Z"
   },
   {
    "duration": 5,
    "start_time": "2023-08-08T20:18:17.183Z"
   },
   {
    "duration": 33,
    "start_time": "2023-08-08T20:18:17.198Z"
   },
   {
    "duration": 19,
    "start_time": "2023-08-08T20:18:17.233Z"
   },
   {
    "duration": 13,
    "start_time": "2023-08-08T20:18:17.254Z"
   },
   {
    "duration": 41,
    "start_time": "2023-08-08T20:18:17.269Z"
   },
   {
    "duration": 1428,
    "start_time": "2023-08-08T20:18:17.312Z"
   },
   {
    "duration": 0,
    "start_time": "2023-08-08T20:18:18.742Z"
   },
   {
    "duration": 0,
    "start_time": "2023-08-08T20:18:18.744Z"
   },
   {
    "duration": 0,
    "start_time": "2023-08-08T20:18:18.745Z"
   },
   {
    "duration": 5,
    "start_time": "2023-08-08T20:18:58.904Z"
   },
   {
    "duration": 6,
    "start_time": "2023-08-08T20:20:00.251Z"
   },
   {
    "duration": 8,
    "start_time": "2023-08-08T20:20:06.638Z"
   },
   {
    "duration": 6,
    "start_time": "2023-08-08T20:20:18.904Z"
   },
   {
    "duration": 7,
    "start_time": "2023-08-08T20:20:30.572Z"
   },
   {
    "duration": 22,
    "start_time": "2023-08-08T20:21:56.985Z"
   },
   {
    "duration": 8,
    "start_time": "2023-08-08T20:26:10.414Z"
   },
   {
    "duration": 8,
    "start_time": "2023-08-08T20:26:33.754Z"
   },
   {
    "duration": 7,
    "start_time": "2023-08-08T20:26:57.903Z"
   },
   {
    "duration": 5,
    "start_time": "2023-08-08T20:27:56.099Z"
   },
   {
    "duration": 5,
    "start_time": "2023-08-08T20:45:51.011Z"
   },
   {
    "duration": 5,
    "start_time": "2023-08-08T20:47:45.016Z"
   },
   {
    "duration": 4,
    "start_time": "2023-08-08T20:49:07.458Z"
   },
   {
    "duration": 487,
    "start_time": "2023-08-08T20:49:13.592Z"
   },
   {
    "duration": 30,
    "start_time": "2023-08-08T20:49:14.081Z"
   },
   {
    "duration": 16,
    "start_time": "2023-08-08T20:49:14.113Z"
   },
   {
    "duration": 10,
    "start_time": "2023-08-08T20:49:14.131Z"
   },
   {
    "duration": 61,
    "start_time": "2023-08-08T20:49:14.143Z"
   },
   {
    "duration": 4,
    "start_time": "2023-08-08T20:49:14.206Z"
   },
   {
    "duration": 18,
    "start_time": "2023-08-08T20:49:14.211Z"
   },
   {
    "duration": 5,
    "start_time": "2023-08-08T20:49:14.231Z"
   },
   {
    "duration": 11,
    "start_time": "2023-08-08T20:49:14.238Z"
   },
   {
    "duration": 5,
    "start_time": "2023-08-08T20:49:14.254Z"
   },
   {
    "duration": 63,
    "start_time": "2023-08-08T20:49:14.260Z"
   },
   {
    "duration": 10,
    "start_time": "2023-08-08T20:49:14.325Z"
   },
   {
    "duration": 7,
    "start_time": "2023-08-08T20:49:14.337Z"
   },
   {
    "duration": 25,
    "start_time": "2023-08-08T20:49:14.345Z"
   },
   {
    "duration": 38,
    "start_time": "2023-08-08T20:49:14.372Z"
   },
   {
    "duration": 18,
    "start_time": "2023-08-08T20:49:14.412Z"
   },
   {
    "duration": 4,
    "start_time": "2023-08-08T20:49:14.432Z"
   },
   {
    "duration": 18,
    "start_time": "2023-08-08T20:49:14.437Z"
   },
   {
    "duration": 10,
    "start_time": "2023-08-08T20:49:14.457Z"
   },
   {
    "duration": 23,
    "start_time": "2023-08-08T20:49:14.468Z"
   },
   {
    "duration": 21,
    "start_time": "2023-08-08T20:49:14.493Z"
   },
   {
    "duration": 9,
    "start_time": "2023-08-08T20:49:14.516Z"
   },
   {
    "duration": 12,
    "start_time": "2023-08-08T20:49:14.527Z"
   },
   {
    "duration": 15,
    "start_time": "2023-08-08T20:49:14.541Z"
   },
   {
    "duration": 12,
    "start_time": "2023-08-08T20:49:14.558Z"
   },
   {
    "duration": 24,
    "start_time": "2023-08-08T20:49:14.572Z"
   },
   {
    "duration": 68,
    "start_time": "2023-08-08T20:50:20.498Z"
   },
   {
    "duration": 12,
    "start_time": "2023-08-08T20:51:06.195Z"
   },
   {
    "duration": 6,
    "start_time": "2023-08-08T20:51:47.675Z"
   },
   {
    "duration": 3,
    "start_time": "2023-08-08T20:52:19.359Z"
   },
   {
    "duration": 7,
    "start_time": "2023-08-08T20:55:12.347Z"
   },
   {
    "duration": 3,
    "start_time": "2023-08-08T20:56:31.338Z"
   },
   {
    "duration": 2,
    "start_time": "2023-08-08T20:56:34.934Z"
   },
   {
    "duration": 7,
    "start_time": "2023-08-08T20:58:53.154Z"
   },
   {
    "duration": 4,
    "start_time": "2023-08-08T20:59:10.047Z"
   },
   {
    "duration": 4,
    "start_time": "2023-08-08T20:59:42.215Z"
   },
   {
    "duration": 4,
    "start_time": "2023-08-08T20:59:46.755Z"
   },
   {
    "duration": 4,
    "start_time": "2023-08-08T20:59:55.411Z"
   },
   {
    "duration": 4,
    "start_time": "2023-08-08T21:00:39.603Z"
   },
   {
    "duration": 6,
    "start_time": "2023-08-08T21:01:28.895Z"
   },
   {
    "duration": 7,
    "start_time": "2023-08-08T21:01:38.394Z"
   },
   {
    "duration": 3,
    "start_time": "2023-08-08T21:01:46.202Z"
   },
   {
    "duration": 6,
    "start_time": "2023-08-08T21:06:15.230Z"
   },
   {
    "duration": 5,
    "start_time": "2023-08-08T21:06:46.461Z"
   },
   {
    "duration": 77,
    "start_time": "2023-08-08T21:09:33.695Z"
   },
   {
    "duration": 4,
    "start_time": "2023-08-08T21:09:55.869Z"
   },
   {
    "duration": 7,
    "start_time": "2023-08-08T21:10:01.784Z"
   },
   {
    "duration": 10,
    "start_time": "2023-08-08T21:11:42.001Z"
   },
   {
    "duration": 5,
    "start_time": "2023-08-08T21:29:40.861Z"
   },
   {
    "duration": 7,
    "start_time": "2023-08-08T21:30:33.703Z"
   },
   {
    "duration": 7,
    "start_time": "2023-08-08T21:30:45.948Z"
   },
   {
    "duration": 6,
    "start_time": "2023-08-08T21:33:00.818Z"
   },
   {
    "duration": 16,
    "start_time": "2023-08-08T21:33:27.901Z"
   },
   {
    "duration": 9,
    "start_time": "2023-08-08T21:36:51.611Z"
   },
   {
    "duration": 21,
    "start_time": "2023-08-08T21:37:10.946Z"
   },
   {
    "duration": 7,
    "start_time": "2023-08-08T21:38:59.949Z"
   },
   {
    "duration": 15,
    "start_time": "2023-08-08T21:39:02.099Z"
   },
   {
    "duration": 8,
    "start_time": "2023-08-08T21:43:38.812Z"
   },
   {
    "duration": 14,
    "start_time": "2023-08-08T21:43:50.956Z"
   },
   {
    "duration": 17,
    "start_time": "2023-08-08T21:44:27.739Z"
   },
   {
    "duration": 17,
    "start_time": "2023-08-08T21:46:18.418Z"
   },
   {
    "duration": 11,
    "start_time": "2023-08-08T21:46:26.400Z"
   },
   {
    "duration": 9,
    "start_time": "2023-08-08T21:46:27.123Z"
   },
   {
    "duration": 14,
    "start_time": "2023-08-08T21:48:12.940Z"
   },
   {
    "duration": 18,
    "start_time": "2023-08-08T21:48:33.414Z"
   },
   {
    "duration": 8,
    "start_time": "2023-08-08T21:56:15.940Z"
   },
   {
    "duration": 131,
    "start_time": "2023-08-08T21:56:33.982Z"
   },
   {
    "duration": 18,
    "start_time": "2023-08-08T21:56:49.977Z"
   },
   {
    "duration": 23,
    "start_time": "2023-08-08T21:58:21.374Z"
   },
   {
    "duration": 8,
    "start_time": "2023-08-08T21:59:21.343Z"
   },
   {
    "duration": 13,
    "start_time": "2023-08-08T21:59:41.345Z"
   },
   {
    "duration": 24,
    "start_time": "2023-08-08T22:00:13.490Z"
   },
   {
    "duration": 20,
    "start_time": "2023-08-08T22:00:20.082Z"
   },
   {
    "duration": 16,
    "start_time": "2023-08-08T22:01:32.652Z"
   },
   {
    "duration": 9,
    "start_time": "2023-08-08T22:01:45.516Z"
   },
   {
    "duration": 27,
    "start_time": "2023-08-08T22:05:27.926Z"
   },
   {
    "duration": 21,
    "start_time": "2023-08-08T22:06:17.178Z"
   },
   {
    "duration": 16,
    "start_time": "2023-08-08T22:08:20.575Z"
   },
   {
    "duration": 21,
    "start_time": "2023-08-08T22:17:13.885Z"
   },
   {
    "duration": 40,
    "start_time": "2023-08-08T22:22:42.113Z"
   },
   {
    "duration": 27,
    "start_time": "2023-08-08T22:24:00.055Z"
   },
   {
    "duration": 497,
    "start_time": "2023-08-08T22:24:16.011Z"
   },
   {
    "duration": 28,
    "start_time": "2023-08-08T22:24:16.510Z"
   },
   {
    "duration": 29,
    "start_time": "2023-08-08T22:24:16.539Z"
   },
   {
    "duration": 25,
    "start_time": "2023-08-08T22:24:16.570Z"
   },
   {
    "duration": 98,
    "start_time": "2023-08-08T22:24:16.597Z"
   },
   {
    "duration": 3,
    "start_time": "2023-08-08T22:24:16.697Z"
   },
   {
    "duration": 17,
    "start_time": "2023-08-08T22:24:16.702Z"
   },
   {
    "duration": 21,
    "start_time": "2023-08-08T22:24:16.721Z"
   },
   {
    "duration": 14,
    "start_time": "2023-08-08T22:24:16.744Z"
   },
   {
    "duration": 52,
    "start_time": "2023-08-08T22:24:16.760Z"
   },
   {
    "duration": 67,
    "start_time": "2023-08-08T22:24:16.814Z"
   },
   {
    "duration": 20,
    "start_time": "2023-08-08T22:24:16.883Z"
   },
   {
    "duration": 20,
    "start_time": "2023-08-08T22:24:16.912Z"
   },
   {
    "duration": 26,
    "start_time": "2023-08-08T22:24:16.936Z"
   },
   {
    "duration": 47,
    "start_time": "2023-08-08T22:24:16.964Z"
   },
   {
    "duration": 28,
    "start_time": "2023-08-08T22:24:17.013Z"
   },
   {
    "duration": 4,
    "start_time": "2023-08-08T22:24:17.043Z"
   },
   {
    "duration": 63,
    "start_time": "2023-08-08T22:24:17.049Z"
   },
   {
    "duration": 10,
    "start_time": "2023-08-08T22:24:17.113Z"
   },
   {
    "duration": 12,
    "start_time": "2023-08-08T22:24:17.124Z"
   },
   {
    "duration": 35,
    "start_time": "2023-08-08T22:24:17.145Z"
   },
   {
    "duration": 34,
    "start_time": "2023-08-08T22:24:17.182Z"
   },
   {
    "duration": 29,
    "start_time": "2023-08-08T22:24:17.218Z"
   },
   {
    "duration": 26,
    "start_time": "2023-08-08T22:24:17.249Z"
   },
   {
    "duration": 31,
    "start_time": "2023-08-08T22:24:17.277Z"
   },
   {
    "duration": 19,
    "start_time": "2023-08-08T22:24:17.310Z"
   },
   {
    "duration": 451,
    "start_time": "2023-08-08T22:25:31.150Z"
   },
   {
    "duration": 24,
    "start_time": "2023-08-08T22:25:31.606Z"
   },
   {
    "duration": 16,
    "start_time": "2023-08-08T22:25:31.632Z"
   },
   {
    "duration": 19,
    "start_time": "2023-08-08T22:25:31.650Z"
   },
   {
    "duration": 59,
    "start_time": "2023-08-08T22:25:31.670Z"
   },
   {
    "duration": 4,
    "start_time": "2023-08-08T22:25:31.731Z"
   },
   {
    "duration": 15,
    "start_time": "2023-08-08T22:25:31.736Z"
   },
   {
    "duration": 9,
    "start_time": "2023-08-08T22:25:31.753Z"
   },
   {
    "duration": 13,
    "start_time": "2023-08-08T22:25:31.763Z"
   },
   {
    "duration": 29,
    "start_time": "2023-08-08T22:25:31.778Z"
   },
   {
    "duration": 33,
    "start_time": "2023-08-08T22:25:31.808Z"
   },
   {
    "duration": 9,
    "start_time": "2023-08-08T22:25:31.843Z"
   },
   {
    "duration": 41,
    "start_time": "2023-08-08T22:25:31.853Z"
   },
   {
    "duration": 19,
    "start_time": "2023-08-08T22:25:31.898Z"
   },
   {
    "duration": 31,
    "start_time": "2023-08-08T22:25:31.918Z"
   },
   {
    "duration": 60,
    "start_time": "2023-08-08T22:25:31.951Z"
   },
   {
    "duration": 22,
    "start_time": "2023-08-08T22:25:32.013Z"
   },
   {
    "duration": 41,
    "start_time": "2023-08-08T22:25:32.037Z"
   },
   {
    "duration": 30,
    "start_time": "2023-08-08T22:25:32.079Z"
   },
   {
    "duration": 18,
    "start_time": "2023-08-08T22:25:32.111Z"
   },
   {
    "duration": 24,
    "start_time": "2023-08-08T22:25:32.131Z"
   },
   {
    "duration": 41,
    "start_time": "2023-08-08T22:25:32.157Z"
   },
   {
    "duration": 24,
    "start_time": "2023-08-08T22:25:32.199Z"
   },
   {
    "duration": 34,
    "start_time": "2023-08-08T22:25:32.225Z"
   },
   {
    "duration": 12,
    "start_time": "2023-08-08T22:25:32.261Z"
   },
   {
    "duration": 37,
    "start_time": "2023-08-08T22:25:32.275Z"
   },
   {
    "duration": 121,
    "start_time": "2023-08-08T22:28:24.979Z"
   },
   {
    "duration": 67,
    "start_time": "2023-08-08T22:28:32.151Z"
   },
   {
    "duration": 17,
    "start_time": "2023-08-08T22:28:42.221Z"
   },
   {
    "duration": 7,
    "start_time": "2023-08-08T22:29:01.248Z"
   },
   {
    "duration": 16,
    "start_time": "2023-08-08T22:29:57.203Z"
   },
   {
    "duration": 17,
    "start_time": "2023-08-08T22:30:08.898Z"
   },
   {
    "duration": 743,
    "start_time": "2023-08-09T10:58:46.091Z"
   },
   {
    "duration": 22,
    "start_time": "2023-08-09T10:58:46.835Z"
   },
   {
    "duration": 38,
    "start_time": "2023-08-09T10:58:46.858Z"
   },
   {
    "duration": 16,
    "start_time": "2023-08-09T10:58:46.899Z"
   },
   {
    "duration": 61,
    "start_time": "2023-08-09T10:58:46.917Z"
   },
   {
    "duration": 4,
    "start_time": "2023-08-09T10:58:46.980Z"
   },
   {
    "duration": 166,
    "start_time": "2023-08-09T10:58:46.986Z"
   },
   {
    "duration": 47,
    "start_time": "2023-08-09T10:58:47.154Z"
   },
   {
    "duration": 38,
    "start_time": "2023-08-09T10:58:47.202Z"
   },
   {
    "duration": 16,
    "start_time": "2023-08-09T10:58:47.243Z"
   },
   {
    "duration": 39,
    "start_time": "2023-08-09T10:58:47.260Z"
   },
   {
    "duration": 9,
    "start_time": "2023-08-09T10:58:47.300Z"
   },
   {
    "duration": 8,
    "start_time": "2023-08-09T10:58:47.311Z"
   },
   {
    "duration": 26,
    "start_time": "2023-08-09T10:58:47.321Z"
   },
   {
    "duration": 46,
    "start_time": "2023-08-09T10:58:47.348Z"
   },
   {
    "duration": 17,
    "start_time": "2023-08-09T10:58:47.396Z"
   },
   {
    "duration": 4,
    "start_time": "2023-08-09T10:58:47.415Z"
   },
   {
    "duration": 37,
    "start_time": "2023-08-09T10:58:47.421Z"
   },
   {
    "duration": 8,
    "start_time": "2023-08-09T10:58:47.460Z"
   },
   {
    "duration": 18,
    "start_time": "2023-08-09T10:58:47.470Z"
   },
   {
    "duration": 32,
    "start_time": "2023-08-09T10:58:47.490Z"
   },
   {
    "duration": 26,
    "start_time": "2023-08-09T10:58:47.523Z"
   },
   {
    "duration": 17,
    "start_time": "2023-08-09T10:58:47.550Z"
   },
   {
    "duration": 33,
    "start_time": "2023-08-09T10:58:47.568Z"
   },
   {
    "duration": 12,
    "start_time": "2023-08-09T10:58:47.603Z"
   },
   {
    "duration": 33,
    "start_time": "2023-08-09T10:58:47.617Z"
   },
   {
    "duration": 74,
    "start_time": "2023-08-09T10:58:47.652Z"
   },
   {
    "duration": 7,
    "start_time": "2023-08-09T10:58:57.664Z"
   },
   {
    "duration": 13,
    "start_time": "2023-08-09T10:59:04.474Z"
   },
   {
    "duration": 20,
    "start_time": "2023-08-09T13:47:33.557Z"
   },
   {
    "duration": 13,
    "start_time": "2023-08-09T13:49:07.052Z"
   },
   {
    "duration": 8,
    "start_time": "2023-08-09T13:50:53.106Z"
   },
   {
    "duration": 6,
    "start_time": "2023-08-09T13:51:10.750Z"
   },
   {
    "duration": 8,
    "start_time": "2023-08-09T13:51:31.932Z"
   },
   {
    "duration": 15,
    "start_time": "2023-08-09T13:52:25.452Z"
   },
   {
    "duration": 18,
    "start_time": "2023-08-09T13:52:25.468Z"
   },
   {
    "duration": 33,
    "start_time": "2023-08-09T13:52:25.488Z"
   },
   {
    "duration": 4,
    "start_time": "2023-08-09T13:52:25.522Z"
   },
   {
    "duration": 15,
    "start_time": "2023-08-09T13:52:25.540Z"
   },
   {
    "duration": 3,
    "start_time": "2023-08-09T13:52:25.557Z"
   },
   {
    "duration": 10,
    "start_time": "2023-08-09T13:52:25.561Z"
   },
   {
    "duration": 16,
    "start_time": "2023-08-09T13:52:25.572Z"
   },
   {
    "duration": 41,
    "start_time": "2023-08-09T13:52:25.589Z"
   },
   {
    "duration": 21,
    "start_time": "2023-08-09T13:52:25.632Z"
   },
   {
    "duration": 6,
    "start_time": "2023-08-09T13:52:25.655Z"
   },
   {
    "duration": 12,
    "start_time": "2023-08-09T13:52:25.662Z"
   },
   {
    "duration": 27,
    "start_time": "2023-08-09T13:52:25.675Z"
   },
   {
    "duration": 19,
    "start_time": "2023-08-09T13:52:25.704Z"
   },
   {
    "duration": 3,
    "start_time": "2023-08-09T13:52:25.725Z"
   },
   {
    "duration": 35,
    "start_time": "2023-08-09T13:52:25.729Z"
   },
   {
    "duration": 4,
    "start_time": "2023-08-09T13:52:25.765Z"
   },
   {
    "duration": 4,
    "start_time": "2023-08-09T13:52:25.770Z"
   },
   {
    "duration": 14,
    "start_time": "2023-08-09T13:52:25.775Z"
   },
   {
    "duration": 7,
    "start_time": "2023-08-09T13:52:25.790Z"
   },
   {
    "duration": 12,
    "start_time": "2023-08-09T13:52:25.799Z"
   },
   {
    "duration": 38,
    "start_time": "2023-08-09T13:52:25.812Z"
   },
   {
    "duration": 16,
    "start_time": "2023-08-09T13:52:25.851Z"
   },
   {
    "duration": 11,
    "start_time": "2023-08-09T13:52:25.868Z"
   },
   {
    "duration": 8,
    "start_time": "2023-08-09T13:52:25.880Z"
   },
   {
    "duration": 12,
    "start_time": "2023-08-09T13:52:59.814Z"
   },
   {
    "duration": 401,
    "start_time": "2023-08-09T13:53:25.306Z"
   },
   {
    "duration": 27,
    "start_time": "2023-08-09T13:53:25.708Z"
   },
   {
    "duration": 22,
    "start_time": "2023-08-09T13:53:25.736Z"
   },
   {
    "duration": 12,
    "start_time": "2023-08-09T13:53:25.761Z"
   },
   {
    "duration": 57,
    "start_time": "2023-08-09T13:53:25.774Z"
   },
   {
    "duration": 4,
    "start_time": "2023-08-09T13:53:25.832Z"
   },
   {
    "duration": 26,
    "start_time": "2023-08-09T13:53:25.837Z"
   },
   {
    "duration": 4,
    "start_time": "2023-08-09T13:53:25.865Z"
   },
   {
    "duration": 24,
    "start_time": "2023-08-09T13:53:25.870Z"
   },
   {
    "duration": 6,
    "start_time": "2023-08-09T13:53:25.896Z"
   },
   {
    "duration": 35,
    "start_time": "2023-08-09T13:53:25.904Z"
   },
   {
    "duration": 21,
    "start_time": "2023-08-09T13:53:25.940Z"
   },
   {
    "duration": 13,
    "start_time": "2023-08-09T13:53:25.962Z"
   },
   {
    "duration": 12,
    "start_time": "2023-08-09T13:53:25.976Z"
   },
   {
    "duration": 23,
    "start_time": "2023-08-09T13:53:25.989Z"
   },
   {
    "duration": 15,
    "start_time": "2023-08-09T13:53:26.014Z"
   },
   {
    "duration": 4,
    "start_time": "2023-08-09T13:53:26.030Z"
   },
   {
    "duration": 50,
    "start_time": "2023-08-09T13:53:26.035Z"
   },
   {
    "duration": 5,
    "start_time": "2023-08-09T13:53:26.086Z"
   },
   {
    "duration": 8,
    "start_time": "2023-08-09T13:53:26.093Z"
   },
   {
    "duration": 19,
    "start_time": "2023-08-09T13:53:26.103Z"
   },
   {
    "duration": 25,
    "start_time": "2023-08-09T13:53:26.123Z"
   },
   {
    "duration": 7,
    "start_time": "2023-08-09T13:53:26.149Z"
   },
   {
    "duration": 17,
    "start_time": "2023-08-09T13:53:26.158Z"
   },
   {
    "duration": 14,
    "start_time": "2023-08-09T13:53:26.177Z"
   },
   {
    "duration": 29,
    "start_time": "2023-08-09T13:53:26.192Z"
   },
   {
    "duration": 13,
    "start_time": "2023-08-09T13:53:26.222Z"
   },
   {
    "duration": 16,
    "start_time": "2023-08-09T13:54:21.090Z"
   },
   {
    "duration": 462,
    "start_time": "2023-08-09T13:54:35.753Z"
   },
   {
    "duration": 33,
    "start_time": "2023-08-09T13:54:36.217Z"
   },
   {
    "duration": 17,
    "start_time": "2023-08-09T13:54:36.254Z"
   },
   {
    "duration": 22,
    "start_time": "2023-08-09T13:54:36.272Z"
   },
   {
    "duration": 36,
    "start_time": "2023-08-09T13:54:36.295Z"
   },
   {
    "duration": 3,
    "start_time": "2023-08-09T13:54:36.333Z"
   },
   {
    "duration": 32,
    "start_time": "2023-08-09T13:54:36.337Z"
   },
   {
    "duration": 9,
    "start_time": "2023-08-09T13:54:36.370Z"
   },
   {
    "duration": 11,
    "start_time": "2023-08-09T13:54:36.382Z"
   },
   {
    "duration": 11,
    "start_time": "2023-08-09T13:54:36.394Z"
   },
   {
    "duration": 43,
    "start_time": "2023-08-09T13:54:36.406Z"
   },
   {
    "duration": 11,
    "start_time": "2023-08-09T13:54:36.451Z"
   },
   {
    "duration": 3,
    "start_time": "2023-08-09T13:54:36.464Z"
   },
   {
    "duration": 16,
    "start_time": "2023-08-09T13:54:36.468Z"
   },
   {
    "duration": 16,
    "start_time": "2023-08-09T13:54:36.485Z"
   },
   {
    "duration": 14,
    "start_time": "2023-08-09T13:54:36.503Z"
   },
   {
    "duration": 3,
    "start_time": "2023-08-09T13:54:36.518Z"
   },
   {
    "duration": 55,
    "start_time": "2023-08-09T13:54:36.522Z"
   },
   {
    "duration": 6,
    "start_time": "2023-08-09T13:54:36.579Z"
   },
   {
    "duration": 5,
    "start_time": "2023-08-09T13:54:36.587Z"
   },
   {
    "duration": 12,
    "start_time": "2023-08-09T13:54:36.593Z"
   },
   {
    "duration": 9,
    "start_time": "2023-08-09T13:54:36.606Z"
   },
   {
    "duration": 13,
    "start_time": "2023-08-09T13:54:36.617Z"
   },
   {
    "duration": 28,
    "start_time": "2023-08-09T13:54:36.631Z"
   },
   {
    "duration": 21,
    "start_time": "2023-08-09T13:54:36.661Z"
   },
   {
    "duration": 11,
    "start_time": "2023-08-09T13:54:36.684Z"
   },
   {
    "duration": 61,
    "start_time": "2023-08-09T13:54:36.698Z"
   },
   {
    "duration": 4,
    "start_time": "2023-08-09T14:45:54.398Z"
   },
   {
    "duration": 64,
    "start_time": "2023-08-09T14:46:12.865Z"
   },
   {
    "duration": 4,
    "start_time": "2023-08-09T14:46:28.580Z"
   },
   {
    "duration": 4,
    "start_time": "2023-08-09T14:46:57.347Z"
   },
   {
    "duration": 5,
    "start_time": "2023-08-09T14:47:16.328Z"
   },
   {
    "duration": 5,
    "start_time": "2023-08-09T14:49:16.531Z"
   },
   {
    "duration": 6,
    "start_time": "2023-08-09T14:49:17.342Z"
   },
   {
    "duration": 4,
    "start_time": "2023-08-09T14:49:18.108Z"
   },
   {
    "duration": 4,
    "start_time": "2023-08-09T14:49:19.108Z"
   },
   {
    "duration": 1265,
    "start_time": "2023-08-09T14:59:47.231Z"
   },
   {
    "duration": 4,
    "start_time": "2023-08-09T15:00:05.165Z"
   },
   {
    "duration": 3,
    "start_time": "2023-08-09T15:03:08.152Z"
   },
   {
    "duration": 5,
    "start_time": "2023-08-09T15:03:26.960Z"
   },
   {
    "duration": 4,
    "start_time": "2023-08-09T15:03:46.560Z"
   },
   {
    "duration": 201,
    "start_time": "2023-08-09T15:03:57.164Z"
   },
   {
    "duration": 4,
    "start_time": "2023-08-09T15:04:09.721Z"
   },
   {
    "duration": 4,
    "start_time": "2023-08-09T15:10:15.774Z"
   },
   {
    "duration": 4,
    "start_time": "2023-08-09T15:10:46.613Z"
   },
   {
    "duration": 5,
    "start_time": "2023-08-09T15:12:29.496Z"
   },
   {
    "duration": 11,
    "start_time": "2023-08-09T15:12:49.657Z"
   },
   {
    "duration": 12,
    "start_time": "2023-08-09T15:13:10.313Z"
   },
   {
    "duration": 12,
    "start_time": "2023-08-09T15:14:19.921Z"
   },
   {
    "duration": 15,
    "start_time": "2023-08-09T15:14:41.854Z"
   },
   {
    "duration": 12,
    "start_time": "2023-08-09T15:14:59.301Z"
   },
   {
    "duration": 12,
    "start_time": "2023-08-09T15:15:22.738Z"
   },
   {
    "duration": 3,
    "start_time": "2023-08-09T15:15:48.850Z"
   },
   {
    "duration": 4,
    "start_time": "2023-08-09T15:15:56.750Z"
   },
   {
    "duration": 4,
    "start_time": "2023-08-09T15:16:08.990Z"
   },
   {
    "duration": 12,
    "start_time": "2023-08-09T15:16:26.677Z"
   },
   {
    "duration": 12,
    "start_time": "2023-08-09T15:17:03.496Z"
   },
   {
    "duration": 11,
    "start_time": "2023-08-09T15:17:44.719Z"
   },
   {
    "duration": 13,
    "start_time": "2023-08-09T15:17:57.220Z"
   },
   {
    "duration": 12,
    "start_time": "2023-08-09T15:18:08.971Z"
   },
   {
    "duration": 11,
    "start_time": "2023-08-09T15:18:57.693Z"
   },
   {
    "duration": 12,
    "start_time": "2023-08-09T15:19:13.626Z"
   },
   {
    "duration": 4,
    "start_time": "2023-08-09T15:19:34.805Z"
   },
   {
    "duration": 12,
    "start_time": "2023-08-09T15:19:36.257Z"
   },
   {
    "duration": 12,
    "start_time": "2023-08-09T15:19:53.608Z"
   },
   {
    "duration": 73,
    "start_time": "2023-08-09T15:20:40.214Z"
   },
   {
    "duration": 17,
    "start_time": "2023-08-09T15:21:00.921Z"
   },
   {
    "duration": 15,
    "start_time": "2023-08-09T15:21:40.325Z"
   },
   {
    "duration": 79,
    "start_time": "2023-08-09T15:23:46.084Z"
   },
   {
    "duration": 14,
    "start_time": "2023-08-09T15:23:53.884Z"
   },
   {
    "duration": 13,
    "start_time": "2023-08-09T15:24:11.186Z"
   },
   {
    "duration": 110,
    "start_time": "2023-08-09T15:24:29.170Z"
   },
   {
    "duration": 15,
    "start_time": "2023-08-09T15:24:38.461Z"
   },
   {
    "duration": 11,
    "start_time": "2023-08-09T15:25:18.861Z"
   },
   {
    "duration": 18,
    "start_time": "2023-08-09T15:28:04.655Z"
   },
   {
    "duration": 14,
    "start_time": "2023-08-09T15:30:26.590Z"
   },
   {
    "duration": 14,
    "start_time": "2023-08-09T15:31:08.259Z"
   },
   {
    "duration": 1186,
    "start_time": "2023-08-10T11:51:55.683Z"
   },
   {
    "duration": 22,
    "start_time": "2023-08-10T11:51:56.871Z"
   },
   {
    "duration": 15,
    "start_time": "2023-08-10T11:51:56.895Z"
   },
   {
    "duration": 11,
    "start_time": "2023-08-10T11:51:56.912Z"
   },
   {
    "duration": 57,
    "start_time": "2023-08-10T11:51:56.925Z"
   },
   {
    "duration": 4,
    "start_time": "2023-08-10T11:51:56.983Z"
   },
   {
    "duration": 12,
    "start_time": "2023-08-10T11:51:56.988Z"
   },
   {
    "duration": 8,
    "start_time": "2023-08-10T11:51:57.002Z"
   },
   {
    "duration": 10,
    "start_time": "2023-08-10T11:51:57.011Z"
   },
   {
    "duration": 24,
    "start_time": "2023-08-10T11:51:57.024Z"
   },
   {
    "duration": 55,
    "start_time": "2023-08-10T11:51:57.049Z"
   },
   {
    "duration": 10,
    "start_time": "2023-08-10T11:51:57.105Z"
   },
   {
    "duration": 16,
    "start_time": "2023-08-10T11:51:57.116Z"
   },
   {
    "duration": 34,
    "start_time": "2023-08-10T11:51:57.134Z"
   },
   {
    "duration": 38,
    "start_time": "2023-08-10T11:51:57.170Z"
   },
   {
    "duration": 19,
    "start_time": "2023-08-10T11:51:57.209Z"
   },
   {
    "duration": 3,
    "start_time": "2023-08-10T11:51:57.230Z"
   },
   {
    "duration": 48,
    "start_time": "2023-08-10T11:51:57.234Z"
   },
   {
    "duration": 5,
    "start_time": "2023-08-10T11:51:57.284Z"
   },
   {
    "duration": 15,
    "start_time": "2023-08-10T11:51:57.291Z"
   },
   {
    "duration": 19,
    "start_time": "2023-08-10T11:51:57.308Z"
   },
   {
    "duration": 16,
    "start_time": "2023-08-10T11:51:57.329Z"
   },
   {
    "duration": 41,
    "start_time": "2023-08-10T11:51:57.347Z"
   },
   {
    "duration": 20,
    "start_time": "2023-08-10T11:51:57.390Z"
   },
   {
    "duration": 14,
    "start_time": "2023-08-10T11:51:57.412Z"
   },
   {
    "duration": 14,
    "start_time": "2023-08-10T11:51:57.428Z"
   },
   {
    "duration": 29,
    "start_time": "2023-08-10T11:51:57.444Z"
   },
   {
    "duration": 22,
    "start_time": "2023-08-10T11:51:57.476Z"
   },
   {
    "duration": 10,
    "start_time": "2023-08-10T11:51:57.499Z"
   },
   {
    "duration": 11,
    "start_time": "2023-08-10T11:51:57.510Z"
   },
   {
    "duration": 22,
    "start_time": "2023-08-10T11:51:57.522Z"
   },
   {
    "duration": 26,
    "start_time": "2023-08-10T11:51:57.546Z"
   },
   {
    "duration": 18,
    "start_time": "2023-08-10T11:51:57.574Z"
   },
   {
    "duration": 11,
    "start_time": "2023-08-10T11:51:57.594Z"
   },
   {
    "duration": 18,
    "start_time": "2023-08-10T11:51:57.607Z"
   },
   {
    "duration": 745,
    "start_time": "2023-08-11T10:34:16.254Z"
   },
   {
    "duration": 25,
    "start_time": "2023-08-11T10:34:17.001Z"
   },
   {
    "duration": 30,
    "start_time": "2023-08-11T10:34:17.029Z"
   },
   {
    "duration": 22,
    "start_time": "2023-08-11T10:34:17.062Z"
   },
   {
    "duration": 45,
    "start_time": "2023-08-11T10:34:17.086Z"
   },
   {
    "duration": 4,
    "start_time": "2023-08-11T10:34:17.133Z"
   },
   {
    "duration": 21,
    "start_time": "2023-08-11T10:34:17.139Z"
   },
   {
    "duration": 13,
    "start_time": "2023-08-11T10:34:17.162Z"
   },
   {
    "duration": 16,
    "start_time": "2023-08-11T10:34:17.177Z"
   },
   {
    "duration": 24,
    "start_time": "2023-08-11T10:34:17.197Z"
   },
   {
    "duration": 40,
    "start_time": "2023-08-11T10:34:17.223Z"
   },
   {
    "duration": 10,
    "start_time": "2023-08-11T10:34:17.265Z"
   },
   {
    "duration": 13,
    "start_time": "2023-08-11T10:34:17.276Z"
   },
   {
    "duration": 22,
    "start_time": "2023-08-11T10:34:17.291Z"
   },
   {
    "duration": 35,
    "start_time": "2023-08-11T10:34:17.315Z"
   },
   {
    "duration": 24,
    "start_time": "2023-08-11T10:34:17.352Z"
   },
   {
    "duration": 5,
    "start_time": "2023-08-11T10:34:17.378Z"
   },
   {
    "duration": 63,
    "start_time": "2023-08-11T10:34:17.394Z"
   },
   {
    "duration": 7,
    "start_time": "2023-08-11T10:34:17.459Z"
   },
   {
    "duration": 15,
    "start_time": "2023-08-11T10:34:17.468Z"
   },
   {
    "duration": 29,
    "start_time": "2023-08-11T10:34:17.485Z"
   },
   {
    "duration": 23,
    "start_time": "2023-08-11T10:34:17.516Z"
   },
   {
    "duration": 104,
    "start_time": "2023-08-11T10:34:17.542Z"
   },
   {
    "duration": 0,
    "start_time": "2023-08-11T10:34:17.648Z"
   },
   {
    "duration": 0,
    "start_time": "2023-08-11T10:34:17.649Z"
   },
   {
    "duration": 0,
    "start_time": "2023-08-11T10:34:17.650Z"
   },
   {
    "duration": 0,
    "start_time": "2023-08-11T10:34:17.651Z"
   },
   {
    "duration": 0,
    "start_time": "2023-08-11T10:34:17.659Z"
   },
   {
    "duration": 0,
    "start_time": "2023-08-11T10:34:17.662Z"
   },
   {
    "duration": 0,
    "start_time": "2023-08-11T10:34:17.663Z"
   },
   {
    "duration": 0,
    "start_time": "2023-08-11T10:34:17.664Z"
   },
   {
    "duration": 0,
    "start_time": "2023-08-11T10:34:17.666Z"
   },
   {
    "duration": 0,
    "start_time": "2023-08-11T10:34:17.668Z"
   },
   {
    "duration": 0,
    "start_time": "2023-08-11T10:34:17.669Z"
   },
   {
    "duration": 0,
    "start_time": "2023-08-11T10:34:17.672Z"
   },
   {
    "duration": 13,
    "start_time": "2023-08-11T10:39:55.698Z"
   },
   {
    "duration": 12,
    "start_time": "2023-08-11T10:40:11.163Z"
   },
   {
    "duration": 13,
    "start_time": "2023-08-11T10:40:26.074Z"
   },
   {
    "duration": 13,
    "start_time": "2023-08-11T10:49:56.892Z"
   },
   {
    "duration": 15,
    "start_time": "2023-08-11T10:52:04.803Z"
   },
   {
    "duration": 524,
    "start_time": "2023-08-11T10:52:16.361Z"
   },
   {
    "duration": 26,
    "start_time": "2023-08-11T10:52:16.887Z"
   },
   {
    "duration": 26,
    "start_time": "2023-08-11T10:52:16.914Z"
   },
   {
    "duration": 27,
    "start_time": "2023-08-11T10:52:16.942Z"
   },
   {
    "duration": 39,
    "start_time": "2023-08-11T10:52:16.971Z"
   },
   {
    "duration": 4,
    "start_time": "2023-08-11T10:52:17.012Z"
   },
   {
    "duration": 21,
    "start_time": "2023-08-11T10:52:17.017Z"
   },
   {
    "duration": 18,
    "start_time": "2023-08-11T10:52:17.040Z"
   },
   {
    "duration": 26,
    "start_time": "2023-08-11T10:52:17.060Z"
   },
   {
    "duration": 26,
    "start_time": "2023-08-11T10:52:17.088Z"
   },
   {
    "duration": 50,
    "start_time": "2023-08-11T10:52:17.116Z"
   },
   {
    "duration": 10,
    "start_time": "2023-08-11T10:52:17.168Z"
   },
   {
    "duration": 11,
    "start_time": "2023-08-11T10:52:17.180Z"
   },
   {
    "duration": 17,
    "start_time": "2023-08-11T10:52:17.194Z"
   },
   {
    "duration": 29,
    "start_time": "2023-08-11T10:52:17.213Z"
   },
   {
    "duration": 33,
    "start_time": "2023-08-11T10:52:17.243Z"
   },
   {
    "duration": 5,
    "start_time": "2023-08-11T10:52:17.278Z"
   },
   {
    "duration": 48,
    "start_time": "2023-08-11T10:52:17.285Z"
   },
   {
    "duration": 67,
    "start_time": "2023-08-11T10:52:17.335Z"
   },
   {
    "duration": 98,
    "start_time": "2023-08-11T10:52:17.405Z"
   },
   {
    "duration": 57,
    "start_time": "2023-08-11T10:52:17.506Z"
   },
   {
    "duration": 51,
    "start_time": "2023-08-11T10:52:17.565Z"
   },
   {
    "duration": 147,
    "start_time": "2023-08-11T10:52:17.618Z"
   },
   {
    "duration": 0,
    "start_time": "2023-08-11T10:52:17.767Z"
   },
   {
    "duration": 0,
    "start_time": "2023-08-11T10:52:17.769Z"
   },
   {
    "duration": 0,
    "start_time": "2023-08-11T10:52:17.770Z"
   },
   {
    "duration": 0,
    "start_time": "2023-08-11T10:52:17.770Z"
   },
   {
    "duration": 0,
    "start_time": "2023-08-11T10:52:17.772Z"
   },
   {
    "duration": 0,
    "start_time": "2023-08-11T10:52:17.773Z"
   },
   {
    "duration": 0,
    "start_time": "2023-08-11T10:52:17.773Z"
   },
   {
    "duration": 0,
    "start_time": "2023-08-11T10:52:17.774Z"
   },
   {
    "duration": 0,
    "start_time": "2023-08-11T10:52:17.775Z"
   },
   {
    "duration": 0,
    "start_time": "2023-08-11T10:52:17.776Z"
   },
   {
    "duration": 0,
    "start_time": "2023-08-11T10:52:17.777Z"
   },
   {
    "duration": 0,
    "start_time": "2023-08-11T10:52:17.778Z"
   },
   {
    "duration": 86,
    "start_time": "2023-08-11T10:55:39.430Z"
   },
   {
    "duration": 17,
    "start_time": "2023-08-11T10:55:48.350Z"
   },
   {
    "duration": 11,
    "start_time": "2023-08-11T14:06:50.690Z"
   },
   {
    "duration": 19,
    "start_time": "2023-08-11T14:07:05.281Z"
   },
   {
    "duration": 5,
    "start_time": "2023-08-11T14:07:19.138Z"
   },
   {
    "duration": 14,
    "start_time": "2023-08-11T14:07:25.672Z"
   },
   {
    "duration": 137,
    "start_time": "2023-08-11T14:07:36.455Z"
   },
   {
    "duration": 150,
    "start_time": "2023-08-11T14:07:46.719Z"
   },
   {
    "duration": 126,
    "start_time": "2023-08-11T14:07:58.692Z"
   },
   {
    "duration": 109,
    "start_time": "2023-08-11T14:08:09.505Z"
   },
   {
    "duration": 172,
    "start_time": "2023-08-11T14:08:25.380Z"
   },
   {
    "duration": 11,
    "start_time": "2023-08-11T14:08:50.388Z"
   },
   {
    "duration": 140,
    "start_time": "2023-08-11T14:10:19.850Z"
   },
   {
    "duration": 18,
    "start_time": "2023-08-11T14:10:45.912Z"
   },
   {
    "duration": 14,
    "start_time": "2023-08-11T14:11:47.092Z"
   },
   {
    "duration": 15,
    "start_time": "2023-08-11T14:12:05.789Z"
   },
   {
    "duration": 10,
    "start_time": "2023-08-11T14:15:43.665Z"
   },
   {
    "duration": 22,
    "start_time": "2023-08-11T14:21:42.682Z"
   },
   {
    "duration": 25,
    "start_time": "2023-08-11T14:21:59.183Z"
   },
   {
    "duration": 7,
    "start_time": "2023-08-11T14:22:34.915Z"
   },
   {
    "duration": 26,
    "start_time": "2023-08-11T14:22:47.055Z"
   },
   {
    "duration": 9,
    "start_time": "2023-08-11T14:22:57.783Z"
   },
   {
    "duration": 18,
    "start_time": "2023-08-11T14:25:52.674Z"
   },
   {
    "duration": 20,
    "start_time": "2023-08-11T14:28:32.954Z"
   },
   {
    "duration": 7,
    "start_time": "2023-08-11T14:28:36.739Z"
   },
   {
    "duration": 14,
    "start_time": "2023-08-11T14:28:38.118Z"
   },
   {
    "duration": 18,
    "start_time": "2023-08-11T14:28:39.021Z"
   },
   {
    "duration": 25,
    "start_time": "2023-08-11T14:30:22.632Z"
   },
   {
    "duration": 12,
    "start_time": "2023-08-11T14:31:04.389Z"
   },
   {
    "duration": 12,
    "start_time": "2023-08-11T14:31:23.453Z"
   },
   {
    "duration": 19,
    "start_time": "2023-08-11T14:31:53.860Z"
   },
   {
    "duration": 10,
    "start_time": "2023-08-11T14:32:53.627Z"
   },
   {
    "duration": 12,
    "start_time": "2023-08-11T14:34:13.739Z"
   },
   {
    "duration": 14,
    "start_time": "2023-08-11T14:35:37.011Z"
   },
   {
    "duration": 12,
    "start_time": "2023-08-11T14:36:07.007Z"
   },
   {
    "duration": 26,
    "start_time": "2023-08-11T14:38:28.657Z"
   },
   {
    "duration": 30,
    "start_time": "2023-08-11T14:40:51.155Z"
   },
   {
    "duration": 8,
    "start_time": "2023-08-11T14:42:50.605Z"
   },
   {
    "duration": 31,
    "start_time": "2023-08-11T14:45:09.155Z"
   },
   {
    "duration": 9,
    "start_time": "2023-08-11T14:45:29.113Z"
   },
   {
    "duration": 16,
    "start_time": "2023-08-11T14:56:43.560Z"
   },
   {
    "duration": 9,
    "start_time": "2023-08-11T14:56:44.743Z"
   },
   {
    "duration": 6,
    "start_time": "2023-08-11T14:57:09.549Z"
   },
   {
    "duration": 18,
    "start_time": "2023-08-11T14:57:10.580Z"
   },
   {
    "duration": 7,
    "start_time": "2023-08-11T15:05:40.622Z"
   },
   {
    "duration": 11,
    "start_time": "2023-08-11T15:09:14.790Z"
   },
   {
    "duration": 9,
    "start_time": "2023-08-11T15:09:17.006Z"
   },
   {
    "duration": 17,
    "start_time": "2023-08-11T15:09:37.499Z"
   },
   {
    "duration": 12,
    "start_time": "2023-08-11T15:11:01.615Z"
   },
   {
    "duration": 14,
    "start_time": "2023-08-11T15:15:10.177Z"
   },
   {
    "duration": 7,
    "start_time": "2023-08-11T15:15:12.016Z"
   },
   {
    "duration": 12,
    "start_time": "2023-08-11T15:15:15.013Z"
   },
   {
    "duration": 11,
    "start_time": "2023-08-11T15:26:06.485Z"
   },
   {
    "duration": 10,
    "start_time": "2023-08-11T15:26:08.534Z"
   },
   {
    "duration": 15,
    "start_time": "2023-08-11T15:26:09.822Z"
   },
   {
    "duration": 764,
    "start_time": "2023-08-11T16:09:15.743Z"
   },
   {
    "duration": 40,
    "start_time": "2023-08-11T16:09:16.509Z"
   },
   {
    "duration": 185,
    "start_time": "2023-08-11T16:09:16.551Z"
   },
   {
    "duration": 13,
    "start_time": "2023-08-11T16:09:16.738Z"
   },
   {
    "duration": 90,
    "start_time": "2023-08-11T16:09:16.753Z"
   },
   {
    "duration": 94,
    "start_time": "2023-08-11T16:09:16.845Z"
   },
   {
    "duration": 24,
    "start_time": "2023-08-11T16:09:16.941Z"
   },
   {
    "duration": 71,
    "start_time": "2023-08-11T16:09:16.966Z"
   },
   {
    "duration": 85,
    "start_time": "2023-08-11T16:09:17.039Z"
   },
   {
    "duration": 6,
    "start_time": "2023-08-11T16:09:17.127Z"
   },
   {
    "duration": 71,
    "start_time": "2023-08-11T16:09:17.135Z"
   },
   {
    "duration": 24,
    "start_time": "2023-08-11T16:09:17.215Z"
   },
   {
    "duration": 10,
    "start_time": "2023-08-11T16:09:17.241Z"
   },
   {
    "duration": 59,
    "start_time": "2023-08-11T16:09:17.253Z"
   },
   {
    "duration": 38,
    "start_time": "2023-08-11T16:09:17.314Z"
   },
   {
    "duration": 95,
    "start_time": "2023-08-11T16:09:17.354Z"
   },
   {
    "duration": 79,
    "start_time": "2023-08-11T16:09:17.452Z"
   },
   {
    "duration": 114,
    "start_time": "2023-08-11T16:09:17.533Z"
   },
   {
    "duration": 101,
    "start_time": "2023-08-11T16:09:17.649Z"
   },
   {
    "duration": 36,
    "start_time": "2023-08-11T16:09:17.752Z"
   },
   {
    "duration": 47,
    "start_time": "2023-08-11T16:09:17.789Z"
   },
   {
    "duration": 16,
    "start_time": "2023-08-11T16:09:17.839Z"
   },
   {
    "duration": 69,
    "start_time": "2023-08-11T16:09:17.857Z"
   },
   {
    "duration": 16,
    "start_time": "2023-08-11T16:09:17.928Z"
   },
   {
    "duration": 42,
    "start_time": "2023-08-11T16:09:17.946Z"
   },
   {
    "duration": 77,
    "start_time": "2023-08-11T16:09:17.990Z"
   },
   {
    "duration": 68,
    "start_time": "2023-08-11T16:09:18.069Z"
   },
   {
    "duration": 14,
    "start_time": "2023-08-11T16:09:18.140Z"
   },
   {
    "duration": 79,
    "start_time": "2023-08-11T16:09:18.156Z"
   },
   {
    "duration": 41,
    "start_time": "2023-08-11T16:09:18.238Z"
   },
   {
    "duration": 61,
    "start_time": "2023-08-11T16:09:18.281Z"
   },
   {
    "duration": 23,
    "start_time": "2023-08-11T16:09:18.344Z"
   },
   {
    "duration": 117,
    "start_time": "2023-08-11T16:09:18.368Z"
   },
   {
    "duration": 59,
    "start_time": "2023-08-11T16:09:18.487Z"
   },
   {
    "duration": 30,
    "start_time": "2023-08-11T16:09:18.548Z"
   },
   {
    "duration": 54,
    "start_time": "2023-08-11T16:09:18.579Z"
   },
   {
    "duration": 16,
    "start_time": "2023-08-11T16:09:18.635Z"
   },
   {
    "duration": 66,
    "start_time": "2023-08-11T16:09:18.653Z"
   },
   {
    "duration": 106,
    "start_time": "2023-08-11T16:09:18.721Z"
   },
   {
    "duration": 13,
    "start_time": "2023-08-11T16:09:18.830Z"
   },
   {
    "duration": 25,
    "start_time": "2023-08-11T16:09:18.846Z"
   },
   {
    "duration": 74,
    "start_time": "2023-08-11T16:09:18.873Z"
   },
   {
    "duration": 738,
    "start_time": "2023-08-12T12:15:38.800Z"
   },
   {
    "duration": 38,
    "start_time": "2023-08-12T12:15:39.541Z"
   },
   {
    "duration": 25,
    "start_time": "2023-08-12T12:15:39.581Z"
   },
   {
    "duration": 19,
    "start_time": "2023-08-12T12:15:39.613Z"
   },
   {
    "duration": 107,
    "start_time": "2023-08-12T12:15:39.637Z"
   },
   {
    "duration": 5,
    "start_time": "2023-08-12T12:15:39.746Z"
   },
   {
    "duration": 46,
    "start_time": "2023-08-12T12:15:39.753Z"
   },
   {
    "duration": 9,
    "start_time": "2023-08-12T12:15:39.804Z"
   },
   {
    "duration": 13,
    "start_time": "2023-08-12T12:15:39.815Z"
   },
   {
    "duration": 7,
    "start_time": "2023-08-12T12:15:39.830Z"
   },
   {
    "duration": 67,
    "start_time": "2023-08-12T12:15:39.839Z"
   },
   {
    "duration": 14,
    "start_time": "2023-08-12T12:15:39.909Z"
   },
   {
    "duration": 4,
    "start_time": "2023-08-12T12:15:39.926Z"
   },
   {
    "duration": 16,
    "start_time": "2023-08-12T12:15:39.935Z"
   },
   {
    "duration": 38,
    "start_time": "2023-08-12T12:15:39.953Z"
   },
   {
    "duration": 40,
    "start_time": "2023-08-12T12:15:39.998Z"
   },
   {
    "duration": 5,
    "start_time": "2023-08-12T12:15:40.041Z"
   },
   {
    "duration": 67,
    "start_time": "2023-08-12T12:15:40.048Z"
   },
   {
    "duration": 11,
    "start_time": "2023-08-12T12:15:40.117Z"
   },
   {
    "duration": 12,
    "start_time": "2023-08-12T12:15:40.130Z"
   },
   {
    "duration": 42,
    "start_time": "2023-08-12T12:15:40.144Z"
   },
   {
    "duration": 18,
    "start_time": "2023-08-12T12:15:40.190Z"
   },
   {
    "duration": 23,
    "start_time": "2023-08-12T12:15:40.210Z"
   },
   {
    "duration": 10,
    "start_time": "2023-08-12T12:15:40.235Z"
   },
   {
    "duration": 29,
    "start_time": "2023-08-12T12:15:40.247Z"
   },
   {
    "duration": 40,
    "start_time": "2023-08-12T12:15:44.752Z"
   },
   {
    "duration": 28,
    "start_time": "2023-08-12T12:15:54.043Z"
   },
   {
    "duration": 18,
    "start_time": "2023-08-12T12:15:59.217Z"
   },
   {
    "duration": 77,
    "start_time": "2023-08-12T18:27:06.080Z"
   },
   {
    "duration": 764,
    "start_time": "2023-08-12T18:27:30.159Z"
   },
   {
    "duration": 26,
    "start_time": "2023-08-12T18:27:30.925Z"
   },
   {
    "duration": 54,
    "start_time": "2023-08-12T18:27:30.953Z"
   },
   {
    "duration": 63,
    "start_time": "2023-08-12T18:27:31.011Z"
   },
   {
    "duration": 73,
    "start_time": "2023-08-12T18:27:31.077Z"
   },
   {
    "duration": 5,
    "start_time": "2023-08-12T18:27:31.152Z"
   },
   {
    "duration": 32,
    "start_time": "2023-08-12T18:27:31.159Z"
   },
   {
    "duration": 51,
    "start_time": "2023-08-12T18:27:31.193Z"
   },
   {
    "duration": 50,
    "start_time": "2023-08-12T18:27:31.246Z"
   },
   {
    "duration": 25,
    "start_time": "2023-08-12T18:27:31.300Z"
   },
   {
    "duration": 67,
    "start_time": "2023-08-12T18:27:31.328Z"
   },
   {
    "duration": 14,
    "start_time": "2023-08-12T18:27:31.397Z"
   },
   {
    "duration": 33,
    "start_time": "2023-08-12T18:27:31.413Z"
   },
   {
    "duration": 36,
    "start_time": "2023-08-12T18:27:31.448Z"
   },
   {
    "duration": 56,
    "start_time": "2023-08-12T18:27:31.487Z"
   },
   {
    "duration": 21,
    "start_time": "2023-08-12T18:27:31.545Z"
   },
   {
    "duration": 5,
    "start_time": "2023-08-12T18:27:31.568Z"
   },
   {
    "duration": 76,
    "start_time": "2023-08-12T18:27:31.575Z"
   },
   {
    "duration": 198,
    "start_time": "2023-08-12T18:27:31.654Z"
   },
   {
    "duration": 35,
    "start_time": "2023-08-12T18:27:31.854Z"
   },
   {
    "duration": 55,
    "start_time": "2023-08-12T18:27:31.891Z"
   },
   {
    "duration": 188,
    "start_time": "2023-08-12T18:27:31.948Z"
   },
   {
    "duration": 113,
    "start_time": "2023-08-12T18:27:32.139Z"
   },
   {
    "duration": 135,
    "start_time": "2023-08-12T18:27:32.254Z"
   },
   {
    "duration": 50,
    "start_time": "2023-08-12T18:27:32.391Z"
   },
   {
    "duration": 35,
    "start_time": "2023-08-12T18:27:32.443Z"
   },
   {
    "duration": 26,
    "start_time": "2023-08-12T18:27:32.481Z"
   },
   {
    "duration": 45,
    "start_time": "2023-08-12T18:27:32.514Z"
   },
   {
    "duration": 47,
    "start_time": "2023-08-12T18:27:32.562Z"
   },
   {
    "duration": 18,
    "start_time": "2023-08-12T18:27:32.612Z"
   },
   {
    "duration": 25,
    "start_time": "2023-08-12T18:27:32.632Z"
   },
   {
    "duration": 21,
    "start_time": "2023-08-12T18:27:32.659Z"
   },
   {
    "duration": 12,
    "start_time": "2023-08-12T18:27:32.682Z"
   },
   {
    "duration": 20,
    "start_time": "2023-08-12T18:27:32.696Z"
   },
   {
    "duration": 42,
    "start_time": "2023-08-12T18:27:32.718Z"
   },
   {
    "duration": 114,
    "start_time": "2023-08-12T18:27:32.762Z"
   },
   {
    "duration": 64,
    "start_time": "2023-08-12T18:27:32.878Z"
   },
   {
    "duration": 106,
    "start_time": "2023-08-12T18:27:32.944Z"
   },
   {
    "duration": 40,
    "start_time": "2023-08-12T18:27:33.052Z"
   },
   {
    "duration": 33,
    "start_time": "2023-08-12T18:27:33.094Z"
   },
   {
    "duration": 32,
    "start_time": "2023-08-12T18:27:33.129Z"
   },
   {
    "duration": 45,
    "start_time": "2023-08-12T18:27:33.163Z"
   },
   {
    "duration": 38,
    "start_time": "2023-08-12T18:27:33.210Z"
   },
   {
    "duration": 61,
    "start_time": "2023-08-12T18:27:33.250Z"
   },
   {
    "duration": 87,
    "start_time": "2023-08-12T18:27:33.313Z"
   },
   {
    "duration": 48,
    "start_time": "2023-08-12T18:27:33.401Z"
   },
   {
    "duration": 881,
    "start_time": "2023-08-13T10:19:02.062Z"
   },
   {
    "duration": 36,
    "start_time": "2023-08-13T10:19:02.946Z"
   },
   {
    "duration": 22,
    "start_time": "2023-08-13T10:19:02.984Z"
   },
   {
    "duration": 25,
    "start_time": "2023-08-13T10:19:03.008Z"
   },
   {
    "duration": 62,
    "start_time": "2023-08-13T10:19:03.035Z"
   },
   {
    "duration": 4,
    "start_time": "2023-08-13T10:19:03.099Z"
   },
   {
    "duration": 28,
    "start_time": "2023-08-13T10:19:03.106Z"
   },
   {
    "duration": 19,
    "start_time": "2023-08-13T10:19:03.136Z"
   },
   {
    "duration": 26,
    "start_time": "2023-08-13T10:19:03.157Z"
   },
   {
    "duration": 28,
    "start_time": "2023-08-13T10:19:03.188Z"
   },
   {
    "duration": 67,
    "start_time": "2023-08-13T10:19:03.219Z"
   },
   {
    "duration": 12,
    "start_time": "2023-08-13T10:19:03.288Z"
   },
   {
    "duration": 17,
    "start_time": "2023-08-13T10:19:03.302Z"
   },
   {
    "duration": 47,
    "start_time": "2023-08-13T10:19:03.321Z"
   },
   {
    "duration": 23,
    "start_time": "2023-08-13T10:19:03.369Z"
   },
   {
    "duration": 18,
    "start_time": "2023-08-13T10:19:03.394Z"
   },
   {
    "duration": 3,
    "start_time": "2023-08-13T10:19:03.414Z"
   },
   {
    "duration": 34,
    "start_time": "2023-08-13T10:19:03.419Z"
   },
   {
    "duration": 11,
    "start_time": "2023-08-13T10:19:03.455Z"
   },
   {
    "duration": 27,
    "start_time": "2023-08-13T10:19:03.468Z"
   },
   {
    "duration": 11,
    "start_time": "2023-08-13T10:19:03.497Z"
   },
   {
    "duration": 6,
    "start_time": "2023-08-13T10:19:03.510Z"
   },
   {
    "duration": 10,
    "start_time": "2023-08-13T10:19:03.518Z"
   },
   {
    "duration": 9,
    "start_time": "2023-08-13T10:19:03.530Z"
   },
   {
    "duration": 15,
    "start_time": "2023-08-13T10:19:03.541Z"
   },
   {
    "duration": 46,
    "start_time": "2023-08-13T10:19:03.558Z"
   },
   {
    "duration": 14,
    "start_time": "2023-08-13T10:19:03.606Z"
   },
   {
    "duration": 28,
    "start_time": "2023-08-13T10:19:03.626Z"
   },
   {
    "duration": 10,
    "start_time": "2023-08-13T10:19:03.657Z"
   },
   {
    "duration": 10,
    "start_time": "2023-08-13T10:19:03.695Z"
   },
   {
    "duration": 28,
    "start_time": "2023-08-13T10:19:03.707Z"
   },
   {
    "duration": 31,
    "start_time": "2023-08-13T10:19:03.737Z"
   },
   {
    "duration": 8,
    "start_time": "2023-08-13T10:19:03.770Z"
   },
   {
    "duration": 21,
    "start_time": "2023-08-13T10:19:03.780Z"
   },
   {
    "duration": 15,
    "start_time": "2023-08-13T10:19:03.803Z"
   },
   {
    "duration": 10,
    "start_time": "2023-08-13T10:19:03.821Z"
   },
   {
    "duration": 11,
    "start_time": "2023-08-13T10:19:03.834Z"
   },
   {
    "duration": 14,
    "start_time": "2023-08-13T10:19:03.847Z"
   },
   {
    "duration": 5,
    "start_time": "2023-08-13T10:19:03.896Z"
   },
   {
    "duration": 10,
    "start_time": "2023-08-13T10:19:03.903Z"
   },
   {
    "duration": 12,
    "start_time": "2023-08-13T10:19:03.915Z"
   },
   {
    "duration": 8,
    "start_time": "2023-08-13T10:19:03.928Z"
   },
   {
    "duration": 5,
    "start_time": "2023-08-13T10:19:03.938Z"
   },
   {
    "duration": 7,
    "start_time": "2023-08-13T10:19:03.945Z"
   },
   {
    "duration": 10,
    "start_time": "2023-08-13T10:19:03.954Z"
   },
   {
    "duration": 6,
    "start_time": "2023-08-13T10:19:03.996Z"
   },
   {
    "duration": 507,
    "start_time": "2023-08-13T10:20:32.187Z"
   },
   {
    "duration": 23,
    "start_time": "2023-08-13T10:20:32.695Z"
   },
   {
    "duration": 14,
    "start_time": "2023-08-13T10:20:32.720Z"
   },
   {
    "duration": 9,
    "start_time": "2023-08-13T10:20:32.736Z"
   },
   {
    "duration": 57,
    "start_time": "2023-08-13T10:20:32.746Z"
   },
   {
    "duration": 3,
    "start_time": "2023-08-13T10:20:32.805Z"
   },
   {
    "duration": 18,
    "start_time": "2023-08-13T10:20:32.810Z"
   },
   {
    "duration": 8,
    "start_time": "2023-08-13T10:20:32.830Z"
   },
   {
    "duration": 12,
    "start_time": "2023-08-13T10:20:32.840Z"
   },
   {
    "duration": 4,
    "start_time": "2023-08-13T10:20:32.856Z"
   },
   {
    "duration": 42,
    "start_time": "2023-08-13T10:20:32.861Z"
   },
   {
    "duration": 9,
    "start_time": "2023-08-13T10:20:32.905Z"
   },
   {
    "duration": 6,
    "start_time": "2023-08-13T10:20:32.916Z"
   },
   {
    "duration": 14,
    "start_time": "2023-08-13T10:20:32.923Z"
   },
   {
    "duration": 21,
    "start_time": "2023-08-13T10:20:32.938Z"
   },
   {
    "duration": 16,
    "start_time": "2023-08-13T10:20:32.960Z"
   },
   {
    "duration": 4,
    "start_time": "2023-08-13T10:20:32.994Z"
   },
   {
    "duration": 31,
    "start_time": "2023-08-13T10:20:33.000Z"
   },
   {
    "duration": 5,
    "start_time": "2023-08-13T10:20:33.033Z"
   },
   {
    "duration": 4,
    "start_time": "2023-08-13T10:20:33.040Z"
   },
   {
    "duration": 12,
    "start_time": "2023-08-13T10:20:33.046Z"
   },
   {
    "duration": 5,
    "start_time": "2023-08-13T10:20:33.059Z"
   },
   {
    "duration": 30,
    "start_time": "2023-08-13T10:20:33.065Z"
   },
   {
    "duration": 7,
    "start_time": "2023-08-13T10:20:33.097Z"
   },
   {
    "duration": 21,
    "start_time": "2023-08-13T10:20:33.106Z"
   },
   {
    "duration": 11,
    "start_time": "2023-08-13T10:20:33.128Z"
   },
   {
    "duration": 14,
    "start_time": "2023-08-13T10:20:33.140Z"
   },
   {
    "duration": 10,
    "start_time": "2023-08-13T10:20:33.157Z"
   },
   {
    "duration": 27,
    "start_time": "2023-08-13T10:20:33.169Z"
   },
   {
    "duration": 7,
    "start_time": "2023-08-13T10:20:33.198Z"
   },
   {
    "duration": 10,
    "start_time": "2023-08-13T10:20:33.207Z"
   },
   {
    "duration": 35,
    "start_time": "2023-08-13T10:20:33.218Z"
   },
   {
    "duration": 475,
    "start_time": "2023-08-13T10:26:37.665Z"
   },
   {
    "duration": 23,
    "start_time": "2023-08-13T10:26:38.142Z"
   },
   {
    "duration": 16,
    "start_time": "2023-08-13T10:26:38.167Z"
   },
   {
    "duration": 26,
    "start_time": "2023-08-13T10:26:38.196Z"
   },
   {
    "duration": 60,
    "start_time": "2023-08-13T10:26:38.224Z"
   },
   {
    "duration": 4,
    "start_time": "2023-08-13T10:26:38.286Z"
   },
   {
    "duration": 58,
    "start_time": "2023-08-13T10:26:38.292Z"
   },
   {
    "duration": 4,
    "start_time": "2023-08-13T10:26:38.352Z"
   },
   {
    "duration": 10,
    "start_time": "2023-08-13T10:26:38.358Z"
   },
   {
    "duration": 4,
    "start_time": "2023-08-13T10:26:38.371Z"
   },
   {
    "duration": 58,
    "start_time": "2023-08-13T10:26:38.376Z"
   },
   {
    "duration": 9,
    "start_time": "2023-08-13T10:26:38.435Z"
   },
   {
    "duration": 16,
    "start_time": "2023-08-13T10:26:38.446Z"
   },
   {
    "duration": 26,
    "start_time": "2023-08-13T10:26:38.463Z"
   },
   {
    "duration": 50,
    "start_time": "2023-08-13T10:26:38.491Z"
   },
   {
    "duration": 18,
    "start_time": "2023-08-13T10:26:38.543Z"
   },
   {
    "duration": 4,
    "start_time": "2023-08-13T10:26:38.563Z"
   },
   {
    "duration": 52,
    "start_time": "2023-08-13T10:26:38.568Z"
   },
   {
    "duration": 20,
    "start_time": "2023-08-13T10:26:38.623Z"
   },
   {
    "duration": 10,
    "start_time": "2023-08-13T10:26:38.644Z"
   },
   {
    "duration": 13,
    "start_time": "2023-08-13T10:26:38.655Z"
   },
   {
    "duration": 14,
    "start_time": "2023-08-13T10:26:38.670Z"
   },
   {
    "duration": 19,
    "start_time": "2023-08-13T10:26:38.685Z"
   },
   {
    "duration": 43,
    "start_time": "2023-08-13T10:26:38.705Z"
   },
   {
    "duration": 21,
    "start_time": "2023-08-13T10:26:38.749Z"
   },
   {
    "duration": 10,
    "start_time": "2023-08-13T10:26:38.772Z"
   },
   {
    "duration": 49,
    "start_time": "2023-08-13T10:26:38.784Z"
   },
   {
    "duration": 23,
    "start_time": "2023-08-13T10:26:38.836Z"
   },
   {
    "duration": 70,
    "start_time": "2023-08-13T10:26:38.860Z"
   },
   {
    "duration": 23,
    "start_time": "2023-08-13T10:26:38.932Z"
   },
   {
    "duration": 79,
    "start_time": "2023-08-13T10:26:38.957Z"
   },
   {
    "duration": 50,
    "start_time": "2023-08-13T10:26:39.038Z"
   },
   {
    "duration": 2281,
    "start_time": "2023-08-13T10:26:39.090Z"
   },
   {
    "duration": 0,
    "start_time": "2023-08-13T10:26:41.373Z"
   },
   {
    "duration": 0,
    "start_time": "2023-08-13T10:26:41.374Z"
   },
   {
    "duration": 0,
    "start_time": "2023-08-13T10:26:41.376Z"
   },
   {
    "duration": 0,
    "start_time": "2023-08-13T10:26:41.377Z"
   },
   {
    "duration": 0,
    "start_time": "2023-08-13T10:26:41.378Z"
   },
   {
    "duration": 0,
    "start_time": "2023-08-13T10:26:41.379Z"
   },
   {
    "duration": 0,
    "start_time": "2023-08-13T10:26:41.380Z"
   },
   {
    "duration": 0,
    "start_time": "2023-08-13T10:26:41.381Z"
   },
   {
    "duration": 0,
    "start_time": "2023-08-13T10:26:41.382Z"
   },
   {
    "duration": 0,
    "start_time": "2023-08-13T10:26:41.383Z"
   },
   {
    "duration": 0,
    "start_time": "2023-08-13T10:26:41.384Z"
   },
   {
    "duration": 0,
    "start_time": "2023-08-13T10:26:41.385Z"
   },
   {
    "duration": 0,
    "start_time": "2023-08-13T10:26:41.386Z"
   },
   {
    "duration": 0,
    "start_time": "2023-08-13T10:26:41.387Z"
   },
   {
    "duration": 230,
    "start_time": "2023-08-13T10:27:11.299Z"
   },
   {
    "duration": 22,
    "start_time": "2023-08-13T10:29:28.855Z"
   },
   {
    "duration": 13,
    "start_time": "2023-08-13T10:33:58.439Z"
   },
   {
    "duration": 15,
    "start_time": "2023-08-13T10:34:00.319Z"
   },
   {
    "duration": 14,
    "start_time": "2023-08-13T10:34:12.366Z"
   },
   {
    "duration": 14,
    "start_time": "2023-08-13T10:34:19.445Z"
   },
   {
    "duration": 15,
    "start_time": "2023-08-13T10:34:27.160Z"
   },
   {
    "duration": 153,
    "start_time": "2023-08-13T10:34:49.869Z"
   },
   {
    "duration": 14,
    "start_time": "2023-08-13T10:35:10.066Z"
   },
   {
    "duration": 7,
    "start_time": "2023-08-13T10:36:19.110Z"
   },
   {
    "duration": 8,
    "start_time": "2023-08-13T10:36:20.060Z"
   },
   {
    "duration": 11,
    "start_time": "2023-08-13T10:36:20.745Z"
   },
   {
    "duration": 13,
    "start_time": "2023-08-13T10:38:10.555Z"
   },
   {
    "duration": 18,
    "start_time": "2023-08-13T11:11:21.313Z"
   },
   {
    "duration": 8,
    "start_time": "2023-08-13T11:11:53.175Z"
   },
   {
    "duration": 7,
    "start_time": "2023-08-13T11:11:53.966Z"
   },
   {
    "duration": 10,
    "start_time": "2023-08-13T11:11:54.772Z"
   },
   {
    "duration": 16,
    "start_time": "2023-08-13T11:11:55.633Z"
   },
   {
    "duration": 46,
    "start_time": "2023-08-13T12:50:56.341Z"
   },
   {
    "duration": 7,
    "start_time": "2023-08-13T12:51:04.989Z"
   },
   {
    "duration": 540,
    "start_time": "2023-08-13T12:51:12.155Z"
   },
   {
    "duration": 24,
    "start_time": "2023-08-13T12:51:12.698Z"
   },
   {
    "duration": 58,
    "start_time": "2023-08-13T12:51:12.723Z"
   },
   {
    "duration": 19,
    "start_time": "2023-08-13T12:51:12.784Z"
   },
   {
    "duration": 34,
    "start_time": "2023-08-13T12:51:12.805Z"
   },
   {
    "duration": 4,
    "start_time": "2023-08-13T12:51:12.841Z"
   },
   {
    "duration": 17,
    "start_time": "2023-08-13T12:51:12.847Z"
   },
   {
    "duration": 5,
    "start_time": "2023-08-13T12:51:12.865Z"
   },
   {
    "duration": 7,
    "start_time": "2023-08-13T12:51:12.873Z"
   },
   {
    "duration": 4,
    "start_time": "2023-08-13T12:51:12.884Z"
   },
   {
    "duration": 35,
    "start_time": "2023-08-13T12:51:12.889Z"
   },
   {
    "duration": 39,
    "start_time": "2023-08-13T12:51:12.926Z"
   },
   {
    "duration": 11,
    "start_time": "2023-08-13T12:51:12.966Z"
   },
   {
    "duration": 14,
    "start_time": "2023-08-13T12:51:12.979Z"
   },
   {
    "duration": 41,
    "start_time": "2023-08-13T12:51:12.995Z"
   },
   {
    "duration": 21,
    "start_time": "2023-08-13T12:51:13.038Z"
   },
   {
    "duration": 5,
    "start_time": "2023-08-13T12:51:13.061Z"
   },
   {
    "duration": 29,
    "start_time": "2023-08-13T12:51:13.068Z"
   },
   {
    "duration": 5,
    "start_time": "2023-08-13T12:51:13.099Z"
   },
   {
    "duration": 4,
    "start_time": "2023-08-13T12:51:13.106Z"
   },
   {
    "duration": 13,
    "start_time": "2023-08-13T12:51:13.111Z"
   },
   {
    "duration": 43,
    "start_time": "2023-08-13T12:51:13.126Z"
   },
   {
    "duration": 7,
    "start_time": "2023-08-13T12:51:13.171Z"
   },
   {
    "duration": 7,
    "start_time": "2023-08-13T12:51:13.179Z"
   },
   {
    "duration": 10,
    "start_time": "2023-08-13T12:51:13.187Z"
   },
   {
    "duration": 13,
    "start_time": "2023-08-13T12:51:13.198Z"
   },
   {
    "duration": 19,
    "start_time": "2023-08-13T12:51:13.212Z"
   },
   {
    "duration": 14,
    "start_time": "2023-08-13T12:51:13.258Z"
   },
   {
    "duration": 8,
    "start_time": "2023-08-13T12:51:13.273Z"
   },
   {
    "duration": 8,
    "start_time": "2023-08-13T12:51:13.283Z"
   },
   {
    "duration": 38,
    "start_time": "2023-08-13T12:51:13.292Z"
   },
   {
    "duration": 21,
    "start_time": "2023-08-13T12:51:13.332Z"
   },
   {
    "duration": 580,
    "start_time": "2023-08-13T12:51:13.354Z"
   },
   {
    "duration": 7,
    "start_time": "2023-08-13T12:51:13.936Z"
   },
   {
    "duration": 63,
    "start_time": "2023-08-13T12:51:13.945Z"
   },
   {
    "duration": 15,
    "start_time": "2023-08-13T12:51:14.011Z"
   },
   {
    "duration": 18,
    "start_time": "2023-08-13T12:51:14.028Z"
   },
   {
    "duration": 11,
    "start_time": "2023-08-13T12:51:14.048Z"
   },
   {
    "duration": 15,
    "start_time": "2023-08-13T12:51:14.060Z"
   },
   {
    "duration": 19,
    "start_time": "2023-08-13T12:51:14.077Z"
   },
   {
    "duration": 19,
    "start_time": "2023-08-13T12:51:14.098Z"
   },
   {
    "duration": 5,
    "start_time": "2023-08-13T12:51:14.119Z"
   },
   {
    "duration": 37,
    "start_time": "2023-08-13T12:51:14.126Z"
   },
   {
    "duration": 14,
    "start_time": "2023-08-13T12:51:14.165Z"
   },
   {
    "duration": 6,
    "start_time": "2023-08-13T12:51:14.182Z"
   },
   {
    "duration": 15,
    "start_time": "2023-08-13T12:51:14.190Z"
   },
   {
    "duration": 18,
    "start_time": "2023-08-13T12:51:14.206Z"
   },
   {
    "duration": 13,
    "start_time": "2023-08-13T12:51:14.226Z"
   },
   {
    "duration": 18,
    "start_time": "2023-08-13T12:51:14.241Z"
   },
   {
    "duration": 12,
    "start_time": "2023-08-13T12:51:47.589Z"
   },
   {
    "duration": 167,
    "start_time": "2023-08-13T12:51:50.563Z"
   },
   {
    "duration": 13,
    "start_time": "2023-08-13T12:52:23.671Z"
   },
   {
    "duration": 104,
    "start_time": "2023-08-13T12:52:24.328Z"
   },
   {
    "duration": 85,
    "start_time": "2023-08-13T12:52:54.953Z"
   },
   {
    "duration": 153,
    "start_time": "2023-08-13T12:53:34.606Z"
   },
   {
    "duration": 467,
    "start_time": "2023-08-13T12:53:47.682Z"
   },
   {
    "duration": 24,
    "start_time": "2023-08-13T12:53:48.151Z"
   },
   {
    "duration": 14,
    "start_time": "2023-08-13T12:53:48.177Z"
   },
   {
    "duration": 18,
    "start_time": "2023-08-13T12:53:48.193Z"
   },
   {
    "duration": 48,
    "start_time": "2023-08-13T12:53:48.213Z"
   },
   {
    "duration": 4,
    "start_time": "2023-08-13T12:53:48.263Z"
   },
   {
    "duration": 26,
    "start_time": "2023-08-13T12:53:48.268Z"
   },
   {
    "duration": 6,
    "start_time": "2023-08-13T12:53:48.296Z"
   },
   {
    "duration": 9,
    "start_time": "2023-08-13T12:53:48.304Z"
   },
   {
    "duration": 5,
    "start_time": "2023-08-13T12:53:48.317Z"
   },
   {
    "duration": 51,
    "start_time": "2023-08-13T12:53:48.324Z"
   },
   {
    "duration": 10,
    "start_time": "2023-08-13T12:53:48.377Z"
   },
   {
    "duration": 5,
    "start_time": "2023-08-13T12:53:48.388Z"
   },
   {
    "duration": 25,
    "start_time": "2023-08-13T12:53:48.395Z"
   },
   {
    "duration": 24,
    "start_time": "2023-08-13T12:53:48.422Z"
   },
   {
    "duration": 26,
    "start_time": "2023-08-13T12:53:48.448Z"
   },
   {
    "duration": 5,
    "start_time": "2023-08-13T12:53:48.476Z"
   },
   {
    "duration": 42,
    "start_time": "2023-08-13T12:53:48.483Z"
   },
   {
    "duration": 6,
    "start_time": "2023-08-13T12:53:48.527Z"
   },
   {
    "duration": 13,
    "start_time": "2023-08-13T12:53:48.535Z"
   },
   {
    "duration": 30,
    "start_time": "2023-08-13T12:53:48.549Z"
   },
   {
    "duration": 34,
    "start_time": "2023-08-13T12:53:48.581Z"
   },
   {
    "duration": 20,
    "start_time": "2023-08-13T12:53:48.617Z"
   },
   {
    "duration": 8,
    "start_time": "2023-08-13T12:53:48.638Z"
   },
   {
    "duration": 7,
    "start_time": "2023-08-13T12:53:48.648Z"
   },
   {
    "duration": 17,
    "start_time": "2023-08-13T12:53:48.657Z"
   },
   {
    "duration": 13,
    "start_time": "2023-08-13T12:53:48.676Z"
   },
   {
    "duration": 13,
    "start_time": "2023-08-13T12:53:48.692Z"
   },
   {
    "duration": 21,
    "start_time": "2023-08-13T12:53:48.707Z"
   },
   {
    "duration": 8,
    "start_time": "2023-08-13T12:53:48.730Z"
   },
   {
    "duration": 35,
    "start_time": "2023-08-13T12:53:48.739Z"
   },
   {
    "duration": 417,
    "start_time": "2023-08-13T12:53:48.776Z"
   },
   {
    "duration": 15,
    "start_time": "2023-08-13T12:53:49.195Z"
   },
   {
    "duration": 139,
    "start_time": "2023-08-13T12:53:49.212Z"
   },
   {
    "duration": 11,
    "start_time": "2023-08-13T12:53:49.353Z"
   },
   {
    "duration": 7,
    "start_time": "2023-08-13T12:53:49.365Z"
   },
   {
    "duration": 11,
    "start_time": "2023-08-13T12:53:49.374Z"
   },
   {
    "duration": 15,
    "start_time": "2023-08-13T12:53:49.386Z"
   },
   {
    "duration": 7,
    "start_time": "2023-08-13T12:53:49.402Z"
   },
   {
    "duration": 8,
    "start_time": "2023-08-13T12:53:49.411Z"
   },
   {
    "duration": 48,
    "start_time": "2023-08-13T12:53:49.420Z"
   },
   {
    "duration": 15,
    "start_time": "2023-08-13T12:53:49.470Z"
   },
   {
    "duration": 7,
    "start_time": "2023-08-13T12:53:49.486Z"
   },
   {
    "duration": 10,
    "start_time": "2023-08-13T12:53:49.495Z"
   },
   {
    "duration": 8,
    "start_time": "2023-08-13T12:53:49.507Z"
   },
   {
    "duration": 12,
    "start_time": "2023-08-13T12:53:49.517Z"
   },
   {
    "duration": 7,
    "start_time": "2023-08-13T12:53:49.531Z"
   },
   {
    "duration": 23,
    "start_time": "2023-08-13T12:53:49.539Z"
   },
   {
    "duration": 27,
    "start_time": "2023-08-13T12:53:49.564Z"
   },
   {
    "duration": 10,
    "start_time": "2023-08-13T12:53:49.593Z"
   },
   {
    "duration": 12,
    "start_time": "2023-08-13T12:55:14.645Z"
   },
   {
    "duration": 126,
    "start_time": "2023-08-13T12:55:18.921Z"
   },
   {
    "duration": 17,
    "start_time": "2023-08-13T12:55:24.245Z"
   },
   {
    "duration": 114,
    "start_time": "2023-08-13T12:55:24.994Z"
   },
   {
    "duration": 121,
    "start_time": "2023-08-13T12:56:03.937Z"
   },
   {
    "duration": 159,
    "start_time": "2023-08-13T12:56:12.135Z"
   },
   {
    "duration": 121,
    "start_time": "2023-08-13T12:56:31.346Z"
   },
   {
    "duration": 13,
    "start_time": "2023-08-13T13:00:22.737Z"
   },
   {
    "duration": 176,
    "start_time": "2023-08-13T13:00:49.940Z"
   },
   {
    "duration": 116,
    "start_time": "2023-08-13T13:00:53.626Z"
   },
   {
    "duration": 467,
    "start_time": "2023-08-13T13:01:05.992Z"
   },
   {
    "duration": 23,
    "start_time": "2023-08-13T13:01:06.461Z"
   },
   {
    "duration": 16,
    "start_time": "2023-08-13T13:01:06.486Z"
   },
   {
    "duration": 11,
    "start_time": "2023-08-13T13:01:06.505Z"
   },
   {
    "duration": 63,
    "start_time": "2023-08-13T13:01:06.518Z"
   },
   {
    "duration": 4,
    "start_time": "2023-08-13T13:01:06.582Z"
   },
   {
    "duration": 13,
    "start_time": "2023-08-13T13:01:06.587Z"
   },
   {
    "duration": 5,
    "start_time": "2023-08-13T13:01:06.601Z"
   },
   {
    "duration": 15,
    "start_time": "2023-08-13T13:01:06.608Z"
   },
   {
    "duration": 5,
    "start_time": "2023-08-13T13:01:06.625Z"
   },
   {
    "duration": 51,
    "start_time": "2023-08-13T13:01:06.632Z"
   },
   {
    "duration": 11,
    "start_time": "2023-08-13T13:01:06.684Z"
   },
   {
    "duration": 10,
    "start_time": "2023-08-13T13:01:06.696Z"
   },
   {
    "duration": 19,
    "start_time": "2023-08-13T13:01:06.708Z"
   },
   {
    "duration": 32,
    "start_time": "2023-08-13T13:01:06.729Z"
   },
   {
    "duration": 18,
    "start_time": "2023-08-13T13:01:06.762Z"
   },
   {
    "duration": 4,
    "start_time": "2023-08-13T13:01:06.782Z"
   },
   {
    "duration": 56,
    "start_time": "2023-08-13T13:01:06.787Z"
   },
   {
    "duration": 10,
    "start_time": "2023-08-13T13:01:06.845Z"
   },
   {
    "duration": 7,
    "start_time": "2023-08-13T13:01:06.857Z"
   },
   {
    "duration": 15,
    "start_time": "2023-08-13T13:01:06.866Z"
   },
   {
    "duration": 12,
    "start_time": "2023-08-13T13:01:06.883Z"
   },
   {
    "duration": 7,
    "start_time": "2023-08-13T13:01:06.896Z"
   },
   {
    "duration": 8,
    "start_time": "2023-08-13T13:01:06.904Z"
   },
   {
    "duration": 9,
    "start_time": "2023-08-13T13:01:06.914Z"
   },
   {
    "duration": 15,
    "start_time": "2023-08-13T13:01:06.925Z"
   },
   {
    "duration": 24,
    "start_time": "2023-08-13T13:01:06.942Z"
   },
   {
    "duration": 12,
    "start_time": "2023-08-13T13:01:06.969Z"
   },
   {
    "duration": 7,
    "start_time": "2023-08-13T13:01:06.983Z"
   },
   {
    "duration": 11,
    "start_time": "2023-08-13T13:01:06.991Z"
   },
   {
    "duration": 11,
    "start_time": "2023-08-13T13:01:07.004Z"
   },
   {
    "duration": 438,
    "start_time": "2023-08-13T13:01:07.016Z"
   },
   {
    "duration": 14,
    "start_time": "2023-08-13T13:01:07.456Z"
   },
   {
    "duration": 7,
    "start_time": "2023-08-13T13:01:07.472Z"
   },
   {
    "duration": 13,
    "start_time": "2023-08-13T13:01:07.481Z"
   },
   {
    "duration": 15,
    "start_time": "2023-08-13T13:01:07.496Z"
   },
   {
    "duration": 54,
    "start_time": "2023-08-13T13:01:07.513Z"
   },
   {
    "duration": 11,
    "start_time": "2023-08-13T13:01:07.569Z"
   },
   {
    "duration": 20,
    "start_time": "2023-08-13T13:01:07.581Z"
   },
   {
    "duration": 11,
    "start_time": "2023-08-13T13:01:07.603Z"
   },
   {
    "duration": 12,
    "start_time": "2023-08-13T13:01:07.615Z"
   },
   {
    "duration": 32,
    "start_time": "2023-08-13T13:01:07.628Z"
   },
   {
    "duration": 4,
    "start_time": "2023-08-13T13:01:07.662Z"
   },
   {
    "duration": 9,
    "start_time": "2023-08-13T13:01:07.667Z"
   },
   {
    "duration": 6,
    "start_time": "2023-08-13T13:01:07.678Z"
   },
   {
    "duration": 4,
    "start_time": "2023-08-13T13:01:07.686Z"
   },
   {
    "duration": 5,
    "start_time": "2023-08-13T13:01:07.691Z"
   },
   {
    "duration": 7,
    "start_time": "2023-08-13T13:01:07.697Z"
   },
   {
    "duration": 17,
    "start_time": "2023-08-13T13:01:07.705Z"
   },
   {
    "duration": 1808,
    "start_time": "2023-08-13T13:02:43.366Z"
   },
   {
    "duration": 1778,
    "start_time": "2023-08-13T13:03:31.445Z"
   },
   {
    "duration": 15,
    "start_time": "2023-08-13T13:04:02.011Z"
   },
   {
    "duration": 160,
    "start_time": "2023-08-13T14:01:20.355Z"
   },
   {
    "duration": 15,
    "start_time": "2023-08-13T14:02:02.271Z"
   },
   {
    "duration": 141,
    "start_time": "2023-08-13T14:02:35.591Z"
   },
   {
    "duration": 1756,
    "start_time": "2023-08-13T14:02:41.366Z"
   },
   {
    "duration": 15,
    "start_time": "2023-08-13T14:02:55.465Z"
   },
   {
    "duration": 154,
    "start_time": "2023-08-13T14:03:02.012Z"
   },
   {
    "duration": 17,
    "start_time": "2023-08-13T14:05:01.665Z"
   },
   {
    "duration": 13,
    "start_time": "2023-08-13T14:06:31.023Z"
   },
   {
    "duration": 130,
    "start_time": "2023-08-13T14:06:32.413Z"
   },
   {
    "duration": 15,
    "start_time": "2023-08-13T14:07:15.492Z"
   },
   {
    "duration": 121,
    "start_time": "2023-08-13T14:23:36.105Z"
   },
   {
    "duration": 8,
    "start_time": "2023-08-13T14:24:14.608Z"
   },
   {
    "duration": 17,
    "start_time": "2023-08-13T14:24:18.871Z"
   },
   {
    "duration": 197,
    "start_time": "2023-08-13T14:24:19.537Z"
   },
   {
    "duration": 132,
    "start_time": "2023-08-13T14:26:21.804Z"
   },
   {
    "duration": 121,
    "start_time": "2023-08-13T14:26:39.893Z"
   },
   {
    "duration": 130,
    "start_time": "2023-08-13T14:27:12.589Z"
   },
   {
    "duration": 129,
    "start_time": "2023-08-13T14:27:27.718Z"
   },
   {
    "duration": 14,
    "start_time": "2023-08-13T14:27:56.004Z"
   },
   {
    "duration": 16,
    "start_time": "2023-08-13T14:29:49.543Z"
   },
   {
    "duration": 120,
    "start_time": "2023-08-13T14:30:57.029Z"
   },
   {
    "duration": 134,
    "start_time": "2023-08-13T14:33:23.429Z"
   },
   {
    "duration": 129,
    "start_time": "2023-08-13T14:33:40.335Z"
   },
   {
    "duration": 8,
    "start_time": "2023-08-13T14:36:03.418Z"
   },
   {
    "duration": 10,
    "start_time": "2023-08-13T14:36:07.394Z"
   },
   {
    "duration": 14,
    "start_time": "2023-08-13T14:36:16.599Z"
   },
   {
    "duration": 124,
    "start_time": "2023-08-13T14:36:18.294Z"
   },
   {
    "duration": 115,
    "start_time": "2023-08-13T14:37:24.410Z"
   },
   {
    "duration": 131,
    "start_time": "2023-08-13T14:47:22.105Z"
   },
   {
    "duration": 200,
    "start_time": "2023-08-13T14:47:41.913Z"
   },
   {
    "duration": 137,
    "start_time": "2023-08-13T14:47:50.454Z"
   },
   {
    "duration": 186,
    "start_time": "2023-08-13T14:48:33.996Z"
   },
   {
    "duration": 126,
    "start_time": "2023-08-13T14:48:44.708Z"
   },
   {
    "duration": 124,
    "start_time": "2023-08-13T14:48:57.900Z"
   },
   {
    "duration": 124,
    "start_time": "2023-08-13T14:49:08.682Z"
   },
   {
    "duration": 148,
    "start_time": "2023-08-13T14:49:29.923Z"
   },
   {
    "duration": 129,
    "start_time": "2023-08-13T14:49:42.575Z"
   },
   {
    "duration": 151,
    "start_time": "2023-08-13T14:49:57.647Z"
   },
   {
    "duration": 162,
    "start_time": "2023-08-13T14:51:03.840Z"
   },
   {
    "duration": 16,
    "start_time": "2023-08-13T14:51:43.823Z"
   },
   {
    "duration": 135,
    "start_time": "2023-08-13T14:52:14.831Z"
   },
   {
    "duration": 18,
    "start_time": "2023-08-13T15:00:36.951Z"
   },
   {
    "duration": 10,
    "start_time": "2023-08-13T15:07:13.815Z"
   },
   {
    "duration": 30,
    "start_time": "2023-08-13T15:07:22.426Z"
   },
   {
    "duration": 11,
    "start_time": "2023-08-13T15:12:25.408Z"
   },
   {
    "duration": 17,
    "start_time": "2023-08-13T15:13:06.218Z"
   },
   {
    "duration": 18,
    "start_time": "2023-08-13T15:13:26.636Z"
   },
   {
    "duration": 37,
    "start_time": "2023-08-13T15:13:44.346Z"
   },
   {
    "duration": 19,
    "start_time": "2023-08-13T15:14:00.708Z"
   },
   {
    "duration": 145,
    "start_time": "2023-08-13T15:17:02.233Z"
   },
   {
    "duration": 138,
    "start_time": "2023-08-13T15:22:51.850Z"
   },
   {
    "duration": 106,
    "start_time": "2023-08-13T15:22:57.805Z"
   },
   {
    "duration": 518,
    "start_time": "2023-08-13T15:23:11.733Z"
   },
   {
    "duration": 28,
    "start_time": "2023-08-13T15:23:12.254Z"
   },
   {
    "duration": 15,
    "start_time": "2023-08-13T15:23:12.283Z"
   },
   {
    "duration": 12,
    "start_time": "2023-08-13T15:23:12.301Z"
   },
   {
    "duration": 47,
    "start_time": "2023-08-13T15:23:12.315Z"
   },
   {
    "duration": 6,
    "start_time": "2023-08-13T15:23:12.366Z"
   },
   {
    "duration": 10,
    "start_time": "2023-08-13T15:23:12.374Z"
   },
   {
    "duration": 5,
    "start_time": "2023-08-13T15:23:12.386Z"
   },
   {
    "duration": 7,
    "start_time": "2023-08-13T15:23:12.393Z"
   },
   {
    "duration": 4,
    "start_time": "2023-08-13T15:23:12.404Z"
   },
   {
    "duration": 66,
    "start_time": "2023-08-13T15:23:12.410Z"
   },
   {
    "duration": 9,
    "start_time": "2023-08-13T15:23:12.478Z"
   },
   {
    "duration": 8,
    "start_time": "2023-08-13T15:23:12.489Z"
   },
   {
    "duration": 16,
    "start_time": "2023-08-13T15:23:12.498Z"
   },
   {
    "duration": 20,
    "start_time": "2023-08-13T15:23:12.515Z"
   },
   {
    "duration": 43,
    "start_time": "2023-08-13T15:23:12.536Z"
   },
   {
    "duration": 3,
    "start_time": "2023-08-13T15:23:12.581Z"
   },
   {
    "duration": 29,
    "start_time": "2023-08-13T15:23:12.586Z"
   },
   {
    "duration": 5,
    "start_time": "2023-08-13T15:23:12.617Z"
   },
   {
    "duration": 4,
    "start_time": "2023-08-13T15:23:12.624Z"
   },
   {
    "duration": 37,
    "start_time": "2023-08-13T15:23:12.629Z"
   },
   {
    "duration": 11,
    "start_time": "2023-08-13T15:23:12.668Z"
   },
   {
    "duration": 7,
    "start_time": "2023-08-13T15:23:12.680Z"
   },
   {
    "duration": 6,
    "start_time": "2023-08-13T15:23:12.689Z"
   },
   {
    "duration": 8,
    "start_time": "2023-08-13T15:23:12.696Z"
   },
   {
    "duration": 11,
    "start_time": "2023-08-13T15:23:12.705Z"
   },
   {
    "duration": 14,
    "start_time": "2023-08-13T15:23:12.717Z"
   },
   {
    "duration": 452,
    "start_time": "2023-08-13T15:23:12.758Z"
   },
   {
    "duration": 112,
    "start_time": "2023-08-13T15:23:13.212Z"
   },
   {
    "duration": 0,
    "start_time": "2023-08-13T15:23:13.326Z"
   },
   {
    "duration": 0,
    "start_time": "2023-08-13T15:23:13.327Z"
   },
   {
    "duration": 0,
    "start_time": "2023-08-13T15:23:13.329Z"
   },
   {
    "duration": 0,
    "start_time": "2023-08-13T15:23:13.330Z"
   },
   {
    "duration": 0,
    "start_time": "2023-08-13T15:23:13.331Z"
   },
   {
    "duration": 0,
    "start_time": "2023-08-13T15:23:13.332Z"
   },
   {
    "duration": 0,
    "start_time": "2023-08-13T15:23:13.333Z"
   },
   {
    "duration": 0,
    "start_time": "2023-08-13T15:23:13.334Z"
   },
   {
    "duration": 0,
    "start_time": "2023-08-13T15:23:13.335Z"
   },
   {
    "duration": 0,
    "start_time": "2023-08-13T15:23:13.336Z"
   },
   {
    "duration": 0,
    "start_time": "2023-08-13T15:23:13.337Z"
   },
   {
    "duration": 0,
    "start_time": "2023-08-13T15:23:13.338Z"
   },
   {
    "duration": 0,
    "start_time": "2023-08-13T15:23:13.339Z"
   },
   {
    "duration": 0,
    "start_time": "2023-08-13T15:23:13.340Z"
   },
   {
    "duration": 0,
    "start_time": "2023-08-13T15:23:13.341Z"
   },
   {
    "duration": 0,
    "start_time": "2023-08-13T15:23:13.342Z"
   },
   {
    "duration": 0,
    "start_time": "2023-08-13T15:23:13.343Z"
   },
   {
    "duration": 0,
    "start_time": "2023-08-13T15:23:13.344Z"
   },
   {
    "duration": 0,
    "start_time": "2023-08-13T15:23:13.344Z"
   },
   {
    "duration": 0,
    "start_time": "2023-08-13T15:23:13.345Z"
   },
   {
    "duration": 0,
    "start_time": "2023-08-13T15:23:13.346Z"
   },
   {
    "duration": 0,
    "start_time": "2023-08-13T15:23:13.348Z"
   },
   {
    "duration": 1,
    "start_time": "2023-08-13T15:23:13.348Z"
   },
   {
    "duration": 0,
    "start_time": "2023-08-13T15:23:13.349Z"
   },
   {
    "duration": 149,
    "start_time": "2023-08-13T15:24:15.471Z"
   },
   {
    "duration": 146,
    "start_time": "2023-08-13T15:24:49.914Z"
   },
   {
    "duration": 13,
    "start_time": "2023-08-13T15:24:51.805Z"
   },
   {
    "duration": 125,
    "start_time": "2023-08-13T15:24:57.327Z"
   },
   {
    "duration": 496,
    "start_time": "2023-08-13T15:25:20.245Z"
   },
   {
    "duration": 24,
    "start_time": "2023-08-13T15:25:20.743Z"
   },
   {
    "duration": 15,
    "start_time": "2023-08-13T15:25:20.769Z"
   },
   {
    "duration": 10,
    "start_time": "2023-08-13T15:25:20.786Z"
   },
   {
    "duration": 34,
    "start_time": "2023-08-13T15:25:20.797Z"
   },
   {
    "duration": 27,
    "start_time": "2023-08-13T15:25:20.833Z"
   },
   {
    "duration": 9,
    "start_time": "2023-08-13T15:25:20.861Z"
   },
   {
    "duration": 26,
    "start_time": "2023-08-13T15:25:20.871Z"
   },
   {
    "duration": 11,
    "start_time": "2023-08-13T15:25:20.899Z"
   },
   {
    "duration": 4,
    "start_time": "2023-08-13T15:25:20.915Z"
   },
   {
    "duration": 44,
    "start_time": "2023-08-13T15:25:20.921Z"
   },
   {
    "duration": 12,
    "start_time": "2023-08-13T15:25:20.967Z"
   },
   {
    "duration": 4,
    "start_time": "2023-08-13T15:25:20.981Z"
   },
   {
    "duration": 18,
    "start_time": "2023-08-13T15:25:20.987Z"
   },
   {
    "duration": 27,
    "start_time": "2023-08-13T15:25:21.007Z"
   },
   {
    "duration": 20,
    "start_time": "2023-08-13T15:25:21.060Z"
   },
   {
    "duration": 6,
    "start_time": "2023-08-13T15:25:21.082Z"
   },
   {
    "duration": 54,
    "start_time": "2023-08-13T15:25:21.089Z"
   },
   {
    "duration": 7,
    "start_time": "2023-08-13T15:25:21.145Z"
   },
   {
    "duration": 4,
    "start_time": "2023-08-13T15:25:21.159Z"
   },
   {
    "duration": 12,
    "start_time": "2023-08-13T15:25:21.164Z"
   },
   {
    "duration": 5,
    "start_time": "2023-08-13T15:25:21.178Z"
   },
   {
    "duration": 6,
    "start_time": "2023-08-13T15:25:21.185Z"
   },
   {
    "duration": 6,
    "start_time": "2023-08-13T15:25:21.193Z"
   },
   {
    "duration": 8,
    "start_time": "2023-08-13T15:25:21.201Z"
   },
   {
    "duration": 50,
    "start_time": "2023-08-13T15:25:21.210Z"
   },
   {
    "duration": 16,
    "start_time": "2023-08-13T15:25:21.262Z"
   },
   {
    "duration": 414,
    "start_time": "2023-08-13T15:25:21.281Z"
   },
   {
    "duration": 105,
    "start_time": "2023-08-13T15:25:21.697Z"
   },
   {
    "duration": 0,
    "start_time": "2023-08-13T15:25:21.804Z"
   },
   {
    "duration": 0,
    "start_time": "2023-08-13T15:25:21.805Z"
   },
   {
    "duration": 0,
    "start_time": "2023-08-13T15:25:21.806Z"
   },
   {
    "duration": 0,
    "start_time": "2023-08-13T15:25:21.807Z"
   },
   {
    "duration": 0,
    "start_time": "2023-08-13T15:25:21.808Z"
   },
   {
    "duration": 0,
    "start_time": "2023-08-13T15:25:21.809Z"
   },
   {
    "duration": 0,
    "start_time": "2023-08-13T15:25:21.810Z"
   },
   {
    "duration": 0,
    "start_time": "2023-08-13T15:25:21.811Z"
   },
   {
    "duration": 0,
    "start_time": "2023-08-13T15:25:21.812Z"
   },
   {
    "duration": 0,
    "start_time": "2023-08-13T15:25:21.813Z"
   },
   {
    "duration": 0,
    "start_time": "2023-08-13T15:25:21.814Z"
   },
   {
    "duration": 0,
    "start_time": "2023-08-13T15:25:21.815Z"
   },
   {
    "duration": 0,
    "start_time": "2023-08-13T15:25:21.815Z"
   },
   {
    "duration": 0,
    "start_time": "2023-08-13T15:25:21.816Z"
   },
   {
    "duration": 0,
    "start_time": "2023-08-13T15:25:21.817Z"
   },
   {
    "duration": 0,
    "start_time": "2023-08-13T15:25:21.818Z"
   },
   {
    "duration": 0,
    "start_time": "2023-08-13T15:25:21.819Z"
   },
   {
    "duration": 0,
    "start_time": "2023-08-13T15:25:21.820Z"
   },
   {
    "duration": 0,
    "start_time": "2023-08-13T15:25:21.821Z"
   },
   {
    "duration": 0,
    "start_time": "2023-08-13T15:25:21.822Z"
   },
   {
    "duration": 0,
    "start_time": "2023-08-13T15:25:21.823Z"
   },
   {
    "duration": 0,
    "start_time": "2023-08-13T15:25:21.824Z"
   },
   {
    "duration": 0,
    "start_time": "2023-08-13T15:25:21.825Z"
   },
   {
    "duration": 0,
    "start_time": "2023-08-13T15:25:21.826Z"
   },
   {
    "duration": 17,
    "start_time": "2023-08-13T15:30:50.204Z"
   },
   {
    "duration": 8,
    "start_time": "2023-08-13T15:32:26.144Z"
   },
   {
    "duration": 9,
    "start_time": "2023-08-13T15:32:26.991Z"
   },
   {
    "duration": 14,
    "start_time": "2023-08-13T15:32:27.907Z"
   },
   {
    "duration": 16,
    "start_time": "2023-08-13T15:32:28.615Z"
   },
   {
    "duration": 82,
    "start_time": "2023-08-13T15:32:32.439Z"
   },
   {
    "duration": 14,
    "start_time": "2023-08-13T15:32:54.352Z"
   },
   {
    "duration": 9,
    "start_time": "2023-08-13T15:32:58.140Z"
   },
   {
    "duration": 9,
    "start_time": "2023-08-13T15:32:58.807Z"
   },
   {
    "duration": 13,
    "start_time": "2023-08-13T15:32:59.828Z"
   },
   {
    "duration": 16,
    "start_time": "2023-08-13T15:33:00.948Z"
   },
   {
    "duration": 23,
    "start_time": "2023-08-13T15:33:02.620Z"
   },
   {
    "duration": 24,
    "start_time": "2023-08-13T15:33:42.973Z"
   },
   {
    "duration": 223,
    "start_time": "2023-08-13T15:33:44.924Z"
   },
   {
    "duration": 10,
    "start_time": "2023-08-13T15:33:58.901Z"
   },
   {
    "duration": 10,
    "start_time": "2023-08-13T15:33:59.452Z"
   },
   {
    "duration": 17,
    "start_time": "2023-08-13T15:34:00.160Z"
   },
   {
    "duration": 20,
    "start_time": "2023-08-13T15:34:00.934Z"
   },
   {
    "duration": 37,
    "start_time": "2023-08-13T15:34:03.224Z"
   },
   {
    "duration": 131,
    "start_time": "2023-08-13T15:38:42.953Z"
   },
   {
    "duration": 8,
    "start_time": "2023-08-13T18:02:23.371Z"
   },
   {
    "duration": 11,
    "start_time": "2023-08-13T18:02:24.051Z"
   },
   {
    "duration": 15,
    "start_time": "2023-08-13T18:02:24.745Z"
   },
   {
    "duration": 17,
    "start_time": "2023-08-13T18:02:25.722Z"
   },
   {
    "duration": 140,
    "start_time": "2023-08-13T18:14:36.252Z"
   },
   {
    "duration": 515,
    "start_time": "2023-08-13T18:18:13.577Z"
   },
   {
    "duration": 33,
    "start_time": "2023-08-13T18:18:14.096Z"
   },
   {
    "duration": 38,
    "start_time": "2023-08-13T18:18:14.131Z"
   },
   {
    "duration": 14,
    "start_time": "2023-08-13T18:18:14.173Z"
   },
   {
    "duration": 46,
    "start_time": "2023-08-13T18:18:14.189Z"
   },
   {
    "duration": 25,
    "start_time": "2023-08-13T18:18:14.238Z"
   },
   {
    "duration": 18,
    "start_time": "2023-08-13T18:18:14.266Z"
   },
   {
    "duration": 6,
    "start_time": "2023-08-13T18:18:14.288Z"
   },
   {
    "duration": 9,
    "start_time": "2023-08-13T18:18:14.296Z"
   },
   {
    "duration": 6,
    "start_time": "2023-08-13T18:18:14.311Z"
   },
   {
    "duration": 75,
    "start_time": "2023-08-13T18:18:14.319Z"
   },
   {
    "duration": 13,
    "start_time": "2023-08-13T18:18:14.396Z"
   },
   {
    "duration": 6,
    "start_time": "2023-08-13T18:18:14.412Z"
   },
   {
    "duration": 22,
    "start_time": "2023-08-13T18:18:14.420Z"
   },
   {
    "duration": 40,
    "start_time": "2023-08-13T18:18:14.444Z"
   },
   {
    "duration": 17,
    "start_time": "2023-08-13T18:18:14.485Z"
   },
   {
    "duration": 3,
    "start_time": "2023-08-13T18:18:14.504Z"
   },
   {
    "duration": 29,
    "start_time": "2023-08-13T18:18:14.508Z"
   },
   {
    "duration": 8,
    "start_time": "2023-08-13T18:18:14.560Z"
   },
   {
    "duration": 4,
    "start_time": "2023-08-13T18:18:14.570Z"
   },
   {
    "duration": 11,
    "start_time": "2023-08-13T18:18:14.576Z"
   },
   {
    "duration": 12,
    "start_time": "2023-08-13T18:18:14.588Z"
   },
   {
    "duration": 6,
    "start_time": "2023-08-13T18:18:14.602Z"
   },
   {
    "duration": 7,
    "start_time": "2023-08-13T18:18:14.609Z"
   },
   {
    "duration": 7,
    "start_time": "2023-08-13T18:18:14.618Z"
   },
   {
    "duration": 18,
    "start_time": "2023-08-13T18:18:14.659Z"
   },
   {
    "duration": 15,
    "start_time": "2023-08-13T18:18:14.678Z"
   },
   {
    "duration": 438,
    "start_time": "2023-08-13T18:18:14.696Z"
   },
   {
    "duration": 26,
    "start_time": "2023-08-13T18:18:15.136Z"
   },
   {
    "duration": 10,
    "start_time": "2023-08-13T18:18:15.164Z"
   },
   {
    "duration": 28,
    "start_time": "2023-08-13T18:18:15.176Z"
   },
   {
    "duration": 23,
    "start_time": "2023-08-13T18:18:15.206Z"
   },
   {
    "duration": 17,
    "start_time": "2023-08-13T18:18:15.231Z"
   },
   {
    "duration": 185,
    "start_time": "2023-08-13T18:18:15.250Z"
   },
   {
    "duration": 7,
    "start_time": "2023-08-13T18:18:15.436Z"
   },
   {
    "duration": 19,
    "start_time": "2023-08-13T18:18:15.445Z"
   },
   {
    "duration": 14,
    "start_time": "2023-08-13T18:18:15.466Z"
   },
   {
    "duration": 12,
    "start_time": "2023-08-13T18:18:15.482Z"
   },
   {
    "duration": 27,
    "start_time": "2023-08-13T18:18:15.495Z"
   },
   {
    "duration": 7,
    "start_time": "2023-08-13T18:18:15.523Z"
   },
   {
    "duration": 37,
    "start_time": "2023-08-13T18:18:15.532Z"
   },
   {
    "duration": 14,
    "start_time": "2023-08-13T18:18:15.572Z"
   },
   {
    "duration": 21,
    "start_time": "2023-08-13T18:18:15.589Z"
   },
   {
    "duration": 180,
    "start_time": "2023-08-13T18:18:15.612Z"
   },
   {
    "duration": 5,
    "start_time": "2023-08-13T18:18:15.795Z"
   },
   {
    "duration": 6,
    "start_time": "2023-08-13T18:18:15.801Z"
   },
   {
    "duration": 8,
    "start_time": "2023-08-13T18:18:15.808Z"
   },
   {
    "duration": 6,
    "start_time": "2023-08-13T18:18:15.817Z"
   },
   {
    "duration": 5,
    "start_time": "2023-08-13T18:18:15.824Z"
   },
   {
    "duration": 30,
    "start_time": "2023-08-13T18:18:15.830Z"
   },
   {
    "duration": 6,
    "start_time": "2023-08-13T18:18:15.863Z"
   },
   {
    "duration": 12,
    "start_time": "2023-08-13T18:18:15.870Z"
   }
  ],
  "colab": {
   "name": "dpp_template_part2.ipynb",
   "provenance": []
  },
  "kernelspec": {
   "display_name": "Python 3",
   "language": "python",
   "name": "python3"
  },
  "language_info": {
   "codemirror_mode": {
    "name": "ipython",
    "version": 3
   },
   "file_extension": ".py",
   "mimetype": "text/x-python",
   "name": "python",
   "nbconvert_exporter": "python",
   "pygments_lexer": "ipython3",
   "version": "3.9.5"
  },
  "toc": {
   "base_numbering": 1,
   "nav_menu": {},
   "number_sections": true,
   "sideBar": true,
   "skip_h1_title": true,
   "title_cell": "Table of Contents",
   "title_sidebar": "Contents",
   "toc_cell": false,
   "toc_position": {},
   "toc_section_display": true,
   "toc_window_display": false
  }
 },
 "nbformat": 4,
 "nbformat_minor": 5
}
