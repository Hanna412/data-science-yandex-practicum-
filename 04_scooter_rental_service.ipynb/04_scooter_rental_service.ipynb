{
 "cells": [
  {
   "cell_type": "markdown",
   "id": "0668279c",
   "metadata": {},
   "source": [
    "# Исследование сервиса аренды самокатов GoFast"
   ]
  },
  {
   "cell_type": "markdown",
   "id": "87774576",
   "metadata": {},
   "source": [
    "В нашем распоряжении данные о некоторых пользователях самокатов GoFast из нескольких городов, а также об их поездках. \n",
    "Даны 3 таблицы с  информация о пользователях, их поездках и подписках. \n",
    "\n",
    "**Цель проекта** проанализировать данные и проверить некоторые гипотезы, которые могут помочь бизнесу вырасти, а главное являются ли пользователи с подпиской более выгодными для компании.\n",
    "\n",
    "**План работы:**\n",
    "\n",
    "1. Проведем предобработку данных\n",
    "2. Проведем исследовательский анализ данных\n",
    "3. Объединим данные в общую таблицу и выделим группы пользователей с подпиской и без подписки в отдельные таблицы для анализа\n",
    "4. Создадим датафрейм с агрегированными данными о поездках на основе объединенной таблицы и данных по подписке: найдем суммарное расстояние, количество поездок и суммарное время для каждого пользователя за каждый месяц.\n",
    "5. Оценим являются ли пользователи с подпиской более выгодными для компании, для этого проверим предварительно: тратят ли пользователи с подпиской больше времени на поездки; будет ли помесячная выручка от пользователей с подпиской по месяцам выше, чем выручка от пользователей без подписки; а также проверим среднее расстояние, которое проезжают пользователи с подпиской за одну поездку.\n",
    "\n",
    "Сделаем выводы."
   ]
  },
  {
   "cell_type": "code",
   "execution_count": 1,
   "id": "72576667",
   "metadata": {},
   "outputs": [],
   "source": [
    "import pandas as pd\n",
    "import matplotlib.pyplot as plt\n",
    "import math\n",
    "import numpy as np\n",
    "from scipy import stats as st"
   ]
  },
  {
   "cell_type": "markdown",
   "id": "c42cbe00",
   "metadata": {},
   "source": [
    "#### Шаг 1. Загрузка данных"
   ]
  },
  {
   "cell_type": "code",
   "execution_count": 2,
   "id": "eff9f206",
   "metadata": {},
   "outputs": [],
   "source": [
    "users = pd.read_csv('users_go.csv')\n",
    "rides = pd.read_csv('rides_go.csv')\n",
    "subscriptions = pd.read_csv('subscriptions_go.csv')"
   ]
  },
  {
   "cell_type": "markdown",
   "id": "656f2f62",
   "metadata": {},
   "source": [
    "Выведем первые строки каждого набора данных. Изучим общую информацию о каждом датафрейме."
   ]
  },
  {
   "cell_type": "code",
   "execution_count": 48,
   "id": "2a16b047",
   "metadata": {
    "scrolled": true
   },
   "outputs": [
    {
     "data": {
      "text/html": [
       "<div>\n",
       "<style scoped>\n",
       "    .dataframe tbody tr th:only-of-type {\n",
       "        vertical-align: middle;\n",
       "    }\n",
       "\n",
       "    .dataframe tbody tr th {\n",
       "        vertical-align: top;\n",
       "    }\n",
       "\n",
       "    .dataframe thead th {\n",
       "        text-align: right;\n",
       "    }\n",
       "</style>\n",
       "<table border=\"1\" class=\"dataframe\">\n",
       "  <thead>\n",
       "    <tr style=\"text-align: right;\">\n",
       "      <th></th>\n",
       "      <th>user_id</th>\n",
       "      <th>name</th>\n",
       "      <th>age</th>\n",
       "      <th>city</th>\n",
       "      <th>subscription_type</th>\n",
       "    </tr>\n",
       "  </thead>\n",
       "  <tbody>\n",
       "    <tr>\n",
       "      <th>722</th>\n",
       "      <td>723</td>\n",
       "      <td>Роберт</td>\n",
       "      <td>24</td>\n",
       "      <td>Ростов-на-Дону</td>\n",
       "      <td>free</td>\n",
       "    </tr>\n",
       "    <tr>\n",
       "      <th>298</th>\n",
       "      <td>299</td>\n",
       "      <td>Агата</td>\n",
       "      <td>19</td>\n",
       "      <td>Омск</td>\n",
       "      <td>ultra</td>\n",
       "    </tr>\n",
       "    <tr>\n",
       "      <th>1075</th>\n",
       "      <td>1076</td>\n",
       "      <td>Софья</td>\n",
       "      <td>22</td>\n",
       "      <td>Екатеринбург</td>\n",
       "      <td>free</td>\n",
       "    </tr>\n",
       "    <tr>\n",
       "      <th>1285</th>\n",
       "      <td>1286</td>\n",
       "      <td>Кира</td>\n",
       "      <td>21</td>\n",
       "      <td>Москва</td>\n",
       "      <td>free</td>\n",
       "    </tr>\n",
       "    <tr>\n",
       "      <th>77</th>\n",
       "      <td>78</td>\n",
       "      <td>Ростислав</td>\n",
       "      <td>21</td>\n",
       "      <td>Пятигорск</td>\n",
       "      <td>ultra</td>\n",
       "    </tr>\n",
       "  </tbody>\n",
       "</table>\n",
       "</div>"
      ],
      "text/plain": [
       "      user_id       name  age            city subscription_type\n",
       "722       723     Роберт   24  Ростов-на-Дону              free\n",
       "298       299      Агата   19            Омск             ultra\n",
       "1075     1076      Софья   22    Екатеринбург              free\n",
       "1285     1286       Кира   21          Москва              free\n",
       "77         78  Ростислав   21       Пятигорск             ultra"
      ]
     },
     "execution_count": 48,
     "metadata": {},
     "output_type": "execute_result"
    }
   ],
   "source": [
    "users.sample(5)"
   ]
  },
  {
   "cell_type": "code",
   "execution_count": 4,
   "id": "1539511a",
   "metadata": {},
   "outputs": [
    {
     "data": {
      "text/html": [
       "<div>\n",
       "<style scoped>\n",
       "    .dataframe tbody tr th:only-of-type {\n",
       "        vertical-align: middle;\n",
       "    }\n",
       "\n",
       "    .dataframe tbody tr th {\n",
       "        vertical-align: top;\n",
       "    }\n",
       "\n",
       "    .dataframe thead th {\n",
       "        text-align: right;\n",
       "    }\n",
       "</style>\n",
       "<table border=\"1\" class=\"dataframe\">\n",
       "  <thead>\n",
       "    <tr style=\"text-align: right;\">\n",
       "      <th></th>\n",
       "      <th>user_id</th>\n",
       "      <th>age</th>\n",
       "    </tr>\n",
       "  </thead>\n",
       "  <tbody>\n",
       "    <tr>\n",
       "      <th>count</th>\n",
       "      <td>1565.000000</td>\n",
       "      <td>1565.000000</td>\n",
       "    </tr>\n",
       "    <tr>\n",
       "      <th>mean</th>\n",
       "      <td>762.633866</td>\n",
       "      <td>24.922045</td>\n",
       "    </tr>\n",
       "    <tr>\n",
       "      <th>std</th>\n",
       "      <td>443.260155</td>\n",
       "      <td>4.553496</td>\n",
       "    </tr>\n",
       "    <tr>\n",
       "      <th>min</th>\n",
       "      <td>1.000000</td>\n",
       "      <td>12.000000</td>\n",
       "    </tr>\n",
       "    <tr>\n",
       "      <th>25%</th>\n",
       "      <td>378.000000</td>\n",
       "      <td>22.000000</td>\n",
       "    </tr>\n",
       "    <tr>\n",
       "      <th>50%</th>\n",
       "      <td>762.000000</td>\n",
       "      <td>25.000000</td>\n",
       "    </tr>\n",
       "    <tr>\n",
       "      <th>75%</th>\n",
       "      <td>1146.000000</td>\n",
       "      <td>28.000000</td>\n",
       "    </tr>\n",
       "    <tr>\n",
       "      <th>max</th>\n",
       "      <td>1534.000000</td>\n",
       "      <td>43.000000</td>\n",
       "    </tr>\n",
       "  </tbody>\n",
       "</table>\n",
       "</div>"
      ],
      "text/plain": [
       "           user_id          age\n",
       "count  1565.000000  1565.000000\n",
       "mean    762.633866    24.922045\n",
       "std     443.260155     4.553496\n",
       "min       1.000000    12.000000\n",
       "25%     378.000000    22.000000\n",
       "50%     762.000000    25.000000\n",
       "75%    1146.000000    28.000000\n",
       "max    1534.000000    43.000000"
      ]
     },
     "execution_count": 4,
     "metadata": {},
     "output_type": "execute_result"
    }
   ],
   "source": [
    "users.describe()"
   ]
  },
  {
   "cell_type": "code",
   "execution_count": 5,
   "id": "1bf017a5",
   "metadata": {
    "scrolled": true
   },
   "outputs": [
    {
     "name": "stdout",
     "output_type": "stream",
     "text": [
      "<class 'pandas.core.frame.DataFrame'>\n",
      "RangeIndex: 1565 entries, 0 to 1564\n",
      "Data columns (total 5 columns):\n",
      " #   Column             Non-Null Count  Dtype \n",
      "---  ------             --------------  ----- \n",
      " 0   user_id            1565 non-null   int64 \n",
      " 1   name               1565 non-null   object\n",
      " 2   age                1565 non-null   int64 \n",
      " 3   city               1565 non-null   object\n",
      " 4   subscription_type  1565 non-null   object\n",
      "dtypes: int64(2), object(3)\n",
      "memory usage: 61.3+ KB\n"
     ]
    }
   ],
   "source": [
    "users.info()"
   ]
  },
  {
   "cell_type": "code",
   "execution_count": 49,
   "id": "31ff96e3",
   "metadata": {
    "scrolled": true
   },
   "outputs": [
    {
     "data": {
      "text/html": [
       "<div>\n",
       "<style scoped>\n",
       "    .dataframe tbody tr th:only-of-type {\n",
       "        vertical-align: middle;\n",
       "    }\n",
       "\n",
       "    .dataframe tbody tr th {\n",
       "        vertical-align: top;\n",
       "    }\n",
       "\n",
       "    .dataframe thead th {\n",
       "        text-align: right;\n",
       "    }\n",
       "</style>\n",
       "<table border=\"1\" class=\"dataframe\">\n",
       "  <thead>\n",
       "    <tr style=\"text-align: right;\">\n",
       "      <th></th>\n",
       "      <th>user_id</th>\n",
       "      <th>distance</th>\n",
       "      <th>duration</th>\n",
       "      <th>date</th>\n",
       "      <th>month</th>\n",
       "    </tr>\n",
       "  </thead>\n",
       "  <tbody>\n",
       "    <tr>\n",
       "      <th>5379</th>\n",
       "      <td>576</td>\n",
       "      <td>3333.665862</td>\n",
       "      <td>13.408146</td>\n",
       "      <td>2021-11-05</td>\n",
       "      <td>11</td>\n",
       "    </tr>\n",
       "    <tr>\n",
       "      <th>5156</th>\n",
       "      <td>554</td>\n",
       "      <td>987.806496</td>\n",
       "      <td>10.279553</td>\n",
       "      <td>2021-12-07</td>\n",
       "      <td>12</td>\n",
       "    </tr>\n",
       "    <tr>\n",
       "      <th>12598</th>\n",
       "      <td>1147</td>\n",
       "      <td>2894.506241</td>\n",
       "      <td>26.788216</td>\n",
       "      <td>2021-06-20</td>\n",
       "      <td>6</td>\n",
       "    </tr>\n",
       "    <tr>\n",
       "      <th>5304</th>\n",
       "      <td>570</td>\n",
       "      <td>2598.534410</td>\n",
       "      <td>15.992672</td>\n",
       "      <td>2021-05-22</td>\n",
       "      <td>5</td>\n",
       "    </tr>\n",
       "    <tr>\n",
       "      <th>4423</th>\n",
       "      <td>476</td>\n",
       "      <td>2997.686906</td>\n",
       "      <td>22.990748</td>\n",
       "      <td>2021-04-02</td>\n",
       "      <td>4</td>\n",
       "    </tr>\n",
       "  </tbody>\n",
       "</table>\n",
       "</div>"
      ],
      "text/plain": [
       "       user_id     distance   duration       date  month\n",
       "5379       576  3333.665862  13.408146 2021-11-05     11\n",
       "5156       554   987.806496  10.279553 2021-12-07     12\n",
       "12598     1147  2894.506241  26.788216 2021-06-20      6\n",
       "5304       570  2598.534410  15.992672 2021-05-22      5\n",
       "4423       476  2997.686906  22.990748 2021-04-02      4"
      ]
     },
     "execution_count": 49,
     "metadata": {},
     "output_type": "execute_result"
    }
   ],
   "source": [
    "rides.sample(5)"
   ]
  },
  {
   "cell_type": "code",
   "execution_count": 50,
   "id": "4f35a557",
   "metadata": {},
   "outputs": [
    {
     "data": {
      "text/html": [
       "<div>\n",
       "<style scoped>\n",
       "    .dataframe tbody tr th:only-of-type {\n",
       "        vertical-align: middle;\n",
       "    }\n",
       "\n",
       "    .dataframe tbody tr th {\n",
       "        vertical-align: top;\n",
       "    }\n",
       "\n",
       "    .dataframe thead th {\n",
       "        text-align: right;\n",
       "    }\n",
       "</style>\n",
       "<table border=\"1\" class=\"dataframe\">\n",
       "  <thead>\n",
       "    <tr style=\"text-align: right;\">\n",
       "      <th></th>\n",
       "      <th>user_id</th>\n",
       "      <th>distance</th>\n",
       "      <th>duration</th>\n",
       "      <th>date</th>\n",
       "      <th>month</th>\n",
       "    </tr>\n",
       "  </thead>\n",
       "  <tbody>\n",
       "    <tr>\n",
       "      <th>count</th>\n",
       "      <td>18068.000000</td>\n",
       "      <td>18068.000000</td>\n",
       "      <td>18068.000000</td>\n",
       "      <td>18068</td>\n",
       "      <td>18068.000000</td>\n",
       "    </tr>\n",
       "    <tr>\n",
       "      <th>mean</th>\n",
       "      <td>842.869936</td>\n",
       "      <td>3070.659976</td>\n",
       "      <td>17.805011</td>\n",
       "      <td>2021-06-30 19:47:21.266327296</td>\n",
       "      <td>6.486772</td>\n",
       "    </tr>\n",
       "    <tr>\n",
       "      <th>min</th>\n",
       "      <td>1.000000</td>\n",
       "      <td>0.855683</td>\n",
       "      <td>0.500000</td>\n",
       "      <td>2021-01-01 00:00:00</td>\n",
       "      <td>1.000000</td>\n",
       "    </tr>\n",
       "    <tr>\n",
       "      <th>25%</th>\n",
       "      <td>487.000000</td>\n",
       "      <td>2543.226360</td>\n",
       "      <td>13.597563</td>\n",
       "      <td>2021-04-02 00:00:00</td>\n",
       "      <td>4.000000</td>\n",
       "    </tr>\n",
       "    <tr>\n",
       "      <th>50%</th>\n",
       "      <td>889.000000</td>\n",
       "      <td>3133.609994</td>\n",
       "      <td>17.678395</td>\n",
       "      <td>2021-06-30 00:00:00</td>\n",
       "      <td>6.000000</td>\n",
       "    </tr>\n",
       "    <tr>\n",
       "      <th>75%</th>\n",
       "      <td>1213.250000</td>\n",
       "      <td>3776.222735</td>\n",
       "      <td>21.724800</td>\n",
       "      <td>2021-09-28 00:00:00</td>\n",
       "      <td>9.000000</td>\n",
       "    </tr>\n",
       "    <tr>\n",
       "      <th>max</th>\n",
       "      <td>1534.000000</td>\n",
       "      <td>7211.007745</td>\n",
       "      <td>40.823963</td>\n",
       "      <td>2021-12-30 00:00:00</td>\n",
       "      <td>12.000000</td>\n",
       "    </tr>\n",
       "    <tr>\n",
       "      <th>std</th>\n",
       "      <td>434.734317</td>\n",
       "      <td>1116.831209</td>\n",
       "      <td>6.091051</td>\n",
       "      <td>NaN</td>\n",
       "      <td>3.437410</td>\n",
       "    </tr>\n",
       "  </tbody>\n",
       "</table>\n",
       "</div>"
      ],
      "text/plain": [
       "            user_id      distance      duration  \\\n",
       "count  18068.000000  18068.000000  18068.000000   \n",
       "mean     842.869936   3070.659976     17.805011   \n",
       "min        1.000000      0.855683      0.500000   \n",
       "25%      487.000000   2543.226360     13.597563   \n",
       "50%      889.000000   3133.609994     17.678395   \n",
       "75%     1213.250000   3776.222735     21.724800   \n",
       "max     1534.000000   7211.007745     40.823963   \n",
       "std      434.734317   1116.831209      6.091051   \n",
       "\n",
       "                                date         month  \n",
       "count                          18068  18068.000000  \n",
       "mean   2021-06-30 19:47:21.266327296      6.486772  \n",
       "min              2021-01-01 00:00:00      1.000000  \n",
       "25%              2021-04-02 00:00:00      4.000000  \n",
       "50%              2021-06-30 00:00:00      6.000000  \n",
       "75%              2021-09-28 00:00:00      9.000000  \n",
       "max              2021-12-30 00:00:00     12.000000  \n",
       "std                              NaN      3.437410  "
      ]
     },
     "execution_count": 50,
     "metadata": {},
     "output_type": "execute_result"
    }
   ],
   "source": [
    "rides.describe()"
   ]
  },
  {
   "cell_type": "code",
   "execution_count": 51,
   "id": "6aceac63",
   "metadata": {
    "scrolled": true
   },
   "outputs": [
    {
     "name": "stdout",
     "output_type": "stream",
     "text": [
      "<class 'pandas.core.frame.DataFrame'>\n",
      "RangeIndex: 18068 entries, 0 to 18067\n",
      "Data columns (total 5 columns):\n",
      " #   Column    Non-Null Count  Dtype         \n",
      "---  ------    --------------  -----         \n",
      " 0   user_id   18068 non-null  int64         \n",
      " 1   distance  18068 non-null  float64       \n",
      " 2   duration  18068 non-null  float64       \n",
      " 3   date      18068 non-null  datetime64[ns]\n",
      " 4   month     18068 non-null  int32         \n",
      "dtypes: datetime64[ns](1), float64(2), int32(1), int64(1)\n",
      "memory usage: 635.3 KB\n"
     ]
    }
   ],
   "source": [
    "rides.info()"
   ]
  },
  {
   "cell_type": "code",
   "execution_count": 52,
   "id": "794d5b73",
   "metadata": {},
   "outputs": [
    {
     "data": {
      "text/html": [
       "<div>\n",
       "<style scoped>\n",
       "    .dataframe tbody tr th:only-of-type {\n",
       "        vertical-align: middle;\n",
       "    }\n",
       "\n",
       "    .dataframe tbody tr th {\n",
       "        vertical-align: top;\n",
       "    }\n",
       "\n",
       "    .dataframe thead th {\n",
       "        text-align: right;\n",
       "    }\n",
       "</style>\n",
       "<table border=\"1\" class=\"dataframe\">\n",
       "  <thead>\n",
       "    <tr style=\"text-align: right;\">\n",
       "      <th></th>\n",
       "      <th>subscription_type</th>\n",
       "      <th>minute_price</th>\n",
       "      <th>start_ride_price</th>\n",
       "      <th>subscription_fee</th>\n",
       "    </tr>\n",
       "  </thead>\n",
       "  <tbody>\n",
       "    <tr>\n",
       "      <th>0</th>\n",
       "      <td>free</td>\n",
       "      <td>8</td>\n",
       "      <td>50</td>\n",
       "      <td>0</td>\n",
       "    </tr>\n",
       "    <tr>\n",
       "      <th>1</th>\n",
       "      <td>ultra</td>\n",
       "      <td>6</td>\n",
       "      <td>0</td>\n",
       "      <td>199</td>\n",
       "    </tr>\n",
       "  </tbody>\n",
       "</table>\n",
       "</div>"
      ],
      "text/plain": [
       "  subscription_type  minute_price  start_ride_price  subscription_fee\n",
       "0              free             8                50                 0\n",
       "1             ultra             6                 0               199"
      ]
     },
     "execution_count": 52,
     "metadata": {},
     "output_type": "execute_result"
    }
   ],
   "source": [
    "subscriptions"
   ]
  },
  {
   "cell_type": "code",
   "execution_count": 10,
   "id": "8e468aa6",
   "metadata": {},
   "outputs": [
    {
     "name": "stdout",
     "output_type": "stream",
     "text": [
      "<class 'pandas.core.frame.DataFrame'>\n",
      "RangeIndex: 2 entries, 0 to 1\n",
      "Data columns (total 4 columns):\n",
      " #   Column             Non-Null Count  Dtype \n",
      "---  ------             --------------  ----- \n",
      " 0   subscription_type  2 non-null      object\n",
      " 1   minute_price       2 non-null      int64 \n",
      " 2   start_ride_price   2 non-null      int64 \n",
      " 3   subscription_fee   2 non-null      int64 \n",
      "dtypes: int64(3), object(1)\n",
      "memory usage: 192.0+ bytes\n"
     ]
    }
   ],
   "source": [
    "subscriptions.info()"
   ]
  },
  {
   "cell_type": "markdown",
   "id": "3cdca9d3",
   "metadata": {},
   "source": [
    "**ВЫВОД** Пропущенных значений в датафреймах нет. Но видимо есть дубликаты, поскольку в таблице с пользователями 1565 строк, при этом максимальное значение ID 1534. Кроме того, надо отформатировать дату и привести ее в формат pandas."
   ]
  },
  {
   "cell_type": "markdown",
   "id": "9d614fe5",
   "metadata": {},
   "source": [
    "Проведем предобработку данных. Приведем столбец 'date' к типу даты pandas, а также проверим и избавимся от дубликатов."
   ]
  },
  {
   "cell_type": "markdown",
   "id": "e95ebca7",
   "metadata": {},
   "source": [
    "#### Шаг 2. Предобработка данных"
   ]
  },
  {
   "cell_type": "markdown",
   "id": "43311f86",
   "metadata": {},
   "source": [
    "Приведем столбец 'date' к типу даты pandas."
   ]
  },
  {
   "cell_type": "code",
   "execution_count": null,
   "id": "c305ed8c",
   "metadata": {},
   "outputs": [
    {
     "data": {
      "text/plain": [
       "0       2021-01-01\n",
       "1       2021-01-18\n",
       "2       2021-04-20\n",
       "3       2021-08-11\n",
       "4       2021-08-28\n",
       "           ...    \n",
       "18063   2021-11-04\n",
       "18064   2021-11-16\n",
       "18065   2021-11-18\n",
       "18066   2021-11-27\n",
       "18067   2021-12-29\n",
       "Name: date, Length: 18068, dtype: datetime64[ns]"
      ]
     },
     "execution_count": 11,
     "metadata": {},
     "output_type": "execute_result"
    }
   ],
   "source": [
    "rides['date'] = pd.to_datetime(rides['date'], format = '%Y-%m-%d')\n",
    "rides['date']"
   ]
  },
  {
   "cell_type": "code",
   "execution_count": 12,
   "id": "a435ce8f",
   "metadata": {
    "scrolled": true
   },
   "outputs": [
    {
     "data": {
      "text/plain": [
       "0         1\n",
       "1         1\n",
       "2         4\n",
       "3         8\n",
       "4         8\n",
       "         ..\n",
       "18063    11\n",
       "18064    11\n",
       "18065    11\n",
       "18066    11\n",
       "18067    12\n",
       "Name: month, Length: 18068, dtype: int32"
      ]
     },
     "execution_count": 12,
     "metadata": {},
     "output_type": "execute_result"
    }
   ],
   "source": [
    "rides['month'] = rides['date'].dt.month\n",
    "rides['month'] "
   ]
  },
  {
   "cell_type": "markdown",
   "id": "f7768258",
   "metadata": {},
   "source": [
    "Проверим наличие дубликатов в датафреймах."
   ]
  },
  {
   "cell_type": "code",
   "execution_count": 13,
   "id": "0e3f4247",
   "metadata": {},
   "outputs": [
    {
     "data": {
      "text/plain": [
       "31"
      ]
     },
     "execution_count": 13,
     "metadata": {},
     "output_type": "execute_result"
    }
   ],
   "source": [
    "users.duplicated().sum()"
   ]
  },
  {
   "cell_type": "code",
   "execution_count": 14,
   "id": "9908ec74",
   "metadata": {
    "scrolled": true
   },
   "outputs": [
    {
     "data": {
      "text/plain": [
       "0"
      ]
     },
     "execution_count": 14,
     "metadata": {},
     "output_type": "execute_result"
    }
   ],
   "source": [
    "rides.duplicated().sum()"
   ]
  },
  {
   "cell_type": "markdown",
   "id": "ea97350d",
   "metadata": {},
   "source": [
    "Избавимся от дубликатов первом датафрейме."
   ]
  },
  {
   "cell_type": "code",
   "execution_count": 15,
   "id": "99903ed7",
   "metadata": {
    "scrolled": true
   },
   "outputs": [],
   "source": [
    "users = users.drop_duplicates().reset_index(drop=True)"
   ]
  },
  {
   "cell_type": "markdown",
   "id": "db241938",
   "metadata": {},
   "source": [
    "**ВЫВОД** Привели столбец date к типу даты pandas. Создали новый столбец с номером месяца для удобства анализа в дальнейшем. Избавились от дубликатов, теперь количество строк соответствует количеству ID. \n",
    "\n",
    "Теперь приступим к исследовательскому анализу данных."
   ]
  },
  {
   "cell_type": "markdown",
   "id": "212593c7",
   "metadata": {},
   "source": [
    "#### Шаг 3. Исследовательский анализ данных"
   ]
  },
  {
   "cell_type": "markdown",
   "id": "cc689bcf",
   "metadata": {},
   "source": [
    "Опишим и визуализируем общую информацию о пользователях и поездках:"
   ]
  },
  {
   "cell_type": "markdown",
   "id": "b37aa7a8",
   "metadata": {},
   "source": [
    "##### Частота встречаемости городов"
   ]
  },
  {
   "cell_type": "code",
   "execution_count": 17,
   "id": "d60460c8",
   "metadata": {},
   "outputs": [
    {
     "data": {
      "text/plain": [
       "city\n",
       "Пятигорск         219\n",
       "Екатеринбург      204\n",
       "Ростов-на-Дону    198\n",
       "Краснодар         193\n",
       "Сочи              189\n",
       "Омск              183\n",
       "Тюмень            180\n",
       "Москва            168\n",
       "Name: count, dtype: int64"
      ]
     },
     "execution_count": 17,
     "metadata": {},
     "output_type": "execute_result"
    }
   ],
   "source": [
    "city_proportion = users['city'].value_counts().sort_values(ascending=False)\n",
    "city_proportion "
   ]
  },
  {
   "cell_type": "code",
   "execution_count": 18,
   "id": "b21543e9",
   "metadata": {},
   "outputs": [
    {
     "data": {
      "text/plain": [
       "191.75"
      ]
     },
     "execution_count": 18,
     "metadata": {},
     "output_type": "execute_result"
    }
   ],
   "source": [
    "users['city'].value_counts().mean()"
   ]
  },
  {
   "cell_type": "code",
   "execution_count": 19,
   "id": "e032ed97",
   "metadata": {},
   "outputs": [
    {
     "data": {
      "image/png": "[encoded data removed]",
      "text/plain": [
       "<Figure size 640x480 with 1 Axes>"
      ]
     },
     "metadata": {},
     "output_type": "display_data"
    }
   ],
   "source": [
    "ax = city_proportion.plot(kind=\"bar\",  legend=True, title='Соотношение пользователей по городам', ylabel='')\n",
    "ax.legend(bbox_to_anchor=(1, 1.02), loc='upper left')\n",
    "plt.show()"
   ]
  },
  {
   "cell_type": "markdown",
   "id": "13dffd3b",
   "metadata": {},
   "source": [
    "Всего 8 гоородов. Соотношение пользователей близкое, в среднем 191 человек в каждой локации. Больше всего пользователей в Пятигорске, минимум в Москве."
   ]
  },
  {
   "cell_type": "markdown",
   "id": "bed93763",
   "metadata": {},
   "source": [
    "##### Cоотношение пользователей с подпиской и без подписки"
   ]
  },
  {
   "cell_type": "code",
   "execution_count": 20,
   "id": "67abf0fd",
   "metadata": {
    "scrolled": true
   },
   "outputs": [
    {
     "data": {
      "text/plain": [
       "subscription_type\n",
       "free     835\n",
       "ultra    699\n",
       "Name: count, dtype: int64"
      ]
     },
     "execution_count": 20,
     "metadata": {},
     "output_type": "execute_result"
    }
   ],
   "source": [
    "users_proportion = users['subscription_type'].value_counts()\n",
    "users_proportion"
   ]
  },
  {
   "cell_type": "code",
   "execution_count": 21,
   "id": "4084699a",
   "metadata": {
    "scrolled": false
   },
   "outputs": [
    {
     "data": {
      "image/png": "[encoded data removed]",
      "text/plain": [
       "<Figure size 640x480 with 1 Axes>"
      ]
     },
     "metadata": {},
     "output_type": "display_data"
    }
   ],
   "source": [
    "ax = users_proportion .plot(kind=\"pie\", autopct='%1.1f%%', shadow=True, explode=[0.05, 0.05], legend=True, title='Соотношение пользователей с подпиской и без подписки', ylabel='', labeldistance=None)\n",
    "ax.legend(bbox_to_anchor=(1, 1.02), loc='upper left')\n",
    "plt.show()"
   ]
  },
  {
   "cell_type": "code",
   "execution_count": 22,
   "id": "1ece5b82",
   "metadata": {},
   "outputs": [
    {
     "data": {
      "text/plain": [
       "1534"
      ]
     },
     "execution_count": 22,
     "metadata": {},
     "output_type": "execute_result"
    }
   ],
   "source": [
    "users['subscription_type'].count()"
   ]
  },
  {
   "cell_type": "markdown",
   "id": "9972b937",
   "metadata": {},
   "source": [
    "Пользователей с подпиской ultra меньше, чем без подпики free, но не значительно . "
   ]
  },
  {
   "cell_type": "markdown",
   "id": "38204a34",
   "metadata": {},
   "source": [
    "##### Возраст пользователей"
   ]
  },
  {
   "cell_type": "code",
   "execution_count": 53,
   "id": "2d96103a",
   "metadata": {},
   "outputs": [],
   "source": [
    "users_age = users['age'].value_counts()"
   ]
  },
  {
   "cell_type": "code",
   "execution_count": 54,
   "id": "a5c23c6e",
   "metadata": {
    "scrolled": false
   },
   "outputs": [
    {
     "data": {
      "image/png": "[encoded data removed]",
      "text/plain": [
       "<Figure size 640x480 with 1 Axes>"
      ]
     },
     "metadata": {},
     "output_type": "display_data"
    }
   ],
   "source": [
    "ax = users_age.plot(kind=\"bar\", legend=True, title='Соотношение по возрасту', ylabel='')\n",
    "plt.show()"
   ]
  },
  {
   "cell_type": "code",
   "execution_count": 25,
   "id": "38d09266",
   "metadata": {},
   "outputs": [
    {
     "data": {
      "image/png": "[encoded data removed]",
      "text/plain": [
       "<Figure size 640x480 with 1 Axes>"
      ]
     },
     "metadata": {},
     "output_type": "display_data"
    }
   ],
   "source": [
    "ax = users.hist(column=\"age\", bins = 15)\n",
    "plt.title(\"Соотношение по возрасту\")\n",
    "plt.xlabel(\"Возраст, лет\")\n",
    "plt.show()"
   ]
  },
  {
   "cell_type": "markdown",
   "id": "6e4655c7",
   "metadata": {},
   "source": [
    "Наибольшее количесвто пользователей в возрасте 22-28 лет."
   ]
  },
  {
   "cell_type": "markdown",
   "id": "b60d4aac",
   "metadata": {},
   "source": [
    "#####  Расстояние, которое пользователь преодолел за одну поездку"
   ]
  },
  {
   "cell_type": "code",
   "execution_count": 26,
   "id": "99c6a7ca",
   "metadata": {
    "scrolled": false
   },
   "outputs": [
    {
     "data": {
      "text/html": [
       "<div>\n",
       "<style scoped>\n",
       "    .dataframe tbody tr th:only-of-type {\n",
       "        vertical-align: middle;\n",
       "    }\n",
       "\n",
       "    .dataframe tbody tr th {\n",
       "        vertical-align: top;\n",
       "    }\n",
       "\n",
       "    .dataframe thead th {\n",
       "        text-align: right;\n",
       "    }\n",
       "</style>\n",
       "<table border=\"1\" class=\"dataframe\">\n",
       "  <thead>\n",
       "    <tr style=\"text-align: right;\">\n",
       "      <th></th>\n",
       "      <th>sum</th>\n",
       "      <th>count</th>\n",
       "      <th>mean</th>\n",
       "    </tr>\n",
       "    <tr>\n",
       "      <th>user_id</th>\n",
       "      <th></th>\n",
       "      <th></th>\n",
       "      <th></th>\n",
       "    </tr>\n",
       "  </thead>\n",
       "  <tbody>\n",
       "    <tr>\n",
       "      <th>1309</th>\n",
       "      <td>34300.155096</td>\n",
       "      <td>8</td>\n",
       "      <td>4287.519387</td>\n",
       "    </tr>\n",
       "    <tr>\n",
       "      <th>850</th>\n",
       "      <td>48058.056445</td>\n",
       "      <td>12</td>\n",
       "      <td>4004.838037</td>\n",
       "    </tr>\n",
       "    <tr>\n",
       "      <th>644</th>\n",
       "      <td>11819.319983</td>\n",
       "      <td>3</td>\n",
       "      <td>3939.773328</td>\n",
       "    </tr>\n",
       "    <tr>\n",
       "      <th>465</th>\n",
       "      <td>35258.034507</td>\n",
       "      <td>9</td>\n",
       "      <td>3917.559390</td>\n",
       "    </tr>\n",
       "    <tr>\n",
       "      <th>381</th>\n",
       "      <td>31240.301204</td>\n",
       "      <td>8</td>\n",
       "      <td>3905.037651</td>\n",
       "    </tr>\n",
       "    <tr>\n",
       "      <th>...</th>\n",
       "      <td>...</td>\n",
       "      <td>...</td>\n",
       "      <td>...</td>\n",
       "    </tr>\n",
       "    <tr>\n",
       "      <th>883</th>\n",
       "      <td>18850.270833</td>\n",
       "      <td>9</td>\n",
       "      <td>2094.474537</td>\n",
       "    </tr>\n",
       "    <tr>\n",
       "      <th>1011</th>\n",
       "      <td>26856.956335</td>\n",
       "      <td>13</td>\n",
       "      <td>2065.919718</td>\n",
       "    </tr>\n",
       "    <tr>\n",
       "      <th>1433</th>\n",
       "      <td>19912.454930</td>\n",
       "      <td>10</td>\n",
       "      <td>1991.245493</td>\n",
       "    </tr>\n",
       "    <tr>\n",
       "      <th>1495</th>\n",
       "      <td>8838.803579</td>\n",
       "      <td>5</td>\n",
       "      <td>1767.760716</td>\n",
       "    </tr>\n",
       "    <tr>\n",
       "      <th>908</th>\n",
       "      <td>13046.307418</td>\n",
       "      <td>8</td>\n",
       "      <td>1630.788427</td>\n",
       "    </tr>\n",
       "  </tbody>\n",
       "</table>\n",
       "<p>1534 rows × 3 columns</p>\n",
       "</div>"
      ],
      "text/plain": [
       "                  sum  count         mean\n",
       "user_id                                  \n",
       "1309     34300.155096      8  4287.519387\n",
       "850      48058.056445     12  4004.838037\n",
       "644      11819.319983      3  3939.773328\n",
       "465      35258.034507      9  3917.559390\n",
       "381      31240.301204      8  3905.037651\n",
       "...               ...    ...          ...\n",
       "883      18850.270833      9  2094.474537\n",
       "1011     26856.956335     13  2065.919718\n",
       "1433     19912.454930     10  1991.245493\n",
       "1495      8838.803579      5  1767.760716\n",
       "908      13046.307418      8  1630.788427\n",
       "\n",
       "[1534 rows x 3 columns]"
      ]
     },
     "execution_count": 26,
     "metadata": {},
     "output_type": "execute_result"
    }
   ],
   "source": [
    "ride_distance = rides.pivot_table(index='user_id', values = 'distance', aggfunc= ['sum', 'count','mean']) \n",
    "ride_distance.columns = ['sum', 'count','mean']\n",
    "ride_distance.sort_values('mean', ascending=False)"
   ]
  },
  {
   "cell_type": "code",
   "execution_count": 27,
   "id": "394bea2f",
   "metadata": {
    "scrolled": true
   },
   "outputs": [
    {
     "data": {
      "image/png": "[encoded data removed]",
      "text/plain": [
       "<Figure size 640x480 with 1 Axes>"
      ]
     },
     "metadata": {},
     "output_type": "display_data"
    }
   ],
   "source": [
    "rides['distance'].hist(bins=50)\n",
    "plt.title(\"Расстояние за 1 поездку\")\n",
    "plt.xlabel(\"Расстояние,м\")\n",
    "plt.show()"
   ]
  },
  {
   "cell_type": "markdown",
   "id": "8bd0f94a",
   "metadata": {},
   "source": [
    "Рассмотрим пики, применив range"
   ]
  },
  {
   "cell_type": "code",
   "execution_count": 28,
   "id": "9aaa9053",
   "metadata": {},
   "outputs": [
    {
     "data": {
      "image/png": "[encoded data removed]",
      "text/plain": [
       "<Figure size 640x480 with 1 Axes>"
      ]
     },
     "metadata": {},
     "output_type": "display_data"
    }
   ],
   "source": [
    "rides['distance'].hist(bins=20, range = (0, 1500))\n",
    "plt.title(\"Расстояние за 1 поездку\")\n",
    "plt.xlabel(\"Расстояние,м\")\n",
    "plt.show()"
   ]
  },
  {
   "cell_type": "code",
   "execution_count": 29,
   "id": "880cb6dc",
   "metadata": {},
   "outputs": [
    {
     "data": {
      "image/png": "[encoded data removed]",
      "text/plain": [
       "<Figure size 640x480 with 1 Axes>"
      ]
     },
     "metadata": {},
     "output_type": "display_data"
    }
   ],
   "source": [
    "rides['distance'].hist(bins=20, range = (2200, 3800))\n",
    "plt.title(\"Расстояние за 1 поездку\")\n",
    "plt.xlabel(\"Расстояние,м\")\n",
    "plt.show()"
   ]
  },
  {
   "cell_type": "code",
   "execution_count": 30,
   "id": "0b288850",
   "metadata": {},
   "outputs": [
    {
     "data": {
      "text/plain": [
       "3071.0"
      ]
     },
     "execution_count": 30,
     "metadata": {},
     "output_type": "execute_result"
    }
   ],
   "source": [
    "rides['distance'].mean().round()"
   ]
  },
  {
   "cell_type": "markdown",
   "id": "3de0ffe7",
   "metadata": {},
   "source": [
    "В среднем за одну поездку пользователи преодолевают 3 км. Максимальные расстояния преодолевает пользователь с ID=1309 - в среднем 4287 м за 1 поездку, минимальные пользователь с ID=908 - 1630 м за 1 поездку. \n",
    "\n",
    "На гистограмее видно 2 пика. Первый - короткие дистанции в диапазоне 600-750 м, а второй длинные поездки в пределах 2,8 км - 3,4 км."
   ]
  },
  {
   "cell_type": "markdown",
   "id": "acbbc01b",
   "metadata": {},
   "source": [
    "##### Продолжительность поездок"
   ]
  },
  {
   "cell_type": "code",
   "execution_count": 31,
   "id": "510a96dd",
   "metadata": {
    "scrolled": false
   },
   "outputs": [
    {
     "data": {
      "text/html": [
       "<div>\n",
       "<style scoped>\n",
       "    .dataframe tbody tr th:only-of-type {\n",
       "        vertical-align: middle;\n",
       "    }\n",
       "\n",
       "    .dataframe tbody tr th {\n",
       "        vertical-align: top;\n",
       "    }\n",
       "\n",
       "    .dataframe thead th {\n",
       "        text-align: right;\n",
       "    }\n",
       "</style>\n",
       "<table border=\"1\" class=\"dataframe\">\n",
       "  <thead>\n",
       "    <tr style=\"text-align: right;\">\n",
       "      <th></th>\n",
       "      <th>sum</th>\n",
       "      <th>count</th>\n",
       "      <th>mean</th>\n",
       "    </tr>\n",
       "    <tr>\n",
       "      <th>user_id</th>\n",
       "      <th></th>\n",
       "      <th></th>\n",
       "      <th></th>\n",
       "    </tr>\n",
       "  </thead>\n",
       "  <tbody>\n",
       "    <tr>\n",
       "      <th>657</th>\n",
       "      <td>130.680002</td>\n",
       "      <td>5</td>\n",
       "      <td>26.136000</td>\n",
       "    </tr>\n",
       "    <tr>\n",
       "      <th>643</th>\n",
       "      <td>103.358486</td>\n",
       "      <td>4</td>\n",
       "      <td>25.839621</td>\n",
       "    </tr>\n",
       "    <tr>\n",
       "      <th>354</th>\n",
       "      <td>76.985937</td>\n",
       "      <td>3</td>\n",
       "      <td>25.661979</td>\n",
       "    </tr>\n",
       "    <tr>\n",
       "      <th>522</th>\n",
       "      <td>152.265464</td>\n",
       "      <td>6</td>\n",
       "      <td>25.377577</td>\n",
       "    </tr>\n",
       "    <tr>\n",
       "      <th>126</th>\n",
       "      <td>126.821853</td>\n",
       "      <td>5</td>\n",
       "      <td>25.364371</td>\n",
       "    </tr>\n",
       "    <tr>\n",
       "      <th>...</th>\n",
       "      <td>...</td>\n",
       "      <td>...</td>\n",
       "      <td>...</td>\n",
       "    </tr>\n",
       "    <tr>\n",
       "      <th>801</th>\n",
       "      <td>102.856168</td>\n",
       "      <td>8</td>\n",
       "      <td>12.857021</td>\n",
       "    </tr>\n",
       "    <tr>\n",
       "      <th>1256</th>\n",
       "      <td>115.367027</td>\n",
       "      <td>9</td>\n",
       "      <td>12.818559</td>\n",
       "    </tr>\n",
       "    <tr>\n",
       "      <th>1243</th>\n",
       "      <td>109.072005</td>\n",
       "      <td>9</td>\n",
       "      <td>12.119112</td>\n",
       "    </tr>\n",
       "    <tr>\n",
       "      <th>73</th>\n",
       "      <td>34.157765</td>\n",
       "      <td>3</td>\n",
       "      <td>11.385922</td>\n",
       "    </tr>\n",
       "    <tr>\n",
       "      <th>908</th>\n",
       "      <td>89.307448</td>\n",
       "      <td>8</td>\n",
       "      <td>11.163431</td>\n",
       "    </tr>\n",
       "  </tbody>\n",
       "</table>\n",
       "<p>1534 rows × 3 columns</p>\n",
       "</div>"
      ],
      "text/plain": [
       "                sum  count       mean\n",
       "user_id                              \n",
       "657      130.680002      5  26.136000\n",
       "643      103.358486      4  25.839621\n",
       "354       76.985937      3  25.661979\n",
       "522      152.265464      6  25.377577\n",
       "126      126.821853      5  25.364371\n",
       "...             ...    ...        ...\n",
       "801      102.856168      8  12.857021\n",
       "1256     115.367027      9  12.818559\n",
       "1243     109.072005      9  12.119112\n",
       "73        34.157765      3  11.385922\n",
       "908       89.307448      8  11.163431\n",
       "\n",
       "[1534 rows x 3 columns]"
      ]
     },
     "execution_count": 31,
     "metadata": {},
     "output_type": "execute_result"
    }
   ],
   "source": [
    "ride_duration = rides.pivot_table(index='user_id', values = 'duration', aggfunc= ['sum', 'count', 'mean']) \n",
    "ride_duration.columns = ['sum', 'count','mean']\n",
    "ride_duration.sort_values('mean', ascending=False)"
   ]
  },
  {
   "cell_type": "code",
   "execution_count": 32,
   "id": "c31adae8",
   "metadata": {},
   "outputs": [
    {
     "data": {
      "image/png": "[encoded data removed]",
      "text/plain": [
       "<Figure size 640x480 with 1 Axes>"
      ]
     },
     "metadata": {},
     "output_type": "display_data"
    }
   ],
   "source": [
    "rides['duration'].hist(bins=15)\n",
    "plt.title(\"Продолжительность поездок\")\n",
    "plt.xlabel(\"Количество поездок\")\n",
    "plt.ylabel(\"Расстояние,м\")\n",
    "plt.show()"
   ]
  },
  {
   "cell_type": "code",
   "execution_count": 33,
   "id": "96ca70ca",
   "metadata": {
    "scrolled": true
   },
   "outputs": [
    {
     "data": {
      "text/plain": [
       "18.0"
      ]
     },
     "execution_count": 33,
     "metadata": {},
     "output_type": "execute_result"
    }
   ],
   "source": [
    "rides['duration'].mean().round()"
   ]
  },
  {
   "cell_type": "markdown",
   "id": "8b63d9be",
   "metadata": {},
   "source": [
    "В среднем поездка длится 18 мин. Чаще всего поездка продолжается 14-22 мин."
   ]
  },
  {
   "cell_type": "markdown",
   "id": "4afc4969",
   "metadata": {},
   "source": [
    "**ВЫВОД** В выборке предствалено 8 городов со среднем числом польхоыателей 191 человек. Пользователей с подпиской ultra меньше (45,5%), чем без подпики free (55,5%), но не значительно. Выявили, что в среднем одна поездка длится 18 минут и пользователи преодолевают примерно 3 км."
   ]
  },
  {
   "cell_type": "markdown",
   "id": "4ef51331",
   "metadata": {},
   "source": [
    "#### Шаг 4. Объединение данных"
   ]
  },
  {
   "cell_type": "markdown",
   "id": "16106f1f",
   "metadata": {},
   "source": [
    "Создадим общую таблицу general_table"
   ]
  },
  {
   "cell_type": "code",
   "execution_count": 34,
   "id": "6bf288b5",
   "metadata": {
    "scrolled": false
   },
   "outputs": [
    {
     "data": {
      "text/html": [
       "<div>\n",
       "<style scoped>\n",
       "    .dataframe tbody tr th:only-of-type {\n",
       "        vertical-align: middle;\n",
       "    }\n",
       "\n",
       "    .dataframe tbody tr th {\n",
       "        vertical-align: top;\n",
       "    }\n",
       "\n",
       "    .dataframe thead th {\n",
       "        text-align: right;\n",
       "    }\n",
       "</style>\n",
       "<table border=\"1\" class=\"dataframe\">\n",
       "  <thead>\n",
       "    <tr style=\"text-align: right;\">\n",
       "      <th></th>\n",
       "      <th>user_id</th>\n",
       "      <th>name</th>\n",
       "      <th>age</th>\n",
       "      <th>city</th>\n",
       "      <th>subscription_type</th>\n",
       "      <th>distance</th>\n",
       "      <th>duration</th>\n",
       "      <th>date</th>\n",
       "      <th>month</th>\n",
       "    </tr>\n",
       "  </thead>\n",
       "  <tbody>\n",
       "    <tr>\n",
       "      <th>0</th>\n",
       "      <td>1</td>\n",
       "      <td>Кира</td>\n",
       "      <td>22</td>\n",
       "      <td>Тюмень</td>\n",
       "      <td>ultra</td>\n",
       "      <td>4409.919140</td>\n",
       "      <td>25.599769</td>\n",
       "      <td>2021-01-01</td>\n",
       "      <td>1</td>\n",
       "    </tr>\n",
       "    <tr>\n",
       "      <th>1</th>\n",
       "      <td>1</td>\n",
       "      <td>Кира</td>\n",
       "      <td>22</td>\n",
       "      <td>Тюмень</td>\n",
       "      <td>ultra</td>\n",
       "      <td>2617.592153</td>\n",
       "      <td>15.816871</td>\n",
       "      <td>2021-01-18</td>\n",
       "      <td>1</td>\n",
       "    </tr>\n",
       "    <tr>\n",
       "      <th>2</th>\n",
       "      <td>1</td>\n",
       "      <td>Кира</td>\n",
       "      <td>22</td>\n",
       "      <td>Тюмень</td>\n",
       "      <td>ultra</td>\n",
       "      <td>754.159807</td>\n",
       "      <td>6.232113</td>\n",
       "      <td>2021-04-20</td>\n",
       "      <td>4</td>\n",
       "    </tr>\n",
       "    <tr>\n",
       "      <th>3</th>\n",
       "      <td>1</td>\n",
       "      <td>Кира</td>\n",
       "      <td>22</td>\n",
       "      <td>Тюмень</td>\n",
       "      <td>ultra</td>\n",
       "      <td>2694.783254</td>\n",
       "      <td>18.511000</td>\n",
       "      <td>2021-08-11</td>\n",
       "      <td>8</td>\n",
       "    </tr>\n",
       "    <tr>\n",
       "      <th>4</th>\n",
       "      <td>1</td>\n",
       "      <td>Кира</td>\n",
       "      <td>22</td>\n",
       "      <td>Тюмень</td>\n",
       "      <td>ultra</td>\n",
       "      <td>4028.687306</td>\n",
       "      <td>26.265803</td>\n",
       "      <td>2021-08-28</td>\n",
       "      <td>8</td>\n",
       "    </tr>\n",
       "  </tbody>\n",
       "</table>\n",
       "</div>"
      ],
      "text/plain": [
       "   user_id  name  age    city subscription_type     distance   duration  \\\n",
       "0        1  Кира   22  Тюмень             ultra  4409.919140  25.599769   \n",
       "1        1  Кира   22  Тюмень             ultra  2617.592153  15.816871   \n",
       "2        1  Кира   22  Тюмень             ultra   754.159807   6.232113   \n",
       "3        1  Кира   22  Тюмень             ultra  2694.783254  18.511000   \n",
       "4        1  Кира   22  Тюмень             ultra  4028.687306  26.265803   \n",
       "\n",
       "        date  month  \n",
       "0 2021-01-01      1  \n",
       "1 2021-01-18      1  \n",
       "2 2021-04-20      4  \n",
       "3 2021-08-11      8  \n",
       "4 2021-08-28      8  "
      ]
     },
     "execution_count": 34,
     "metadata": {},
     "output_type": "execute_result"
    }
   ],
   "source": [
    "general_table = users.merge(rides, on='user_id', how='right')\n",
    "general_table.head()"
   ]
  },
  {
   "cell_type": "code",
   "execution_count": 35,
   "id": "2419cd3d",
   "metadata": {
    "scrolled": true
   },
   "outputs": [
    {
     "name": "stdout",
     "output_type": "stream",
     "text": [
      "<class 'pandas.core.frame.DataFrame'>\n",
      "RangeIndex: 18068 entries, 0 to 18067\n",
      "Data columns (total 9 columns):\n",
      " #   Column             Non-Null Count  Dtype         \n",
      "---  ------             --------------  -----         \n",
      " 0   user_id            18068 non-null  int64         \n",
      " 1   name               18068 non-null  object        \n",
      " 2   age                18068 non-null  int64         \n",
      " 3   city               18068 non-null  object        \n",
      " 4   subscription_type  18068 non-null  object        \n",
      " 5   distance           18068 non-null  float64       \n",
      " 6   duration           18068 non-null  float64       \n",
      " 7   date               18068 non-null  datetime64[ns]\n",
      " 8   month              18068 non-null  int32         \n",
      "dtypes: datetime64[ns](1), float64(2), int32(1), int64(2), object(3)\n",
      "memory usage: 1.2+ MB\n"
     ]
    }
   ],
   "source": [
    "general_table.info()"
   ]
  },
  {
   "cell_type": "markdown",
   "id": "cf2ce242",
   "metadata": {},
   "source": [
    "Теперь из gereral_table создадим 2 таблицы для пользователей с подпиской и без подписки"
   ]
  },
  {
   "cell_type": "code",
   "execution_count": 36,
   "id": "535822b6",
   "metadata": {},
   "outputs": [
    {
     "data": {
      "text/html": [
       "<div>\n",
       "<style scoped>\n",
       "    .dataframe tbody tr th:only-of-type {\n",
       "        vertical-align: middle;\n",
       "    }\n",
       "\n",
       "    .dataframe tbody tr th {\n",
       "        vertical-align: top;\n",
       "    }\n",
       "\n",
       "    .dataframe thead th {\n",
       "        text-align: right;\n",
       "    }\n",
       "</style>\n",
       "<table border=\"1\" class=\"dataframe\">\n",
       "  <thead>\n",
       "    <tr style=\"text-align: right;\">\n",
       "      <th></th>\n",
       "      <th>user_id</th>\n",
       "      <th>name</th>\n",
       "      <th>age</th>\n",
       "      <th>city</th>\n",
       "      <th>subscription_type</th>\n",
       "      <th>distance</th>\n",
       "      <th>duration</th>\n",
       "      <th>date</th>\n",
       "      <th>month</th>\n",
       "    </tr>\n",
       "  </thead>\n",
       "  <tbody>\n",
       "    <tr>\n",
       "      <th>0</th>\n",
       "      <td>1</td>\n",
       "      <td>Кира</td>\n",
       "      <td>22</td>\n",
       "      <td>Тюмень</td>\n",
       "      <td>ultra</td>\n",
       "      <td>4409.919140</td>\n",
       "      <td>25.599769</td>\n",
       "      <td>2021-01-01</td>\n",
       "      <td>1</td>\n",
       "    </tr>\n",
       "    <tr>\n",
       "      <th>1</th>\n",
       "      <td>1</td>\n",
       "      <td>Кира</td>\n",
       "      <td>22</td>\n",
       "      <td>Тюмень</td>\n",
       "      <td>ultra</td>\n",
       "      <td>2617.592153</td>\n",
       "      <td>15.816871</td>\n",
       "      <td>2021-01-18</td>\n",
       "      <td>1</td>\n",
       "    </tr>\n",
       "    <tr>\n",
       "      <th>2</th>\n",
       "      <td>1</td>\n",
       "      <td>Кира</td>\n",
       "      <td>22</td>\n",
       "      <td>Тюмень</td>\n",
       "      <td>ultra</td>\n",
       "      <td>754.159807</td>\n",
       "      <td>6.232113</td>\n",
       "      <td>2021-04-20</td>\n",
       "      <td>4</td>\n",
       "    </tr>\n",
       "    <tr>\n",
       "      <th>3</th>\n",
       "      <td>1</td>\n",
       "      <td>Кира</td>\n",
       "      <td>22</td>\n",
       "      <td>Тюмень</td>\n",
       "      <td>ultra</td>\n",
       "      <td>2694.783254</td>\n",
       "      <td>18.511000</td>\n",
       "      <td>2021-08-11</td>\n",
       "      <td>8</td>\n",
       "    </tr>\n",
       "    <tr>\n",
       "      <th>4</th>\n",
       "      <td>1</td>\n",
       "      <td>Кира</td>\n",
       "      <td>22</td>\n",
       "      <td>Тюмень</td>\n",
       "      <td>ultra</td>\n",
       "      <td>4028.687306</td>\n",
       "      <td>26.265803</td>\n",
       "      <td>2021-08-28</td>\n",
       "      <td>8</td>\n",
       "    </tr>\n",
       "  </tbody>\n",
       "</table>\n",
       "</div>"
      ],
      "text/plain": [
       "   user_id  name  age    city subscription_type     distance   duration  \\\n",
       "0        1  Кира   22  Тюмень             ultra  4409.919140  25.599769   \n",
       "1        1  Кира   22  Тюмень             ultra  2617.592153  15.816871   \n",
       "2        1  Кира   22  Тюмень             ultra   754.159807   6.232113   \n",
       "3        1  Кира   22  Тюмень             ultra  2694.783254  18.511000   \n",
       "4        1  Кира   22  Тюмень             ultra  4028.687306  26.265803   \n",
       "\n",
       "        date  month  \n",
       "0 2021-01-01      1  \n",
       "1 2021-01-18      1  \n",
       "2 2021-04-20      4  \n",
       "3 2021-08-11      8  \n",
       "4 2021-08-28      8  "
      ]
     },
     "execution_count": 36,
     "metadata": {},
     "output_type": "execute_result"
    }
   ],
   "source": [
    "ultra = general_table[general_table['subscription_type'] == 'ultra']\n",
    "ultra.head()"
   ]
  },
  {
   "cell_type": "code",
   "execution_count": 37,
   "id": "f6959ad7",
   "metadata": {},
   "outputs": [
    {
     "data": {
      "text/html": [
       "<div>\n",
       "<style scoped>\n",
       "    .dataframe tbody tr th:only-of-type {\n",
       "        vertical-align: middle;\n",
       "    }\n",
       "\n",
       "    .dataframe tbody tr th {\n",
       "        vertical-align: top;\n",
       "    }\n",
       "\n",
       "    .dataframe thead th {\n",
       "        text-align: right;\n",
       "    }\n",
       "</style>\n",
       "<table border=\"1\" class=\"dataframe\">\n",
       "  <thead>\n",
       "    <tr style=\"text-align: right;\">\n",
       "      <th></th>\n",
       "      <th>user_id</th>\n",
       "      <th>name</th>\n",
       "      <th>age</th>\n",
       "      <th>city</th>\n",
       "      <th>subscription_type</th>\n",
       "      <th>distance</th>\n",
       "      <th>duration</th>\n",
       "      <th>date</th>\n",
       "      <th>month</th>\n",
       "    </tr>\n",
       "  </thead>\n",
       "  <tbody>\n",
       "    <tr>\n",
       "      <th>6500</th>\n",
       "      <td>700</td>\n",
       "      <td>Айдар</td>\n",
       "      <td>22</td>\n",
       "      <td>Омск</td>\n",
       "      <td>free</td>\n",
       "      <td>2515.690719</td>\n",
       "      <td>14.944286</td>\n",
       "      <td>2021-01-02</td>\n",
       "      <td>1</td>\n",
       "    </tr>\n",
       "    <tr>\n",
       "      <th>6501</th>\n",
       "      <td>700</td>\n",
       "      <td>Айдар</td>\n",
       "      <td>22</td>\n",
       "      <td>Омск</td>\n",
       "      <td>free</td>\n",
       "      <td>846.932642</td>\n",
       "      <td>16.234663</td>\n",
       "      <td>2021-02-01</td>\n",
       "      <td>2</td>\n",
       "    </tr>\n",
       "    <tr>\n",
       "      <th>6502</th>\n",
       "      <td>700</td>\n",
       "      <td>Айдар</td>\n",
       "      <td>22</td>\n",
       "      <td>Омск</td>\n",
       "      <td>free</td>\n",
       "      <td>4004.434142</td>\n",
       "      <td>20.016628</td>\n",
       "      <td>2021-02-04</td>\n",
       "      <td>2</td>\n",
       "    </tr>\n",
       "    <tr>\n",
       "      <th>6503</th>\n",
       "      <td>700</td>\n",
       "      <td>Айдар</td>\n",
       "      <td>22</td>\n",
       "      <td>Омск</td>\n",
       "      <td>free</td>\n",
       "      <td>1205.911290</td>\n",
       "      <td>9.782872</td>\n",
       "      <td>2021-02-10</td>\n",
       "      <td>2</td>\n",
       "    </tr>\n",
       "    <tr>\n",
       "      <th>6504</th>\n",
       "      <td>700</td>\n",
       "      <td>Айдар</td>\n",
       "      <td>22</td>\n",
       "      <td>Омск</td>\n",
       "      <td>free</td>\n",
       "      <td>3047.379435</td>\n",
       "      <td>17.427673</td>\n",
       "      <td>2021-02-14</td>\n",
       "      <td>2</td>\n",
       "    </tr>\n",
       "  </tbody>\n",
       "</table>\n",
       "</div>"
      ],
      "text/plain": [
       "      user_id   name  age  city subscription_type     distance   duration  \\\n",
       "6500      700  Айдар   22  Омск              free  2515.690719  14.944286   \n",
       "6501      700  Айдар   22  Омск              free   846.932642  16.234663   \n",
       "6502      700  Айдар   22  Омск              free  4004.434142  20.016628   \n",
       "6503      700  Айдар   22  Омск              free  1205.911290   9.782872   \n",
       "6504      700  Айдар   22  Омск              free  3047.379435  17.427673   \n",
       "\n",
       "           date  month  \n",
       "6500 2021-01-02      1  \n",
       "6501 2021-02-01      2  \n",
       "6502 2021-02-04      2  \n",
       "6503 2021-02-10      2  \n",
       "6504 2021-02-14      2  "
      ]
     },
     "execution_count": 37,
     "metadata": {},
     "output_type": "execute_result"
    }
   ],
   "source": [
    "free = general_table[general_table['subscription_type'] == 'free']\n",
    "free.head()"
   ]
  },
  {
   "cell_type": "code",
   "execution_count": 38,
   "id": "2fb45684",
   "metadata": {
    "scrolled": true
   },
   "outputs": [
    {
     "data": {
      "image/png": "[encoded data removed]",
      "text/plain": [
       "<Figure size 640x480 with 1 Axes>"
      ]
     },
     "metadata": {},
     "output_type": "display_data"
    }
   ],
   "source": [
    "free['distance'].hist(bins = 30, alpha=0.5)\n",
    "ultra['distance'].hist(bins = 30)\n",
    "plt.xlabel('Расстояние поездки, м')\n",
    "plt.title('Гистограмма распределения расстояния поездок')\n",
    "plt.show()"
   ]
  },
  {
   "cell_type": "code",
   "execution_count": 39,
   "id": "50cc9530",
   "metadata": {
    "scrolled": true
   },
   "outputs": [
    {
     "data": {
      "image/png": "[encoded data removed]",
      "text/plain": [
       "<Figure size 640x480 with 1 Axes>"
      ]
     },
     "metadata": {},
     "output_type": "display_data"
    }
   ],
   "source": [
    "free['duration'].hist(bins = 30, alpha=0.5)\n",
    "ultra['duration'].hist(bins = 30)\n",
    "plt.xlabel('Время поездки, мин')\n",
    "plt.title('Гистограмма распределения времени поездок')\n",
    "plt.show()"
   ]
  },
  {
   "cell_type": "markdown",
   "id": "30201390",
   "metadata": {},
   "source": [
    "По расстоянию и времени превосходят количество поездок без подписки. "
   ]
  },
  {
   "cell_type": "markdown",
   "id": "42535bb1",
   "metadata": {},
   "source": [
    "**ВЫВОД** На этом этапе объединили все данные в одну таблицу и выделели отдельно пользователей с подпиской и без подписки. В результате анализа данных выявили, что пользователи без подписки чаще ездят на короткие расстояния, на длинные растояния пользователи ездят сопоставимо одинаково. Есть всплеск по очень коротким поездкам без подписки - видимо пробные с целью знакомства с сервисом. Поездок без подписки больше, но в целом распределение поездок по времнни можно определить как нормальное."
   ]
  },
  {
   "cell_type": "markdown",
   "id": "402d620f",
   "metadata": {},
   "source": [
    "#### Шаг 5. Подсчёт выручки"
   ]
  },
  {
   "cell_type": "markdown",
   "id": "026b1c98",
   "metadata": {},
   "source": [
    "Создадим датафрейм с агрегированными данными о поездках на основе general_table и subscription: найдем суммарное расстояние, количество поездок и суммарное время для каждого пользователя за каждый месяц."
   ]
  },
  {
   "cell_type": "code",
   "execution_count": 40,
   "id": "fb2f786c",
   "metadata": {},
   "outputs": [
    {
     "data": {
      "text/html": [
       "<div>\n",
       "<style scoped>\n",
       "    .dataframe tbody tr th:only-of-type {\n",
       "        vertical-align: middle;\n",
       "    }\n",
       "\n",
       "    .dataframe tbody tr th {\n",
       "        vertical-align: top;\n",
       "    }\n",
       "\n",
       "    .dataframe thead th {\n",
       "        text-align: right;\n",
       "    }\n",
       "</style>\n",
       "<table border=\"1\" class=\"dataframe\">\n",
       "  <thead>\n",
       "    <tr style=\"text-align: right;\">\n",
       "      <th></th>\n",
       "      <th></th>\n",
       "      <th>total_distance</th>\n",
       "      <th>num_of_rides</th>\n",
       "      <th>total_duration</th>\n",
       "      <th>minute_price</th>\n",
       "      <th>start_ride_price</th>\n",
       "      <th>subscription_fee</th>\n",
       "      <th>subscription_type</th>\n",
       "    </tr>\n",
       "    <tr>\n",
       "      <th>user_id</th>\n",
       "      <th>month</th>\n",
       "      <th></th>\n",
       "      <th></th>\n",
       "      <th></th>\n",
       "      <th></th>\n",
       "      <th></th>\n",
       "      <th></th>\n",
       "      <th></th>\n",
       "    </tr>\n",
       "  </thead>\n",
       "  <tbody>\n",
       "    <tr>\n",
       "      <th rowspan=\"6\" valign=\"top\">1</th>\n",
       "      <th>1</th>\n",
       "      <td>7027.511294</td>\n",
       "      <td>2</td>\n",
       "      <td>42.0</td>\n",
       "      <td>6</td>\n",
       "      <td>0</td>\n",
       "      <td>199</td>\n",
       "      <td>ultra</td>\n",
       "    </tr>\n",
       "    <tr>\n",
       "      <th>4</th>\n",
       "      <td>754.159807</td>\n",
       "      <td>1</td>\n",
       "      <td>7.0</td>\n",
       "      <td>6</td>\n",
       "      <td>0</td>\n",
       "      <td>199</td>\n",
       "      <td>ultra</td>\n",
       "    </tr>\n",
       "    <tr>\n",
       "      <th>8</th>\n",
       "      <td>6723.470560</td>\n",
       "      <td>2</td>\n",
       "      <td>46.0</td>\n",
       "      <td>6</td>\n",
       "      <td>0</td>\n",
       "      <td>199</td>\n",
       "      <td>ultra</td>\n",
       "    </tr>\n",
       "    <tr>\n",
       "      <th>10</th>\n",
       "      <td>5809.911100</td>\n",
       "      <td>2</td>\n",
       "      <td>32.0</td>\n",
       "      <td>6</td>\n",
       "      <td>0</td>\n",
       "      <td>199</td>\n",
       "      <td>ultra</td>\n",
       "    </tr>\n",
       "    <tr>\n",
       "      <th>11</th>\n",
       "      <td>7003.499363</td>\n",
       "      <td>3</td>\n",
       "      <td>56.0</td>\n",
       "      <td>6</td>\n",
       "      <td>0</td>\n",
       "      <td>199</td>\n",
       "      <td>ultra</td>\n",
       "    </tr>\n",
       "    <tr>\n",
       "      <th>12</th>\n",
       "      <td>6751.629942</td>\n",
       "      <td>2</td>\n",
       "      <td>28.0</td>\n",
       "      <td>6</td>\n",
       "      <td>0</td>\n",
       "      <td>199</td>\n",
       "      <td>ultra</td>\n",
       "    </tr>\n",
       "    <tr>\n",
       "      <th rowspan=\"7\" valign=\"top\">2</th>\n",
       "      <th>3</th>\n",
       "      <td>10187.723006</td>\n",
       "      <td>3</td>\n",
       "      <td>63.0</td>\n",
       "      <td>6</td>\n",
       "      <td>0</td>\n",
       "      <td>199</td>\n",
       "      <td>ultra</td>\n",
       "    </tr>\n",
       "    <tr>\n",
       "      <th>4</th>\n",
       "      <td>6164.381824</td>\n",
       "      <td>2</td>\n",
       "      <td>40.0</td>\n",
       "      <td>6</td>\n",
       "      <td>0</td>\n",
       "      <td>199</td>\n",
       "      <td>ultra</td>\n",
       "    </tr>\n",
       "    <tr>\n",
       "      <th>6</th>\n",
       "      <td>3255.338202</td>\n",
       "      <td>1</td>\n",
       "      <td>14.0</td>\n",
       "      <td>6</td>\n",
       "      <td>0</td>\n",
       "      <td>199</td>\n",
       "      <td>ultra</td>\n",
       "    </tr>\n",
       "    <tr>\n",
       "      <th>7</th>\n",
       "      <td>6780.722964</td>\n",
       "      <td>2</td>\n",
       "      <td>48.0</td>\n",
       "      <td>6</td>\n",
       "      <td>0</td>\n",
       "      <td>199</td>\n",
       "      <td>ultra</td>\n",
       "    </tr>\n",
       "    <tr>\n",
       "      <th>8</th>\n",
       "      <td>923.007439</td>\n",
       "      <td>1</td>\n",
       "      <td>7.0</td>\n",
       "      <td>6</td>\n",
       "      <td>0</td>\n",
       "      <td>199</td>\n",
       "      <td>ultra</td>\n",
       "    </tr>\n",
       "    <tr>\n",
       "      <th>10</th>\n",
       "      <td>2824.636598</td>\n",
       "      <td>1</td>\n",
       "      <td>19.0</td>\n",
       "      <td>6</td>\n",
       "      <td>0</td>\n",
       "      <td>199</td>\n",
       "      <td>ultra</td>\n",
       "    </tr>\n",
       "    <tr>\n",
       "      <th>12</th>\n",
       "      <td>3828.248580</td>\n",
       "      <td>1</td>\n",
       "      <td>12.0</td>\n",
       "      <td>6</td>\n",
       "      <td>0</td>\n",
       "      <td>199</td>\n",
       "      <td>ultra</td>\n",
       "    </tr>\n",
       "    <tr>\n",
       "      <th rowspan=\"7\" valign=\"top\">3</th>\n",
       "      <th>1</th>\n",
       "      <td>3061.777147</td>\n",
       "      <td>1</td>\n",
       "      <td>13.0</td>\n",
       "      <td>6</td>\n",
       "      <td>0</td>\n",
       "      <td>199</td>\n",
       "      <td>ultra</td>\n",
       "    </tr>\n",
       "    <tr>\n",
       "      <th>2</th>\n",
       "      <td>5421.152016</td>\n",
       "      <td>2</td>\n",
       "      <td>39.0</td>\n",
       "      <td>6</td>\n",
       "      <td>0</td>\n",
       "      <td>199</td>\n",
       "      <td>ultra</td>\n",
       "    </tr>\n",
       "    <tr>\n",
       "      <th>4</th>\n",
       "      <td>2956.651632</td>\n",
       "      <td>1</td>\n",
       "      <td>21.0</td>\n",
       "      <td>6</td>\n",
       "      <td>0</td>\n",
       "      <td>199</td>\n",
       "      <td>ultra</td>\n",
       "    </tr>\n",
       "    <tr>\n",
       "      <th>5</th>\n",
       "      <td>9064.026918</td>\n",
       "      <td>3</td>\n",
       "      <td>63.0</td>\n",
       "      <td>6</td>\n",
       "      <td>0</td>\n",
       "      <td>199</td>\n",
       "      <td>ultra</td>\n",
       "    </tr>\n",
       "    <tr>\n",
       "      <th>7</th>\n",
       "      <td>10919.595403</td>\n",
       "      <td>3</td>\n",
       "      <td>67.0</td>\n",
       "      <td>6</td>\n",
       "      <td>0</td>\n",
       "      <td>199</td>\n",
       "      <td>ultra</td>\n",
       "    </tr>\n",
       "    <tr>\n",
       "      <th>9</th>\n",
       "      <td>2891.012822</td>\n",
       "      <td>1</td>\n",
       "      <td>23.0</td>\n",
       "      <td>6</td>\n",
       "      <td>0</td>\n",
       "      <td>199</td>\n",
       "      <td>ultra</td>\n",
       "    </tr>\n",
       "    <tr>\n",
       "      <th>12</th>\n",
       "      <td>2593.381928</td>\n",
       "      <td>1</td>\n",
       "      <td>13.0</td>\n",
       "      <td>6</td>\n",
       "      <td>0</td>\n",
       "      <td>199</td>\n",
       "      <td>ultra</td>\n",
       "    </tr>\n",
       "  </tbody>\n",
       "</table>\n",
       "</div>"
      ],
      "text/plain": [
       "               total_distance  num_of_rides  total_duration  minute_price  \\\n",
       "user_id month                                                               \n",
       "1       1         7027.511294             2            42.0             6   \n",
       "        4          754.159807             1             7.0             6   \n",
       "        8         6723.470560             2            46.0             6   \n",
       "        10        5809.911100             2            32.0             6   \n",
       "        11        7003.499363             3            56.0             6   \n",
       "        12        6751.629942             2            28.0             6   \n",
       "2       3        10187.723006             3            63.0             6   \n",
       "        4         6164.381824             2            40.0             6   \n",
       "        6         3255.338202             1            14.0             6   \n",
       "        7         6780.722964             2            48.0             6   \n",
       "        8          923.007439             1             7.0             6   \n",
       "        10        2824.636598             1            19.0             6   \n",
       "        12        3828.248580             1            12.0             6   \n",
       "3       1         3061.777147             1            13.0             6   \n",
       "        2         5421.152016             2            39.0             6   \n",
       "        4         2956.651632             1            21.0             6   \n",
       "        5         9064.026918             3            63.0             6   \n",
       "        7        10919.595403             3            67.0             6   \n",
       "        9         2891.012822             1            23.0             6   \n",
       "        12        2593.381928             1            13.0             6   \n",
       "\n",
       "               start_ride_price  subscription_fee subscription_type  \n",
       "user_id month                                                        \n",
       "1       1                     0               199             ultra  \n",
       "        4                     0               199             ultra  \n",
       "        8                     0               199             ultra  \n",
       "        10                    0               199             ultra  \n",
       "        11                    0               199             ultra  \n",
       "        12                    0               199             ultra  \n",
       "2       3                     0               199             ultra  \n",
       "        4                     0               199             ultra  \n",
       "        6                     0               199             ultra  \n",
       "        7                     0               199             ultra  \n",
       "        8                     0               199             ultra  \n",
       "        10                    0               199             ultra  \n",
       "        12                    0               199             ultra  \n",
       "3       1                     0               199             ultra  \n",
       "        2                     0               199             ultra  \n",
       "        4                     0               199             ultra  \n",
       "        5                     0               199             ultra  \n",
       "        7                     0               199             ultra  \n",
       "        9                     0               199             ultra  \n",
       "        12                    0               199             ultra  "
      ]
     },
     "execution_count": 40,
     "metadata": {},
     "output_type": "execute_result"
    }
   ],
   "source": [
    "general_table_sub = general_table.merge(subscriptions, on='subscription_type', how='right')\n",
    "general_table_sub['duration'] = np.ceil(general_table_sub['duration']) \n",
    "general_pivot_table = general_table_sub.pivot_table(index=['user_id', 'month'], aggfunc={\n",
    "    'distance':'sum',\n",
    "    'duration':['sum', 'count'],\n",
    "    'subscription_type':'first', \n",
    "    'minute_price':'first', \n",
    "    'start_ride_price':'first',\n",
    "    'subscription_fee':'first'\n",
    "})\n",
    "general_pivot_table.columns = [\n",
    "    'total_distance', \n",
    "    'num_of_rides', \n",
    "    'total_duration', \n",
    "    'minute_price', \n",
    "    'start_ride_price', \n",
    "    'subscription_fee', \n",
    "    'subscription_type'\n",
    "]\n",
    "\n",
    "general_pivot_table.head(20)"
   ]
  },
  {
   "cell_type": "markdown",
   "id": "81653eb3",
   "metadata": {},
   "source": [
    "Добавим столбец с помесячной выручкой, которую принёс каждый пользователь"
   ]
  },
  {
   "cell_type": "code",
   "execution_count": 41,
   "id": "d343c3c3",
   "metadata": {},
   "outputs": [
    {
     "data": {
      "text/plain": [
       "user_id  month\n",
       "1        1        451.0\n",
       "         4        241.0\n",
       "         8        475.0\n",
       "         10       391.0\n",
       "         11       535.0\n",
       "                  ...  \n",
       "1534     6        308.0\n",
       "         8        484.0\n",
       "         9        234.0\n",
       "         11       824.0\n",
       "         12       178.0\n",
       "Name: revenue, Length: 11331, dtype: float64"
      ]
     },
     "execution_count": 41,
     "metadata": {},
     "output_type": "execute_result"
    }
   ],
   "source": [
    "general_pivot_table['revenue'] = general_pivot_table['start_ride_price'] * general_pivot_table['num_of_rides'] \\\n",
    "+ general_pivot_table['minute_price'] * general_pivot_table['total_duration'] + general_pivot_table['subscription_fee']\n",
    "general_pivot_table['revenue'] #проверка"
   ]
  },
  {
   "cell_type": "markdown",
   "id": "41545ac0",
   "metadata": {},
   "source": [
    "#### Шаг 6. Проверка гипотез"
   ]
  },
  {
   "cell_type": "markdown",
   "id": "3f3dc87e",
   "metadata": {},
   "source": [
    "##### Тратят ли пользователи с подпиской больше времени на поездки? Если да, то пользователи с подпиской могут быть «выгоднее» для компании. "
   ]
  },
  {
   "cell_type": "markdown",
   "id": "af8bc997",
   "metadata": {},
   "source": [
    "H0: Нет статистически значимой разницы в продолжительности поездок между пользователями с подпиской и пользователями без подписки.\n",
    "\n",
    "H1: Пользователи с подпиской тратят значимо больше времени на поездки, чем пользователи без подписки."
   ]
  },
  {
   "cell_type": "code",
   "execution_count": 42,
   "id": "86646c7a",
   "metadata": {
    "scrolled": true
   },
   "outputs": [
    {
     "name": "stdout",
     "output_type": "stream",
     "text": [
      "p-значение: 1.2804098316645618e-34\n",
      "Отвергаем нулевую гипотезу\n"
     ]
    }
   ],
   "source": [
    "alpha = .05\n",
    "results = st.ttest_ind(ultra['duration'], free['duration'],  alternative='greater')\n",
    "\n",
    "print('p-значение:', results.pvalue)\n",
    "\n",
    "if results.pvalue < alpha:\n",
    "    print('Отвергаем нулевую гипотезу')\n",
    "else:\n",
    "    print('Не получилось отвергнуть нулевую гипотезу') "
   ]
  },
  {
   "cell_type": "code",
   "execution_count": 43,
   "id": "9a1e10dc",
   "metadata": {},
   "outputs": [
    {
     "data": {
      "text/plain": [
       "18.54198516280583"
      ]
     },
     "execution_count": 43,
     "metadata": {},
     "output_type": "execute_result"
    }
   ],
   "source": [
    "ultra['duration'].mean()"
   ]
  },
  {
   "cell_type": "code",
   "execution_count": 44,
   "id": "1ae7d5ae",
   "metadata": {},
   "outputs": [
    {
     "data": {
      "text/plain": [
       "17.39090929866399"
      ]
     },
     "execution_count": 44,
     "metadata": {},
     "output_type": "execute_result"
    }
   ],
   "source": [
    "free['duration'].mean()"
   ]
  },
  {
   "cell_type": "markdown",
   "id": "6f5b19e9",
   "metadata": {},
   "source": [
    "**ВЫВОД** Пользователи с подпиской тратят больше времени на поездки в среднем на 1 минуту дольше пользователей без подиски."
   ]
  },
  {
   "cell_type": "markdown",
   "id": "8aaee5e1",
   "metadata": {},
   "source": [
    "##### Расстояние одной поездки в  3130 метров — оптимальное с точки зрения износа самоката. Можно ли сказать, что среднее расстояние, которое проезжают пользователи с подпиской за одну поездку, не превышает 3130 метров? "
   ]
  },
  {
   "cell_type": "markdown",
   "id": "f34c2c10",
   "metadata": {},
   "source": [
    "H0: Cреднее расстояние, которое проезжают пользователи с подпиской за одну поездку, близко к значению в 3130 метров.\n",
    "\n",
    "H1: Пользователи с подпиской проезжают значимо больше 3130 метров."
   ]
  },
  {
   "cell_type": "code",
   "execution_count": 45,
   "id": "5b939d60",
   "metadata": {},
   "outputs": [
    {
     "name": "stdout",
     "output_type": "stream",
     "text": [
      "p-значение: 0.9195368847849785\n",
      "Не получилось отвергнуть нулевую гипотезу\n"
     ]
    }
   ],
   "source": [
    "opt_ride = 3130\n",
    "alpha = .05\n",
    "results = st.ttest_1samp(ultra['distance'], opt_ride,  alternative='greater')\n",
    "\n",
    "print('p-значение:', results.pvalue)\n",
    "\n",
    "if results.pvalue < alpha:\n",
    "    print('Отвергаем нулевую гипотезу')\n",
    "else:\n",
    "    print('Не получилось отвергнуть нулевую гипотезу') "
   ]
  },
  {
   "cell_type": "code",
   "execution_count": 46,
   "id": "79f08eeb",
   "metadata": {},
   "outputs": [
    {
     "data": {
      "text/plain": [
       "3115.0"
      ]
     },
     "execution_count": 46,
     "metadata": {},
     "output_type": "execute_result"
    }
   ],
   "source": [
    "ultra['distance'].mean().round(0)"
   ]
  },
  {
   "cell_type": "markdown",
   "id": "a5cf2ab2",
   "metadata": {},
   "source": [
    "Не получилось отвергнуть нулевую гипотезу, следовательно среднее расстояние, которое проезжают пользователи с подпиской за одну поездку, близко к значению в 3130 метров. В среднем подписчии проезжают 3115 м."
   ]
  },
  {
   "cell_type": "markdown",
   "id": "2b852600",
   "metadata": {},
   "source": [
    "##### Будет ли помесячная выручка от пользователей с подпиской по месяцам выше, чем выручка от пользователей без подписки. "
   ]
  },
  {
   "cell_type": "markdown",
   "id": "822de0e7",
   "metadata": {},
   "source": [
    "H0: Помесячная выручка от пользователей с подпиской по месяцам равнв выручке от пользователей без подписки.\n",
    "\n",
    "H1: Помесячная выручка от пользователей с подпиской по месяцам выше, чем выручка от пользователей без подписки."
   ]
  },
  {
   "cell_type": "code",
   "execution_count": 47,
   "id": "78c48868",
   "metadata": {},
   "outputs": [
    {
     "name": "stdout",
     "output_type": "stream",
     "text": [
      "p-значение: 1.8850394384715216e-31\n",
      "Отвергаем нулевую гипотезу\n"
     ]
    }
   ],
   "source": [
    "ultra_revenue = general_pivot_table.loc[general_pivot_table['subscription_type'] == 'ultra', 'revenue']\n",
    "free_revenue = general_pivot_table.loc[general_pivot_table['subscription_type'] == 'free', 'revenue']\n",
    "alpha = .05\n",
    "results = st.ttest_ind(ultra_revenue, free_revenue,  alternative='greater')\n",
    "\n",
    "print('p-значение:', results.pvalue)\n",
    "\n",
    "if results.pvalue < alpha:\n",
    "    print('Отвергаем нулевую гипотезу')\n",
    "else:\n",
    "    print('Не получилось отвергнуть нулевую гипотезу') "
   ]
  },
  {
   "cell_type": "markdown",
   "id": "783c5d58",
   "metadata": {},
   "source": [
    "Поскольку нулевая гипотеза отвергнута, далем вывод, что помесячная выручка от пользователей с подпиской по месяцам выше, чем выручка от пользователей без подписки."
   ]
  },
  {
   "cell_type": "markdown",
   "id": "1f30d318",
   "metadata": {},
   "source": [
    "##### Представим такую ситуацию: тех. команда сервиса обновила сервера, с которыми взаимодействует мобильное приложение. Она надеется, что из-за этого количество обращений в техподдержку значимо снизилось. Некоторый файл содержит для каждого пользователя данные о количестве обращений до обновления и после него. "
   ]
  },
  {
   "cell_type": "markdown",
   "id": "33f49afc",
   "metadata": {},
   "source": [
    "Поскольку проверяется равенство среднего значения генеральной совокупности до и после изменения, то необходим метод scipy.stats.ttest_rel\n",
    "Аргументы: наборы данных — парные выборки до и после изменения. \n",
    "\n",
    "Гипотеза двусторонаяя, поскольку в результате обновления количествообращений могло как снизится так и вырасти."
   ]
  },
  {
   "cell_type": "markdown",
   "id": "61213c5e",
   "metadata": {},
   "source": [
    "#### Шаг 7. Распределения"
   ]
  },
  {
   "cell_type": "markdown",
   "id": "16f8e2f5",
   "metadata": {},
   "source": [
    "<b>ВЫВОД</b>\n",
    "\n",
    "На этапе подготовки данных проведена предобработка данных: проверила датафреймах на наличие пропусков, полных дубликатов и соответствие типов данных. Пропусков и дубликатов нет, исправила тип данных столбца date и добавила новый столбец с номером месяца для удобства анализа в дальнейшем. \n",
    "При анализе данных определила, что в выборке представлено 8 городов со среднем числом пользователей 191 человек. \n",
    "\n",
    "Пользователей с подпиской ultra меньше (45,5%), чем без подписки free (55,5%), но не значительно. \n",
    "\n",
    "<b>Соотношение пользователей с подпиской и без </b>\n",
    "    \n",
    "ULTRA  | FREE\n",
    "------ | ------\n",
    "45,5%  | 55,5%\n",
    "\n",
    "\n",
    "Выявили, что в среднем одна поездка длится 18 минут и пользователи преодолевают примерно 3 км.\n",
    "\n",
    "Сведя все данные в одну таблицы, выявили, что пользователи без подписки чаще используют самокаты для коротких поездок, что объяснимо, на более длительные  поездки пользователи ездят сопоставимо одинаково. \n",
    "\n",
    "Поездок без подписки больше, но в целом распределение поездок по времени можно определить как нормальное.\n",
    "\n",
    "Выявили, что пользователи с подпиской тратят в среднем на 1 минуту больше времени, чем пользователей без подписки. Таким образом пользователи с подпиской не на много выгоднее для компании, чем пользователи без подписки. \n",
    "\n",
    "Расстояние одной поездки в  3130 метров — оптимальное с точки зрения износа самоката. При анализе данных рассчитали что среднее расстояние, которое проезжают пользователи с подпиской за одну поездку, не превышает 3130 и составляет в среднем  3115 м. Т.е. поездки подписчиков не причиняют повышенный износ самокатам и, следовательно, не приносят убытки длинными поездками.\n",
    "\n",
    "Помесячная выручка от пользователей с подпиской по месяцам выше, чем выручка от пользователей без подписки - данная гипотеза получила подтверждение.\n",
    "\n",
    "В целях увеличения прибыли сервису стоит искать пути привлечения пользователей оформлять подписку, поскольку они приносят больше прибыли , используя самокаты на более долгие поездки, но при этом не нанося излишний износ самокатам."
   ]
  }
 ],
 "metadata": {
  "ExecuteTimeLog": [
   {
    "duration": 1431,
    "start_time": "2023-09-17T00:13:58.258Z"
   },
   {
    "duration": 249,
    "start_time": "2023-09-17T00:14:02.594Z"
   },
   {
    "duration": 14,
    "start_time": "2023-09-17T00:15:14.257Z"
   },
   {
    "duration": 13,
    "start_time": "2023-09-17T00:16:32.753Z"
   },
   {
    "duration": 10,
    "start_time": "2023-09-17T00:20:01.830Z"
   },
   {
    "duration": 15,
    "start_time": "2023-09-17T00:20:02.804Z"
   },
   {
    "duration": 8,
    "start_time": "2023-09-17T00:20:26.709Z"
   },
   {
    "duration": 12,
    "start_time": "2023-09-17T00:20:30.614Z"
   },
   {
    "duration": 15,
    "start_time": "2023-09-17T00:22:49.526Z"
   },
   {
    "duration": 19,
    "start_time": "2023-09-17T00:23:39.892Z"
   },
   {
    "duration": 10,
    "start_time": "2023-09-17T00:37:25.474Z"
   },
   {
    "duration": 13,
    "start_time": "2023-09-17T00:38:50.453Z"
   },
   {
    "duration": 2023,
    "start_time": "2023-09-17T00:39:03.065Z"
   },
   {
    "duration": 6,
    "start_time": "2023-09-17T00:39:13.396Z"
   },
   {
    "duration": 7,
    "start_time": "2023-09-17T00:39:25.204Z"
   },
   {
    "duration": 7,
    "start_time": "2023-09-17T00:40:15.100Z"
   },
   {
    "duration": 9,
    "start_time": "2023-09-17T00:40:23.315Z"
   },
   {
    "duration": 6,
    "start_time": "2023-09-17T00:41:58.151Z"
   },
   {
    "duration": 8,
    "start_time": "2023-09-17T00:41:58.910Z"
   },
   {
    "duration": 134,
    "start_time": "2023-09-17T00:44:27.826Z"
   },
   {
    "duration": 8,
    "start_time": "2023-09-17T00:48:14.378Z"
   },
   {
    "duration": 14,
    "start_time": "2023-09-17T00:48:27.420Z"
   },
   {
    "duration": 7,
    "start_time": "2023-09-17T00:49:01.878Z"
   },
   {
    "duration": 7,
    "start_time": "2023-09-17T00:49:16.224Z"
   },
   {
    "duration": 8,
    "start_time": "2023-09-17T00:49:17.682Z"
   },
   {
    "duration": 47,
    "start_time": "2023-09-17T08:33:30.714Z"
   },
   {
    "duration": 1253,
    "start_time": "2023-09-17T08:33:41.129Z"
   },
   {
    "duration": 199,
    "start_time": "2023-09-17T08:33:42.384Z"
   },
   {
    "duration": 15,
    "start_time": "2023-09-17T08:33:42.585Z"
   },
   {
    "duration": 17,
    "start_time": "2023-09-17T08:33:42.603Z"
   },
   {
    "duration": 19,
    "start_time": "2023-09-17T08:33:42.622Z"
   },
   {
    "duration": 14,
    "start_time": "2023-09-17T08:33:42.643Z"
   },
   {
    "duration": 25,
    "start_time": "2023-09-17T08:33:42.659Z"
   },
   {
    "duration": 12,
    "start_time": "2023-09-17T08:33:42.686Z"
   },
   {
    "duration": 25,
    "start_time": "2023-09-17T08:33:42.700Z"
   },
   {
    "duration": 25,
    "start_time": "2023-09-17T08:33:42.727Z"
   },
   {
    "duration": 18,
    "start_time": "2023-09-17T08:33:42.753Z"
   },
   {
    "duration": 24,
    "start_time": "2023-09-17T08:33:42.772Z"
   },
   {
    "duration": 30,
    "start_time": "2023-09-17T08:33:42.797Z"
   },
   {
    "duration": 20,
    "start_time": "2023-09-17T08:33:42.829Z"
   },
   {
    "duration": 5,
    "start_time": "2023-09-17T08:33:42.851Z"
   },
   {
    "duration": 9,
    "start_time": "2023-09-17T08:33:42.858Z"
   },
   {
    "duration": 26,
    "start_time": "2023-09-17T08:33:42.868Z"
   },
   {
    "duration": 53,
    "start_time": "2023-09-17T10:39:56.730Z"
   },
   {
    "duration": 1506,
    "start_time": "2023-09-17T10:40:03.274Z"
   },
   {
    "duration": 215,
    "start_time": "2023-09-17T10:40:04.783Z"
   },
   {
    "duration": 14,
    "start_time": "2023-09-17T10:40:05.000Z"
   },
   {
    "duration": 16,
    "start_time": "2023-09-17T10:40:05.016Z"
   },
   {
    "duration": 11,
    "start_time": "2023-09-17T10:40:05.035Z"
   },
   {
    "duration": 11,
    "start_time": "2023-09-17T10:40:05.048Z"
   },
   {
    "duration": 50,
    "start_time": "2023-09-17T10:40:05.061Z"
   },
   {
    "duration": 12,
    "start_time": "2023-09-17T10:40:05.113Z"
   },
   {
    "duration": 11,
    "start_time": "2023-09-17T10:40:05.127Z"
   },
   {
    "duration": 23,
    "start_time": "2023-09-17T10:40:05.139Z"
   },
   {
    "duration": 11,
    "start_time": "2023-09-17T10:40:05.163Z"
   },
   {
    "duration": 8,
    "start_time": "2023-09-17T10:40:05.175Z"
   },
   {
    "duration": 26,
    "start_time": "2023-09-17T10:40:05.185Z"
   },
   {
    "duration": 10,
    "start_time": "2023-09-17T10:40:05.213Z"
   },
   {
    "duration": 7,
    "start_time": "2023-09-17T10:40:05.224Z"
   },
   {
    "duration": 45,
    "start_time": "2023-09-17T10:40:05.233Z"
   },
   {
    "duration": 6,
    "start_time": "2023-09-17T10:40:05.279Z"
   },
   {
    "duration": 8,
    "start_time": "2023-09-17T10:40:05.288Z"
   },
   {
    "duration": 6,
    "start_time": "2023-09-17T10:40:55.867Z"
   },
   {
    "duration": 5,
    "start_time": "2023-09-17T10:42:07.230Z"
   },
   {
    "duration": 7,
    "start_time": "2023-09-17T10:43:00.719Z"
   },
   {
    "duration": 105,
    "start_time": "2023-09-17T11:36:29.227Z"
   },
   {
    "duration": 88,
    "start_time": "2023-09-17T11:37:33.670Z"
   },
   {
    "duration": 84,
    "start_time": "2023-09-17T11:37:51.598Z"
   },
   {
    "duration": 78,
    "start_time": "2023-09-17T11:38:18.664Z"
   },
   {
    "duration": 89,
    "start_time": "2023-09-17T11:38:35.542Z"
   },
   {
    "duration": 4,
    "start_time": "2023-09-17T11:45:57.380Z"
   },
   {
    "duration": 104,
    "start_time": "2023-09-17T11:46:32.844Z"
   },
   {
    "duration": 1692,
    "start_time": "2023-09-17T11:46:47.025Z"
   },
   {
    "duration": 6,
    "start_time": "2023-09-17T11:46:59.976Z"
   },
   {
    "duration": 76,
    "start_time": "2023-09-17T11:47:00.787Z"
   },
   {
    "duration": 1844,
    "start_time": "2023-09-17T11:47:02.524Z"
   },
   {
    "duration": 83,
    "start_time": "2023-09-17T11:47:08.233Z"
   },
   {
    "duration": 1335,
    "start_time": "2023-09-17T11:47:09.623Z"
   },
   {
    "duration": 5,
    "start_time": "2023-09-17T11:48:00.770Z"
   },
   {
    "duration": 94,
    "start_time": "2023-09-17T11:48:54.640Z"
   },
   {
    "duration": 11,
    "start_time": "2023-09-17T11:49:01.002Z"
   },
   {
    "duration": 5,
    "start_time": "2023-09-17T11:49:30.303Z"
   },
   {
    "duration": 4,
    "start_time": "2023-09-17T11:49:40.901Z"
   },
   {
    "duration": 5,
    "start_time": "2023-09-17T11:49:47.031Z"
   },
   {
    "duration": 13,
    "start_time": "2023-09-17T11:53:53.365Z"
   },
   {
    "duration": 118,
    "start_time": "2023-09-17T11:54:04.751Z"
   },
   {
    "duration": 135,
    "start_time": "2023-09-17T11:54:34.485Z"
   },
   {
    "duration": 6,
    "start_time": "2023-09-17T11:55:10.507Z"
   },
   {
    "duration": 126,
    "start_time": "2023-09-17T11:55:11.527Z"
   },
   {
    "duration": 6,
    "start_time": "2023-09-17T11:59:36.421Z"
   },
   {
    "duration": 143,
    "start_time": "2023-09-17T12:00:36.280Z"
   },
   {
    "duration": 216,
    "start_time": "2023-09-17T12:00:58.222Z"
   },
   {
    "duration": 142,
    "start_time": "2023-09-17T12:02:01.503Z"
   },
   {
    "duration": 120,
    "start_time": "2023-09-17T12:02:44.184Z"
   },
   {
    "duration": 1126,
    "start_time": "2023-09-17T12:02:57.601Z"
   },
   {
    "duration": 1718,
    "start_time": "2023-09-17T12:03:18.237Z"
   },
   {
    "duration": 1297,
    "start_time": "2023-09-17T12:03:27.626Z"
   },
   {
    "duration": 705,
    "start_time": "2023-09-17T12:04:02.868Z"
   },
   {
    "duration": 243,
    "start_time": "2023-09-17T12:07:06.838Z"
   },
   {
    "duration": 133,
    "start_time": "2023-09-17T12:07:23.890Z"
   },
   {
    "duration": 128,
    "start_time": "2023-09-17T12:07:37.668Z"
   },
   {
    "duration": 283,
    "start_time": "2023-09-17T12:07:50.277Z"
   },
   {
    "duration": 286,
    "start_time": "2023-09-17T12:08:09.510Z"
   },
   {
    "duration": 52,
    "start_time": "2023-09-17T15:34:01.303Z"
   },
   {
    "duration": 1226,
    "start_time": "2023-09-17T15:34:12.159Z"
   },
   {
    "duration": 199,
    "start_time": "2023-09-17T15:34:13.387Z"
   },
   {
    "duration": 13,
    "start_time": "2023-09-17T15:34:13.587Z"
   },
   {
    "duration": 16,
    "start_time": "2023-09-17T15:34:13.602Z"
   },
   {
    "duration": 14,
    "start_time": "2023-09-17T15:34:13.621Z"
   },
   {
    "duration": 17,
    "start_time": "2023-09-17T15:34:13.638Z"
   },
   {
    "duration": 19,
    "start_time": "2023-09-17T15:34:13.656Z"
   },
   {
    "duration": 11,
    "start_time": "2023-09-17T15:34:13.677Z"
   },
   {
    "duration": 17,
    "start_time": "2023-09-17T15:34:13.689Z"
   },
   {
    "duration": 20,
    "start_time": "2023-09-17T15:34:13.707Z"
   },
   {
    "duration": 31,
    "start_time": "2023-09-17T15:34:13.729Z"
   },
   {
    "duration": 14,
    "start_time": "2023-09-17T15:34:13.762Z"
   },
   {
    "duration": 8,
    "start_time": "2023-09-17T15:34:13.777Z"
   },
   {
    "duration": 27,
    "start_time": "2023-09-17T15:34:13.787Z"
   },
   {
    "duration": 40,
    "start_time": "2023-09-17T15:34:13.816Z"
   },
   {
    "duration": 27,
    "start_time": "2023-09-17T15:34:13.858Z"
   },
   {
    "duration": 18,
    "start_time": "2023-09-17T15:34:13.887Z"
   },
   {
    "duration": 11,
    "start_time": "2023-09-17T15:34:13.907Z"
   },
   {
    "duration": 10,
    "start_time": "2023-09-17T15:34:13.919Z"
   },
   {
    "duration": 137,
    "start_time": "2023-09-17T15:34:13.930Z"
   },
   {
    "duration": 4,
    "start_time": "2023-09-17T15:34:14.068Z"
   },
   {
    "duration": 38,
    "start_time": "2023-09-17T15:34:14.073Z"
   },
   {
    "duration": 268,
    "start_time": "2023-09-17T15:34:14.113Z"
   },
   {
    "duration": 1308,
    "start_time": "2023-09-17T15:34:14.382Z"
   },
   {
    "duration": 7,
    "start_time": "2023-09-17T15:35:09.784Z"
   },
   {
    "duration": 7,
    "start_time": "2023-09-17T15:35:41.331Z"
   },
   {
    "duration": 8,
    "start_time": "2023-09-17T15:35:57.437Z"
   },
   {
    "duration": 4,
    "start_time": "2023-09-17T15:36:48.842Z"
   },
   {
    "duration": 4,
    "start_time": "2023-09-17T15:36:55.386Z"
   },
   {
    "duration": 5,
    "start_time": "2023-09-17T15:38:52.218Z"
   },
   {
    "duration": 11,
    "start_time": "2023-09-17T15:49:05.005Z"
   },
   {
    "duration": 12,
    "start_time": "2023-09-17T15:49:42.689Z"
   },
   {
    "duration": 16,
    "start_time": "2023-09-17T15:49:51.956Z"
   },
   {
    "duration": 21,
    "start_time": "2023-09-17T15:50:26.781Z"
   },
   {
    "duration": 22,
    "start_time": "2023-09-17T15:50:59.191Z"
   },
   {
    "duration": 5,
    "start_time": "2023-09-17T15:56:30.980Z"
   },
   {
    "duration": 27,
    "start_time": "2023-09-17T15:57:08.981Z"
   },
   {
    "duration": 28,
    "start_time": "2023-09-17T15:59:23.266Z"
   },
   {
    "duration": 2030,
    "start_time": "2023-09-17T16:01:17.285Z"
   },
   {
    "duration": 294,
    "start_time": "2023-09-17T16:01:51.845Z"
   },
   {
    "duration": 453,
    "start_time": "2023-09-17T16:02:13.700Z"
   },
   {
    "duration": 204,
    "start_time": "2023-09-17T16:02:22.447Z"
   },
   {
    "duration": 1439,
    "start_time": "2023-09-17T16:02:51.767Z"
   },
   {
    "duration": 242,
    "start_time": "2023-09-17T16:03:48.331Z"
   },
   {
    "duration": 156,
    "start_time": "2023-09-17T16:04:34.073Z"
   },
   {
    "duration": 135,
    "start_time": "2023-09-17T16:07:46.600Z"
   },
   {
    "duration": 158,
    "start_time": "2023-09-17T16:07:58.782Z"
   },
   {
    "duration": 277,
    "start_time": "2023-09-17T16:08:17.981Z"
   },
   {
    "duration": 131,
    "start_time": "2023-09-17T16:08:28.802Z"
   },
   {
    "duration": 126,
    "start_time": "2023-09-17T16:08:39.278Z"
   },
   {
    "duration": 136,
    "start_time": "2023-09-17T16:08:55.082Z"
   },
   {
    "duration": 171,
    "start_time": "2023-09-17T16:09:10.874Z"
   },
   {
    "duration": 164,
    "start_time": "2023-09-17T16:09:29.485Z"
   },
   {
    "duration": 4,
    "start_time": "2023-09-17T16:09:30.468Z"
   },
   {
    "duration": 15,
    "start_time": "2023-09-17T16:19:27.299Z"
   },
   {
    "duration": 265,
    "start_time": "2023-09-17T16:19:43.403Z"
   },
   {
    "duration": 122,
    "start_time": "2023-09-17T16:20:03.415Z"
   },
   {
    "duration": 128,
    "start_time": "2023-09-17T16:22:58.576Z"
   },
   {
    "duration": 124,
    "start_time": "2023-09-17T16:23:06.744Z"
   },
   {
    "duration": 27,
    "start_time": "2023-09-17T16:25:26.311Z"
   },
   {
    "duration": 5,
    "start_time": "2023-09-17T16:42:20.974Z"
   },
   {
    "duration": 6,
    "start_time": "2023-09-17T16:42:31.977Z"
   },
   {
    "duration": 5,
    "start_time": "2023-09-17T16:42:52.357Z"
   },
   {
    "duration": 6,
    "start_time": "2023-09-17T16:42:59.246Z"
   },
   {
    "duration": 5,
    "start_time": "2023-09-17T16:43:08.911Z"
   },
   {
    "duration": 133,
    "start_time": "2023-09-17T16:43:37.467Z"
   },
   {
    "duration": 181,
    "start_time": "2023-09-17T16:44:43.143Z"
   },
   {
    "duration": 18,
    "start_time": "2023-09-17T17:08:25.066Z"
   },
   {
    "duration": 28,
    "start_time": "2023-09-17T17:10:21.380Z"
   },
   {
    "duration": 18,
    "start_time": "2023-09-17T17:11:10.963Z"
   },
   {
    "duration": 28,
    "start_time": "2023-09-17T17:11:25.363Z"
   },
   {
    "duration": 30,
    "start_time": "2023-09-17T17:12:08.186Z"
   },
   {
    "duration": 28,
    "start_time": "2023-09-17T17:13:19.710Z"
   },
   {
    "duration": 9,
    "start_time": "2023-09-17T17:13:35.299Z"
   },
   {
    "duration": 26,
    "start_time": "2023-09-17T17:13:41.196Z"
   },
   {
    "duration": 28,
    "start_time": "2023-09-17T17:14:54.643Z"
   },
   {
    "duration": 28,
    "start_time": "2023-09-17T17:15:01.182Z"
   },
   {
    "duration": 12,
    "start_time": "2023-09-17T17:15:28.575Z"
   },
   {
    "duration": 17,
    "start_time": "2023-09-17T17:16:14.301Z"
   },
   {
    "duration": 21,
    "start_time": "2023-09-17T17:16:24.360Z"
   },
   {
    "duration": 15,
    "start_time": "2023-09-17T17:18:48.902Z"
   },
   {
    "duration": 23,
    "start_time": "2023-09-17T17:19:14.834Z"
   },
   {
    "duration": 13,
    "start_time": "2023-09-17T17:20:25.412Z"
   },
   {
    "duration": 12,
    "start_time": "2023-09-17T17:25:27.366Z"
   },
   {
    "duration": 9,
    "start_time": "2023-09-17T17:25:28.661Z"
   },
   {
    "duration": 17,
    "start_time": "2023-09-17T17:25:44.601Z"
   },
   {
    "duration": 14,
    "start_time": "2023-09-17T17:25:45.626Z"
   },
   {
    "duration": 17,
    "start_time": "2023-09-17T17:25:47.419Z"
   },
   {
    "duration": 2,
    "start_time": "2023-09-17T17:26:07.838Z"
   },
   {
    "duration": 14,
    "start_time": "2023-09-17T17:27:15.247Z"
   },
   {
    "duration": 4,
    "start_time": "2023-09-17T17:27:16.004Z"
   },
   {
    "duration": 14,
    "start_time": "2023-09-17T17:27:28.481Z"
   },
   {
    "duration": 14,
    "start_time": "2023-09-17T17:27:29.672Z"
   },
   {
    "duration": 215,
    "start_time": "2023-09-17T17:34:58.065Z"
   },
   {
    "duration": 220,
    "start_time": "2023-09-17T17:35:53.924Z"
   },
   {
    "duration": 215,
    "start_time": "2023-09-17T17:43:16.072Z"
   },
   {
    "duration": 329,
    "start_time": "2023-09-17T17:43:27.795Z"
   },
   {
    "duration": 221,
    "start_time": "2023-09-17T17:44:03.229Z"
   },
   {
    "duration": 15,
    "start_time": "2023-09-17T17:54:47.340Z"
   },
   {
    "duration": 157,
    "start_time": "2023-09-17T18:04:43.716Z"
   },
   {
    "duration": 7,
    "start_time": "2023-09-17T18:04:52.771Z"
   },
   {
    "duration": 25,
    "start_time": "2023-09-17T18:05:10.391Z"
   },
   {
    "duration": 20,
    "start_time": "2023-09-17T18:11:04.552Z"
   },
   {
    "duration": 24,
    "start_time": "2023-09-17T18:11:59.791Z"
   },
   {
    "duration": 35,
    "start_time": "2023-09-17T18:13:41.676Z"
   },
   {
    "duration": 20,
    "start_time": "2023-09-17T18:15:28.398Z"
   },
   {
    "duration": 23,
    "start_time": "2023-09-17T18:17:50.653Z"
   },
   {
    "duration": 43,
    "start_time": "2023-09-17T18:32:16.572Z"
   },
   {
    "duration": 34,
    "start_time": "2023-09-17T18:32:44.945Z"
   },
   {
    "duration": 34,
    "start_time": "2023-09-17T18:34:33.751Z"
   },
   {
    "duration": 31,
    "start_time": "2023-09-17T18:34:58.050Z"
   },
   {
    "duration": 1440,
    "start_time": "2023-09-17T18:38:16.113Z"
   },
   {
    "duration": 25,
    "start_time": "2023-09-17T18:38:41.324Z"
   },
   {
    "duration": 36,
    "start_time": "2023-09-17T18:39:25.713Z"
   },
   {
    "duration": 40,
    "start_time": "2023-09-17T18:40:16.402Z"
   },
   {
    "duration": 1144,
    "start_time": "2023-09-17T19:45:29.861Z"
   },
   {
    "duration": 71,
    "start_time": "2023-09-17T19:45:31.007Z"
   },
   {
    "duration": 117,
    "start_time": "2023-09-17T19:45:31.080Z"
   },
   {
    "duration": 362,
    "start_time": "2023-09-17T19:45:31.199Z"
   },
   {
    "duration": 136,
    "start_time": "2023-09-17T19:45:31.564Z"
   },
   {
    "duration": 56,
    "start_time": "2023-09-17T19:45:31.703Z"
   },
   {
    "duration": 41,
    "start_time": "2023-09-17T19:45:31.761Z"
   },
   {
    "duration": 30,
    "start_time": "2023-09-17T19:45:31.804Z"
   },
   {
    "duration": 84,
    "start_time": "2023-09-17T19:45:31.836Z"
   },
   {
    "duration": 121,
    "start_time": "2023-09-17T19:45:31.922Z"
   },
   {
    "duration": 102,
    "start_time": "2023-09-17T19:45:32.045Z"
   },
   {
    "duration": 176,
    "start_time": "2023-09-17T19:45:32.149Z"
   },
   {
    "duration": 43,
    "start_time": "2023-09-17T19:45:32.327Z"
   },
   {
    "duration": 37,
    "start_time": "2023-09-17T19:45:32.373Z"
   },
   {
    "duration": 38,
    "start_time": "2023-09-17T19:45:32.412Z"
   },
   {
    "duration": 52,
    "start_time": "2023-09-17T19:45:32.452Z"
   },
   {
    "duration": 443,
    "start_time": "2023-09-17T19:45:32.505Z"
   },
   {
    "duration": 395,
    "start_time": "2023-09-17T19:45:32.950Z"
   },
   {
    "duration": 397,
    "start_time": "2023-09-17T19:45:33.346Z"
   },
   {
    "duration": 598,
    "start_time": "2023-09-17T19:45:33.745Z"
   },
   {
    "duration": 105,
    "start_time": "2023-09-17T19:45:34.345Z"
   },
   {
    "duration": 95,
    "start_time": "2023-09-17T19:45:34.452Z"
   },
   {
    "duration": 498,
    "start_time": "2023-09-17T19:45:34.549Z"
   },
   {
    "duration": 26,
    "start_time": "2023-09-17T19:45:35.049Z"
   },
   {
    "duration": 190,
    "start_time": "2023-09-17T19:45:35.076Z"
   },
   {
    "duration": 5,
    "start_time": "2023-09-17T19:45:35.267Z"
   },
   {
    "duration": 64,
    "start_time": "2023-09-17T19:45:35.274Z"
   },
   {
    "duration": 232,
    "start_time": "2023-09-17T19:45:35.341Z"
   },
   {
    "duration": 66,
    "start_time": "2023-09-17T19:45:35.575Z"
   },
   {
    "duration": 73,
    "start_time": "2023-09-17T19:45:35.643Z"
   },
   {
    "duration": 54,
    "start_time": "2023-09-17T19:45:35.719Z"
   },
   {
    "duration": 79,
    "start_time": "2023-09-17T19:45:35.775Z"
   },
   {
    "duration": 25,
    "start_time": "2023-09-17T19:45:35.857Z"
   },
   {
    "duration": 242,
    "start_time": "2023-09-17T19:45:35.884Z"
   },
   {
    "duration": 226,
    "start_time": "2023-09-17T19:45:36.127Z"
   },
   {
    "duration": 25,
    "start_time": "2023-09-17T19:45:36.355Z"
   },
   {
    "duration": 135,
    "start_time": "2023-09-17T19:49:19.127Z"
   },
   {
    "duration": 59,
    "start_time": "2023-09-17T19:52:00.093Z"
   },
   {
    "duration": 61,
    "start_time": "2023-09-17T19:52:18.042Z"
   },
   {
    "duration": 59,
    "start_time": "2023-09-17T19:52:25.318Z"
   },
   {
    "duration": 63,
    "start_time": "2023-09-17T19:53:44.605Z"
   },
   {
    "duration": 54,
    "start_time": "2023-09-17T19:55:28.811Z"
   },
   {
    "duration": 60,
    "start_time": "2023-09-17T19:55:36.151Z"
   },
   {
    "duration": 78,
    "start_time": "2023-09-17T20:10:05.670Z"
   },
   {
    "duration": 161,
    "start_time": "2023-09-17T20:18:13.433Z"
   },
   {
    "duration": 11,
    "start_time": "2023-09-17T20:18:24.817Z"
   },
   {
    "duration": 1208,
    "start_time": "2023-09-17T21:09:10.617Z"
   },
   {
    "duration": 66,
    "start_time": "2023-09-17T21:09:11.828Z"
   },
   {
    "duration": 12,
    "start_time": "2023-09-17T21:09:11.896Z"
   },
   {
    "duration": 18,
    "start_time": "2023-09-17T21:09:11.910Z"
   },
   {
    "duration": 11,
    "start_time": "2023-09-17T21:09:11.930Z"
   },
   {
    "duration": 9,
    "start_time": "2023-09-17T21:09:11.942Z"
   },
   {
    "duration": 21,
    "start_time": "2023-09-17T21:09:11.953Z"
   },
   {
    "duration": 11,
    "start_time": "2023-09-17T21:09:11.976Z"
   },
   {
    "duration": 36,
    "start_time": "2023-09-17T21:09:11.988Z"
   },
   {
    "duration": 12,
    "start_time": "2023-09-17T21:09:12.029Z"
   },
   {
    "duration": 11,
    "start_time": "2023-09-17T21:09:12.042Z"
   },
   {
    "duration": 7,
    "start_time": "2023-09-17T21:09:12.055Z"
   },
   {
    "duration": 6,
    "start_time": "2023-09-17T21:09:12.064Z"
   },
   {
    "duration": 12,
    "start_time": "2023-09-17T21:09:12.071Z"
   },
   {
    "duration": 38,
    "start_time": "2023-09-17T21:09:12.085Z"
   },
   {
    "duration": 6,
    "start_time": "2023-09-17T21:09:12.125Z"
   },
   {
    "duration": 12,
    "start_time": "2023-09-17T21:09:12.133Z"
   },
   {
    "duration": 9,
    "start_time": "2023-09-17T21:09:12.147Z"
   },
   {
    "duration": 11,
    "start_time": "2023-09-17T21:09:12.157Z"
   },
   {
    "duration": 148,
    "start_time": "2023-09-17T21:09:12.170Z"
   },
   {
    "duration": 5,
    "start_time": "2023-09-17T21:09:12.324Z"
   },
   {
    "duration": 32,
    "start_time": "2023-09-17T21:09:12.331Z"
   },
   {
    "duration": 271,
    "start_time": "2023-09-17T21:09:12.365Z"
   },
   {
    "duration": 27,
    "start_time": "2023-09-17T21:09:12.638Z"
   },
   {
    "duration": 136,
    "start_time": "2023-09-17T21:09:12.667Z"
   },
   {
    "duration": 5,
    "start_time": "2023-09-17T21:09:12.805Z"
   },
   {
    "duration": 47,
    "start_time": "2023-09-17T21:09:12.811Z"
   },
   {
    "duration": 173,
    "start_time": "2023-09-17T21:09:12.862Z"
   },
   {
    "duration": 4,
    "start_time": "2023-09-17T21:09:13.037Z"
   },
   {
    "duration": 34,
    "start_time": "2023-09-17T21:09:13.043Z"
   },
   {
    "duration": 14,
    "start_time": "2023-09-17T21:09:13.078Z"
   },
   {
    "duration": 38,
    "start_time": "2023-09-17T21:09:13.093Z"
   },
   {
    "duration": 43,
    "start_time": "2023-09-17T21:09:13.132Z"
   },
   {
    "duration": 213,
    "start_time": "2023-09-17T21:09:13.177Z"
   },
   {
    "duration": 223,
    "start_time": "2023-09-17T21:09:13.392Z"
   },
   {
    "duration": 139,
    "start_time": "2023-09-17T21:09:13.616Z"
   },
   {
    "duration": 9,
    "start_time": "2023-09-17T21:09:13.756Z"
   },
   {
    "duration": 17,
    "start_time": "2023-09-17T21:09:13.766Z"
   },
   {
    "duration": 6,
    "start_time": "2023-09-17T21:13:07.121Z"
   },
   {
    "duration": 5,
    "start_time": "2023-09-17T21:13:30.792Z"
   },
   {
    "duration": 5,
    "start_time": "2023-09-17T21:21:05.106Z"
   },
   {
    "duration": 4,
    "start_time": "2023-09-17T21:21:34.587Z"
   },
   {
    "duration": 5,
    "start_time": "2023-09-17T21:25:11.706Z"
   },
   {
    "duration": 10,
    "start_time": "2023-09-17T21:29:34.873Z"
   },
   {
    "duration": 9,
    "start_time": "2023-09-17T21:30:53.877Z"
   },
   {
    "duration": 9,
    "start_time": "2023-09-17T21:40:54.709Z"
   },
   {
    "duration": 1168,
    "start_time": "2023-09-17T21:41:07.926Z"
   },
   {
    "duration": 70,
    "start_time": "2023-09-17T21:41:09.096Z"
   },
   {
    "duration": 12,
    "start_time": "2023-09-17T21:41:09.167Z"
   },
   {
    "duration": 15,
    "start_time": "2023-09-17T21:41:09.181Z"
   },
   {
    "duration": 11,
    "start_time": "2023-09-17T21:41:09.198Z"
   },
   {
    "duration": 19,
    "start_time": "2023-09-17T21:41:09.211Z"
   },
   {
    "duration": 28,
    "start_time": "2023-09-17T21:41:09.232Z"
   },
   {
    "duration": 13,
    "start_time": "2023-09-17T21:41:09.262Z"
   },
   {
    "duration": 26,
    "start_time": "2023-09-17T21:41:09.276Z"
   },
   {
    "duration": 20,
    "start_time": "2023-09-17T21:41:09.303Z"
   },
   {
    "duration": 26,
    "start_time": "2023-09-17T21:41:09.325Z"
   },
   {
    "duration": 24,
    "start_time": "2023-09-17T21:41:09.352Z"
   },
   {
    "duration": 26,
    "start_time": "2023-09-17T21:41:09.378Z"
   },
   {
    "duration": 32,
    "start_time": "2023-09-17T21:41:09.407Z"
   },
   {
    "duration": 10,
    "start_time": "2023-09-17T21:41:09.440Z"
   },
   {
    "duration": 16,
    "start_time": "2023-09-17T21:41:09.452Z"
   },
   {
    "duration": 15,
    "start_time": "2023-09-17T21:41:09.470Z"
   },
   {
    "duration": 13,
    "start_time": "2023-09-17T21:41:09.487Z"
   },
   {
    "duration": 7,
    "start_time": "2023-09-17T21:41:09.502Z"
   },
   {
    "duration": 129,
    "start_time": "2023-09-17T21:41:09.511Z"
   },
   {
    "duration": 4,
    "start_time": "2023-09-17T21:41:09.642Z"
   },
   {
    "duration": 19,
    "start_time": "2023-09-17T21:41:09.648Z"
   },
   {
    "duration": 261,
    "start_time": "2023-09-17T21:41:09.669Z"
   },
   {
    "duration": 29,
    "start_time": "2023-09-17T21:41:09.932Z"
   },
   {
    "duration": 149,
    "start_time": "2023-09-17T21:41:09.962Z"
   },
   {
    "duration": 4,
    "start_time": "2023-09-17T21:41:10.112Z"
   },
   {
    "duration": 49,
    "start_time": "2023-09-17T21:41:10.124Z"
   },
   {
    "duration": 155,
    "start_time": "2023-09-17T21:41:10.175Z"
   },
   {
    "duration": 6,
    "start_time": "2023-09-17T21:41:10.332Z"
   },
   {
    "duration": 42,
    "start_time": "2023-09-17T21:41:10.341Z"
   },
   {
    "duration": 14,
    "start_time": "2023-09-17T21:41:10.386Z"
   },
   {
    "duration": 26,
    "start_time": "2023-09-17T21:41:10.402Z"
   },
   {
    "duration": 12,
    "start_time": "2023-09-17T21:41:10.430Z"
   },
   {
    "duration": 212,
    "start_time": "2023-09-17T21:41:10.444Z"
   },
   {
    "duration": 210,
    "start_time": "2023-09-17T21:41:10.658Z"
   },
   {
    "duration": 138,
    "start_time": "2023-09-17T21:41:10.869Z"
   },
   {
    "duration": 20,
    "start_time": "2023-09-17T21:41:11.009Z"
   },
   {
    "duration": 5,
    "start_time": "2023-09-17T21:41:11.031Z"
   },
   {
    "duration": 10,
    "start_time": "2023-09-17T21:41:11.038Z"
   },
   {
    "duration": 26,
    "start_time": "2023-09-17T21:41:11.049Z"
   },
   {
    "duration": 1135,
    "start_time": "2023-09-17T21:41:26.728Z"
   },
   {
    "duration": 67,
    "start_time": "2023-09-17T21:41:27.865Z"
   },
   {
    "duration": 68,
    "start_time": "2023-09-17T21:41:27.934Z"
   },
   {
    "duration": 58,
    "start_time": "2023-09-17T21:41:28.005Z"
   },
   {
    "duration": 58,
    "start_time": "2023-09-17T21:41:28.065Z"
   },
   {
    "duration": 23,
    "start_time": "2023-09-17T21:41:28.125Z"
   },
   {
    "duration": 69,
    "start_time": "2023-09-17T21:41:28.149Z"
   },
   {
    "duration": 74,
    "start_time": "2023-09-17T21:41:28.219Z"
   },
   {
    "duration": 121,
    "start_time": "2023-09-17T21:41:28.294Z"
   },
   {
    "duration": 117,
    "start_time": "2023-09-17T21:41:28.418Z"
   },
   {
    "duration": 44,
    "start_time": "2023-09-17T21:41:28.536Z"
   },
   {
    "duration": 7,
    "start_time": "2023-09-17T21:41:28.582Z"
   },
   {
    "duration": 6,
    "start_time": "2023-09-17T21:41:28.590Z"
   },
   {
    "duration": 7,
    "start_time": "2023-09-17T21:41:28.597Z"
   },
   {
    "duration": 4,
    "start_time": "2023-09-17T21:41:28.606Z"
   },
   {
    "duration": 7,
    "start_time": "2023-09-17T21:41:28.611Z"
   },
   {
    "duration": 7,
    "start_time": "2023-09-17T21:41:28.620Z"
   },
   {
    "duration": 5,
    "start_time": "2023-09-17T21:41:28.628Z"
   },
   {
    "duration": 6,
    "start_time": "2023-09-17T21:41:28.634Z"
   },
   {
    "duration": 129,
    "start_time": "2023-09-17T21:41:28.641Z"
   },
   {
    "duration": 4,
    "start_time": "2023-09-17T21:41:28.772Z"
   },
   {
    "duration": 20,
    "start_time": "2023-09-17T21:41:28.778Z"
   },
   {
    "duration": 274,
    "start_time": "2023-09-17T21:41:28.799Z"
   },
   {
    "duration": 28,
    "start_time": "2023-09-17T21:41:29.074Z"
   },
   {
    "duration": 148,
    "start_time": "2023-09-17T21:41:29.103Z"
   },
   {
    "duration": 5,
    "start_time": "2023-09-17T21:41:29.253Z"
   },
   {
    "duration": 32,
    "start_time": "2023-09-17T21:41:29.260Z"
   },
   {
    "duration": 160,
    "start_time": "2023-09-17T21:41:29.295Z"
   },
   {
    "duration": 5,
    "start_time": "2023-09-17T21:41:29.457Z"
   },
   {
    "duration": 26,
    "start_time": "2023-09-17T21:41:29.464Z"
   },
   {
    "duration": 13,
    "start_time": "2023-09-17T21:41:29.492Z"
   },
   {
    "duration": 29,
    "start_time": "2023-09-17T21:41:29.507Z"
   },
   {
    "duration": 13,
    "start_time": "2023-09-17T21:41:29.538Z"
   },
   {
    "duration": 226,
    "start_time": "2023-09-17T21:41:29.553Z"
   },
   {
    "duration": 221,
    "start_time": "2023-09-17T21:41:29.781Z"
   },
   {
    "duration": 152,
    "start_time": "2023-09-17T21:41:30.003Z"
   },
   {
    "duration": 10,
    "start_time": "2023-09-17T21:41:30.157Z"
   },
   {
    "duration": 32,
    "start_time": "2023-09-17T21:41:30.168Z"
   },
   {
    "duration": 23,
    "start_time": "2023-09-17T21:41:30.201Z"
   },
   {
    "duration": 38,
    "start_time": "2023-09-17T21:41:30.226Z"
   },
   {
    "duration": 1197,
    "start_time": "2023-09-17T22:08:42.776Z"
   },
   {
    "duration": 194,
    "start_time": "2023-09-17T22:08:43.975Z"
   },
   {
    "duration": 13,
    "start_time": "2023-09-17T22:08:44.171Z"
   },
   {
    "duration": 15,
    "start_time": "2023-09-17T22:08:44.187Z"
   },
   {
    "duration": 11,
    "start_time": "2023-09-17T22:08:44.204Z"
   },
   {
    "duration": 18,
    "start_time": "2023-09-17T22:08:44.216Z"
   },
   {
    "duration": 31,
    "start_time": "2023-09-17T22:08:44.236Z"
   },
   {
    "duration": 33,
    "start_time": "2023-09-17T22:08:44.269Z"
   },
   {
    "duration": 8,
    "start_time": "2023-09-17T22:08:44.305Z"
   },
   {
    "duration": 11,
    "start_time": "2023-09-17T22:08:44.316Z"
   },
   {
    "duration": 15,
    "start_time": "2023-09-17T22:08:44.329Z"
   },
   {
    "duration": 20,
    "start_time": "2023-09-17T22:08:44.346Z"
   },
   {
    "duration": 36,
    "start_time": "2023-09-17T22:08:44.368Z"
   },
   {
    "duration": 10,
    "start_time": "2023-09-17T22:08:44.406Z"
   },
   {
    "duration": 10,
    "start_time": "2023-09-17T22:08:44.418Z"
   },
   {
    "duration": 16,
    "start_time": "2023-09-17T22:08:44.429Z"
   },
   {
    "duration": 7,
    "start_time": "2023-09-17T22:08:44.447Z"
   },
   {
    "duration": 8,
    "start_time": "2023-09-17T22:08:44.456Z"
   },
   {
    "duration": 40,
    "start_time": "2023-09-17T22:08:44.466Z"
   },
   {
    "duration": 173,
    "start_time": "2023-09-17T22:08:44.508Z"
   },
   {
    "duration": 5,
    "start_time": "2023-09-17T22:08:44.683Z"
   },
   {
    "duration": 6,
    "start_time": "2023-09-17T22:08:44.701Z"
   },
   {
    "duration": 266,
    "start_time": "2023-09-17T22:08:44.708Z"
   },
   {
    "duration": 41,
    "start_time": "2023-09-17T22:08:44.976Z"
   },
   {
    "duration": 174,
    "start_time": "2023-09-17T22:08:45.018Z"
   },
   {
    "duration": 11,
    "start_time": "2023-09-17T22:08:45.193Z"
   },
   {
    "duration": 75,
    "start_time": "2023-09-17T22:08:45.206Z"
   },
   {
    "duration": 237,
    "start_time": "2023-09-17T22:08:45.285Z"
   },
   {
    "duration": 5,
    "start_time": "2023-09-17T22:08:45.524Z"
   },
   {
    "duration": 86,
    "start_time": "2023-09-17T22:08:45.530Z"
   },
   {
    "duration": 13,
    "start_time": "2023-09-17T22:08:45.618Z"
   },
   {
    "duration": 80,
    "start_time": "2023-09-17T22:08:45.632Z"
   },
   {
    "duration": 39,
    "start_time": "2023-09-17T22:08:45.714Z"
   },
   {
    "duration": 462,
    "start_time": "2023-09-17T22:08:45.754Z"
   },
   {
    "duration": 485,
    "start_time": "2023-09-17T22:08:46.218Z"
   },
   {
    "duration": 243,
    "start_time": "2023-09-17T22:08:46.704Z"
   },
   {
    "duration": 12,
    "start_time": "2023-09-17T22:08:47.000Z"
   },
   {
    "duration": 26,
    "start_time": "2023-09-17T22:08:47.013Z"
   },
   {
    "duration": 20,
    "start_time": "2023-09-17T22:08:47.040Z"
   },
   {
    "duration": 45,
    "start_time": "2023-09-17T22:08:47.062Z"
   },
   {
    "duration": 59,
    "start_time": "2023-09-18T06:14:08.044Z"
   },
   {
    "duration": 1784,
    "start_time": "2023-09-18T06:24:39.771Z"
   },
   {
    "duration": 59,
    "start_time": "2023-09-18T07:22:32.401Z"
   },
   {
    "duration": 1257,
    "start_time": "2023-09-18T07:22:41.936Z"
   },
   {
    "duration": 188,
    "start_time": "2023-09-18T07:22:43.195Z"
   },
   {
    "duration": 11,
    "start_time": "2023-09-18T07:22:43.385Z"
   },
   {
    "duration": 39,
    "start_time": "2023-09-18T07:22:43.398Z"
   },
   {
    "duration": 33,
    "start_time": "2023-09-18T07:22:43.439Z"
   },
   {
    "duration": 42,
    "start_time": "2023-09-18T07:22:43.474Z"
   },
   {
    "duration": 29,
    "start_time": "2023-09-18T07:22:43.517Z"
   },
   {
    "duration": 101,
    "start_time": "2023-09-18T07:22:43.548Z"
   },
   {
    "duration": 88,
    "start_time": "2023-09-18T07:22:43.651Z"
   },
   {
    "duration": 200,
    "start_time": "2023-09-18T07:22:43.740Z"
   },
   {
    "duration": 84,
    "start_time": "2023-09-18T07:22:43.941Z"
   },
   {
    "duration": 74,
    "start_time": "2023-09-18T07:22:44.026Z"
   },
   {
    "duration": 6,
    "start_time": "2023-09-18T07:22:44.102Z"
   },
   {
    "duration": 9,
    "start_time": "2023-09-18T07:22:44.111Z"
   },
   {
    "duration": 6,
    "start_time": "2023-09-18T07:22:44.121Z"
   },
   {
    "duration": 11,
    "start_time": "2023-09-18T07:22:44.128Z"
   },
   {
    "duration": 28,
    "start_time": "2023-09-18T07:22:44.140Z"
   },
   {
    "duration": 11,
    "start_time": "2023-09-18T07:22:44.169Z"
   },
   {
    "duration": 22,
    "start_time": "2023-09-18T07:22:44.182Z"
   },
   {
    "duration": 133,
    "start_time": "2023-09-18T07:22:44.206Z"
   },
   {
    "duration": 4,
    "start_time": "2023-09-18T07:22:44.341Z"
   },
   {
    "duration": 46,
    "start_time": "2023-09-18T07:22:44.347Z"
   },
   {
    "duration": 281,
    "start_time": "2023-09-18T07:22:44.394Z"
   },
   {
    "duration": 27,
    "start_time": "2023-09-18T07:22:44.676Z"
   },
   {
    "duration": 266,
    "start_time": "2023-09-18T07:22:44.705Z"
   },
   {
    "duration": 4,
    "start_time": "2023-09-18T07:22:44.973Z"
   },
   {
    "duration": 29,
    "start_time": "2023-09-18T07:22:44.979Z"
   },
   {
    "duration": 165,
    "start_time": "2023-09-18T07:22:45.010Z"
   },
   {
    "duration": 6,
    "start_time": "2023-09-18T07:22:45.177Z"
   },
   {
    "duration": 45,
    "start_time": "2023-09-18T07:22:45.185Z"
   },
   {
    "duration": 15,
    "start_time": "2023-09-18T07:22:45.232Z"
   },
   {
    "duration": 37,
    "start_time": "2023-09-18T07:22:45.249Z"
   },
   {
    "duration": 33,
    "start_time": "2023-09-18T07:22:45.288Z"
   },
   {
    "duration": 227,
    "start_time": "2023-09-18T07:22:45.323Z"
   },
   {
    "duration": 304,
    "start_time": "2023-09-18T07:22:45.552Z"
   },
   {
    "duration": 67,
    "start_time": "2023-09-18T07:22:45.858Z"
   },
   {
    "duration": 13,
    "start_time": "2023-09-18T07:22:45.927Z"
   },
   {
    "duration": 38,
    "start_time": "2023-09-18T07:22:45.942Z"
   },
   {
    "duration": 17,
    "start_time": "2023-09-18T07:22:45.983Z"
   },
   {
    "duration": 12,
    "start_time": "2023-09-18T07:22:46.004Z"
   },
   {
    "duration": 10,
    "start_time": "2023-09-18T07:24:01.012Z"
   },
   {
    "duration": 9,
    "start_time": "2023-09-18T07:24:14.213Z"
   },
   {
    "duration": 7,
    "start_time": "2023-09-18T07:24:29.843Z"
   },
   {
    "duration": 18,
    "start_time": "2023-09-18T07:24:44.230Z"
   },
   {
    "duration": 15,
    "start_time": "2023-09-18T07:25:04.836Z"
   },
   {
    "duration": 7,
    "start_time": "2023-09-18T07:25:23.318Z"
   },
   {
    "duration": 15,
    "start_time": "2023-09-18T07:26:49.896Z"
   },
   {
    "duration": 89,
    "start_time": "2023-09-18T07:28:14.314Z"
   },
   {
    "duration": 90,
    "start_time": "2023-09-18T07:42:55.576Z"
   },
   {
    "duration": 5,
    "start_time": "2023-09-18T07:43:00.060Z"
   },
   {
    "duration": 7,
    "start_time": "2023-09-18T07:43:02.295Z"
   },
   {
    "duration": 140,
    "start_time": "2023-09-18T07:43:03.176Z"
   },
   {
    "duration": 122,
    "start_time": "2023-09-18T07:43:17.845Z"
   },
   {
    "duration": 230,
    "start_time": "2023-09-18T07:43:55.685Z"
   },
   {
    "duration": 7,
    "start_time": "2023-09-18T07:45:04.427Z"
   },
   {
    "duration": 150,
    "start_time": "2023-09-18T07:50:31.319Z"
   },
   {
    "duration": 192,
    "start_time": "2023-09-18T07:50:57.535Z"
   },
   {
    "duration": 7,
    "start_time": "2023-09-18T07:56:51.427Z"
   },
   {
    "duration": 155,
    "start_time": "2023-09-18T08:04:03.351Z"
   },
   {
    "duration": 148,
    "start_time": "2023-09-18T08:04:14.979Z"
   },
   {
    "duration": 321,
    "start_time": "2023-09-18T08:05:27.003Z"
   },
   {
    "duration": 13,
    "start_time": "2023-09-18T08:07:36.073Z"
   },
   {
    "duration": 190,
    "start_time": "2023-09-18T08:07:57.146Z"
   },
   {
    "duration": 220,
    "start_time": "2023-09-18T08:09:25.404Z"
   },
   {
    "duration": 193,
    "start_time": "2023-09-18T08:09:33.351Z"
   },
   {
    "duration": 207,
    "start_time": "2023-09-18T08:09:47.967Z"
   },
   {
    "duration": 206,
    "start_time": "2023-09-18T08:09:57.615Z"
   },
   {
    "duration": 200,
    "start_time": "2023-09-18T08:10:04.306Z"
   },
   {
    "duration": 316,
    "start_time": "2023-09-18T08:10:17.334Z"
   },
   {
    "duration": 205,
    "start_time": "2023-09-18T08:10:23.053Z"
   },
   {
    "duration": 233,
    "start_time": "2023-09-18T08:10:31.175Z"
   },
   {
    "duration": 224,
    "start_time": "2023-09-18T08:10:41.109Z"
   },
   {
    "duration": 190,
    "start_time": "2023-09-18T08:11:50.586Z"
   },
   {
    "duration": 167,
    "start_time": "2023-09-18T08:15:20.872Z"
   },
   {
    "duration": 142,
    "start_time": "2023-09-18T08:17:19.061Z"
   },
   {
    "duration": 235,
    "start_time": "2023-09-18T08:17:32.834Z"
   },
   {
    "duration": 137,
    "start_time": "2023-09-18T08:17:45.530Z"
   },
   {
    "duration": 148,
    "start_time": "2023-09-18T08:18:49.118Z"
   },
   {
    "duration": 135,
    "start_time": "2023-09-18T08:19:58.568Z"
   },
   {
    "duration": 123,
    "start_time": "2023-09-18T08:20:29.874Z"
   },
   {
    "duration": 132,
    "start_time": "2023-09-18T08:20:36.733Z"
   },
   {
    "duration": 136,
    "start_time": "2023-09-18T08:20:47.654Z"
   },
   {
    "duration": 26,
    "start_time": "2023-09-18T08:23:57.260Z"
   },
   {
    "duration": 1331,
    "start_time": "2023-09-18T08:24:46.208Z"
   },
   {
    "duration": 68,
    "start_time": "2023-09-18T08:24:47.541Z"
   },
   {
    "duration": 11,
    "start_time": "2023-09-18T08:24:47.611Z"
   },
   {
    "duration": 26,
    "start_time": "2023-09-18T08:24:47.625Z"
   },
   {
    "duration": 14,
    "start_time": "2023-09-18T08:24:47.654Z"
   },
   {
    "duration": 17,
    "start_time": "2023-09-18T08:24:47.670Z"
   },
   {
    "duration": 40,
    "start_time": "2023-09-18T08:24:47.689Z"
   },
   {
    "duration": 16,
    "start_time": "2023-09-18T08:24:47.731Z"
   },
   {
    "duration": 18,
    "start_time": "2023-09-18T08:24:47.749Z"
   },
   {
    "duration": 22,
    "start_time": "2023-09-18T08:24:47.769Z"
   },
   {
    "duration": 24,
    "start_time": "2023-09-18T08:24:47.793Z"
   },
   {
    "duration": 15,
    "start_time": "2023-09-18T08:24:47.819Z"
   },
   {
    "duration": 9,
    "start_time": "2023-09-18T08:24:47.837Z"
   },
   {
    "duration": 22,
    "start_time": "2023-09-18T08:24:47.849Z"
   },
   {
    "duration": 5,
    "start_time": "2023-09-18T08:24:47.873Z"
   },
   {
    "duration": 14,
    "start_time": "2023-09-18T08:24:47.879Z"
   },
   {
    "duration": 27,
    "start_time": "2023-09-18T08:24:47.895Z"
   },
   {
    "duration": 13,
    "start_time": "2023-09-18T08:24:47.925Z"
   },
   {
    "duration": 245,
    "start_time": "2023-09-18T08:24:47.941Z"
   },
   {
    "duration": 5,
    "start_time": "2023-09-18T08:24:48.188Z"
   },
   {
    "duration": 141,
    "start_time": "2023-09-18T08:24:48.195Z"
   },
   {
    "duration": 6,
    "start_time": "2023-09-18T08:24:48.338Z"
   },
   {
    "duration": 13,
    "start_time": "2023-09-18T08:24:48.345Z"
   },
   {
    "duration": 299,
    "start_time": "2023-09-18T08:24:48.360Z"
   },
   {
    "duration": 0,
    "start_time": "2023-09-18T08:26:13.883Z"
   },
   {
    "duration": 0,
    "start_time": "2023-09-18T08:26:13.885Z"
   },
   {
    "duration": 0,
    "start_time": "2023-09-18T08:26:13.886Z"
   },
   {
    "duration": 0,
    "start_time": "2023-09-18T08:26:13.887Z"
   },
   {
    "duration": 0,
    "start_time": "2023-09-18T08:26:13.888Z"
   },
   {
    "duration": 0,
    "start_time": "2023-09-18T08:26:13.889Z"
   },
   {
    "duration": 0,
    "start_time": "2023-09-18T08:26:13.890Z"
   },
   {
    "duration": 0,
    "start_time": "2023-09-18T08:26:13.891Z"
   },
   {
    "duration": 0,
    "start_time": "2023-09-18T08:26:13.892Z"
   },
   {
    "duration": 0,
    "start_time": "2023-09-18T08:26:13.893Z"
   },
   {
    "duration": 0,
    "start_time": "2023-09-18T08:26:13.894Z"
   },
   {
    "duration": 0,
    "start_time": "2023-09-18T08:26:13.895Z"
   },
   {
    "duration": 0,
    "start_time": "2023-09-18T08:26:13.896Z"
   },
   {
    "duration": 0,
    "start_time": "2023-09-18T08:26:13.924Z"
   },
   {
    "duration": 0,
    "start_time": "2023-09-18T08:26:13.926Z"
   },
   {
    "duration": 0,
    "start_time": "2023-09-18T08:26:13.927Z"
   },
   {
    "duration": 0,
    "start_time": "2023-09-18T08:26:13.929Z"
   },
   {
    "duration": 0,
    "start_time": "2023-09-18T08:26:13.939Z"
   },
   {
    "duration": 131,
    "start_time": "2023-09-18T08:26:14.331Z"
   },
   {
    "duration": 143,
    "start_time": "2023-09-18T08:26:48.369Z"
   },
   {
    "duration": 136,
    "start_time": "2023-09-18T08:26:59.705Z"
   },
   {
    "duration": 134,
    "start_time": "2023-09-18T08:27:47.418Z"
   },
   {
    "duration": 148,
    "start_time": "2023-09-18T08:29:09.809Z"
   },
   {
    "duration": 142,
    "start_time": "2023-09-18T08:29:39.091Z"
   },
   {
    "duration": 139,
    "start_time": "2023-09-18T08:29:49.834Z"
   },
   {
    "duration": 162,
    "start_time": "2023-09-18T08:30:32.567Z"
   },
   {
    "duration": 29,
    "start_time": "2023-09-18T09:50:01.157Z"
   },
   {
    "duration": 12,
    "start_time": "2023-09-18T09:50:05.117Z"
   },
   {
    "duration": 1180,
    "start_time": "2023-09-18T09:50:20.998Z"
   },
   {
    "duration": 68,
    "start_time": "2023-09-18T09:50:22.180Z"
   },
   {
    "duration": 23,
    "start_time": "2023-09-18T09:50:22.253Z"
   },
   {
    "duration": 23,
    "start_time": "2023-09-18T09:50:22.278Z"
   },
   {
    "duration": 11,
    "start_time": "2023-09-18T09:50:22.303Z"
   },
   {
    "duration": 62,
    "start_time": "2023-09-18T09:50:22.316Z"
   },
   {
    "duration": 44,
    "start_time": "2023-09-18T09:50:22.379Z"
   },
   {
    "duration": 25,
    "start_time": "2023-09-18T09:50:22.425Z"
   },
   {
    "duration": 14,
    "start_time": "2023-09-18T09:50:22.453Z"
   },
   {
    "duration": 13,
    "start_time": "2023-09-18T09:50:22.469Z"
   },
   {
    "duration": 27,
    "start_time": "2023-09-18T09:50:22.484Z"
   },
   {
    "duration": 34,
    "start_time": "2023-09-18T09:50:22.512Z"
   },
   {
    "duration": 13,
    "start_time": "2023-09-18T09:50:22.548Z"
   },
   {
    "duration": 36,
    "start_time": "2023-09-18T09:50:22.563Z"
   },
   {
    "duration": 11,
    "start_time": "2023-09-18T09:50:22.600Z"
   },
   {
    "duration": 65,
    "start_time": "2023-09-18T09:50:22.613Z"
   },
   {
    "duration": 290,
    "start_time": "2023-09-18T09:50:22.680Z"
   },
   {
    "duration": 52,
    "start_time": "2023-09-18T09:50:22.972Z"
   },
   {
    "duration": 288,
    "start_time": "2023-09-18T09:50:23.026Z"
   },
   {
    "duration": 10,
    "start_time": "2023-09-18T09:50:23.316Z"
   },
   {
    "duration": 254,
    "start_time": "2023-09-18T09:50:23.327Z"
   },
   {
    "duration": 6,
    "start_time": "2023-09-18T09:50:23.583Z"
   },
   {
    "duration": 94,
    "start_time": "2023-09-18T09:50:23.590Z"
   },
   {
    "duration": 367,
    "start_time": "2023-09-18T09:50:23.685Z"
   },
   {
    "duration": 257,
    "start_time": "2023-09-18T09:50:24.054Z"
   },
   {
    "duration": 0,
    "start_time": "2023-09-18T09:50:24.314Z"
   },
   {
    "duration": 0,
    "start_time": "2023-09-18T09:50:24.314Z"
   },
   {
    "duration": 0,
    "start_time": "2023-09-18T09:50:24.316Z"
   },
   {
    "duration": 0,
    "start_time": "2023-09-18T09:50:24.316Z"
   },
   {
    "duration": 0,
    "start_time": "2023-09-18T09:50:24.324Z"
   },
   {
    "duration": 0,
    "start_time": "2023-09-18T09:50:24.325Z"
   },
   {
    "duration": 0,
    "start_time": "2023-09-18T09:50:24.326Z"
   },
   {
    "duration": 0,
    "start_time": "2023-09-18T09:50:24.327Z"
   },
   {
    "duration": 0,
    "start_time": "2023-09-18T09:50:24.328Z"
   },
   {
    "duration": 0,
    "start_time": "2023-09-18T09:50:24.329Z"
   },
   {
    "duration": 0,
    "start_time": "2023-09-18T09:50:24.330Z"
   },
   {
    "duration": 0,
    "start_time": "2023-09-18T09:50:24.331Z"
   },
   {
    "duration": 0,
    "start_time": "2023-09-18T09:50:24.332Z"
   },
   {
    "duration": 0,
    "start_time": "2023-09-18T09:50:24.333Z"
   },
   {
    "duration": 0,
    "start_time": "2023-09-18T09:50:24.334Z"
   },
   {
    "duration": 0,
    "start_time": "2023-09-18T09:50:24.335Z"
   },
   {
    "duration": 0,
    "start_time": "2023-09-18T09:50:24.336Z"
   },
   {
    "duration": 213,
    "start_time": "2023-09-18T09:50:51.722Z"
   },
   {
    "duration": 46,
    "start_time": "2023-09-18T09:50:56.085Z"
   },
   {
    "duration": 17,
    "start_time": "2023-09-18T09:50:57.613Z"
   },
   {
    "duration": 281,
    "start_time": "2023-09-18T09:52:00.843Z"
   },
   {
    "duration": 6,
    "start_time": "2023-09-18T09:56:36.260Z"
   },
   {
    "duration": 183,
    "start_time": "2023-09-18T09:57:27.499Z"
   },
   {
    "duration": 31,
    "start_time": "2023-09-18T09:58:18.519Z"
   },
   {
    "duration": 226,
    "start_time": "2023-09-18T09:58:29.898Z"
   },
   {
    "duration": 172,
    "start_time": "2023-09-18T10:40:45.723Z"
   },
   {
    "duration": 216,
    "start_time": "2023-09-18T10:42:20.237Z"
   },
   {
    "duration": 185,
    "start_time": "2023-09-18T10:42:48.239Z"
   },
   {
    "duration": 226,
    "start_time": "2023-09-18T10:43:01.941Z"
   },
   {
    "duration": 223,
    "start_time": "2023-09-18T10:44:19.239Z"
   },
   {
    "duration": 188,
    "start_time": "2023-09-18T10:44:31.449Z"
   },
   {
    "duration": 150,
    "start_time": "2023-09-18T10:46:14.061Z"
   },
   {
    "duration": 171,
    "start_time": "2023-09-18T10:46:52.841Z"
   },
   {
    "duration": 251,
    "start_time": "2023-09-18T10:53:07.054Z"
   },
   {
    "duration": 163,
    "start_time": "2023-09-18T10:53:40.009Z"
   },
   {
    "duration": 6,
    "start_time": "2023-09-18T10:53:50.997Z"
   },
   {
    "duration": 26,
    "start_time": "2023-09-18T11:17:06.566Z"
   },
   {
    "duration": 20,
    "start_time": "2023-09-18T11:17:07.875Z"
   },
   {
    "duration": 20,
    "start_time": "2023-09-18T11:17:12.574Z"
   },
   {
    "duration": 18,
    "start_time": "2023-09-18T11:17:14.934Z"
   },
   {
    "duration": 206,
    "start_time": "2023-09-18T11:17:18.839Z"
   },
   {
    "duration": 210,
    "start_time": "2023-09-18T11:17:24.731Z"
   },
   {
    "duration": 64,
    "start_time": "2023-09-18T11:39:01.487Z"
   },
   {
    "duration": 12,
    "start_time": "2023-09-18T11:40:42.861Z"
   },
   {
    "duration": 5,
    "start_time": "2023-09-18T11:42:31.603Z"
   },
   {
    "duration": 5,
    "start_time": "2023-09-18T11:42:32.461Z"
   },
   {
    "duration": 5,
    "start_time": "2023-09-18T11:42:33.757Z"
   },
   {
    "duration": 6,
    "start_time": "2023-09-18T11:46:30.449Z"
   },
   {
    "duration": 4,
    "start_time": "2023-09-18T11:46:33.562Z"
   },
   {
    "duration": 5,
    "start_time": "2023-09-18T11:46:34.191Z"
   },
   {
    "duration": 6,
    "start_time": "2023-09-18T11:46:36.646Z"
   },
   {
    "duration": 5,
    "start_time": "2023-09-18T11:46:37.264Z"
   },
   {
    "duration": 6,
    "start_time": "2023-09-18T11:48:48.749Z"
   },
   {
    "duration": 5,
    "start_time": "2023-09-18T11:55:07.706Z"
   },
   {
    "duration": 6,
    "start_time": "2023-09-18T11:55:41.600Z"
   },
   {
    "duration": 5,
    "start_time": "2023-09-18T11:56:49.630Z"
   },
   {
    "duration": 1161,
    "start_time": "2023-09-18T14:41:58.522Z"
   },
   {
    "duration": 68,
    "start_time": "2023-09-18T14:41:59.685Z"
   },
   {
    "duration": 15,
    "start_time": "2023-09-18T14:41:59.754Z"
   },
   {
    "duration": 22,
    "start_time": "2023-09-18T14:41:59.771Z"
   },
   {
    "duration": 10,
    "start_time": "2023-09-18T14:41:59.795Z"
   },
   {
    "duration": 17,
    "start_time": "2023-09-18T14:41:59.807Z"
   },
   {
    "duration": 24,
    "start_time": "2023-09-18T14:41:59.825Z"
   },
   {
    "duration": 11,
    "start_time": "2023-09-18T14:41:59.851Z"
   },
   {
    "duration": 17,
    "start_time": "2023-09-18T14:41:59.864Z"
   },
   {
    "duration": 23,
    "start_time": "2023-09-18T14:41:59.885Z"
   },
   {
    "duration": 21,
    "start_time": "2023-09-18T14:41:59.909Z"
   },
   {
    "duration": 10,
    "start_time": "2023-09-18T14:41:59.932Z"
   },
   {
    "duration": 9,
    "start_time": "2023-09-18T14:41:59.944Z"
   },
   {
    "duration": 38,
    "start_time": "2023-09-18T14:41:59.954Z"
   },
   {
    "duration": 6,
    "start_time": "2023-09-18T14:41:59.993Z"
   },
   {
    "duration": 57,
    "start_time": "2023-09-18T14:42:00.000Z"
   },
   {
    "duration": 43,
    "start_time": "2023-09-18T14:42:00.058Z"
   },
   {
    "duration": 29,
    "start_time": "2023-09-18T14:42:00.103Z"
   },
   {
    "duration": 247,
    "start_time": "2023-09-18T14:42:00.134Z"
   },
   {
    "duration": 7,
    "start_time": "2023-09-18T14:42:00.382Z"
   },
   {
    "duration": 139,
    "start_time": "2023-09-18T14:42:00.390Z"
   },
   {
    "duration": 5,
    "start_time": "2023-09-18T14:42:00.531Z"
   },
   {
    "duration": 32,
    "start_time": "2023-09-18T14:42:00.538Z"
   },
   {
    "duration": 282,
    "start_time": "2023-09-18T14:42:00.572Z"
   },
   {
    "duration": 156,
    "start_time": "2023-09-18T14:42:00.856Z"
   },
   {
    "duration": 36,
    "start_time": "2023-09-18T14:42:01.014Z"
   },
   {
    "duration": 210,
    "start_time": "2023-09-18T14:42:01.052Z"
   },
   {
    "duration": 6,
    "start_time": "2023-09-18T14:42:01.267Z"
   },
   {
    "duration": 97,
    "start_time": "2023-09-18T14:42:01.275Z"
   },
   {
    "duration": 217,
    "start_time": "2023-09-18T14:42:01.374Z"
   },
   {
    "duration": 4,
    "start_time": "2023-09-18T14:42:01.593Z"
   },
   {
    "duration": 98,
    "start_time": "2023-09-18T14:42:01.599Z"
   },
   {
    "duration": 41,
    "start_time": "2023-09-18T14:42:01.698Z"
   },
   {
    "duration": 93,
    "start_time": "2023-09-18T14:42:01.741Z"
   },
   {
    "duration": 33,
    "start_time": "2023-09-18T14:42:01.835Z"
   },
   {
    "duration": 289,
    "start_time": "2023-09-18T14:42:01.870Z"
   },
   {
    "duration": 242,
    "start_time": "2023-09-18T14:42:02.160Z"
   },
   {
    "duration": 70,
    "start_time": "2023-09-18T14:42:02.404Z"
   },
   {
    "duration": 11,
    "start_time": "2023-09-18T14:42:02.476Z"
   },
   {
    "duration": 25,
    "start_time": "2023-09-18T14:42:02.489Z"
   },
   {
    "duration": 30,
    "start_time": "2023-09-18T14:42:02.516Z"
   },
   {
    "duration": 17,
    "start_time": "2023-09-18T14:42:02.548Z"
   },
   {
    "duration": 21,
    "start_time": "2023-09-18T14:42:02.567Z"
   },
   {
    "duration": 34,
    "start_time": "2023-09-18T14:42:02.589Z"
   },
   {
    "duration": 43,
    "start_time": "2023-09-18T14:42:02.625Z"
   },
   {
    "duration": 1188,
    "start_time": "2023-09-18T17:42:58.823Z"
   },
   {
    "duration": 83,
    "start_time": "2023-09-18T17:43:00.013Z"
   },
   {
    "duration": 35,
    "start_time": "2023-09-18T17:43:00.098Z"
   },
   {
    "duration": 101,
    "start_time": "2023-09-18T17:43:00.135Z"
   },
   {
    "duration": 60,
    "start_time": "2023-09-18T17:43:00.239Z"
   },
   {
    "duration": 49,
    "start_time": "2023-09-18T17:43:00.300Z"
   },
   {
    "duration": 66,
    "start_time": "2023-09-18T17:43:00.352Z"
   },
   {
    "duration": 40,
    "start_time": "2023-09-18T17:43:00.421Z"
   },
   {
    "duration": 36,
    "start_time": "2023-09-18T17:43:00.463Z"
   },
   {
    "duration": 33,
    "start_time": "2023-09-18T17:43:00.501Z"
   },
   {
    "duration": 64,
    "start_time": "2023-09-18T17:43:00.536Z"
   },
   {
    "duration": 44,
    "start_time": "2023-09-18T17:43:00.601Z"
   },
   {
    "duration": 115,
    "start_time": "2023-09-18T17:43:00.647Z"
   },
   {
    "duration": 82,
    "start_time": "2023-09-18T17:43:00.766Z"
   },
   {
    "duration": 49,
    "start_time": "2023-09-18T17:43:00.850Z"
   },
   {
    "duration": 26,
    "start_time": "2023-09-18T17:43:00.901Z"
   },
   {
    "duration": 28,
    "start_time": "2023-09-18T17:43:00.929Z"
   },
   {
    "duration": 109,
    "start_time": "2023-09-18T17:43:00.958Z"
   },
   {
    "duration": 453,
    "start_time": "2023-09-18T17:43:01.068Z"
   },
   {
    "duration": 48,
    "start_time": "2023-09-18T17:43:01.522Z"
   },
   {
    "duration": 300,
    "start_time": "2023-09-18T17:43:01.571Z"
   },
   {
    "duration": 5,
    "start_time": "2023-09-18T17:43:01.873Z"
   },
   {
    "duration": 50,
    "start_time": "2023-09-18T17:43:01.881Z"
   },
   {
    "duration": 374,
    "start_time": "2023-09-18T17:43:01.932Z"
   },
   {
    "duration": 222,
    "start_time": "2023-09-18T17:43:02.308Z"
   },
   {
    "duration": 31,
    "start_time": "2023-09-18T17:43:02.532Z"
   },
   {
    "duration": 247,
    "start_time": "2023-09-18T17:43:02.564Z"
   },
   {
    "duration": 6,
    "start_time": "2023-09-18T17:43:02.814Z"
   },
   {
    "duration": 79,
    "start_time": "2023-09-18T17:43:02.822Z"
   },
   {
    "duration": 229,
    "start_time": "2023-09-18T17:43:02.903Z"
   },
   {
    "duration": 5,
    "start_time": "2023-09-18T17:43:03.134Z"
   },
   {
    "duration": 41,
    "start_time": "2023-09-18T17:43:03.141Z"
   },
   {
    "duration": 45,
    "start_time": "2023-09-18T17:43:03.184Z"
   },
   {
    "duration": 19,
    "start_time": "2023-09-18T17:43:03.231Z"
   },
   {
    "duration": 18,
    "start_time": "2023-09-18T17:43:03.253Z"
   },
   {
    "duration": 349,
    "start_time": "2023-09-18T17:43:03.273Z"
   },
   {
    "duration": 274,
    "start_time": "2023-09-18T17:43:03.624Z"
   },
   {
    "duration": 63,
    "start_time": "2023-09-18T17:43:03.901Z"
   },
   {
    "duration": 22,
    "start_time": "2023-09-18T17:43:03.966Z"
   },
   {
    "duration": 13,
    "start_time": "2023-09-18T17:43:03.990Z"
   },
   {
    "duration": 26,
    "start_time": "2023-09-18T17:43:04.009Z"
   },
   {
    "duration": 30,
    "start_time": "2023-09-18T17:43:04.037Z"
   },
   {
    "duration": 63,
    "start_time": "2023-09-18T17:43:04.069Z"
   },
   {
    "duration": 34,
    "start_time": "2023-09-18T17:43:04.134Z"
   },
   {
    "duration": 51,
    "start_time": "2023-09-18T17:43:04.171Z"
   },
   {
    "duration": 53,
    "start_time": "2023-09-18T17:48:02.873Z"
   },
   {
    "duration": 1382,
    "start_time": "2023-09-18T17:48:08.865Z"
   },
   {
    "duration": 190,
    "start_time": "2023-09-18T17:48:10.249Z"
   },
   {
    "duration": 14,
    "start_time": "2023-09-18T17:48:10.441Z"
   },
   {
    "duration": 15,
    "start_time": "2023-09-18T17:48:10.457Z"
   },
   {
    "duration": 11,
    "start_time": "2023-09-18T17:48:10.474Z"
   },
   {
    "duration": 10,
    "start_time": "2023-09-18T17:48:10.486Z"
   },
   {
    "duration": 22,
    "start_time": "2023-09-18T17:48:10.497Z"
   },
   {
    "duration": 36,
    "start_time": "2023-09-18T17:48:10.520Z"
   },
   {
    "duration": 6,
    "start_time": "2023-09-18T17:48:10.558Z"
   },
   {
    "duration": 10,
    "start_time": "2023-09-18T17:48:10.567Z"
   },
   {
    "duration": 10,
    "start_time": "2023-09-18T17:48:10.579Z"
   },
   {
    "duration": 7,
    "start_time": "2023-09-18T17:48:10.591Z"
   },
   {
    "duration": 48,
    "start_time": "2023-09-18T17:48:10.600Z"
   },
   {
    "duration": 8,
    "start_time": "2023-09-18T17:48:10.650Z"
   },
   {
    "duration": 5,
    "start_time": "2023-09-18T17:48:10.660Z"
   },
   {
    "duration": 6,
    "start_time": "2023-09-18T17:48:10.667Z"
   },
   {
    "duration": 6,
    "start_time": "2023-09-18T17:48:10.675Z"
   },
   {
    "duration": 6,
    "start_time": "2023-09-18T17:48:10.682Z"
   },
   {
    "duration": 273,
    "start_time": "2023-09-18T17:48:10.689Z"
   },
   {
    "duration": 0,
    "start_time": "2023-09-18T17:48:10.964Z"
   },
   {
    "duration": 0,
    "start_time": "2023-09-18T17:48:10.965Z"
   },
   {
    "duration": 0,
    "start_time": "2023-09-18T17:48:10.967Z"
   },
   {
    "duration": 0,
    "start_time": "2023-09-18T17:48:10.968Z"
   },
   {
    "duration": 0,
    "start_time": "2023-09-18T17:48:10.969Z"
   },
   {
    "duration": 0,
    "start_time": "2023-09-18T17:48:10.971Z"
   },
   {
    "duration": 0,
    "start_time": "2023-09-18T17:48:10.972Z"
   },
   {
    "duration": 0,
    "start_time": "2023-09-18T17:48:10.973Z"
   },
   {
    "duration": 0,
    "start_time": "2023-09-18T17:48:10.975Z"
   },
   {
    "duration": 0,
    "start_time": "2023-09-18T17:48:10.976Z"
   },
   {
    "duration": 0,
    "start_time": "2023-09-18T17:48:10.977Z"
   },
   {
    "duration": 0,
    "start_time": "2023-09-18T17:48:10.978Z"
   },
   {
    "duration": 0,
    "start_time": "2023-09-18T17:48:10.979Z"
   },
   {
    "duration": 0,
    "start_time": "2023-09-18T17:48:10.980Z"
   },
   {
    "duration": 0,
    "start_time": "2023-09-18T17:48:10.981Z"
   },
   {
    "duration": 0,
    "start_time": "2023-09-18T17:48:10.982Z"
   },
   {
    "duration": 0,
    "start_time": "2023-09-18T17:48:10.983Z"
   },
   {
    "duration": 0,
    "start_time": "2023-09-18T17:48:10.984Z"
   },
   {
    "duration": 0,
    "start_time": "2023-09-18T17:48:10.986Z"
   },
   {
    "duration": 0,
    "start_time": "2023-09-18T17:48:10.987Z"
   },
   {
    "duration": 0,
    "start_time": "2023-09-18T17:48:10.989Z"
   },
   {
    "duration": 0,
    "start_time": "2023-09-18T17:48:10.991Z"
   },
   {
    "duration": 0,
    "start_time": "2023-09-18T17:48:10.992Z"
   },
   {
    "duration": 0,
    "start_time": "2023-09-18T17:48:10.994Z"
   },
   {
    "duration": 0,
    "start_time": "2023-09-18T17:48:10.995Z"
   },
   {
    "duration": 0,
    "start_time": "2023-09-18T17:48:10.997Z"
   },
   {
    "duration": 131,
    "start_time": "2023-09-18T17:48:40.748Z"
   },
   {
    "duration": 122,
    "start_time": "2023-09-18T17:48:52.326Z"
   },
   {
    "duration": 165,
    "start_time": "2023-09-18T17:49:05.829Z"
   },
   {
    "duration": 8,
    "start_time": "2023-09-18T17:51:11.708Z"
   },
   {
    "duration": 117,
    "start_time": "2023-09-18T17:51:12.564Z"
   },
   {
    "duration": 4,
    "start_time": "2023-09-18T17:51:18.317Z"
   },
   {
    "duration": 6,
    "start_time": "2023-09-18T17:51:20.077Z"
   },
   {
    "duration": 290,
    "start_time": "2023-09-18T17:51:20.316Z"
   },
   {
    "duration": 162,
    "start_time": "2023-09-18T17:51:20.608Z"
   },
   {
    "duration": 32,
    "start_time": "2023-09-18T17:51:33.688Z"
   },
   {
    "duration": 261,
    "start_time": "2023-09-18T17:51:35.022Z"
   },
   {
    "duration": 5,
    "start_time": "2023-09-18T17:52:01.412Z"
   },
   {
    "duration": 29,
    "start_time": "2023-09-18T17:52:03.225Z"
   },
   {
    "duration": 256,
    "start_time": "2023-09-18T17:52:03.800Z"
   },
   {
    "duration": 5,
    "start_time": "2023-09-18T17:52:12.472Z"
   },
   {
    "duration": 21,
    "start_time": "2023-09-18T17:52:24.254Z"
   },
   {
    "duration": 15,
    "start_time": "2023-09-18T17:52:24.884Z"
   },
   {
    "duration": 19,
    "start_time": "2023-09-18T17:52:26.874Z"
   },
   {
    "duration": 16,
    "start_time": "2023-09-18T17:52:27.370Z"
   },
   {
    "duration": 218,
    "start_time": "2023-09-18T17:52:37.024Z"
   },
   {
    "duration": 250,
    "start_time": "2023-09-18T17:52:38.859Z"
   },
   {
    "duration": 62,
    "start_time": "2023-09-18T17:52:53.886Z"
   },
   {
    "duration": 11,
    "start_time": "2023-09-18T17:53:03.690Z"
   },
   {
    "duration": 6,
    "start_time": "2023-09-18T17:53:18.149Z"
   },
   {
    "duration": 5,
    "start_time": "2023-09-18T17:53:18.827Z"
   },
   {
    "duration": 6,
    "start_time": "2023-09-18T17:53:19.442Z"
   },
   {
    "duration": 5,
    "start_time": "2023-09-18T17:53:39.322Z"
   },
   {
    "duration": 5,
    "start_time": "2023-09-18T17:53:45.139Z"
   },
   {
    "duration": 11,
    "start_time": "2023-09-18T17:53:47.143Z"
   },
   {
    "duration": 254,
    "start_time": "2023-09-18T17:56:25.084Z"
   },
   {
    "duration": 176,
    "start_time": "2023-09-18T17:57:21.435Z"
   },
   {
    "duration": 155,
    "start_time": "2023-09-18T17:57:28.440Z"
   },
   {
    "duration": 178,
    "start_time": "2023-09-18T17:57:47.993Z"
   },
   {
    "duration": 192,
    "start_time": "2023-09-18T17:58:38.327Z"
   },
   {
    "duration": 296,
    "start_time": "2023-09-18T17:58:58.575Z"
   },
   {
    "duration": 173,
    "start_time": "2023-09-18T17:59:09.620Z"
   },
   {
    "duration": 175,
    "start_time": "2023-09-18T17:59:27.838Z"
   },
   {
    "duration": 169,
    "start_time": "2023-09-18T17:59:52.182Z"
   }
  ],
  "kernelspec": {
   "display_name": "Python 3",
   "language": "python",
   "name": "python3"
  },
  "language_info": {
   "codemirror_mode": {
    "name": "ipython",
    "version": 3
   },
   "file_extension": ".py",
   "mimetype": "text/x-python",
   "name": "python",
   "nbconvert_exporter": "python",
   "pygments_lexer": "ipython3",
   "version": "3.9.5"
  },
  "toc": {
   "base_numbering": 1,
   "nav_menu": {
    "height": "114.991px",
    "width": "230.998px"
   },
   "number_sections": true,
   "sideBar": true,
   "skip_h1_title": true,
   "title_cell": "Table of Contents",
   "title_sidebar": "Contents",
   "toc_cell": false,
   "toc_position": {
    "height": "calc(100% - 180px)",
    "left": "10px",
    "top": "150px",
    "width": "374.391px"
   },
   "toc_section_display": true,
   "toc_window_display": true
  }
 },
 "nbformat": 4,
 "nbformat_minor": 5
}
